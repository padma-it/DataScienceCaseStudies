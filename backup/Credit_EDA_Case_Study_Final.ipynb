{
 "cells": [
  {
   "cell_type": "markdown",
   "metadata": {},
   "source": [
    "<h1>\n",
    "    <center>\n",
    "        <font color = blue >\n",
    "            Credit EDA Case Study\n",
    "        </font>    \n",
    "            </center>\n",
    "</h1>\n",
    "<p style=\"text-align:right\">\n",
    "                           Submitted by Amrita Chatterjee and Padma A\n",
    "</p>"
   ]
  },
  {
   "cell_type": "markdown",
   "metadata": {},
   "source": [
    "<h2 style=\"font-family: Cambria>\n",
    "    <font color = green>\n",
    "       0. Import necessary libraries\n",
    "    </font>  \n",
    "</h2>    "
   ]
  },
  {
   "cell_type": "markdown",
   "metadata": {},
   "source": [
    "<h2>\n",
    "    <font color = green>\n",
    "        0. Import necessary libraries\n",
    "    </font>\n",
    "</h2>    "
   ]
  },
  {
   "cell_type": "markdown",
   "metadata": {},
   "source": [
    "### 0.1 Importing Libraries\n"
   ]
  },
  {
   "cell_type": "code",
   "execution_count": 1,
   "metadata": {},
   "outputs": [],
   "source": [
    "import numpy as np\n",
    "import pandas as pd\n",
    "import matplotlib.pyplot as plt\n",
    "import seaborn as sns\n",
    "import itertools\n",
    "%matplotlib inline"
   ]
  },
  {
   "cell_type": "markdown",
   "metadata": {},
   "source": [
    "### 0.2 Suppressing Warnings"
   ]
  },
  {
   "cell_type": "code",
   "execution_count": 2,
   "metadata": {},
   "outputs": [],
   "source": [
    "import warnings\n",
    "warnings.filterwarnings('ignore')"
   ]
  },
  {
   "cell_type": "markdown",
   "metadata": {},
   "source": [
    "### 0.3 Adjusting viewing mode in Jupyter"
   ]
  },
  {
   "cell_type": "code",
   "execution_count": 3,
   "metadata": {},
   "outputs": [],
   "source": [
    "pd.set_option('display.max_rows', 500)\n",
    "pd.set_option('display.max_columns', 500)\n",
    "pd.set_option('display.width', 1000)\n",
    "pd.set_option('display.expand_frame_repr', False)"
   ]
  },
  {
   "cell_type": "markdown",
   "metadata": {},
   "source": [
    "<h2>\n",
    "    <font color = green>\n",
    "        1. Import Data Sources from CSV files\n",
    "    </font>\n",
    "</h2> \n"
   ]
  },
  {
   "cell_type": "markdown",
   "metadata": {},
   "source": [
    "### 1.1 Importing the application_data csv file as applicationDF"
   ]
  },
  {
   "cell_type": "code",
   "execution_count": 4,
   "metadata": {},
   "outputs": [],
   "source": [
    "applicationDF = pd.read_csv(\"application_data.csv\")"
   ]
  },
  {
   "cell_type": "markdown",
   "metadata": {},
   "source": [
    "### 1.2 Importing the previous_application csv file as previdousDF"
   ]
  },
  {
   "cell_type": "code",
   "execution_count": 5,
   "metadata": {},
   "outputs": [],
   "source": [
    "previousDF= pd.read_csv(\"previous_application.csv\")"
   ]
  },
  {
   "cell_type": "markdown",
   "metadata": {},
   "source": [
    "<h2>\n",
    "    <font color = green>\n",
    "        2. Inspect the dataframes and respective columns for data understanding\n",
    "    </font>\n",
    "</h2> \n"
   ]
  },
  {
   "cell_type": "markdown",
   "metadata": {},
   "source": [
    "### 2.1 Inspect applicationDF Dataframe"
   ]
  },
  {
   "cell_type": "code",
   "execution_count": null,
   "metadata": {
    "scrolled": true
   },
   "outputs": [],
   "source": [
    "# Checking the top 5 rows of the dataframe\n",
    "applicationDF.head()"
   ]
  },
  {
   "cell_type": "code",
   "execution_count": null,
   "metadata": {},
   "outputs": [],
   "source": [
    "# checking botton 5 rows of the dataframe\n",
    "applicationDF.tail()"
   ]
  },
  {
   "cell_type": "code",
   "execution_count": null,
   "metadata": {},
   "outputs": [],
   "source": [
    "# Checking the shape of the dataframe\n",
    "applicationDF.shape"
   ]
  },
  {
   "cell_type": "code",
   "execution_count": null,
   "metadata": {},
   "outputs": [],
   "source": [
    "# Checking the size of the dataframe\n",
    "applicationDF.size"
   ]
  },
  {
   "cell_type": "markdown",
   "metadata": {},
   "source": [
    "#### Initial investigation of application_data dataframe by checking info() for Index, Datatype and Memory information"
   ]
  },
  {
   "cell_type": "code",
   "execution_count": 6,
   "metadata": {},
   "outputs": [
    {
     "name": "stdout",
     "output_type": "stream",
     "text": [
      "<class 'pandas.core.frame.DataFrame'>\n",
      "RangeIndex: 307511 entries, 0 to 307510\n",
      "Data columns (total 122 columns):\n",
      " #   Column                        Dtype  \n",
      "---  ------                        -----  \n",
      " 0   SK_ID_CURR                    int64  \n",
      " 1   TARGET                        int64  \n",
      " 2   NAME_CONTRACT_TYPE            object \n",
      " 3   CODE_GENDER                   object \n",
      " 4   FLAG_OWN_CAR                  object \n",
      " 5   FLAG_OWN_REALTY               object \n",
      " 6   CNT_CHILDREN                  int64  \n",
      " 7   AMT_INCOME_TOTAL              float64\n",
      " 8   AMT_CREDIT                    float64\n",
      " 9   AMT_ANNUITY                   float64\n",
      " 10  AMT_GOODS_PRICE               float64\n",
      " 11  NAME_TYPE_SUITE               object \n",
      " 12  NAME_INCOME_TYPE              object \n",
      " 13  NAME_EDUCATION_TYPE           object \n",
      " 14  NAME_FAMILY_STATUS            object \n",
      " 15  NAME_HOUSING_TYPE             object \n",
      " 16  REGION_POPULATION_RELATIVE    float64\n",
      " 17  DAYS_BIRTH                    int64  \n",
      " 18  DAYS_EMPLOYED                 int64  \n",
      " 19  DAYS_REGISTRATION             float64\n",
      " 20  DAYS_ID_PUBLISH               int64  \n",
      " 21  OWN_CAR_AGE                   float64\n",
      " 22  FLAG_MOBIL                    int64  \n",
      " 23  FLAG_EMP_PHONE                int64  \n",
      " 24  FLAG_WORK_PHONE               int64  \n",
      " 25  FLAG_CONT_MOBILE              int64  \n",
      " 26  FLAG_PHONE                    int64  \n",
      " 27  FLAG_EMAIL                    int64  \n",
      " 28  OCCUPATION_TYPE               object \n",
      " 29  CNT_FAM_MEMBERS               float64\n",
      " 30  REGION_RATING_CLIENT          int64  \n",
      " 31  REGION_RATING_CLIENT_W_CITY   int64  \n",
      " 32  WEEKDAY_APPR_PROCESS_START    object \n",
      " 33  HOUR_APPR_PROCESS_START       int64  \n",
      " 34  REG_REGION_NOT_LIVE_REGION    int64  \n",
      " 35  REG_REGION_NOT_WORK_REGION    int64  \n",
      " 36  LIVE_REGION_NOT_WORK_REGION   int64  \n",
      " 37  REG_CITY_NOT_LIVE_CITY        int64  \n",
      " 38  REG_CITY_NOT_WORK_CITY        int64  \n",
      " 39  LIVE_CITY_NOT_WORK_CITY       int64  \n",
      " 40  ORGANIZATION_TYPE             object \n",
      " 41  EXT_SOURCE_1                  float64\n",
      " 42  EXT_SOURCE_2                  float64\n",
      " 43  EXT_SOURCE_3                  float64\n",
      " 44  APARTMENTS_AVG                float64\n",
      " 45  BASEMENTAREA_AVG              float64\n",
      " 46  YEARS_BEGINEXPLUATATION_AVG   float64\n",
      " 47  YEARS_BUILD_AVG               float64\n",
      " 48  COMMONAREA_AVG                float64\n",
      " 49  ELEVATORS_AVG                 float64\n",
      " 50  ENTRANCES_AVG                 float64\n",
      " 51  FLOORSMAX_AVG                 float64\n",
      " 52  FLOORSMIN_AVG                 float64\n",
      " 53  LANDAREA_AVG                  float64\n",
      " 54  LIVINGAPARTMENTS_AVG          float64\n",
      " 55  LIVINGAREA_AVG                float64\n",
      " 56  NONLIVINGAPARTMENTS_AVG       float64\n",
      " 57  NONLIVINGAREA_AVG             float64\n",
      " 58  APARTMENTS_MODE               float64\n",
      " 59  BASEMENTAREA_MODE             float64\n",
      " 60  YEARS_BEGINEXPLUATATION_MODE  float64\n",
      " 61  YEARS_BUILD_MODE              float64\n",
      " 62  COMMONAREA_MODE               float64\n",
      " 63  ELEVATORS_MODE                float64\n",
      " 64  ENTRANCES_MODE                float64\n",
      " 65  FLOORSMAX_MODE                float64\n",
      " 66  FLOORSMIN_MODE                float64\n",
      " 67  LANDAREA_MODE                 float64\n",
      " 68  LIVINGAPARTMENTS_MODE         float64\n",
      " 69  LIVINGAREA_MODE               float64\n",
      " 70  NONLIVINGAPARTMENTS_MODE      float64\n",
      " 71  NONLIVINGAREA_MODE            float64\n",
      " 72  APARTMENTS_MEDI               float64\n",
      " 73  BASEMENTAREA_MEDI             float64\n",
      " 74  YEARS_BEGINEXPLUATATION_MEDI  float64\n",
      " 75  YEARS_BUILD_MEDI              float64\n",
      " 76  COMMONAREA_MEDI               float64\n",
      " 77  ELEVATORS_MEDI                float64\n",
      " 78  ENTRANCES_MEDI                float64\n",
      " 79  FLOORSMAX_MEDI                float64\n",
      " 80  FLOORSMIN_MEDI                float64\n",
      " 81  LANDAREA_MEDI                 float64\n",
      " 82  LIVINGAPARTMENTS_MEDI         float64\n",
      " 83  LIVINGAREA_MEDI               float64\n",
      " 84  NONLIVINGAPARTMENTS_MEDI      float64\n",
      " 85  NONLIVINGAREA_MEDI            float64\n",
      " 86  FONDKAPREMONT_MODE            object \n",
      " 87  HOUSETYPE_MODE                object \n",
      " 88  TOTALAREA_MODE                float64\n",
      " 89  WALLSMATERIAL_MODE            object \n",
      " 90  EMERGENCYSTATE_MODE           object \n",
      " 91  OBS_30_CNT_SOCIAL_CIRCLE      float64\n",
      " 92  DEF_30_CNT_SOCIAL_CIRCLE      float64\n",
      " 93  OBS_60_CNT_SOCIAL_CIRCLE      float64\n",
      " 94  DEF_60_CNT_SOCIAL_CIRCLE      float64\n",
      " 95  DAYS_LAST_PHONE_CHANGE        float64\n",
      " 96  FLAG_DOCUMENT_2               int64  \n",
      " 97  FLAG_DOCUMENT_3               int64  \n",
      " 98  FLAG_DOCUMENT_4               int64  \n",
      " 99  FLAG_DOCUMENT_5               int64  \n",
      " 100 FLAG_DOCUMENT_6               int64  \n",
      " 101 FLAG_DOCUMENT_7               int64  \n",
      " 102 FLAG_DOCUMENT_8               int64  \n",
      " 103 FLAG_DOCUMENT_9               int64  \n",
      " 104 FLAG_DOCUMENT_10              int64  \n",
      " 105 FLAG_DOCUMENT_11              int64  \n",
      " 106 FLAG_DOCUMENT_12              int64  \n",
      " 107 FLAG_DOCUMENT_13              int64  \n",
      " 108 FLAG_DOCUMENT_14              int64  \n",
      " 109 FLAG_DOCUMENT_15              int64  \n",
      " 110 FLAG_DOCUMENT_16              int64  \n",
      " 111 FLAG_DOCUMENT_17              int64  \n",
      " 112 FLAG_DOCUMENT_18              int64  \n",
      " 113 FLAG_DOCUMENT_19              int64  \n",
      " 114 FLAG_DOCUMENT_20              int64  \n",
      " 115 FLAG_DOCUMENT_21              int64  \n",
      " 116 AMT_REQ_CREDIT_BUREAU_HOUR    float64\n",
      " 117 AMT_REQ_CREDIT_BUREAU_DAY     float64\n",
      " 118 AMT_REQ_CREDIT_BUREAU_WEEK    float64\n",
      " 119 AMT_REQ_CREDIT_BUREAU_MON     float64\n",
      " 120 AMT_REQ_CREDIT_BUREAU_QRT     float64\n",
      " 121 AMT_REQ_CREDIT_BUREAU_YEAR    float64\n",
      "dtypes: float64(65), int64(41), object(16)\n",
      "memory usage: 286.2+ MB\n"
     ]
    }
   ],
   "source": [
    "# checking the info about column type etc.\n",
    "applicationDF.info(verbose = True)"
   ]
  },
  {
   "cell_type": "code",
   "execution_count": null,
   "metadata": {
    "scrolled": true
   },
   "outputs": [],
   "source": [
    "# How many types of each data type column exists and total memory usage\n",
    "applicationDF.info()"
   ]
  },
  {
   "cell_type": "code",
   "execution_count": null,
   "metadata": {},
   "outputs": [],
   "source": [
    "# Checking the numerical columns data distribution\n",
    "applicationDF.describe()"
   ]
  },
  {
   "cell_type": "markdown",
   "metadata": {},
   "source": [
    "### 2.2 Inspect previousDF Dataframe"
   ]
  },
  {
   "cell_type": "code",
   "execution_count": null,
   "metadata": {},
   "outputs": [],
   "source": [
    "# Checking the top 5 rows of the dataframe\n",
    "previousDF.head()"
   ]
  },
  {
   "cell_type": "code",
   "execution_count": null,
   "metadata": {},
   "outputs": [],
   "source": [
    "# checking botton 5 rows of the dataframe\n",
    "previousDF.tail()"
   ]
  },
  {
   "cell_type": "code",
   "execution_count": null,
   "metadata": {},
   "outputs": [],
   "source": [
    "# Checking the shape of the dataframe\n",
    "previousDF.shape"
   ]
  },
  {
   "cell_type": "code",
   "execution_count": null,
   "metadata": {},
   "outputs": [],
   "source": [
    "# Checking the size of the dataframe\n",
    "previousDF.size"
   ]
  },
  {
   "cell_type": "markdown",
   "metadata": {},
   "source": [
    "#### Initial investigation of previous_data dataframe by checking info() for Index, Datatype and Memory information"
   ]
  },
  {
   "cell_type": "code",
   "execution_count": null,
   "metadata": {
    "scrolled": true
   },
   "outputs": [],
   "source": [
    "# checking the info about column type etc.\n",
    "previousDF.info(verbose = True)"
   ]
  },
  {
   "cell_type": "code",
   "execution_count": null,
   "metadata": {},
   "outputs": [],
   "source": [
    "# How many types of each data type column exists and total memory usage\n",
    "previousDF.info()"
   ]
  },
  {
   "cell_type": "code",
   "execution_count": null,
   "metadata": {},
   "outputs": [],
   "source": [
    "# Checking the numerical columns data distribution\n",
    "previousDF.describe()"
   ]
  },
  {
   "cell_type": "markdown",
   "metadata": {},
   "source": [
    "<h2>\n",
    "    <font color = green>\n",
    "        3. Data Cleaning & Manipulation\n",
    "    </font>\n",
    "</h2> \n"
   ]
  },
  {
   "cell_type": "markdown",
   "metadata": {},
   "source": [
    "### 3.1 Column data type conversion"
   ]
  },
  {
   "cell_type": "markdown",
   "metadata": {},
   "source": [
    "### Changing the column types of applicationDF dataframe"
   ]
  },
  {
   "cell_type": "markdown",
   "metadata": {},
   "source": [
    "#### Numeric columns are already in int64 and float64 format. Hence proceeding with other columns.\n",
    "3.1.1 Numeric column conversion from object to Numeric"
   ]
  },
  {
   "cell_type": "code",
   "execution_count": null,
   "metadata": {},
   "outputs": [],
   "source": [
    "# # Converting the numeric values in applicationDF dataframe\n",
    "# numeric_columns=['TARGET','CNT_CHILDREN','AMT_INCOME_TOTAL','AMT_CREDIT','AMT_ANNUITY','REGION_POPULATION_RELATIVE','DAYS_BIRTH',\n",
    "#                 'DAYS_EMPLOYED','DAYS_REGISTRATION','DAYS_ID_PUBLISH','HOUR_APPR_PROCESS_START','LIVE_REGION_NOT_WORK_REGION', 'REG_CITY_NOT_LIVE_CITY',\n",
    "#        'REG_CITY_NOT_WORK_CITY', 'LIVE_CITY_NOT_WORK_CITY']\n",
    "\n",
    "# applicationDF[numeric_columns]=applicationDF[numeric_columns].apply(pd.to_numeric)\n"
   ]
  },
  {
   "cell_type": "code",
   "execution_count": null,
   "metadata": {},
   "outputs": [],
   "source": [
    "# # checking the dataframe after conversion\n",
    "# applicationDF.info(verbose=True)"
   ]
  },
  {
   "cell_type": "markdown",
   "metadata": {},
   "source": [
    "#### 3.1.2 Converting Y/N flag columns to 1/0 int64 format"
   ]
  },
  {
   "cell_type": "code",
   "execution_count": 6,
   "metadata": {},
   "outputs": [],
   "source": [
    "Flag_col_application =['FLAG_OWN_CAR','FLAG_OWN_REALTY']\n",
    "\n",
    "for col in Flag_col_application:\n",
    "    applicationDF[col].replace(('Y', 'N'), (1, 0), inplace=True)\n"
   ]
  },
  {
   "cell_type": "code",
   "execution_count": 7,
   "metadata": {},
   "outputs": [],
   "source": [
    "applicationDF['EMERGENCYSTATE_MODE'].replace((\"Yes\",\"No\"),(1,0),inplace=True)"
   ]
  },
  {
   "cell_type": "code",
   "execution_count": 9,
   "metadata": {
    "scrolled": true
   },
   "outputs": [
    {
     "name": "stdout",
     "output_type": "stream",
     "text": [
      "<class 'pandas.core.frame.DataFrame'>\n",
      "RangeIndex: 307511 entries, 0 to 307510\n",
      "Data columns (total 122 columns):\n",
      " #   Column                        Dtype  \n",
      "---  ------                        -----  \n",
      " 0   SK_ID_CURR                    int64  \n",
      " 1   TARGET                        int64  \n",
      " 2   NAME_CONTRACT_TYPE            object \n",
      " 3   CODE_GENDER                   object \n",
      " 4   FLAG_OWN_CAR                  int64  \n",
      " 5   FLAG_OWN_REALTY               int64  \n",
      " 6   CNT_CHILDREN                  int64  \n",
      " 7   AMT_INCOME_TOTAL              float64\n",
      " 8   AMT_CREDIT                    float64\n",
      " 9   AMT_ANNUITY                   float64\n",
      " 10  AMT_GOODS_PRICE               float64\n",
      " 11  NAME_TYPE_SUITE               object \n",
      " 12  NAME_INCOME_TYPE              object \n",
      " 13  NAME_EDUCATION_TYPE           object \n",
      " 14  NAME_FAMILY_STATUS            object \n",
      " 15  NAME_HOUSING_TYPE             object \n",
      " 16  REGION_POPULATION_RELATIVE    float64\n",
      " 17  DAYS_BIRTH                    int64  \n",
      " 18  DAYS_EMPLOYED                 int64  \n",
      " 19  DAYS_REGISTRATION             float64\n",
      " 20  DAYS_ID_PUBLISH               int64  \n",
      " 21  OWN_CAR_AGE                   float64\n",
      " 22  FLAG_MOBIL                    int64  \n",
      " 23  FLAG_EMP_PHONE                int64  \n",
      " 24  FLAG_WORK_PHONE               int64  \n",
      " 25  FLAG_CONT_MOBILE              int64  \n",
      " 26  FLAG_PHONE                    int64  \n",
      " 27  FLAG_EMAIL                    int64  \n",
      " 28  OCCUPATION_TYPE               object \n",
      " 29  CNT_FAM_MEMBERS               float64\n",
      " 30  REGION_RATING_CLIENT          int64  \n",
      " 31  REGION_RATING_CLIENT_W_CITY   int64  \n",
      " 32  WEEKDAY_APPR_PROCESS_START    object \n",
      " 33  HOUR_APPR_PROCESS_START       int64  \n",
      " 34  REG_REGION_NOT_LIVE_REGION    int64  \n",
      " 35  REG_REGION_NOT_WORK_REGION    int64  \n",
      " 36  LIVE_REGION_NOT_WORK_REGION   int64  \n",
      " 37  REG_CITY_NOT_LIVE_CITY        int64  \n",
      " 38  REG_CITY_NOT_WORK_CITY        int64  \n",
      " 39  LIVE_CITY_NOT_WORK_CITY       int64  \n",
      " 40  ORGANIZATION_TYPE             object \n",
      " 41  EXT_SOURCE_1                  float64\n",
      " 42  EXT_SOURCE_2                  float64\n",
      " 43  EXT_SOURCE_3                  float64\n",
      " 44  APARTMENTS_AVG                float64\n",
      " 45  BASEMENTAREA_AVG              float64\n",
      " 46  YEARS_BEGINEXPLUATATION_AVG   float64\n",
      " 47  YEARS_BUILD_AVG               float64\n",
      " 48  COMMONAREA_AVG                float64\n",
      " 49  ELEVATORS_AVG                 float64\n",
      " 50  ENTRANCES_AVG                 float64\n",
      " 51  FLOORSMAX_AVG                 float64\n",
      " 52  FLOORSMIN_AVG                 float64\n",
      " 53  LANDAREA_AVG                  float64\n",
      " 54  LIVINGAPARTMENTS_AVG          float64\n",
      " 55  LIVINGAREA_AVG                float64\n",
      " 56  NONLIVINGAPARTMENTS_AVG       float64\n",
      " 57  NONLIVINGAREA_AVG             float64\n",
      " 58  APARTMENTS_MODE               float64\n",
      " 59  BASEMENTAREA_MODE             float64\n",
      " 60  YEARS_BEGINEXPLUATATION_MODE  float64\n",
      " 61  YEARS_BUILD_MODE              float64\n",
      " 62  COMMONAREA_MODE               float64\n",
      " 63  ELEVATORS_MODE                float64\n",
      " 64  ENTRANCES_MODE                float64\n",
      " 65  FLOORSMAX_MODE                float64\n",
      " 66  FLOORSMIN_MODE                float64\n",
      " 67  LANDAREA_MODE                 float64\n",
      " 68  LIVINGAPARTMENTS_MODE         float64\n",
      " 69  LIVINGAREA_MODE               float64\n",
      " 70  NONLIVINGAPARTMENTS_MODE      float64\n",
      " 71  NONLIVINGAREA_MODE            float64\n",
      " 72  APARTMENTS_MEDI               float64\n",
      " 73  BASEMENTAREA_MEDI             float64\n",
      " 74  YEARS_BEGINEXPLUATATION_MEDI  float64\n",
      " 75  YEARS_BUILD_MEDI              float64\n",
      " 76  COMMONAREA_MEDI               float64\n",
      " 77  ELEVATORS_MEDI                float64\n",
      " 78  ENTRANCES_MEDI                float64\n",
      " 79  FLOORSMAX_MEDI                float64\n",
      " 80  FLOORSMIN_MEDI                float64\n",
      " 81  LANDAREA_MEDI                 float64\n",
      " 82  LIVINGAPARTMENTS_MEDI         float64\n",
      " 83  LIVINGAREA_MEDI               float64\n",
      " 84  NONLIVINGAPARTMENTS_MEDI      float64\n",
      " 85  NONLIVINGAREA_MEDI            float64\n",
      " 86  FONDKAPREMONT_MODE            object \n",
      " 87  HOUSETYPE_MODE                object \n",
      " 88  TOTALAREA_MODE                float64\n",
      " 89  WALLSMATERIAL_MODE            object \n",
      " 90  EMERGENCYSTATE_MODE           float64\n",
      " 91  OBS_30_CNT_SOCIAL_CIRCLE      float64\n",
      " 92  DEF_30_CNT_SOCIAL_CIRCLE      float64\n",
      " 93  OBS_60_CNT_SOCIAL_CIRCLE      float64\n",
      " 94  DEF_60_CNT_SOCIAL_CIRCLE      float64\n",
      " 95  DAYS_LAST_PHONE_CHANGE        float64\n",
      " 96  FLAG_DOCUMENT_2               int64  \n",
      " 97  FLAG_DOCUMENT_3               int64  \n",
      " 98  FLAG_DOCUMENT_4               int64  \n",
      " 99  FLAG_DOCUMENT_5               int64  \n",
      " 100 FLAG_DOCUMENT_6               int64  \n",
      " 101 FLAG_DOCUMENT_7               int64  \n",
      " 102 FLAG_DOCUMENT_8               int64  \n",
      " 103 FLAG_DOCUMENT_9               int64  \n",
      " 104 FLAG_DOCUMENT_10              int64  \n",
      " 105 FLAG_DOCUMENT_11              int64  \n",
      " 106 FLAG_DOCUMENT_12              int64  \n",
      " 107 FLAG_DOCUMENT_13              int64  \n",
      " 108 FLAG_DOCUMENT_14              int64  \n",
      " 109 FLAG_DOCUMENT_15              int64  \n",
      " 110 FLAG_DOCUMENT_16              int64  \n",
      " 111 FLAG_DOCUMENT_17              int64  \n",
      " 112 FLAG_DOCUMENT_18              int64  \n",
      " 113 FLAG_DOCUMENT_19              int64  \n",
      " 114 FLAG_DOCUMENT_20              int64  \n",
      " 115 FLAG_DOCUMENT_21              int64  \n",
      " 116 AMT_REQ_CREDIT_BUREAU_HOUR    float64\n",
      " 117 AMT_REQ_CREDIT_BUREAU_DAY     float64\n",
      " 118 AMT_REQ_CREDIT_BUREAU_WEEK    float64\n",
      " 119 AMT_REQ_CREDIT_BUREAU_MON     float64\n",
      " 120 AMT_REQ_CREDIT_BUREAU_QRT     float64\n",
      " 121 AMT_REQ_CREDIT_BUREAU_YEAR    float64\n",
      "dtypes: float64(66), int64(43), object(13)\n",
      "memory usage: 286.2+ MB\n"
     ]
    }
   ],
   "source": [
    "# rechecking the dataframe after column conversion\n",
    "applicationDF.info(verbose= True)"
   ]
  },
  {
   "cell_type": "markdown",
   "metadata": {},
   "source": [
    "#### 3.1.3 Date column conversion from object to Categorical column"
   ]
  },
  {
   "cell_type": "code",
   "execution_count": 8,
   "metadata": {},
   "outputs": [],
   "source": [
    "categorical_columns = ['NAME_CONTRACT_TYPE','CODE_GENDER','NAME_TYPE_SUITE','NAME_INCOME_TYPE','NAME_EDUCATION_TYPE',\n",
    "                  'NAME_FAMILY_STATUS','NAME_HOUSING_TYPE','OCCUPATION_TYPE','WEEKDAY_APPR_PROCESS_START','ORGANIZATION_TYPE',\n",
    "                  'HOUSETYPE_MODE','FONDKAPREMONT_MODE','WALLSMATERIAL_MODE']\n",
    "for col in categorical_columns:\n",
    "    applicationDF[col] =pd.Categorical(applicationDF[col])"
   ]
  },
  {
   "cell_type": "code",
   "execution_count": 11,
   "metadata": {},
   "outputs": [
    {
     "name": "stdout",
     "output_type": "stream",
     "text": [
      "<class 'pandas.core.frame.DataFrame'>\n",
      "RangeIndex: 307511 entries, 0 to 307510\n",
      "Columns: 122 entries, SK_ID_CURR to AMT_REQ_CREDIT_BUREAU_YEAR\n",
      "dtypes: category(13), float64(66), int64(43)\n",
      "memory usage: 259.5 MB\n"
     ]
    }
   ],
   "source": [
    "applicationDF.info()"
   ]
  },
  {
   "cell_type": "code",
   "execution_count": 12,
   "metadata": {},
   "outputs": [
    {
     "name": "stdout",
     "output_type": "stream",
     "text": [
      "<class 'pandas.core.frame.DataFrame'>\n",
      "RangeIndex: 307511 entries, 0 to 307510\n",
      "Data columns (total 122 columns):\n",
      " #   Column                        Dtype   \n",
      "---  ------                        -----   \n",
      " 0   SK_ID_CURR                    int64   \n",
      " 1   TARGET                        int64   \n",
      " 2   NAME_CONTRACT_TYPE            category\n",
      " 3   CODE_GENDER                   category\n",
      " 4   FLAG_OWN_CAR                  int64   \n",
      " 5   FLAG_OWN_REALTY               int64   \n",
      " 6   CNT_CHILDREN                  int64   \n",
      " 7   AMT_INCOME_TOTAL              float64 \n",
      " 8   AMT_CREDIT                    float64 \n",
      " 9   AMT_ANNUITY                   float64 \n",
      " 10  AMT_GOODS_PRICE               float64 \n",
      " 11  NAME_TYPE_SUITE               category\n",
      " 12  NAME_INCOME_TYPE              category\n",
      " 13  NAME_EDUCATION_TYPE           category\n",
      " 14  NAME_FAMILY_STATUS            category\n",
      " 15  NAME_HOUSING_TYPE             category\n",
      " 16  REGION_POPULATION_RELATIVE    float64 \n",
      " 17  DAYS_BIRTH                    int64   \n",
      " 18  DAYS_EMPLOYED                 int64   \n",
      " 19  DAYS_REGISTRATION             float64 \n",
      " 20  DAYS_ID_PUBLISH               int64   \n",
      " 21  OWN_CAR_AGE                   float64 \n",
      " 22  FLAG_MOBIL                    int64   \n",
      " 23  FLAG_EMP_PHONE                int64   \n",
      " 24  FLAG_WORK_PHONE               int64   \n",
      " 25  FLAG_CONT_MOBILE              int64   \n",
      " 26  FLAG_PHONE                    int64   \n",
      " 27  FLAG_EMAIL                    int64   \n",
      " 28  OCCUPATION_TYPE               category\n",
      " 29  CNT_FAM_MEMBERS               float64 \n",
      " 30  REGION_RATING_CLIENT          int64   \n",
      " 31  REGION_RATING_CLIENT_W_CITY   int64   \n",
      " 32  WEEKDAY_APPR_PROCESS_START    category\n",
      " 33  HOUR_APPR_PROCESS_START       int64   \n",
      " 34  REG_REGION_NOT_LIVE_REGION    int64   \n",
      " 35  REG_REGION_NOT_WORK_REGION    int64   \n",
      " 36  LIVE_REGION_NOT_WORK_REGION   int64   \n",
      " 37  REG_CITY_NOT_LIVE_CITY        int64   \n",
      " 38  REG_CITY_NOT_WORK_CITY        int64   \n",
      " 39  LIVE_CITY_NOT_WORK_CITY       int64   \n",
      " 40  ORGANIZATION_TYPE             category\n",
      " 41  EXT_SOURCE_1                  float64 \n",
      " 42  EXT_SOURCE_2                  float64 \n",
      " 43  EXT_SOURCE_3                  float64 \n",
      " 44  APARTMENTS_AVG                float64 \n",
      " 45  BASEMENTAREA_AVG              float64 \n",
      " 46  YEARS_BEGINEXPLUATATION_AVG   float64 \n",
      " 47  YEARS_BUILD_AVG               float64 \n",
      " 48  COMMONAREA_AVG                float64 \n",
      " 49  ELEVATORS_AVG                 float64 \n",
      " 50  ENTRANCES_AVG                 float64 \n",
      " 51  FLOORSMAX_AVG                 float64 \n",
      " 52  FLOORSMIN_AVG                 float64 \n",
      " 53  LANDAREA_AVG                  float64 \n",
      " 54  LIVINGAPARTMENTS_AVG          float64 \n",
      " 55  LIVINGAREA_AVG                float64 \n",
      " 56  NONLIVINGAPARTMENTS_AVG       float64 \n",
      " 57  NONLIVINGAREA_AVG             float64 \n",
      " 58  APARTMENTS_MODE               float64 \n",
      " 59  BASEMENTAREA_MODE             float64 \n",
      " 60  YEARS_BEGINEXPLUATATION_MODE  float64 \n",
      " 61  YEARS_BUILD_MODE              float64 \n",
      " 62  COMMONAREA_MODE               float64 \n",
      " 63  ELEVATORS_MODE                float64 \n",
      " 64  ENTRANCES_MODE                float64 \n",
      " 65  FLOORSMAX_MODE                float64 \n",
      " 66  FLOORSMIN_MODE                float64 \n",
      " 67  LANDAREA_MODE                 float64 \n",
      " 68  LIVINGAPARTMENTS_MODE         float64 \n",
      " 69  LIVINGAREA_MODE               float64 \n",
      " 70  NONLIVINGAPARTMENTS_MODE      float64 \n",
      " 71  NONLIVINGAREA_MODE            float64 \n",
      " 72  APARTMENTS_MEDI               float64 \n",
      " 73  BASEMENTAREA_MEDI             float64 \n",
      " 74  YEARS_BEGINEXPLUATATION_MEDI  float64 \n",
      " 75  YEARS_BUILD_MEDI              float64 \n",
      " 76  COMMONAREA_MEDI               float64 \n",
      " 77  ELEVATORS_MEDI                float64 \n",
      " 78  ENTRANCES_MEDI                float64 \n",
      " 79  FLOORSMAX_MEDI                float64 \n",
      " 80  FLOORSMIN_MEDI                float64 \n",
      " 81  LANDAREA_MEDI                 float64 \n",
      " 82  LIVINGAPARTMENTS_MEDI         float64 \n",
      " 83  LIVINGAREA_MEDI               float64 \n",
      " 84  NONLIVINGAPARTMENTS_MEDI      float64 \n",
      " 85  NONLIVINGAREA_MEDI            float64 \n",
      " 86  FONDKAPREMONT_MODE            category\n",
      " 87  HOUSETYPE_MODE                category\n",
      " 88  TOTALAREA_MODE                float64 \n",
      " 89  WALLSMATERIAL_MODE            category\n",
      " 90  EMERGENCYSTATE_MODE           float64 \n",
      " 91  OBS_30_CNT_SOCIAL_CIRCLE      float64 \n",
      " 92  DEF_30_CNT_SOCIAL_CIRCLE      float64 \n",
      " 93  OBS_60_CNT_SOCIAL_CIRCLE      float64 \n",
      " 94  DEF_60_CNT_SOCIAL_CIRCLE      float64 \n",
      " 95  DAYS_LAST_PHONE_CHANGE        float64 \n",
      " 96  FLAG_DOCUMENT_2               int64   \n",
      " 97  FLAG_DOCUMENT_3               int64   \n",
      " 98  FLAG_DOCUMENT_4               int64   \n",
      " 99  FLAG_DOCUMENT_5               int64   \n",
      " 100 FLAG_DOCUMENT_6               int64   \n",
      " 101 FLAG_DOCUMENT_7               int64   \n",
      " 102 FLAG_DOCUMENT_8               int64   \n",
      " 103 FLAG_DOCUMENT_9               int64   \n",
      " 104 FLAG_DOCUMENT_10              int64   \n",
      " 105 FLAG_DOCUMENT_11              int64   \n",
      " 106 FLAG_DOCUMENT_12              int64   \n",
      " 107 FLAG_DOCUMENT_13              int64   \n",
      " 108 FLAG_DOCUMENT_14              int64   \n",
      " 109 FLAG_DOCUMENT_15              int64   \n",
      " 110 FLAG_DOCUMENT_16              int64   \n",
      " 111 FLAG_DOCUMENT_17              int64   \n",
      " 112 FLAG_DOCUMENT_18              int64   \n",
      " 113 FLAG_DOCUMENT_19              int64   \n",
      " 114 FLAG_DOCUMENT_20              int64   \n",
      " 115 FLAG_DOCUMENT_21              int64   \n",
      " 116 AMT_REQ_CREDIT_BUREAU_HOUR    float64 \n",
      " 117 AMT_REQ_CREDIT_BUREAU_DAY     float64 \n",
      " 118 AMT_REQ_CREDIT_BUREAU_WEEK    float64 \n",
      " 119 AMT_REQ_CREDIT_BUREAU_MON     float64 \n",
      " 120 AMT_REQ_CREDIT_BUREAU_QRT     float64 \n",
      " 121 AMT_REQ_CREDIT_BUREAU_YEAR    float64 \n",
      "dtypes: category(13), float64(66), int64(43)\n",
      "memory usage: 259.5 MB\n"
     ]
    }
   ],
   "source": [
    "# rechecking the dataframe after column conversion\n",
    "applicationDF.info(verbose= True)"
   ]
  },
  {
   "cell_type": "markdown",
   "metadata": {},
   "source": [
    "\n",
    "### Changing the column types of previousDF dataframe\n"
   ]
  },
  {
   "cell_type": "markdown",
   "metadata": {},
   "source": [
    "#### 3.1.4 converting Yes/No or Y/N columns to 1/0 format"
   ]
  },
  {
   "cell_type": "code",
   "execution_count": 9,
   "metadata": {},
   "outputs": [],
   "source": [
    "Flag_col_previous =['FLAG_LAST_APPL_PER_CONTRACT']\n",
    "previousDF['FLAG_LAST_APPL_PER_CONTRACT'].replace(('Y', 'N'), (1, 0), inplace=True)"
   ]
  },
  {
   "cell_type": "markdown",
   "metadata": {},
   "source": [
    "#### 3.1.5 converting Catgoerical columns from object to categorical"
   ]
  },
  {
   "cell_type": "code",
   "execution_count": 10,
   "metadata": {},
   "outputs": [],
   "source": [
    "Catgorical_col_p = ['WEEKDAY_APPR_PROCESS_START','NAME_CASH_LOAN_PURPOSE','NAME_CONTRACT_STATUS','NAME_PAYMENT_TYPE',\n",
    "                    'CODE_REJECT_REASON','NAME_TYPE_SUITE','NAME_CLIENT_TYPE','NAME_GOODS_CATEGORY','NAME_PORTFOLIO',\n",
    "                   'NAME_PRODUCT_TYPE','CHANNEL_TYPE','NAME_SELLER_INDUSTRY','NAME_YIELD_GROUP','PRODUCT_COMBINATION']\n",
    "\n",
    "for col in Catgorical_col_p:\n",
    "    previousDF[col] =pd.Categorical(previousDF[col])"
   ]
  },
  {
   "cell_type": "code",
   "execution_count": 15,
   "metadata": {},
   "outputs": [
    {
     "name": "stdout",
     "output_type": "stream",
     "text": [
      "<class 'pandas.core.frame.DataFrame'>\n",
      "RangeIndex: 1670214 entries, 0 to 1670213\n",
      "Data columns (total 37 columns):\n",
      " #   Column                       Non-Null Count    Dtype   \n",
      "---  ------                       --------------    -----   \n",
      " 0   SK_ID_PREV                   1670214 non-null  int64   \n",
      " 1   SK_ID_CURR                   1670214 non-null  int64   \n",
      " 2   NAME_CONTRACT_TYPE           1670214 non-null  object  \n",
      " 3   AMT_ANNUITY                  1297979 non-null  float64 \n",
      " 4   AMT_APPLICATION              1670214 non-null  float64 \n",
      " 5   AMT_CREDIT                   1670213 non-null  float64 \n",
      " 6   AMT_DOWN_PAYMENT             774370 non-null   float64 \n",
      " 7   AMT_GOODS_PRICE              1284699 non-null  float64 \n",
      " 8   WEEKDAY_APPR_PROCESS_START   1670214 non-null  category\n",
      " 9   HOUR_APPR_PROCESS_START      1670214 non-null  int64   \n",
      " 10  FLAG_LAST_APPL_PER_CONTRACT  1670214 non-null  int64   \n",
      " 11  NFLAG_LAST_APPL_IN_DAY       1670214 non-null  int64   \n",
      " 12  RATE_DOWN_PAYMENT            774370 non-null   float64 \n",
      " 13  RATE_INTEREST_PRIMARY        5951 non-null     float64 \n",
      " 14  RATE_INTEREST_PRIVILEGED     5951 non-null     float64 \n",
      " 15  NAME_CASH_LOAN_PURPOSE       1670214 non-null  category\n",
      " 16  NAME_CONTRACT_STATUS         1670214 non-null  category\n",
      " 17  DAYS_DECISION                1670214 non-null  int64   \n",
      " 18  NAME_PAYMENT_TYPE            1670214 non-null  category\n",
      " 19  CODE_REJECT_REASON           1670214 non-null  category\n",
      " 20  NAME_TYPE_SUITE              849809 non-null   category\n",
      " 21  NAME_CLIENT_TYPE             1670214 non-null  category\n",
      " 22  NAME_GOODS_CATEGORY          1670214 non-null  category\n",
      " 23  NAME_PORTFOLIO               1670214 non-null  category\n",
      " 24  NAME_PRODUCT_TYPE            1670214 non-null  category\n",
      " 25  CHANNEL_TYPE                 1670214 non-null  category\n",
      " 26  SELLERPLACE_AREA             1670214 non-null  int64   \n",
      " 27  NAME_SELLER_INDUSTRY         1670214 non-null  category\n",
      " 28  CNT_PAYMENT                  1297984 non-null  float64 \n",
      " 29  NAME_YIELD_GROUP             1670214 non-null  category\n",
      " 30  PRODUCT_COMBINATION          1669868 non-null  category\n",
      " 31  DAYS_FIRST_DRAWING           997149 non-null   float64 \n",
      " 32  DAYS_FIRST_DUE               997149 non-null   float64 \n",
      " 33  DAYS_LAST_DUE_1ST_VERSION    997149 non-null   float64 \n",
      " 34  DAYS_LAST_DUE                997149 non-null   float64 \n",
      " 35  DAYS_TERMINATION             997149 non-null   float64 \n",
      " 36  NFLAG_INSURED_ON_APPROVAL    997149 non-null   float64 \n",
      "dtypes: category(14), float64(15), int64(7), object(1)\n",
      "memory usage: 315.4+ MB\n"
     ]
    }
   ],
   "source": [
    "# inspecting the column types after conversion\n",
    "previousDF.info()"
   ]
  },
  {
   "cell_type": "markdown",
   "metadata": {},
   "source": [
    "### 3.2 Null Value calculation"
   ]
  },
  {
   "cell_type": "markdown",
   "metadata": {},
   "source": [
    "#### 3.2.1 Null value analysis for applicationDF dataframe\n",
    "\n",
    "#### Get the percentage of null values in each column"
   ]
  },
  {
   "cell_type": "code",
   "execution_count": 16,
   "metadata": {
    "scrolled": true
   },
   "outputs": [
    {
     "data": {
      "text/plain": [
       "SK_ID_CURR                       0.00\n",
       "TARGET                           0.00\n",
       "NAME_CONTRACT_TYPE               0.00\n",
       "CODE_GENDER                      0.00\n",
       "FLAG_OWN_CAR                     0.00\n",
       "FLAG_OWN_REALTY                  0.00\n",
       "CNT_CHILDREN                     0.00\n",
       "AMT_INCOME_TOTAL                 0.00\n",
       "AMT_CREDIT                       0.00\n",
       "AMT_ANNUITY                      0.00\n",
       "AMT_GOODS_PRICE                  0.09\n",
       "NAME_TYPE_SUITE                  0.42\n",
       "NAME_INCOME_TYPE                 0.00\n",
       "NAME_EDUCATION_TYPE              0.00\n",
       "NAME_FAMILY_STATUS               0.00\n",
       "NAME_HOUSING_TYPE                0.00\n",
       "REGION_POPULATION_RELATIVE       0.00\n",
       "DAYS_BIRTH                       0.00\n",
       "DAYS_EMPLOYED                    0.00\n",
       "DAYS_REGISTRATION                0.00\n",
       "DAYS_ID_PUBLISH                  0.00\n",
       "OWN_CAR_AGE                     65.99\n",
       "FLAG_MOBIL                       0.00\n",
       "FLAG_EMP_PHONE                   0.00\n",
       "FLAG_WORK_PHONE                  0.00\n",
       "FLAG_CONT_MOBILE                 0.00\n",
       "FLAG_PHONE                       0.00\n",
       "FLAG_EMAIL                       0.00\n",
       "OCCUPATION_TYPE                 31.35\n",
       "CNT_FAM_MEMBERS                  0.00\n",
       "REGION_RATING_CLIENT             0.00\n",
       "REGION_RATING_CLIENT_W_CITY      0.00\n",
       "WEEKDAY_APPR_PROCESS_START       0.00\n",
       "HOUR_APPR_PROCESS_START          0.00\n",
       "REG_REGION_NOT_LIVE_REGION       0.00\n",
       "REG_REGION_NOT_WORK_REGION       0.00\n",
       "LIVE_REGION_NOT_WORK_REGION      0.00\n",
       "REG_CITY_NOT_LIVE_CITY           0.00\n",
       "REG_CITY_NOT_WORK_CITY           0.00\n",
       "LIVE_CITY_NOT_WORK_CITY          0.00\n",
       "ORGANIZATION_TYPE                0.00\n",
       "EXT_SOURCE_1                    56.38\n",
       "EXT_SOURCE_2                     0.21\n",
       "EXT_SOURCE_3                    19.83\n",
       "APARTMENTS_AVG                  50.75\n",
       "BASEMENTAREA_AVG                58.52\n",
       "YEARS_BEGINEXPLUATATION_AVG     48.78\n",
       "YEARS_BUILD_AVG                 66.50\n",
       "COMMONAREA_AVG                  69.87\n",
       "ELEVATORS_AVG                   53.30\n",
       "ENTRANCES_AVG                   50.35\n",
       "FLOORSMAX_AVG                   49.76\n",
       "FLOORSMIN_AVG                   67.85\n",
       "LANDAREA_AVG                    59.38\n",
       "LIVINGAPARTMENTS_AVG            68.35\n",
       "LIVINGAREA_AVG                  50.19\n",
       "NONLIVINGAPARTMENTS_AVG         69.43\n",
       "NONLIVINGAREA_AVG               55.18\n",
       "APARTMENTS_MODE                 50.75\n",
       "BASEMENTAREA_MODE               58.52\n",
       "YEARS_BEGINEXPLUATATION_MODE    48.78\n",
       "YEARS_BUILD_MODE                66.50\n",
       "COMMONAREA_MODE                 69.87\n",
       "ELEVATORS_MODE                  53.30\n",
       "ENTRANCES_MODE                  50.35\n",
       "FLOORSMAX_MODE                  49.76\n",
       "FLOORSMIN_MODE                  67.85\n",
       "LANDAREA_MODE                   59.38\n",
       "LIVINGAPARTMENTS_MODE           68.35\n",
       "LIVINGAREA_MODE                 50.19\n",
       "NONLIVINGAPARTMENTS_MODE        69.43\n",
       "NONLIVINGAREA_MODE              55.18\n",
       "APARTMENTS_MEDI                 50.75\n",
       "BASEMENTAREA_MEDI               58.52\n",
       "YEARS_BEGINEXPLUATATION_MEDI    48.78\n",
       "YEARS_BUILD_MEDI                66.50\n",
       "COMMONAREA_MEDI                 69.87\n",
       "ELEVATORS_MEDI                  53.30\n",
       "ENTRANCES_MEDI                  50.35\n",
       "FLOORSMAX_MEDI                  49.76\n",
       "FLOORSMIN_MEDI                  67.85\n",
       "LANDAREA_MEDI                   59.38\n",
       "LIVINGAPARTMENTS_MEDI           68.35\n",
       "LIVINGAREA_MEDI                 50.19\n",
       "NONLIVINGAPARTMENTS_MEDI        69.43\n",
       "NONLIVINGAREA_MEDI              55.18\n",
       "FONDKAPREMONT_MODE              68.39\n",
       "HOUSETYPE_MODE                  50.18\n",
       "TOTALAREA_MODE                  48.27\n",
       "WALLSMATERIAL_MODE              50.84\n",
       "EMERGENCYSTATE_MODE             47.40\n",
       "OBS_30_CNT_SOCIAL_CIRCLE         0.33\n",
       "DEF_30_CNT_SOCIAL_CIRCLE         0.33\n",
       "OBS_60_CNT_SOCIAL_CIRCLE         0.33\n",
       "DEF_60_CNT_SOCIAL_CIRCLE         0.33\n",
       "DAYS_LAST_PHONE_CHANGE           0.00\n",
       "FLAG_DOCUMENT_2                  0.00\n",
       "FLAG_DOCUMENT_3                  0.00\n",
       "FLAG_DOCUMENT_4                  0.00\n",
       "FLAG_DOCUMENT_5                  0.00\n",
       "FLAG_DOCUMENT_6                  0.00\n",
       "FLAG_DOCUMENT_7                  0.00\n",
       "FLAG_DOCUMENT_8                  0.00\n",
       "FLAG_DOCUMENT_9                  0.00\n",
       "FLAG_DOCUMENT_10                 0.00\n",
       "FLAG_DOCUMENT_11                 0.00\n",
       "FLAG_DOCUMENT_12                 0.00\n",
       "FLAG_DOCUMENT_13                 0.00\n",
       "FLAG_DOCUMENT_14                 0.00\n",
       "FLAG_DOCUMENT_15                 0.00\n",
       "FLAG_DOCUMENT_16                 0.00\n",
       "FLAG_DOCUMENT_17                 0.00\n",
       "FLAG_DOCUMENT_18                 0.00\n",
       "FLAG_DOCUMENT_19                 0.00\n",
       "FLAG_DOCUMENT_20                 0.00\n",
       "FLAG_DOCUMENT_21                 0.00\n",
       "AMT_REQ_CREDIT_BUREAU_HOUR      13.50\n",
       "AMT_REQ_CREDIT_BUREAU_DAY       13.50\n",
       "AMT_REQ_CREDIT_BUREAU_WEEK      13.50\n",
       "AMT_REQ_CREDIT_BUREAU_MON       13.50\n",
       "AMT_REQ_CREDIT_BUREAU_QRT       13.50\n",
       "AMT_REQ_CREDIT_BUREAU_YEAR      13.50\n",
       "dtype: float64"
      ]
     },
     "execution_count": 16,
     "metadata": {},
     "output_type": "execute_result"
    }
   ],
   "source": [
    "# Checking the null value % of each column in applicationDF dataframe\n",
    "round(applicationDF.isnull().sum() / applicationDF.shape[0] * 100.00,2)"
   ]
  },
  {
   "cell_type": "markdown",
   "metadata": {},
   "source": [
    "#### Get the columns in which percentage of null values > 40% and Plot the columns vs Null Values Present in it:"
   ]
  },
  {
   "cell_type": "code",
   "execution_count": 11,
   "metadata": {},
   "outputs": [
    {
     "data": {
      "text/html": [
       "<div>\n",
       "<style scoped>\n",
       "    .dataframe tbody tr th:only-of-type {\n",
       "        vertical-align: middle;\n",
       "    }\n",
       "\n",
       "    .dataframe tbody tr th {\n",
       "        vertical-align: top;\n",
       "    }\n",
       "\n",
       "    .dataframe thead th {\n",
       "        text-align: right;\n",
       "    }\n",
       "</style>\n",
       "<table border=\"1\" class=\"dataframe\">\n",
       "  <thead>\n",
       "    <tr style=\"text-align: right;\">\n",
       "      <th></th>\n",
       "      <th>Column Name</th>\n",
       "      <th>Null Values Percentage</th>\n",
       "    </tr>\n",
       "  </thead>\n",
       "  <tbody>\n",
       "    <tr>\n",
       "      <th>0</th>\n",
       "      <td>SK_ID_CURR</td>\n",
       "      <td>0.000000</td>\n",
       "    </tr>\n",
       "    <tr>\n",
       "      <th>1</th>\n",
       "      <td>TARGET</td>\n",
       "      <td>0.000000</td>\n",
       "    </tr>\n",
       "    <tr>\n",
       "      <th>2</th>\n",
       "      <td>NAME_CONTRACT_TYPE</td>\n",
       "      <td>0.000000</td>\n",
       "    </tr>\n",
       "    <tr>\n",
       "      <th>3</th>\n",
       "      <td>CODE_GENDER</td>\n",
       "      <td>0.000000</td>\n",
       "    </tr>\n",
       "    <tr>\n",
       "      <th>4</th>\n",
       "      <td>FLAG_OWN_CAR</td>\n",
       "      <td>0.000000</td>\n",
       "    </tr>\n",
       "    <tr>\n",
       "      <th>5</th>\n",
       "      <td>FLAG_OWN_REALTY</td>\n",
       "      <td>0.000000</td>\n",
       "    </tr>\n",
       "    <tr>\n",
       "      <th>6</th>\n",
       "      <td>CNT_CHILDREN</td>\n",
       "      <td>0.000000</td>\n",
       "    </tr>\n",
       "    <tr>\n",
       "      <th>7</th>\n",
       "      <td>AMT_INCOME_TOTAL</td>\n",
       "      <td>0.000000</td>\n",
       "    </tr>\n",
       "    <tr>\n",
       "      <th>8</th>\n",
       "      <td>AMT_CREDIT</td>\n",
       "      <td>0.000000</td>\n",
       "    </tr>\n",
       "    <tr>\n",
       "      <th>9</th>\n",
       "      <td>AMT_ANNUITY</td>\n",
       "      <td>0.003902</td>\n",
       "    </tr>\n",
       "    <tr>\n",
       "      <th>10</th>\n",
       "      <td>AMT_GOODS_PRICE</td>\n",
       "      <td>0.090403</td>\n",
       "    </tr>\n",
       "    <tr>\n",
       "      <th>11</th>\n",
       "      <td>NAME_TYPE_SUITE</td>\n",
       "      <td>0.420148</td>\n",
       "    </tr>\n",
       "    <tr>\n",
       "      <th>12</th>\n",
       "      <td>NAME_INCOME_TYPE</td>\n",
       "      <td>0.000000</td>\n",
       "    </tr>\n",
       "    <tr>\n",
       "      <th>13</th>\n",
       "      <td>NAME_EDUCATION_TYPE</td>\n",
       "      <td>0.000000</td>\n",
       "    </tr>\n",
       "    <tr>\n",
       "      <th>14</th>\n",
       "      <td>NAME_FAMILY_STATUS</td>\n",
       "      <td>0.000000</td>\n",
       "    </tr>\n",
       "    <tr>\n",
       "      <th>15</th>\n",
       "      <td>NAME_HOUSING_TYPE</td>\n",
       "      <td>0.000000</td>\n",
       "    </tr>\n",
       "    <tr>\n",
       "      <th>16</th>\n",
       "      <td>REGION_POPULATION_RELATIVE</td>\n",
       "      <td>0.000000</td>\n",
       "    </tr>\n",
       "    <tr>\n",
       "      <th>17</th>\n",
       "      <td>DAYS_BIRTH</td>\n",
       "      <td>0.000000</td>\n",
       "    </tr>\n",
       "    <tr>\n",
       "      <th>18</th>\n",
       "      <td>DAYS_EMPLOYED</td>\n",
       "      <td>0.000000</td>\n",
       "    </tr>\n",
       "    <tr>\n",
       "      <th>19</th>\n",
       "      <td>DAYS_REGISTRATION</td>\n",
       "      <td>0.000000</td>\n",
       "    </tr>\n",
       "    <tr>\n",
       "      <th>20</th>\n",
       "      <td>DAYS_ID_PUBLISH</td>\n",
       "      <td>0.000000</td>\n",
       "    </tr>\n",
       "    <tr>\n",
       "      <th>21</th>\n",
       "      <td>OWN_CAR_AGE</td>\n",
       "      <td>65.990810</td>\n",
       "    </tr>\n",
       "    <tr>\n",
       "      <th>22</th>\n",
       "      <td>FLAG_MOBIL</td>\n",
       "      <td>0.000000</td>\n",
       "    </tr>\n",
       "    <tr>\n",
       "      <th>23</th>\n",
       "      <td>FLAG_EMP_PHONE</td>\n",
       "      <td>0.000000</td>\n",
       "    </tr>\n",
       "    <tr>\n",
       "      <th>24</th>\n",
       "      <td>FLAG_WORK_PHONE</td>\n",
       "      <td>0.000000</td>\n",
       "    </tr>\n",
       "    <tr>\n",
       "      <th>25</th>\n",
       "      <td>FLAG_CONT_MOBILE</td>\n",
       "      <td>0.000000</td>\n",
       "    </tr>\n",
       "    <tr>\n",
       "      <th>26</th>\n",
       "      <td>FLAG_PHONE</td>\n",
       "      <td>0.000000</td>\n",
       "    </tr>\n",
       "    <tr>\n",
       "      <th>27</th>\n",
       "      <td>FLAG_EMAIL</td>\n",
       "      <td>0.000000</td>\n",
       "    </tr>\n",
       "    <tr>\n",
       "      <th>28</th>\n",
       "      <td>OCCUPATION_TYPE</td>\n",
       "      <td>31.345545</td>\n",
       "    </tr>\n",
       "    <tr>\n",
       "      <th>29</th>\n",
       "      <td>CNT_FAM_MEMBERS</td>\n",
       "      <td>0.000650</td>\n",
       "    </tr>\n",
       "    <tr>\n",
       "      <th>30</th>\n",
       "      <td>REGION_RATING_CLIENT</td>\n",
       "      <td>0.000000</td>\n",
       "    </tr>\n",
       "    <tr>\n",
       "      <th>31</th>\n",
       "      <td>REGION_RATING_CLIENT_W_CITY</td>\n",
       "      <td>0.000000</td>\n",
       "    </tr>\n",
       "    <tr>\n",
       "      <th>32</th>\n",
       "      <td>WEEKDAY_APPR_PROCESS_START</td>\n",
       "      <td>0.000000</td>\n",
       "    </tr>\n",
       "    <tr>\n",
       "      <th>33</th>\n",
       "      <td>HOUR_APPR_PROCESS_START</td>\n",
       "      <td>0.000000</td>\n",
       "    </tr>\n",
       "    <tr>\n",
       "      <th>34</th>\n",
       "      <td>REG_REGION_NOT_LIVE_REGION</td>\n",
       "      <td>0.000000</td>\n",
       "    </tr>\n",
       "    <tr>\n",
       "      <th>35</th>\n",
       "      <td>REG_REGION_NOT_WORK_REGION</td>\n",
       "      <td>0.000000</td>\n",
       "    </tr>\n",
       "    <tr>\n",
       "      <th>36</th>\n",
       "      <td>LIVE_REGION_NOT_WORK_REGION</td>\n",
       "      <td>0.000000</td>\n",
       "    </tr>\n",
       "    <tr>\n",
       "      <th>37</th>\n",
       "      <td>REG_CITY_NOT_LIVE_CITY</td>\n",
       "      <td>0.000000</td>\n",
       "    </tr>\n",
       "    <tr>\n",
       "      <th>38</th>\n",
       "      <td>REG_CITY_NOT_WORK_CITY</td>\n",
       "      <td>0.000000</td>\n",
       "    </tr>\n",
       "    <tr>\n",
       "      <th>39</th>\n",
       "      <td>LIVE_CITY_NOT_WORK_CITY</td>\n",
       "      <td>0.000000</td>\n",
       "    </tr>\n",
       "    <tr>\n",
       "      <th>40</th>\n",
       "      <td>ORGANIZATION_TYPE</td>\n",
       "      <td>0.000000</td>\n",
       "    </tr>\n",
       "    <tr>\n",
       "      <th>41</th>\n",
       "      <td>EXT_SOURCE_1</td>\n",
       "      <td>56.381073</td>\n",
       "    </tr>\n",
       "    <tr>\n",
       "      <th>42</th>\n",
       "      <td>EXT_SOURCE_2</td>\n",
       "      <td>0.214626</td>\n",
       "    </tr>\n",
       "    <tr>\n",
       "      <th>43</th>\n",
       "      <td>EXT_SOURCE_3</td>\n",
       "      <td>19.825307</td>\n",
       "    </tr>\n",
       "    <tr>\n",
       "      <th>44</th>\n",
       "      <td>APARTMENTS_AVG</td>\n",
       "      <td>50.749729</td>\n",
       "    </tr>\n",
       "    <tr>\n",
       "      <th>45</th>\n",
       "      <td>BASEMENTAREA_AVG</td>\n",
       "      <td>58.515956</td>\n",
       "    </tr>\n",
       "    <tr>\n",
       "      <th>46</th>\n",
       "      <td>YEARS_BEGINEXPLUATATION_AVG</td>\n",
       "      <td>48.781019</td>\n",
       "    </tr>\n",
       "    <tr>\n",
       "      <th>47</th>\n",
       "      <td>YEARS_BUILD_AVG</td>\n",
       "      <td>66.497784</td>\n",
       "    </tr>\n",
       "    <tr>\n",
       "      <th>48</th>\n",
       "      <td>COMMONAREA_AVG</td>\n",
       "      <td>69.872297</td>\n",
       "    </tr>\n",
       "    <tr>\n",
       "      <th>49</th>\n",
       "      <td>ELEVATORS_AVG</td>\n",
       "      <td>53.295980</td>\n",
       "    </tr>\n",
       "    <tr>\n",
       "      <th>50</th>\n",
       "      <td>ENTRANCES_AVG</td>\n",
       "      <td>50.348768</td>\n",
       "    </tr>\n",
       "    <tr>\n",
       "      <th>51</th>\n",
       "      <td>FLOORSMAX_AVG</td>\n",
       "      <td>49.760822</td>\n",
       "    </tr>\n",
       "    <tr>\n",
       "      <th>52</th>\n",
       "      <td>FLOORSMIN_AVG</td>\n",
       "      <td>67.848630</td>\n",
       "    </tr>\n",
       "    <tr>\n",
       "      <th>53</th>\n",
       "      <td>LANDAREA_AVG</td>\n",
       "      <td>59.376738</td>\n",
       "    </tr>\n",
       "    <tr>\n",
       "      <th>54</th>\n",
       "      <td>LIVINGAPARTMENTS_AVG</td>\n",
       "      <td>68.354953</td>\n",
       "    </tr>\n",
       "    <tr>\n",
       "      <th>55</th>\n",
       "      <td>LIVINGAREA_AVG</td>\n",
       "      <td>50.193326</td>\n",
       "    </tr>\n",
       "    <tr>\n",
       "      <th>56</th>\n",
       "      <td>NONLIVINGAPARTMENTS_AVG</td>\n",
       "      <td>69.432963</td>\n",
       "    </tr>\n",
       "    <tr>\n",
       "      <th>57</th>\n",
       "      <td>NONLIVINGAREA_AVG</td>\n",
       "      <td>55.179164</td>\n",
       "    </tr>\n",
       "    <tr>\n",
       "      <th>58</th>\n",
       "      <td>APARTMENTS_MODE</td>\n",
       "      <td>50.749729</td>\n",
       "    </tr>\n",
       "    <tr>\n",
       "      <th>59</th>\n",
       "      <td>BASEMENTAREA_MODE</td>\n",
       "      <td>58.515956</td>\n",
       "    </tr>\n",
       "    <tr>\n",
       "      <th>60</th>\n",
       "      <td>YEARS_BEGINEXPLUATATION_MODE</td>\n",
       "      <td>48.781019</td>\n",
       "    </tr>\n",
       "    <tr>\n",
       "      <th>61</th>\n",
       "      <td>YEARS_BUILD_MODE</td>\n",
       "      <td>66.497784</td>\n",
       "    </tr>\n",
       "    <tr>\n",
       "      <th>62</th>\n",
       "      <td>COMMONAREA_MODE</td>\n",
       "      <td>69.872297</td>\n",
       "    </tr>\n",
       "    <tr>\n",
       "      <th>63</th>\n",
       "      <td>ELEVATORS_MODE</td>\n",
       "      <td>53.295980</td>\n",
       "    </tr>\n",
       "    <tr>\n",
       "      <th>64</th>\n",
       "      <td>ENTRANCES_MODE</td>\n",
       "      <td>50.348768</td>\n",
       "    </tr>\n",
       "    <tr>\n",
       "      <th>65</th>\n",
       "      <td>FLOORSMAX_MODE</td>\n",
       "      <td>49.760822</td>\n",
       "    </tr>\n",
       "    <tr>\n",
       "      <th>66</th>\n",
       "      <td>FLOORSMIN_MODE</td>\n",
       "      <td>67.848630</td>\n",
       "    </tr>\n",
       "    <tr>\n",
       "      <th>67</th>\n",
       "      <td>LANDAREA_MODE</td>\n",
       "      <td>59.376738</td>\n",
       "    </tr>\n",
       "    <tr>\n",
       "      <th>68</th>\n",
       "      <td>LIVINGAPARTMENTS_MODE</td>\n",
       "      <td>68.354953</td>\n",
       "    </tr>\n",
       "    <tr>\n",
       "      <th>69</th>\n",
       "      <td>LIVINGAREA_MODE</td>\n",
       "      <td>50.193326</td>\n",
       "    </tr>\n",
       "    <tr>\n",
       "      <th>70</th>\n",
       "      <td>NONLIVINGAPARTMENTS_MODE</td>\n",
       "      <td>69.432963</td>\n",
       "    </tr>\n",
       "    <tr>\n",
       "      <th>71</th>\n",
       "      <td>NONLIVINGAREA_MODE</td>\n",
       "      <td>55.179164</td>\n",
       "    </tr>\n",
       "    <tr>\n",
       "      <th>72</th>\n",
       "      <td>APARTMENTS_MEDI</td>\n",
       "      <td>50.749729</td>\n",
       "    </tr>\n",
       "    <tr>\n",
       "      <th>73</th>\n",
       "      <td>BASEMENTAREA_MEDI</td>\n",
       "      <td>58.515956</td>\n",
       "    </tr>\n",
       "    <tr>\n",
       "      <th>74</th>\n",
       "      <td>YEARS_BEGINEXPLUATATION_MEDI</td>\n",
       "      <td>48.781019</td>\n",
       "    </tr>\n",
       "    <tr>\n",
       "      <th>75</th>\n",
       "      <td>YEARS_BUILD_MEDI</td>\n",
       "      <td>66.497784</td>\n",
       "    </tr>\n",
       "    <tr>\n",
       "      <th>76</th>\n",
       "      <td>COMMONAREA_MEDI</td>\n",
       "      <td>69.872297</td>\n",
       "    </tr>\n",
       "    <tr>\n",
       "      <th>77</th>\n",
       "      <td>ELEVATORS_MEDI</td>\n",
       "      <td>53.295980</td>\n",
       "    </tr>\n",
       "    <tr>\n",
       "      <th>78</th>\n",
       "      <td>ENTRANCES_MEDI</td>\n",
       "      <td>50.348768</td>\n",
       "    </tr>\n",
       "    <tr>\n",
       "      <th>79</th>\n",
       "      <td>FLOORSMAX_MEDI</td>\n",
       "      <td>49.760822</td>\n",
       "    </tr>\n",
       "    <tr>\n",
       "      <th>80</th>\n",
       "      <td>FLOORSMIN_MEDI</td>\n",
       "      <td>67.848630</td>\n",
       "    </tr>\n",
       "    <tr>\n",
       "      <th>81</th>\n",
       "      <td>LANDAREA_MEDI</td>\n",
       "      <td>59.376738</td>\n",
       "    </tr>\n",
       "    <tr>\n",
       "      <th>82</th>\n",
       "      <td>LIVINGAPARTMENTS_MEDI</td>\n",
       "      <td>68.354953</td>\n",
       "    </tr>\n",
       "    <tr>\n",
       "      <th>83</th>\n",
       "      <td>LIVINGAREA_MEDI</td>\n",
       "      <td>50.193326</td>\n",
       "    </tr>\n",
       "    <tr>\n",
       "      <th>84</th>\n",
       "      <td>NONLIVINGAPARTMENTS_MEDI</td>\n",
       "      <td>69.432963</td>\n",
       "    </tr>\n",
       "    <tr>\n",
       "      <th>85</th>\n",
       "      <td>NONLIVINGAREA_MEDI</td>\n",
       "      <td>55.179164</td>\n",
       "    </tr>\n",
       "    <tr>\n",
       "      <th>86</th>\n",
       "      <td>FONDKAPREMONT_MODE</td>\n",
       "      <td>68.386172</td>\n",
       "    </tr>\n",
       "    <tr>\n",
       "      <th>87</th>\n",
       "      <td>HOUSETYPE_MODE</td>\n",
       "      <td>50.176091</td>\n",
       "    </tr>\n",
       "    <tr>\n",
       "      <th>88</th>\n",
       "      <td>TOTALAREA_MODE</td>\n",
       "      <td>48.268517</td>\n",
       "    </tr>\n",
       "    <tr>\n",
       "      <th>89</th>\n",
       "      <td>WALLSMATERIAL_MODE</td>\n",
       "      <td>50.840783</td>\n",
       "    </tr>\n",
       "    <tr>\n",
       "      <th>90</th>\n",
       "      <td>EMERGENCYSTATE_MODE</td>\n",
       "      <td>47.398304</td>\n",
       "    </tr>\n",
       "    <tr>\n",
       "      <th>91</th>\n",
       "      <td>OBS_30_CNT_SOCIAL_CIRCLE</td>\n",
       "      <td>0.332021</td>\n",
       "    </tr>\n",
       "    <tr>\n",
       "      <th>92</th>\n",
       "      <td>DEF_30_CNT_SOCIAL_CIRCLE</td>\n",
       "      <td>0.332021</td>\n",
       "    </tr>\n",
       "    <tr>\n",
       "      <th>93</th>\n",
       "      <td>OBS_60_CNT_SOCIAL_CIRCLE</td>\n",
       "      <td>0.332021</td>\n",
       "    </tr>\n",
       "    <tr>\n",
       "      <th>94</th>\n",
       "      <td>DEF_60_CNT_SOCIAL_CIRCLE</td>\n",
       "      <td>0.332021</td>\n",
       "    </tr>\n",
       "    <tr>\n",
       "      <th>95</th>\n",
       "      <td>DAYS_LAST_PHONE_CHANGE</td>\n",
       "      <td>0.000325</td>\n",
       "    </tr>\n",
       "    <tr>\n",
       "      <th>96</th>\n",
       "      <td>FLAG_DOCUMENT_2</td>\n",
       "      <td>0.000000</td>\n",
       "    </tr>\n",
       "    <tr>\n",
       "      <th>97</th>\n",
       "      <td>FLAG_DOCUMENT_3</td>\n",
       "      <td>0.000000</td>\n",
       "    </tr>\n",
       "    <tr>\n",
       "      <th>98</th>\n",
       "      <td>FLAG_DOCUMENT_4</td>\n",
       "      <td>0.000000</td>\n",
       "    </tr>\n",
       "    <tr>\n",
       "      <th>99</th>\n",
       "      <td>FLAG_DOCUMENT_5</td>\n",
       "      <td>0.000000</td>\n",
       "    </tr>\n",
       "    <tr>\n",
       "      <th>100</th>\n",
       "      <td>FLAG_DOCUMENT_6</td>\n",
       "      <td>0.000000</td>\n",
       "    </tr>\n",
       "    <tr>\n",
       "      <th>101</th>\n",
       "      <td>FLAG_DOCUMENT_7</td>\n",
       "      <td>0.000000</td>\n",
       "    </tr>\n",
       "    <tr>\n",
       "      <th>102</th>\n",
       "      <td>FLAG_DOCUMENT_8</td>\n",
       "      <td>0.000000</td>\n",
       "    </tr>\n",
       "    <tr>\n",
       "      <th>103</th>\n",
       "      <td>FLAG_DOCUMENT_9</td>\n",
       "      <td>0.000000</td>\n",
       "    </tr>\n",
       "    <tr>\n",
       "      <th>104</th>\n",
       "      <td>FLAG_DOCUMENT_10</td>\n",
       "      <td>0.000000</td>\n",
       "    </tr>\n",
       "    <tr>\n",
       "      <th>105</th>\n",
       "      <td>FLAG_DOCUMENT_11</td>\n",
       "      <td>0.000000</td>\n",
       "    </tr>\n",
       "    <tr>\n",
       "      <th>106</th>\n",
       "      <td>FLAG_DOCUMENT_12</td>\n",
       "      <td>0.000000</td>\n",
       "    </tr>\n",
       "    <tr>\n",
       "      <th>107</th>\n",
       "      <td>FLAG_DOCUMENT_13</td>\n",
       "      <td>0.000000</td>\n",
       "    </tr>\n",
       "    <tr>\n",
       "      <th>108</th>\n",
       "      <td>FLAG_DOCUMENT_14</td>\n",
       "      <td>0.000000</td>\n",
       "    </tr>\n",
       "    <tr>\n",
       "      <th>109</th>\n",
       "      <td>FLAG_DOCUMENT_15</td>\n",
       "      <td>0.000000</td>\n",
       "    </tr>\n",
       "    <tr>\n",
       "      <th>110</th>\n",
       "      <td>FLAG_DOCUMENT_16</td>\n",
       "      <td>0.000000</td>\n",
       "    </tr>\n",
       "    <tr>\n",
       "      <th>111</th>\n",
       "      <td>FLAG_DOCUMENT_17</td>\n",
       "      <td>0.000000</td>\n",
       "    </tr>\n",
       "    <tr>\n",
       "      <th>112</th>\n",
       "      <td>FLAG_DOCUMENT_18</td>\n",
       "      <td>0.000000</td>\n",
       "    </tr>\n",
       "    <tr>\n",
       "      <th>113</th>\n",
       "      <td>FLAG_DOCUMENT_19</td>\n",
       "      <td>0.000000</td>\n",
       "    </tr>\n",
       "    <tr>\n",
       "      <th>114</th>\n",
       "      <td>FLAG_DOCUMENT_20</td>\n",
       "      <td>0.000000</td>\n",
       "    </tr>\n",
       "    <tr>\n",
       "      <th>115</th>\n",
       "      <td>FLAG_DOCUMENT_21</td>\n",
       "      <td>0.000000</td>\n",
       "    </tr>\n",
       "    <tr>\n",
       "      <th>116</th>\n",
       "      <td>AMT_REQ_CREDIT_BUREAU_HOUR</td>\n",
       "      <td>13.501631</td>\n",
       "    </tr>\n",
       "    <tr>\n",
       "      <th>117</th>\n",
       "      <td>AMT_REQ_CREDIT_BUREAU_DAY</td>\n",
       "      <td>13.501631</td>\n",
       "    </tr>\n",
       "    <tr>\n",
       "      <th>118</th>\n",
       "      <td>AMT_REQ_CREDIT_BUREAU_WEEK</td>\n",
       "      <td>13.501631</td>\n",
       "    </tr>\n",
       "    <tr>\n",
       "      <th>119</th>\n",
       "      <td>AMT_REQ_CREDIT_BUREAU_MON</td>\n",
       "      <td>13.501631</td>\n",
       "    </tr>\n",
       "    <tr>\n",
       "      <th>120</th>\n",
       "      <td>AMT_REQ_CREDIT_BUREAU_QRT</td>\n",
       "      <td>13.501631</td>\n",
       "    </tr>\n",
       "    <tr>\n",
       "      <th>121</th>\n",
       "      <td>AMT_REQ_CREDIT_BUREAU_YEAR</td>\n",
       "      <td>13.501631</td>\n",
       "    </tr>\n",
       "  </tbody>\n",
       "</table>\n",
       "</div>"
      ],
      "text/plain": [
       "                      Column Name  Null Values Percentage\n",
       "0                      SK_ID_CURR                0.000000\n",
       "1                          TARGET                0.000000\n",
       "2              NAME_CONTRACT_TYPE                0.000000\n",
       "3                     CODE_GENDER                0.000000\n",
       "4                    FLAG_OWN_CAR                0.000000\n",
       "5                 FLAG_OWN_REALTY                0.000000\n",
       "6                    CNT_CHILDREN                0.000000\n",
       "7                AMT_INCOME_TOTAL                0.000000\n",
       "8                      AMT_CREDIT                0.000000\n",
       "9                     AMT_ANNUITY                0.003902\n",
       "10                AMT_GOODS_PRICE                0.090403\n",
       "11                NAME_TYPE_SUITE                0.420148\n",
       "12               NAME_INCOME_TYPE                0.000000\n",
       "13            NAME_EDUCATION_TYPE                0.000000\n",
       "14             NAME_FAMILY_STATUS                0.000000\n",
       "15              NAME_HOUSING_TYPE                0.000000\n",
       "16     REGION_POPULATION_RELATIVE                0.000000\n",
       "17                     DAYS_BIRTH                0.000000\n",
       "18                  DAYS_EMPLOYED                0.000000\n",
       "19              DAYS_REGISTRATION                0.000000\n",
       "20                DAYS_ID_PUBLISH                0.000000\n",
       "21                    OWN_CAR_AGE               65.990810\n",
       "22                     FLAG_MOBIL                0.000000\n",
       "23                 FLAG_EMP_PHONE                0.000000\n",
       "24                FLAG_WORK_PHONE                0.000000\n",
       "25               FLAG_CONT_MOBILE                0.000000\n",
       "26                     FLAG_PHONE                0.000000\n",
       "27                     FLAG_EMAIL                0.000000\n",
       "28                OCCUPATION_TYPE               31.345545\n",
       "29                CNT_FAM_MEMBERS                0.000650\n",
       "30           REGION_RATING_CLIENT                0.000000\n",
       "31    REGION_RATING_CLIENT_W_CITY                0.000000\n",
       "32     WEEKDAY_APPR_PROCESS_START                0.000000\n",
       "33        HOUR_APPR_PROCESS_START                0.000000\n",
       "34     REG_REGION_NOT_LIVE_REGION                0.000000\n",
       "35     REG_REGION_NOT_WORK_REGION                0.000000\n",
       "36    LIVE_REGION_NOT_WORK_REGION                0.000000\n",
       "37         REG_CITY_NOT_LIVE_CITY                0.000000\n",
       "38         REG_CITY_NOT_WORK_CITY                0.000000\n",
       "39        LIVE_CITY_NOT_WORK_CITY                0.000000\n",
       "40              ORGANIZATION_TYPE                0.000000\n",
       "41                   EXT_SOURCE_1               56.381073\n",
       "42                   EXT_SOURCE_2                0.214626\n",
       "43                   EXT_SOURCE_3               19.825307\n",
       "44                 APARTMENTS_AVG               50.749729\n",
       "45               BASEMENTAREA_AVG               58.515956\n",
       "46    YEARS_BEGINEXPLUATATION_AVG               48.781019\n",
       "47                YEARS_BUILD_AVG               66.497784\n",
       "48                 COMMONAREA_AVG               69.872297\n",
       "49                  ELEVATORS_AVG               53.295980\n",
       "50                  ENTRANCES_AVG               50.348768\n",
       "51                  FLOORSMAX_AVG               49.760822\n",
       "52                  FLOORSMIN_AVG               67.848630\n",
       "53                   LANDAREA_AVG               59.376738\n",
       "54           LIVINGAPARTMENTS_AVG               68.354953\n",
       "55                 LIVINGAREA_AVG               50.193326\n",
       "56        NONLIVINGAPARTMENTS_AVG               69.432963\n",
       "57              NONLIVINGAREA_AVG               55.179164\n",
       "58                APARTMENTS_MODE               50.749729\n",
       "59              BASEMENTAREA_MODE               58.515956\n",
       "60   YEARS_BEGINEXPLUATATION_MODE               48.781019\n",
       "61               YEARS_BUILD_MODE               66.497784\n",
       "62                COMMONAREA_MODE               69.872297\n",
       "63                 ELEVATORS_MODE               53.295980\n",
       "64                 ENTRANCES_MODE               50.348768\n",
       "65                 FLOORSMAX_MODE               49.760822\n",
       "66                 FLOORSMIN_MODE               67.848630\n",
       "67                  LANDAREA_MODE               59.376738\n",
       "68          LIVINGAPARTMENTS_MODE               68.354953\n",
       "69                LIVINGAREA_MODE               50.193326\n",
       "70       NONLIVINGAPARTMENTS_MODE               69.432963\n",
       "71             NONLIVINGAREA_MODE               55.179164\n",
       "72                APARTMENTS_MEDI               50.749729\n",
       "73              BASEMENTAREA_MEDI               58.515956\n",
       "74   YEARS_BEGINEXPLUATATION_MEDI               48.781019\n",
       "75               YEARS_BUILD_MEDI               66.497784\n",
       "76                COMMONAREA_MEDI               69.872297\n",
       "77                 ELEVATORS_MEDI               53.295980\n",
       "78                 ENTRANCES_MEDI               50.348768\n",
       "79                 FLOORSMAX_MEDI               49.760822\n",
       "80                 FLOORSMIN_MEDI               67.848630\n",
       "81                  LANDAREA_MEDI               59.376738\n",
       "82          LIVINGAPARTMENTS_MEDI               68.354953\n",
       "83                LIVINGAREA_MEDI               50.193326\n",
       "84       NONLIVINGAPARTMENTS_MEDI               69.432963\n",
       "85             NONLIVINGAREA_MEDI               55.179164\n",
       "86             FONDKAPREMONT_MODE               68.386172\n",
       "87                 HOUSETYPE_MODE               50.176091\n",
       "88                 TOTALAREA_MODE               48.268517\n",
       "89             WALLSMATERIAL_MODE               50.840783\n",
       "90            EMERGENCYSTATE_MODE               47.398304\n",
       "91       OBS_30_CNT_SOCIAL_CIRCLE                0.332021\n",
       "92       DEF_30_CNT_SOCIAL_CIRCLE                0.332021\n",
       "93       OBS_60_CNT_SOCIAL_CIRCLE                0.332021\n",
       "94       DEF_60_CNT_SOCIAL_CIRCLE                0.332021\n",
       "95         DAYS_LAST_PHONE_CHANGE                0.000325\n",
       "96                FLAG_DOCUMENT_2                0.000000\n",
       "97                FLAG_DOCUMENT_3                0.000000\n",
       "98                FLAG_DOCUMENT_4                0.000000\n",
       "99                FLAG_DOCUMENT_5                0.000000\n",
       "100               FLAG_DOCUMENT_6                0.000000\n",
       "101               FLAG_DOCUMENT_7                0.000000\n",
       "102               FLAG_DOCUMENT_8                0.000000\n",
       "103               FLAG_DOCUMENT_9                0.000000\n",
       "104              FLAG_DOCUMENT_10                0.000000\n",
       "105              FLAG_DOCUMENT_11                0.000000\n",
       "106              FLAG_DOCUMENT_12                0.000000\n",
       "107              FLAG_DOCUMENT_13                0.000000\n",
       "108              FLAG_DOCUMENT_14                0.000000\n",
       "109              FLAG_DOCUMENT_15                0.000000\n",
       "110              FLAG_DOCUMENT_16                0.000000\n",
       "111              FLAG_DOCUMENT_17                0.000000\n",
       "112              FLAG_DOCUMENT_18                0.000000\n",
       "113              FLAG_DOCUMENT_19                0.000000\n",
       "114              FLAG_DOCUMENT_20                0.000000\n",
       "115              FLAG_DOCUMENT_21                0.000000\n",
       "116    AMT_REQ_CREDIT_BUREAU_HOUR               13.501631\n",
       "117     AMT_REQ_CREDIT_BUREAU_DAY               13.501631\n",
       "118    AMT_REQ_CREDIT_BUREAU_WEEK               13.501631\n",
       "119     AMT_REQ_CREDIT_BUREAU_MON               13.501631\n",
       "120     AMT_REQ_CREDIT_BUREAU_QRT               13.501631\n",
       "121    AMT_REQ_CREDIT_BUREAU_YEAR               13.501631"
      ]
     },
     "execution_count": 11,
     "metadata": {},
     "output_type": "execute_result"
    }
   ],
   "source": [
    "null_applicationDF = pd.DataFrame((applicationDF.isnull().sum())*100/applicationDF.shape[0]).reset_index()\n",
    "null_applicationDF.columns = ['Column Name', 'Null Values Percentage']\n",
    "null_applicationDF"
   ]
  },
  {
   "cell_type": "code",
   "execution_count": 12,
   "metadata": {
    "scrolled": false
   },
   "outputs": [
    {
     "data": {
      "image/png": "[encoded data removed]",
      "text/plain": [
       "<Figure size 1296x432 with 1 Axes>"
      ]
     },
     "metadata": {
      "needs_background": "light"
     },
     "output_type": "display_data"
    }
   ],
   "source": [
    "# plotting the null value % in a line graph for visualizing. \n",
    "# Set a limit of 40% target line to check which columns have more than 40% unknown values\n",
    "fig = plt.figure(figsize=(18,6))\n",
    "ax = sns.pointplot(x=\"Column Name\",y=\"Null Values Percentage\",data=null_applicationDF)\n",
    "plt.xticks(rotation =90,fontsize =7)\n",
    "ax.axhline(40, ls='--',color='red')\n",
    "plt.title(\"Percentage of Missing values in application data\")\n",
    "plt.ylabel(\"Null Values PERCENTAGE\")\n",
    "plt.xlabel(\"COLUMNS\")\n",
    "plt.show()"
   ]
  },
  {
   "cell_type": "code",
   "execution_count": 13,
   "metadata": {
    "scrolled": false
   },
   "outputs": [
    {
     "data": {
      "text/html": [
       "<div>\n",
       "<style scoped>\n",
       "    .dataframe tbody tr th:only-of-type {\n",
       "        vertical-align: middle;\n",
       "    }\n",
       "\n",
       "    .dataframe tbody tr th {\n",
       "        vertical-align: top;\n",
       "    }\n",
       "\n",
       "    .dataframe thead th {\n",
       "        text-align: right;\n",
       "    }\n",
       "</style>\n",
       "<table border=\"1\" class=\"dataframe\">\n",
       "  <thead>\n",
       "    <tr style=\"text-align: right;\">\n",
       "      <th></th>\n",
       "      <th>Column Name</th>\n",
       "      <th>Null Values Percentage</th>\n",
       "    </tr>\n",
       "  </thead>\n",
       "  <tbody>\n",
       "    <tr>\n",
       "      <th>21</th>\n",
       "      <td>OWN_CAR_AGE</td>\n",
       "      <td>65.990810</td>\n",
       "    </tr>\n",
       "    <tr>\n",
       "      <th>41</th>\n",
       "      <td>EXT_SOURCE_1</td>\n",
       "      <td>56.381073</td>\n",
       "    </tr>\n",
       "    <tr>\n",
       "      <th>44</th>\n",
       "      <td>APARTMENTS_AVG</td>\n",
       "      <td>50.749729</td>\n",
       "    </tr>\n",
       "    <tr>\n",
       "      <th>45</th>\n",
       "      <td>BASEMENTAREA_AVG</td>\n",
       "      <td>58.515956</td>\n",
       "    </tr>\n",
       "    <tr>\n",
       "      <th>46</th>\n",
       "      <td>YEARS_BEGINEXPLUATATION_AVG</td>\n",
       "      <td>48.781019</td>\n",
       "    </tr>\n",
       "    <tr>\n",
       "      <th>47</th>\n",
       "      <td>YEARS_BUILD_AVG</td>\n",
       "      <td>66.497784</td>\n",
       "    </tr>\n",
       "    <tr>\n",
       "      <th>48</th>\n",
       "      <td>COMMONAREA_AVG</td>\n",
       "      <td>69.872297</td>\n",
       "    </tr>\n",
       "    <tr>\n",
       "      <th>49</th>\n",
       "      <td>ELEVATORS_AVG</td>\n",
       "      <td>53.295980</td>\n",
       "    </tr>\n",
       "    <tr>\n",
       "      <th>50</th>\n",
       "      <td>ENTRANCES_AVG</td>\n",
       "      <td>50.348768</td>\n",
       "    </tr>\n",
       "    <tr>\n",
       "      <th>51</th>\n",
       "      <td>FLOORSMAX_AVG</td>\n",
       "      <td>49.760822</td>\n",
       "    </tr>\n",
       "    <tr>\n",
       "      <th>52</th>\n",
       "      <td>FLOORSMIN_AVG</td>\n",
       "      <td>67.848630</td>\n",
       "    </tr>\n",
       "    <tr>\n",
       "      <th>53</th>\n",
       "      <td>LANDAREA_AVG</td>\n",
       "      <td>59.376738</td>\n",
       "    </tr>\n",
       "    <tr>\n",
       "      <th>54</th>\n",
       "      <td>LIVINGAPARTMENTS_AVG</td>\n",
       "      <td>68.354953</td>\n",
       "    </tr>\n",
       "    <tr>\n",
       "      <th>55</th>\n",
       "      <td>LIVINGAREA_AVG</td>\n",
       "      <td>50.193326</td>\n",
       "    </tr>\n",
       "    <tr>\n",
       "      <th>56</th>\n",
       "      <td>NONLIVINGAPARTMENTS_AVG</td>\n",
       "      <td>69.432963</td>\n",
       "    </tr>\n",
       "    <tr>\n",
       "      <th>57</th>\n",
       "      <td>NONLIVINGAREA_AVG</td>\n",
       "      <td>55.179164</td>\n",
       "    </tr>\n",
       "    <tr>\n",
       "      <th>58</th>\n",
       "      <td>APARTMENTS_MODE</td>\n",
       "      <td>50.749729</td>\n",
       "    </tr>\n",
       "    <tr>\n",
       "      <th>59</th>\n",
       "      <td>BASEMENTAREA_MODE</td>\n",
       "      <td>58.515956</td>\n",
       "    </tr>\n",
       "    <tr>\n",
       "      <th>60</th>\n",
       "      <td>YEARS_BEGINEXPLUATATION_MODE</td>\n",
       "      <td>48.781019</td>\n",
       "    </tr>\n",
       "    <tr>\n",
       "      <th>61</th>\n",
       "      <td>YEARS_BUILD_MODE</td>\n",
       "      <td>66.497784</td>\n",
       "    </tr>\n",
       "    <tr>\n",
       "      <th>62</th>\n",
       "      <td>COMMONAREA_MODE</td>\n",
       "      <td>69.872297</td>\n",
       "    </tr>\n",
       "    <tr>\n",
       "      <th>63</th>\n",
       "      <td>ELEVATORS_MODE</td>\n",
       "      <td>53.295980</td>\n",
       "    </tr>\n",
       "    <tr>\n",
       "      <th>64</th>\n",
       "      <td>ENTRANCES_MODE</td>\n",
       "      <td>50.348768</td>\n",
       "    </tr>\n",
       "    <tr>\n",
       "      <th>65</th>\n",
       "      <td>FLOORSMAX_MODE</td>\n",
       "      <td>49.760822</td>\n",
       "    </tr>\n",
       "    <tr>\n",
       "      <th>66</th>\n",
       "      <td>FLOORSMIN_MODE</td>\n",
       "      <td>67.848630</td>\n",
       "    </tr>\n",
       "    <tr>\n",
       "      <th>67</th>\n",
       "      <td>LANDAREA_MODE</td>\n",
       "      <td>59.376738</td>\n",
       "    </tr>\n",
       "    <tr>\n",
       "      <th>68</th>\n",
       "      <td>LIVINGAPARTMENTS_MODE</td>\n",
       "      <td>68.354953</td>\n",
       "    </tr>\n",
       "    <tr>\n",
       "      <th>69</th>\n",
       "      <td>LIVINGAREA_MODE</td>\n",
       "      <td>50.193326</td>\n",
       "    </tr>\n",
       "    <tr>\n",
       "      <th>70</th>\n",
       "      <td>NONLIVINGAPARTMENTS_MODE</td>\n",
       "      <td>69.432963</td>\n",
       "    </tr>\n",
       "    <tr>\n",
       "      <th>71</th>\n",
       "      <td>NONLIVINGAREA_MODE</td>\n",
       "      <td>55.179164</td>\n",
       "    </tr>\n",
       "    <tr>\n",
       "      <th>72</th>\n",
       "      <td>APARTMENTS_MEDI</td>\n",
       "      <td>50.749729</td>\n",
       "    </tr>\n",
       "    <tr>\n",
       "      <th>73</th>\n",
       "      <td>BASEMENTAREA_MEDI</td>\n",
       "      <td>58.515956</td>\n",
       "    </tr>\n",
       "    <tr>\n",
       "      <th>74</th>\n",
       "      <td>YEARS_BEGINEXPLUATATION_MEDI</td>\n",
       "      <td>48.781019</td>\n",
       "    </tr>\n",
       "    <tr>\n",
       "      <th>75</th>\n",
       "      <td>YEARS_BUILD_MEDI</td>\n",
       "      <td>66.497784</td>\n",
       "    </tr>\n",
       "    <tr>\n",
       "      <th>76</th>\n",
       "      <td>COMMONAREA_MEDI</td>\n",
       "      <td>69.872297</td>\n",
       "    </tr>\n",
       "    <tr>\n",
       "      <th>77</th>\n",
       "      <td>ELEVATORS_MEDI</td>\n",
       "      <td>53.295980</td>\n",
       "    </tr>\n",
       "    <tr>\n",
       "      <th>78</th>\n",
       "      <td>ENTRANCES_MEDI</td>\n",
       "      <td>50.348768</td>\n",
       "    </tr>\n",
       "    <tr>\n",
       "      <th>79</th>\n",
       "      <td>FLOORSMAX_MEDI</td>\n",
       "      <td>49.760822</td>\n",
       "    </tr>\n",
       "    <tr>\n",
       "      <th>80</th>\n",
       "      <td>FLOORSMIN_MEDI</td>\n",
       "      <td>67.848630</td>\n",
       "    </tr>\n",
       "    <tr>\n",
       "      <th>81</th>\n",
       "      <td>LANDAREA_MEDI</td>\n",
       "      <td>59.376738</td>\n",
       "    </tr>\n",
       "    <tr>\n",
       "      <th>82</th>\n",
       "      <td>LIVINGAPARTMENTS_MEDI</td>\n",
       "      <td>68.354953</td>\n",
       "    </tr>\n",
       "    <tr>\n",
       "      <th>83</th>\n",
       "      <td>LIVINGAREA_MEDI</td>\n",
       "      <td>50.193326</td>\n",
       "    </tr>\n",
       "    <tr>\n",
       "      <th>84</th>\n",
       "      <td>NONLIVINGAPARTMENTS_MEDI</td>\n",
       "      <td>69.432963</td>\n",
       "    </tr>\n",
       "    <tr>\n",
       "      <th>85</th>\n",
       "      <td>NONLIVINGAREA_MEDI</td>\n",
       "      <td>55.179164</td>\n",
       "    </tr>\n",
       "    <tr>\n",
       "      <th>86</th>\n",
       "      <td>FONDKAPREMONT_MODE</td>\n",
       "      <td>68.386172</td>\n",
       "    </tr>\n",
       "    <tr>\n",
       "      <th>87</th>\n",
       "      <td>HOUSETYPE_MODE</td>\n",
       "      <td>50.176091</td>\n",
       "    </tr>\n",
       "    <tr>\n",
       "      <th>88</th>\n",
       "      <td>TOTALAREA_MODE</td>\n",
       "      <td>48.268517</td>\n",
       "    </tr>\n",
       "    <tr>\n",
       "      <th>89</th>\n",
       "      <td>WALLSMATERIAL_MODE</td>\n",
       "      <td>50.840783</td>\n",
       "    </tr>\n",
       "    <tr>\n",
       "      <th>90</th>\n",
       "      <td>EMERGENCYSTATE_MODE</td>\n",
       "      <td>47.398304</td>\n",
       "    </tr>\n",
       "  </tbody>\n",
       "</table>\n",
       "</div>"
      ],
      "text/plain": [
       "                     Column Name  Null Values Percentage\n",
       "21                   OWN_CAR_AGE               65.990810\n",
       "41                  EXT_SOURCE_1               56.381073\n",
       "44                APARTMENTS_AVG               50.749729\n",
       "45              BASEMENTAREA_AVG               58.515956\n",
       "46   YEARS_BEGINEXPLUATATION_AVG               48.781019\n",
       "47               YEARS_BUILD_AVG               66.497784\n",
       "48                COMMONAREA_AVG               69.872297\n",
       "49                 ELEVATORS_AVG               53.295980\n",
       "50                 ENTRANCES_AVG               50.348768\n",
       "51                 FLOORSMAX_AVG               49.760822\n",
       "52                 FLOORSMIN_AVG               67.848630\n",
       "53                  LANDAREA_AVG               59.376738\n",
       "54          LIVINGAPARTMENTS_AVG               68.354953\n",
       "55                LIVINGAREA_AVG               50.193326\n",
       "56       NONLIVINGAPARTMENTS_AVG               69.432963\n",
       "57             NONLIVINGAREA_AVG               55.179164\n",
       "58               APARTMENTS_MODE               50.749729\n",
       "59             BASEMENTAREA_MODE               58.515956\n",
       "60  YEARS_BEGINEXPLUATATION_MODE               48.781019\n",
       "61              YEARS_BUILD_MODE               66.497784\n",
       "62               COMMONAREA_MODE               69.872297\n",
       "63                ELEVATORS_MODE               53.295980\n",
       "64                ENTRANCES_MODE               50.348768\n",
       "65                FLOORSMAX_MODE               49.760822\n",
       "66                FLOORSMIN_MODE               67.848630\n",
       "67                 LANDAREA_MODE               59.376738\n",
       "68         LIVINGAPARTMENTS_MODE               68.354953\n",
       "69               LIVINGAREA_MODE               50.193326\n",
       "70      NONLIVINGAPARTMENTS_MODE               69.432963\n",
       "71            NONLIVINGAREA_MODE               55.179164\n",
       "72               APARTMENTS_MEDI               50.749729\n",
       "73             BASEMENTAREA_MEDI               58.515956\n",
       "74  YEARS_BEGINEXPLUATATION_MEDI               48.781019\n",
       "75              YEARS_BUILD_MEDI               66.497784\n",
       "76               COMMONAREA_MEDI               69.872297\n",
       "77                ELEVATORS_MEDI               53.295980\n",
       "78                ENTRANCES_MEDI               50.348768\n",
       "79                FLOORSMAX_MEDI               49.760822\n",
       "80                FLOORSMIN_MEDI               67.848630\n",
       "81                 LANDAREA_MEDI               59.376738\n",
       "82         LIVINGAPARTMENTS_MEDI               68.354953\n",
       "83               LIVINGAREA_MEDI               50.193326\n",
       "84      NONLIVINGAPARTMENTS_MEDI               69.432963\n",
       "85            NONLIVINGAREA_MEDI               55.179164\n",
       "86            FONDKAPREMONT_MODE               68.386172\n",
       "87                HOUSETYPE_MODE               50.176091\n",
       "88                TOTALAREA_MODE               48.268517\n",
       "89            WALLSMATERIAL_MODE               50.840783\n",
       "90           EMERGENCYSTATE_MODE               47.398304"
      ]
     },
     "execution_count": 13,
     "metadata": {},
     "output_type": "execute_result"
    }
   ],
   "source": [
    "# more than or equal to 40% empty rows columns\n",
    "nullcol_40_application = null_applicationDF[null_applicationDF[\"Null Values Percentage\"]>=40]\n",
    "nullcol_40_application"
   ]
  },
  {
   "cell_type": "code",
   "execution_count": 25,
   "metadata": {},
   "outputs": [
    {
     "data": {
      "text/plain": [
       "49"
      ]
     },
     "execution_count": 25,
     "metadata": {},
     "output_type": "execute_result"
    }
   ],
   "source": [
    "# How many columns have more than or euqal to 40% null values ?\n",
    "len(nullcol_40_application)"
   ]
  },
  {
   "cell_type": "markdown",
   "metadata": {},
   "source": [
    "#### 3.2.2 Null value analysis for previousDF dataframe\n",
    "\n",
    "#### Get the percentage of null values in each column"
   ]
  },
  {
   "cell_type": "code",
   "execution_count": null,
   "metadata": {},
   "outputs": [],
   "source": [
    "# checking the null value % of each column in previousDF dataframe\n",
    "round(previousDF.isnull().sum() / previousDF.shape[0] * 100.00,2)"
   ]
  },
  {
   "cell_type": "markdown",
   "metadata": {},
   "source": [
    "#### Get the columns in which percentage of null values > 40% and Plot the columns vs Null Values Present in it:"
   ]
  },
  {
   "cell_type": "code",
   "execution_count": 14,
   "metadata": {},
   "outputs": [
    {
     "data": {
      "text/html": [
       "<div>\n",
       "<style scoped>\n",
       "    .dataframe tbody tr th:only-of-type {\n",
       "        vertical-align: middle;\n",
       "    }\n",
       "\n",
       "    .dataframe tbody tr th {\n",
       "        vertical-align: top;\n",
       "    }\n",
       "\n",
       "    .dataframe thead th {\n",
       "        text-align: right;\n",
       "    }\n",
       "</style>\n",
       "<table border=\"1\" class=\"dataframe\">\n",
       "  <thead>\n",
       "    <tr style=\"text-align: right;\">\n",
       "      <th></th>\n",
       "      <th>Column Name</th>\n",
       "      <th>Null Values Percentage</th>\n",
       "    </tr>\n",
       "  </thead>\n",
       "  <tbody>\n",
       "    <tr>\n",
       "      <th>0</th>\n",
       "      <td>SK_ID_PREV</td>\n",
       "      <td>0.000000</td>\n",
       "    </tr>\n",
       "    <tr>\n",
       "      <th>1</th>\n",
       "      <td>SK_ID_CURR</td>\n",
       "      <td>0.000000</td>\n",
       "    </tr>\n",
       "    <tr>\n",
       "      <th>2</th>\n",
       "      <td>NAME_CONTRACT_TYPE</td>\n",
       "      <td>0.000000</td>\n",
       "    </tr>\n",
       "    <tr>\n",
       "      <th>3</th>\n",
       "      <td>AMT_ANNUITY</td>\n",
       "      <td>22.286665</td>\n",
       "    </tr>\n",
       "    <tr>\n",
       "      <th>4</th>\n",
       "      <td>AMT_APPLICATION</td>\n",
       "      <td>0.000000</td>\n",
       "    </tr>\n",
       "    <tr>\n",
       "      <th>5</th>\n",
       "      <td>AMT_CREDIT</td>\n",
       "      <td>0.000060</td>\n",
       "    </tr>\n",
       "    <tr>\n",
       "      <th>6</th>\n",
       "      <td>AMT_DOWN_PAYMENT</td>\n",
       "      <td>53.636480</td>\n",
       "    </tr>\n",
       "    <tr>\n",
       "      <th>7</th>\n",
       "      <td>AMT_GOODS_PRICE</td>\n",
       "      <td>23.081773</td>\n",
       "    </tr>\n",
       "    <tr>\n",
       "      <th>8</th>\n",
       "      <td>WEEKDAY_APPR_PROCESS_START</td>\n",
       "      <td>0.000000</td>\n",
       "    </tr>\n",
       "    <tr>\n",
       "      <th>9</th>\n",
       "      <td>HOUR_APPR_PROCESS_START</td>\n",
       "      <td>0.000000</td>\n",
       "    </tr>\n",
       "    <tr>\n",
       "      <th>10</th>\n",
       "      <td>FLAG_LAST_APPL_PER_CONTRACT</td>\n",
       "      <td>0.000000</td>\n",
       "    </tr>\n",
       "    <tr>\n",
       "      <th>11</th>\n",
       "      <td>NFLAG_LAST_APPL_IN_DAY</td>\n",
       "      <td>0.000000</td>\n",
       "    </tr>\n",
       "    <tr>\n",
       "      <th>12</th>\n",
       "      <td>RATE_DOWN_PAYMENT</td>\n",
       "      <td>53.636480</td>\n",
       "    </tr>\n",
       "    <tr>\n",
       "      <th>13</th>\n",
       "      <td>RATE_INTEREST_PRIMARY</td>\n",
       "      <td>99.643698</td>\n",
       "    </tr>\n",
       "    <tr>\n",
       "      <th>14</th>\n",
       "      <td>RATE_INTEREST_PRIVILEGED</td>\n",
       "      <td>99.643698</td>\n",
       "    </tr>\n",
       "    <tr>\n",
       "      <th>15</th>\n",
       "      <td>NAME_CASH_LOAN_PURPOSE</td>\n",
       "      <td>0.000000</td>\n",
       "    </tr>\n",
       "    <tr>\n",
       "      <th>16</th>\n",
       "      <td>NAME_CONTRACT_STATUS</td>\n",
       "      <td>0.000000</td>\n",
       "    </tr>\n",
       "    <tr>\n",
       "      <th>17</th>\n",
       "      <td>DAYS_DECISION</td>\n",
       "      <td>0.000000</td>\n",
       "    </tr>\n",
       "    <tr>\n",
       "      <th>18</th>\n",
       "      <td>NAME_PAYMENT_TYPE</td>\n",
       "      <td>0.000000</td>\n",
       "    </tr>\n",
       "    <tr>\n",
       "      <th>19</th>\n",
       "      <td>CODE_REJECT_REASON</td>\n",
       "      <td>0.000000</td>\n",
       "    </tr>\n",
       "    <tr>\n",
       "      <th>20</th>\n",
       "      <td>NAME_TYPE_SUITE</td>\n",
       "      <td>49.119754</td>\n",
       "    </tr>\n",
       "    <tr>\n",
       "      <th>21</th>\n",
       "      <td>NAME_CLIENT_TYPE</td>\n",
       "      <td>0.000000</td>\n",
       "    </tr>\n",
       "    <tr>\n",
       "      <th>22</th>\n",
       "      <td>NAME_GOODS_CATEGORY</td>\n",
       "      <td>0.000000</td>\n",
       "    </tr>\n",
       "    <tr>\n",
       "      <th>23</th>\n",
       "      <td>NAME_PORTFOLIO</td>\n",
       "      <td>0.000000</td>\n",
       "    </tr>\n",
       "    <tr>\n",
       "      <th>24</th>\n",
       "      <td>NAME_PRODUCT_TYPE</td>\n",
       "      <td>0.000000</td>\n",
       "    </tr>\n",
       "    <tr>\n",
       "      <th>25</th>\n",
       "      <td>CHANNEL_TYPE</td>\n",
       "      <td>0.000000</td>\n",
       "    </tr>\n",
       "    <tr>\n",
       "      <th>26</th>\n",
       "      <td>SELLERPLACE_AREA</td>\n",
       "      <td>0.000000</td>\n",
       "    </tr>\n",
       "    <tr>\n",
       "      <th>27</th>\n",
       "      <td>NAME_SELLER_INDUSTRY</td>\n",
       "      <td>0.000000</td>\n",
       "    </tr>\n",
       "    <tr>\n",
       "      <th>28</th>\n",
       "      <td>CNT_PAYMENT</td>\n",
       "      <td>22.286366</td>\n",
       "    </tr>\n",
       "    <tr>\n",
       "      <th>29</th>\n",
       "      <td>NAME_YIELD_GROUP</td>\n",
       "      <td>0.000000</td>\n",
       "    </tr>\n",
       "    <tr>\n",
       "      <th>30</th>\n",
       "      <td>PRODUCT_COMBINATION</td>\n",
       "      <td>0.020716</td>\n",
       "    </tr>\n",
       "    <tr>\n",
       "      <th>31</th>\n",
       "      <td>DAYS_FIRST_DRAWING</td>\n",
       "      <td>40.298129</td>\n",
       "    </tr>\n",
       "    <tr>\n",
       "      <th>32</th>\n",
       "      <td>DAYS_FIRST_DUE</td>\n",
       "      <td>40.298129</td>\n",
       "    </tr>\n",
       "    <tr>\n",
       "      <th>33</th>\n",
       "      <td>DAYS_LAST_DUE_1ST_VERSION</td>\n",
       "      <td>40.298129</td>\n",
       "    </tr>\n",
       "    <tr>\n",
       "      <th>34</th>\n",
       "      <td>DAYS_LAST_DUE</td>\n",
       "      <td>40.298129</td>\n",
       "    </tr>\n",
       "    <tr>\n",
       "      <th>35</th>\n",
       "      <td>DAYS_TERMINATION</td>\n",
       "      <td>40.298129</td>\n",
       "    </tr>\n",
       "    <tr>\n",
       "      <th>36</th>\n",
       "      <td>NFLAG_INSURED_ON_APPROVAL</td>\n",
       "      <td>40.298129</td>\n",
       "    </tr>\n",
       "  </tbody>\n",
       "</table>\n",
       "</div>"
      ],
      "text/plain": [
       "                    Column Name  Null Values Percentage\n",
       "0                    SK_ID_PREV                0.000000\n",
       "1                    SK_ID_CURR                0.000000\n",
       "2            NAME_CONTRACT_TYPE                0.000000\n",
       "3                   AMT_ANNUITY               22.286665\n",
       "4               AMT_APPLICATION                0.000000\n",
       "5                    AMT_CREDIT                0.000060\n",
       "6              AMT_DOWN_PAYMENT               53.636480\n",
       "7               AMT_GOODS_PRICE               23.081773\n",
       "8    WEEKDAY_APPR_PROCESS_START                0.000000\n",
       "9       HOUR_APPR_PROCESS_START                0.000000\n",
       "10  FLAG_LAST_APPL_PER_CONTRACT                0.000000\n",
       "11       NFLAG_LAST_APPL_IN_DAY                0.000000\n",
       "12            RATE_DOWN_PAYMENT               53.636480\n",
       "13        RATE_INTEREST_PRIMARY               99.643698\n",
       "14     RATE_INTEREST_PRIVILEGED               99.643698\n",
       "15       NAME_CASH_LOAN_PURPOSE                0.000000\n",
       "16         NAME_CONTRACT_STATUS                0.000000\n",
       "17                DAYS_DECISION                0.000000\n",
       "18            NAME_PAYMENT_TYPE                0.000000\n",
       "19           CODE_REJECT_REASON                0.000000\n",
       "20              NAME_TYPE_SUITE               49.119754\n",
       "21             NAME_CLIENT_TYPE                0.000000\n",
       "22          NAME_GOODS_CATEGORY                0.000000\n",
       "23               NAME_PORTFOLIO                0.000000\n",
       "24            NAME_PRODUCT_TYPE                0.000000\n",
       "25                 CHANNEL_TYPE                0.000000\n",
       "26             SELLERPLACE_AREA                0.000000\n",
       "27         NAME_SELLER_INDUSTRY                0.000000\n",
       "28                  CNT_PAYMENT               22.286366\n",
       "29             NAME_YIELD_GROUP                0.000000\n",
       "30          PRODUCT_COMBINATION                0.020716\n",
       "31           DAYS_FIRST_DRAWING               40.298129\n",
       "32               DAYS_FIRST_DUE               40.298129\n",
       "33    DAYS_LAST_DUE_1ST_VERSION               40.298129\n",
       "34                DAYS_LAST_DUE               40.298129\n",
       "35             DAYS_TERMINATION               40.298129\n",
       "36    NFLAG_INSURED_ON_APPROVAL               40.298129"
      ]
     },
     "execution_count": 14,
     "metadata": {},
     "output_type": "execute_result"
    }
   ],
   "source": [
    "null_previousDF = pd.DataFrame((previousDF.isnull().sum())*100/previousDF.shape[0]).reset_index()\n",
    "null_previousDF.columns = ['Column Name', 'Null Values Percentage']\n",
    "null_previousDF"
   ]
  },
  {
   "cell_type": "code",
   "execution_count": 15,
   "metadata": {
    "scrolled": false
   },
   "outputs": [
    {
     "data": {
      "image/png": "[encoded data removed]",
      "text/plain": [
       "<Figure size 1296x432 with 1 Axes>"
      ]
     },
     "metadata": {
      "needs_background": "light"
     },
     "output_type": "display_data"
    }
   ],
   "source": [
    "# plotting the null value % in a line graph for visualizing. \n",
    "# Set a limit of 40% target line to check which columns have more than 40% unknown values\n",
    "fig = plt.figure(figsize=(18,6))\n",
    "ax = sns.pointplot(x=\"Column Name\",y=\"Null Values Percentage\",data=null_previousDF)\n",
    "plt.xticks(rotation =90,fontsize =7)\n",
    "ax.axhline(40, ls='--',color='red')\n",
    "plt.title(\"Percentage of Missing values in previousDF data\")\n",
    "plt.ylabel(\"Null Values PERCENTAGE\")\n",
    "plt.xlabel(\"COLUMNS\")\n",
    "plt.show()"
   ]
  },
  {
   "cell_type": "code",
   "execution_count": 16,
   "metadata": {},
   "outputs": [
    {
     "data": {
      "text/html": [
       "<div>\n",
       "<style scoped>\n",
       "    .dataframe tbody tr th:only-of-type {\n",
       "        vertical-align: middle;\n",
       "    }\n",
       "\n",
       "    .dataframe tbody tr th {\n",
       "        vertical-align: top;\n",
       "    }\n",
       "\n",
       "    .dataframe thead th {\n",
       "        text-align: right;\n",
       "    }\n",
       "</style>\n",
       "<table border=\"1\" class=\"dataframe\">\n",
       "  <thead>\n",
       "    <tr style=\"text-align: right;\">\n",
       "      <th></th>\n",
       "      <th>Column Name</th>\n",
       "      <th>Null Values Percentage</th>\n",
       "    </tr>\n",
       "  </thead>\n",
       "  <tbody>\n",
       "    <tr>\n",
       "      <th>6</th>\n",
       "      <td>AMT_DOWN_PAYMENT</td>\n",
       "      <td>53.636480</td>\n",
       "    </tr>\n",
       "    <tr>\n",
       "      <th>12</th>\n",
       "      <td>RATE_DOWN_PAYMENT</td>\n",
       "      <td>53.636480</td>\n",
       "    </tr>\n",
       "    <tr>\n",
       "      <th>13</th>\n",
       "      <td>RATE_INTEREST_PRIMARY</td>\n",
       "      <td>99.643698</td>\n",
       "    </tr>\n",
       "    <tr>\n",
       "      <th>14</th>\n",
       "      <td>RATE_INTEREST_PRIVILEGED</td>\n",
       "      <td>99.643698</td>\n",
       "    </tr>\n",
       "    <tr>\n",
       "      <th>20</th>\n",
       "      <td>NAME_TYPE_SUITE</td>\n",
       "      <td>49.119754</td>\n",
       "    </tr>\n",
       "    <tr>\n",
       "      <th>31</th>\n",
       "      <td>DAYS_FIRST_DRAWING</td>\n",
       "      <td>40.298129</td>\n",
       "    </tr>\n",
       "    <tr>\n",
       "      <th>32</th>\n",
       "      <td>DAYS_FIRST_DUE</td>\n",
       "      <td>40.298129</td>\n",
       "    </tr>\n",
       "    <tr>\n",
       "      <th>33</th>\n",
       "      <td>DAYS_LAST_DUE_1ST_VERSION</td>\n",
       "      <td>40.298129</td>\n",
       "    </tr>\n",
       "    <tr>\n",
       "      <th>34</th>\n",
       "      <td>DAYS_LAST_DUE</td>\n",
       "      <td>40.298129</td>\n",
       "    </tr>\n",
       "    <tr>\n",
       "      <th>35</th>\n",
       "      <td>DAYS_TERMINATION</td>\n",
       "      <td>40.298129</td>\n",
       "    </tr>\n",
       "    <tr>\n",
       "      <th>36</th>\n",
       "      <td>NFLAG_INSURED_ON_APPROVAL</td>\n",
       "      <td>40.298129</td>\n",
       "    </tr>\n",
       "  </tbody>\n",
       "</table>\n",
       "</div>"
      ],
      "text/plain": [
       "                  Column Name  Null Values Percentage\n",
       "6            AMT_DOWN_PAYMENT               53.636480\n",
       "12          RATE_DOWN_PAYMENT               53.636480\n",
       "13      RATE_INTEREST_PRIMARY               99.643698\n",
       "14   RATE_INTEREST_PRIVILEGED               99.643698\n",
       "20            NAME_TYPE_SUITE               49.119754\n",
       "31         DAYS_FIRST_DRAWING               40.298129\n",
       "32             DAYS_FIRST_DUE               40.298129\n",
       "33  DAYS_LAST_DUE_1ST_VERSION               40.298129\n",
       "34              DAYS_LAST_DUE               40.298129\n",
       "35           DAYS_TERMINATION               40.298129\n",
       "36  NFLAG_INSURED_ON_APPROVAL               40.298129"
      ]
     },
     "execution_count": 16,
     "metadata": {},
     "output_type": "execute_result"
    }
   ],
   "source": [
    "# more than or equal to 40% empty rows columns\n",
    "nullcol_40_previous = null_previousDF[null_previousDF[\"Null Values Percentage\"]>=40]\n",
    "nullcol_40_previous"
   ]
  },
  {
   "cell_type": "code",
   "execution_count": 30,
   "metadata": {},
   "outputs": [
    {
     "data": {
      "text/plain": [
       "11"
      ]
     },
     "execution_count": 30,
     "metadata": {},
     "output_type": "execute_result"
    }
   ],
   "source": [
    "# How many columns have more than or euqal to 40% null values ?\n",
    "len(nullcol_40_previous)"
   ]
  },
  {
   "cell_type": "markdown",
   "metadata": {},
   "source": [
    "<p>\n",
    "    <font color = blue>\n",
    "        <em>\n",
    "There are 49 columns in applicationDF and 11 columns in previousDF which have null values 40% or more. These columns can be deleted from the analysis.\n",
    "Before dropping these columns, we want to investigate if there are more columns that can be dropped from the two dataframes.        </em>\n",
    "    </font>\n",
    "</p>    "
   ]
  },
  {
   "cell_type": "markdown",
   "metadata": {},
   "source": [
    "### 3.3 Analyze & Delete Unnecessary Columns"
   ]
  },
  {
   "cell_type": "markdown",
   "metadata": {},
   "source": [
    "#### 3.3.1 Analyze if there are other unwanted columns in applicationDF"
   ]
  },
  {
   "cell_type": "markdown",
   "metadata": {},
   "source": [
    "Due to [an issue in matplotlib version 3.1.1](https://gitter.im/matplotlib/matplotlib?at=5d239514f5dd1457424d7b09), [sns.heatmap top and bottom boxes are cut off](https://github.com/mwaskom/seaborn/issues/1773), we have used set_ylim(bottom + 0.5, top - 0.5) as a [workaround](https://github.com/matplotlib/matplotlib/issues/14751) to display the heatmap properly. If the heatmap is not seen properly at the TA's side, please comment the line out.\n",
    "\n",
    "#### Investigating if there is any correlation between EXT_SOURCE_X columns and loan repayment status"
   ]
  },
  {
   "cell_type": "code",
   "execution_count": 17,
   "metadata": {
    "scrolled": true
   },
   "outputs": [
    {
     "data": {
      "image/png": "[encoded data removed]",
      "text/plain": [
       "<Figure size 432x288 with 2 Axes>"
      ]
     },
     "metadata": {
      "needs_background": "light"
     },
     "output_type": "display_data"
    }
   ],
   "source": [
    "# Checking correlation of EXT_SOURCE_X columns vs TARGET column\n",
    "Source = applicationDF[[\"EXT_SOURCE_1\",\"EXT_SOURCE_2\",\"EXT_SOURCE_3\",\"TARGET\"]]\n",
    "source_corr = Source.corr()\n",
    "ax = sns.heatmap(source_corr,\n",
    "            xticklabels=source_corr.columns,\n",
    "            yticklabels=source_corr.columns,\n",
    "            annot = True,\n",
    "            cmap =\"RdYlGn\")\n",
    "bottom, top = ax.get_ylim()\n",
    "ax.set_ylim(bottom + 0.5, top - 0.5); "
   ]
  },
  {
   "cell_type": "markdown",
   "metadata": {},
   "source": [
    "<p>\n",
    "    <font color = blue>\n",
    "        <em>\n",
    "As there is no correlation among EXT_SOURCE_X columns and targets, we can drop these columns\n",
    "        </em>\n",
    "    </font>\n",
    "</p>  "
   ]
  },
  {
   "cell_type": "code",
   "execution_count": 18,
   "metadata": {},
   "outputs": [
    {
     "data": {
      "text/plain": [
       "51"
      ]
     },
     "execution_count": 18,
     "metadata": {},
     "output_type": "execute_result"
    }
   ],
   "source": [
    "# create a list of columns that needs to be dropped including the columns with >40% null values\n",
    "Unwanted_application = nullcol_40_application[\"Column Name\"].tolist()+ ['EXT_SOURCE_2','EXT_SOURCE_3'] \n",
    "# as EXT_SOURCE_1 column is already included in nullcol_40_application \n",
    "len(Unwanted_application)"
   ]
  },
  {
   "cell_type": "code",
   "execution_count": 19,
   "metadata": {},
   "outputs": [
    {
     "data": {
      "image/png": "[encoded data removed]",
      "text/plain": [
       "<Figure size 1296x1728 with 20 Axes>"
      ]
     },
     "metadata": {
      "needs_background": "light"
     },
     "output_type": "display_data"
    }
   ],
   "source": [
    "# Checking the relevance of Flag_Document and whether it has any relation with loan repayment status\n",
    "col_Doc = [ 'FLAG_DOCUMENT_2', 'FLAG_DOCUMENT_3','FLAG_DOCUMENT_4', 'FLAG_DOCUMENT_5', 'FLAG_DOCUMENT_6','FLAG_DOCUMENT_7', \n",
    "           'FLAG_DOCUMENT_8', 'FLAG_DOCUMENT_9','FLAG_DOCUMENT_10', 'FLAG_DOCUMENT_11', 'FLAG_DOCUMENT_12','FLAG_DOCUMENT_13',\n",
    "           'FLAG_DOCUMENT_14', 'FLAG_DOCUMENT_15','FLAG_DOCUMENT_16', 'FLAG_DOCUMENT_17', 'FLAG_DOCUMENT_18',\n",
    "           'FLAG_DOCUMENT_19', 'FLAG_DOCUMENT_20', 'FLAG_DOCUMENT_21']\n",
    "df_flag = applicationDF[col_Doc+[\"TARGET\"]]\n",
    "\n",
    "length = len(col_Doc)\n",
    "\n",
    "df_flag[\"TARGET\"] = df_flag[\"TARGET\"].replace({1:\"Defaulter\",0:\"Repayer\"})\n",
    "\n",
    "fig = plt.figure(figsize=(18,24))\n",
    "\n",
    "for i,j in itertools.zip_longest(col_Doc,range(length)):\n",
    "    plt.subplot(5,4,j+1)\n",
    "    ax = sns.countplot(df_flag[i],hue=df_flag[\"TARGET\"],palette=[\"r\",\"g\"])\n",
    "    plt.yticks(fontsize=8)\n",
    "    plt.xlabel(\"\")\n",
    "    plt.ylabel(\"\")\n",
    "    plt.title(i)"
   ]
  },
  {
   "cell_type": "markdown",
   "metadata": {},
   "source": [
    "<p>\n",
    "    <font color = blue>\n",
    "        <em>\n",
    "The above graph shows that in most of the loan application cases, clients who applied for loans has not submitted FLAG_DOCUMENT_X except FLAG_DOCUMENT_3. Thus, Except for FLAG_DOCUMENT_3, we can delete rest of the columns. Data shows if borrower has submitted FLAG_DOCUMENT_3 then there is a less chance of defaulting the loan\n",
    "        </em>\n",
    "    </font>\n",
    "</p> "
   ]
  },
  {
   "cell_type": "code",
   "execution_count": 20,
   "metadata": {
    "scrolled": true
   },
   "outputs": [
    {
     "data": {
      "text/plain": [
       "70"
      ]
     },
     "execution_count": 20,
     "metadata": {},
     "output_type": "execute_result"
    }
   ],
   "source": [
    "# Including the flag documents for dropping the Document columns\n",
    "col_Doc.remove('FLAG_DOCUMENT_3') \n",
    "Unwanted_application = Unwanted_application + col_Doc\n",
    "len(Unwanted_application)"
   ]
  },
  {
   "cell_type": "code",
   "execution_count": 21,
   "metadata": {},
   "outputs": [
    {
     "data": {
      "image/png": "[encoded data removed]",
      "text/plain": [
       "<Figure size 576x576 with 2 Axes>"
      ]
     },
     "metadata": {
      "needs_background": "light"
     },
     "output_type": "display_data"
    }
   ],
   "source": [
    "# checking is there is any correlation between mobile phone, work phone etc, email, Family members and Region rating\n",
    "contact_col = ['FLAG_MOBIL', 'FLAG_EMP_PHONE', 'FLAG_WORK_PHONE', 'FLAG_CONT_MOBILE',\n",
    "       'FLAG_PHONE', 'FLAG_EMAIL','TARGET']\n",
    "Contact_corr = applicationDF[contact_col].corr()\n",
    "fig = plt.figure(figsize=(8,8))\n",
    "ax = sns.heatmap(Contact_corr,\n",
    "            xticklabels=Contact_corr.columns,\n",
    "            yticklabels=Contact_corr.columns,\n",
    "            annot = True,\n",
    "            cmap =\"RdYlGn\",\n",
    "            linewidth=1)\n",
    "bottom, top = ax.get_ylim()\n",
    "ax.set_ylim(bottom + 0.5, top - 0.5);"
   ]
  },
  {
   "cell_type": "markdown",
   "metadata": {},
   "source": [
    "<p>\n",
    "    <font color = blue>\n",
    "        <em>\n",
    "There is no correlation with flags of mobile phone, email etc with loan repayment; thus these columns can be deleted\n",
    "        </em>\n",
    "    </font>\n",
    "</p> "
   ]
  },
  {
   "cell_type": "code",
   "execution_count": 22,
   "metadata": {
    "scrolled": true
   },
   "outputs": [
    {
     "data": {
      "text/plain": [
       "76"
      ]
     },
     "execution_count": 22,
     "metadata": {},
     "output_type": "execute_result"
    }
   ],
   "source": [
    "# including the 6 FLAG columns to be deleted\n",
    "contact_col.remove('TARGET') \n",
    "Unwanted_application = Unwanted_application + contact_col\n",
    "len(Unwanted_application)"
   ]
  },
  {
   "cell_type": "markdown",
   "metadata": {},
   "source": [
    "<p>\n",
    "    <font color = blue>\n",
    "        <em><b>\n",
    "Total 76 columns can be deleted from applicationDF\n",
    "            </b>\n",
    "        </em>\n",
    "    </font>\n",
    "</p>"
   ]
  },
  {
   "cell_type": "code",
   "execution_count": 23,
   "metadata": {},
   "outputs": [],
   "source": [
    "# Dropping the unnecessary columns from applicationDF\n",
    "applicationDF.drop(labels=Unwanted_application,axis=1,inplace=True)\n"
   ]
  },
  {
   "cell_type": "code",
   "execution_count": 24,
   "metadata": {},
   "outputs": [
    {
     "data": {
      "text/plain": [
       "(307511, 46)"
      ]
     },
     "execution_count": 24,
     "metadata": {},
     "output_type": "execute_result"
    }
   ],
   "source": [
    "# Inspecting the dataframe after removal of unnecessary columns\n",
    "applicationDF.shape"
   ]
  },
  {
   "cell_type": "code",
   "execution_count": 39,
   "metadata": {},
   "outputs": [
    {
     "name": "stdout",
     "output_type": "stream",
     "text": [
      "<class 'pandas.core.frame.DataFrame'>\n",
      "RangeIndex: 307511 entries, 0 to 307510\n",
      "Data columns (total 46 columns):\n",
      " #   Column                       Non-Null Count   Dtype   \n",
      "---  ------                       --------------   -----   \n",
      " 0   SK_ID_CURR                   307511 non-null  int64   \n",
      " 1   TARGET                       307511 non-null  int64   \n",
      " 2   NAME_CONTRACT_TYPE           307511 non-null  category\n",
      " 3   CODE_GENDER                  307511 non-null  category\n",
      " 4   FLAG_OWN_CAR                 307511 non-null  int64   \n",
      " 5   FLAG_OWN_REALTY              307511 non-null  int64   \n",
      " 6   CNT_CHILDREN                 307511 non-null  int64   \n",
      " 7   AMT_INCOME_TOTAL             307511 non-null  float64 \n",
      " 8   AMT_CREDIT                   307511 non-null  float64 \n",
      " 9   AMT_ANNUITY                  307499 non-null  float64 \n",
      " 10  AMT_GOODS_PRICE              307233 non-null  float64 \n",
      " 11  NAME_TYPE_SUITE              306219 non-null  category\n",
      " 12  NAME_INCOME_TYPE             307511 non-null  category\n",
      " 13  NAME_EDUCATION_TYPE          307511 non-null  category\n",
      " 14  NAME_FAMILY_STATUS           307511 non-null  category\n",
      " 15  NAME_HOUSING_TYPE            307511 non-null  category\n",
      " 16  REGION_POPULATION_RELATIVE   307511 non-null  float64 \n",
      " 17  DAYS_BIRTH                   307511 non-null  int64   \n",
      " 18  DAYS_EMPLOYED                307511 non-null  int64   \n",
      " 19  DAYS_REGISTRATION            307511 non-null  float64 \n",
      " 20  DAYS_ID_PUBLISH              307511 non-null  int64   \n",
      " 21  OCCUPATION_TYPE              211120 non-null  category\n",
      " 22  CNT_FAM_MEMBERS              307509 non-null  float64 \n",
      " 23  REGION_RATING_CLIENT         307511 non-null  int64   \n",
      " 24  REGION_RATING_CLIENT_W_CITY  307511 non-null  int64   \n",
      " 25  WEEKDAY_APPR_PROCESS_START   307511 non-null  category\n",
      " 26  HOUR_APPR_PROCESS_START      307511 non-null  int64   \n",
      " 27  REG_REGION_NOT_LIVE_REGION   307511 non-null  int64   \n",
      " 28  REG_REGION_NOT_WORK_REGION   307511 non-null  int64   \n",
      " 29  LIVE_REGION_NOT_WORK_REGION  307511 non-null  int64   \n",
      " 30  REG_CITY_NOT_LIVE_CITY       307511 non-null  int64   \n",
      " 31  REG_CITY_NOT_WORK_CITY       307511 non-null  int64   \n",
      " 32  LIVE_CITY_NOT_WORK_CITY      307511 non-null  int64   \n",
      " 33  ORGANIZATION_TYPE            307511 non-null  category\n",
      " 34  OBS_30_CNT_SOCIAL_CIRCLE     306490 non-null  float64 \n",
      " 35  DEF_30_CNT_SOCIAL_CIRCLE     306490 non-null  float64 \n",
      " 36  OBS_60_CNT_SOCIAL_CIRCLE     306490 non-null  float64 \n",
      " 37  DEF_60_CNT_SOCIAL_CIRCLE     306490 non-null  float64 \n",
      " 38  DAYS_LAST_PHONE_CHANGE       307510 non-null  float64 \n",
      " 39  FLAG_DOCUMENT_3              307511 non-null  int64   \n",
      " 40  AMT_REQ_CREDIT_BUREAU_HOUR   265992 non-null  float64 \n",
      " 41  AMT_REQ_CREDIT_BUREAU_DAY    265992 non-null  float64 \n",
      " 42  AMT_REQ_CREDIT_BUREAU_WEEK   265992 non-null  float64 \n",
      " 43  AMT_REQ_CREDIT_BUREAU_MON    265992 non-null  float64 \n",
      " 44  AMT_REQ_CREDIT_BUREAU_QRT    265992 non-null  float64 \n",
      " 45  AMT_REQ_CREDIT_BUREAU_YEAR   265992 non-null  float64 \n",
      "dtypes: category(10), float64(18), int64(18)\n",
      "memory usage: 87.4 MB\n"
     ]
    }
   ],
   "source": [
    "# inspecting the column types after removal of unnecessary columns\n",
    "applicationDF.info()"
   ]
  },
  {
   "cell_type": "markdown",
   "metadata": {},
   "source": [
    "<p>\n",
    "    <font color = blue>\n",
    "        <em><b>\n",
    "After deleting unnecessary columns, there are 46 columns remaining in applicationDF\n",
    "            </em></b>\n",
    "    </font>\n",
    "</p> "
   ]
  },
  {
   "cell_type": "markdown",
   "metadata": {},
   "source": [
    "#### 3.3.1 Analyze if there are other unwanted columns in previousDF"
   ]
  },
  {
   "cell_type": "code",
   "execution_count": 25,
   "metadata": {},
   "outputs": [
    {
     "data": {
      "text/plain": [
       "['AMT_DOWN_PAYMENT',\n",
       " 'RATE_DOWN_PAYMENT',\n",
       " 'RATE_INTEREST_PRIMARY',\n",
       " 'RATE_INTEREST_PRIVILEGED',\n",
       " 'NAME_TYPE_SUITE',\n",
       " 'DAYS_FIRST_DRAWING',\n",
       " 'DAYS_FIRST_DUE',\n",
       " 'DAYS_LAST_DUE_1ST_VERSION',\n",
       " 'DAYS_LAST_DUE',\n",
       " 'DAYS_TERMINATION',\n",
       " 'NFLAG_INSURED_ON_APPROVAL']"
      ]
     },
     "execution_count": 25,
     "metadata": {},
     "output_type": "execute_result"
    }
   ],
   "source": [
    "# Getting the 11 columns which has more than 40% unknown\n",
    "Unwanted_previous = nullcol_40_previous[\"Column Name\"].tolist()\n",
    "Unwanted_previous"
   ]
  },
  {
   "cell_type": "code",
   "execution_count": 26,
   "metadata": {},
   "outputs": [],
   "source": [
    "# Listing down columns which are not needed\n",
    "Unnecessary_previous = ['WEEKDAY_APPR_PROCESS_START','HOUR_APPR_PROCESS_START',\n",
    "                        'FLAG_LAST_APPL_PER_CONTRACT','NFLAG_LAST_APPL_IN_DAY']"
   ]
  },
  {
   "cell_type": "code",
   "execution_count": 27,
   "metadata": {},
   "outputs": [
    {
     "data": {
      "text/plain": [
       "15"
      ]
     },
     "execution_count": 27,
     "metadata": {},
     "output_type": "execute_result"
    }
   ],
   "source": [
    "Unwanted_previous = Unwanted_previous + Unnecessary_previous\n",
    "len(Unwanted_previous)"
   ]
  },
  {
   "cell_type": "markdown",
   "metadata": {},
   "source": [
    "<p>\n",
    "    <font color = blue>\n",
    "        <em><b>\n",
    "Total 15 columns can be deleted from previousDF\n",
    "            </em></b>\n",
    "    </font>\n",
    "</p>"
   ]
  },
  {
   "cell_type": "code",
   "execution_count": 28,
   "metadata": {},
   "outputs": [],
   "source": [
    "# Dropping the unnecessary columns from previous\n",
    "previousDF.drop(labels=Unwanted_previous,axis=1,inplace=True)"
   ]
  },
  {
   "cell_type": "code",
   "execution_count": 29,
   "metadata": {},
   "outputs": [
    {
     "data": {
      "text/plain": [
       "(1670214, 22)"
      ]
     },
     "execution_count": 29,
     "metadata": {},
     "output_type": "execute_result"
    }
   ],
   "source": [
    "# Inspecting the dataframe after removal of unnecessary columns\n",
    "previousDF.shape"
   ]
  },
  {
   "cell_type": "code",
   "execution_count": 45,
   "metadata": {},
   "outputs": [
    {
     "name": "stdout",
     "output_type": "stream",
     "text": [
      "<class 'pandas.core.frame.DataFrame'>\n",
      "RangeIndex: 1670214 entries, 0 to 1670213\n",
      "Data columns (total 22 columns):\n",
      " #   Column                  Non-Null Count    Dtype   \n",
      "---  ------                  --------------    -----   \n",
      " 0   SK_ID_PREV              1670214 non-null  int64   \n",
      " 1   SK_ID_CURR              1670214 non-null  int64   \n",
      " 2   NAME_CONTRACT_TYPE      1670214 non-null  object  \n",
      " 3   AMT_ANNUITY             1297979 non-null  float64 \n",
      " 4   AMT_APPLICATION         1670214 non-null  float64 \n",
      " 5   AMT_CREDIT              1670213 non-null  float64 \n",
      " 6   AMT_GOODS_PRICE         1284699 non-null  float64 \n",
      " 7   NAME_CASH_LOAN_PURPOSE  1670214 non-null  category\n",
      " 8   NAME_CONTRACT_STATUS    1670214 non-null  category\n",
      " 9   DAYS_DECISION           1670214 non-null  int64   \n",
      " 10  NAME_PAYMENT_TYPE       1670214 non-null  category\n",
      " 11  CODE_REJECT_REASON      1670214 non-null  category\n",
      " 12  NAME_CLIENT_TYPE        1670214 non-null  category\n",
      " 13  NAME_GOODS_CATEGORY     1670214 non-null  category\n",
      " 14  NAME_PORTFOLIO          1670214 non-null  category\n",
      " 15  NAME_PRODUCT_TYPE       1670214 non-null  category\n",
      " 16  CHANNEL_TYPE            1670214 non-null  category\n",
      " 17  SELLERPLACE_AREA        1670214 non-null  int64   \n",
      " 18  NAME_SELLER_INDUSTRY    1670214 non-null  category\n",
      " 19  CNT_PAYMENT             1297984 non-null  float64 \n",
      " 20  NAME_YIELD_GROUP        1670214 non-null  category\n",
      " 21  PRODUCT_COMBINATION     1669868 non-null  category\n",
      "dtypes: category(12), float64(5), int64(4), object(1)\n",
      "memory usage: 146.5+ MB\n"
     ]
    }
   ],
   "source": [
    "# inspecting the column types after after removal of unnecessary columns\n",
    "previousDF.info()"
   ]
  },
  {
   "cell_type": "markdown",
   "metadata": {},
   "source": [
    "<p>\n",
    "    <font color = blue>\n",
    "        <em><b>\n",
    "After deleting unnecessary columns, there are 22 columns remaining in applicationDF\n",
    "            </em></b>\n",
    "    </font>\n",
    "</p> "
   ]
  },
  {
   "cell_type": "markdown",
   "metadata": {},
   "source": [
    "### 3.4 Null value data imputation\n",
    "\n",
    "#### 3.4.1 Impute null Values in applicationDF:\n",
    "\n",
    "\n",
    "#### Strategies used:\n",
    "\n",
    "- To impute null values in __categorical variables__ which has __lower null percentage__, mode() is used to impute the most frequent items.\n",
    "- To impute null values in __categorical variables__ which has __higher null percentage__, a new category is created.\n",
    "- To impute null values in __numerical variables__ which has __lower null percentage__, median() is used as \n",
    "  - There are no outliers in the columns.\n",
    "  - mean returned decimal values and median returned whole numbers and the columns were number of requests."
   ]
  },
  {
   "cell_type": "code",
   "execution_count": 46,
   "metadata": {},
   "outputs": [
    {
     "data": {
      "text/plain": [
       "SK_ID_CURR                      0.00\n",
       "TARGET                          0.00\n",
       "NAME_CONTRACT_TYPE              0.00\n",
       "CODE_GENDER                     0.00\n",
       "FLAG_OWN_CAR                    0.00\n",
       "FLAG_OWN_REALTY                 0.00\n",
       "CNT_CHILDREN                    0.00\n",
       "AMT_INCOME_TOTAL                0.00\n",
       "AMT_CREDIT                      0.00\n",
       "AMT_ANNUITY                     0.00\n",
       "AMT_GOODS_PRICE                 0.09\n",
       "NAME_TYPE_SUITE                 0.42\n",
       "NAME_INCOME_TYPE                0.00\n",
       "NAME_EDUCATION_TYPE             0.00\n",
       "NAME_FAMILY_STATUS              0.00\n",
       "NAME_HOUSING_TYPE               0.00\n",
       "REGION_POPULATION_RELATIVE      0.00\n",
       "DAYS_BIRTH                      0.00\n",
       "DAYS_EMPLOYED                   0.00\n",
       "DAYS_REGISTRATION               0.00\n",
       "DAYS_ID_PUBLISH                 0.00\n",
       "OCCUPATION_TYPE                31.35\n",
       "CNT_FAM_MEMBERS                 0.00\n",
       "REGION_RATING_CLIENT            0.00\n",
       "REGION_RATING_CLIENT_W_CITY     0.00\n",
       "WEEKDAY_APPR_PROCESS_START      0.00\n",
       "HOUR_APPR_PROCESS_START         0.00\n",
       "REG_REGION_NOT_LIVE_REGION      0.00\n",
       "REG_REGION_NOT_WORK_REGION      0.00\n",
       "LIVE_REGION_NOT_WORK_REGION     0.00\n",
       "REG_CITY_NOT_LIVE_CITY          0.00\n",
       "REG_CITY_NOT_WORK_CITY          0.00\n",
       "LIVE_CITY_NOT_WORK_CITY         0.00\n",
       "ORGANIZATION_TYPE               0.00\n",
       "OBS_30_CNT_SOCIAL_CIRCLE        0.33\n",
       "DEF_30_CNT_SOCIAL_CIRCLE        0.33\n",
       "OBS_60_CNT_SOCIAL_CIRCLE        0.33\n",
       "DEF_60_CNT_SOCIAL_CIRCLE        0.33\n",
       "DAYS_LAST_PHONE_CHANGE          0.00\n",
       "FLAG_DOCUMENT_3                 0.00\n",
       "AMT_REQ_CREDIT_BUREAU_HOUR     13.50\n",
       "AMT_REQ_CREDIT_BUREAU_DAY      13.50\n",
       "AMT_REQ_CREDIT_BUREAU_WEEK     13.50\n",
       "AMT_REQ_CREDIT_BUREAU_MON      13.50\n",
       "AMT_REQ_CREDIT_BUREAU_QRT      13.50\n",
       "AMT_REQ_CREDIT_BUREAU_YEAR     13.50\n",
       "dtype: float64"
      ]
     },
     "execution_count": 46,
     "metadata": {},
     "output_type": "execute_result"
    }
   ],
   "source": [
    "# checking the null value % of each column in applicationDF dataframe\n",
    "round(applicationDF.isnull().sum() / applicationDF.shape[0] * 100.00,2)"
   ]
  },
  {
   "cell_type": "markdown",
   "metadata": {},
   "source": [
    "#### Impute categorical variable 'NAME_TYPE_SUITE' which has lower null percentage(0.42%) with the most frequent category using mode()[0]:"
   ]
  },
  {
   "cell_type": "code",
   "execution_count": 55,
   "metadata": {},
   "outputs": [
    {
     "data": {
      "text/plain": [
       "count            306219\n",
       "unique                7\n",
       "top       Unaccompanied\n",
       "freq             248526\n",
       "Name: NAME_TYPE_SUITE, dtype: object"
      ]
     },
     "execution_count": 55,
     "metadata": {},
     "output_type": "execute_result"
    }
   ],
   "source": [
    "applicationDF['NAME_TYPE_SUITE'].describe()"
   ]
  },
  {
   "cell_type": "code",
   "execution_count": 30,
   "metadata": {},
   "outputs": [],
   "source": [
    "applicationDF['NAME_TYPE_SUITE'].fillna((applicationDF['NAME_TYPE_SUITE'].mode()[0]),inplace = True)"
   ]
  },
  {
   "cell_type": "markdown",
   "metadata": {},
   "source": [
    "#### Impute categorical variable 'OCCUPATION_TYPE' which has higher null percentage(31.35%) with a new category as assigning to any existing category might influence the analysis:"
   ]
  },
  {
   "cell_type": "code",
   "execution_count": 31,
   "metadata": {},
   "outputs": [],
   "source": [
    "applicationDF['OCCUPATION_TYPE'] = applicationDF['OCCUPATION_TYPE'].cat.add_categories('Unknown')\n",
    "applicationDF['OCCUPATION_TYPE'].fillna('Unknown', inplace =True) "
   ]
  },
  {
   "cell_type": "markdown",
   "metadata": {},
   "source": [
    "#### Impute numerical variables with the median as there are no outliers that can be seen from results of describe() and mean() returns decimal values and these columns represent number of enquiries made which cannot be decimal:"
   ]
  },
  {
   "cell_type": "code",
   "execution_count": 61,
   "metadata": {},
   "outputs": [
    {
     "data": {
      "text/html": [
       "<div>\n",
       "<style scoped>\n",
       "    .dataframe tbody tr th:only-of-type {\n",
       "        vertical-align: middle;\n",
       "    }\n",
       "\n",
       "    .dataframe tbody tr th {\n",
       "        vertical-align: top;\n",
       "    }\n",
       "\n",
       "    .dataframe thead th {\n",
       "        text-align: right;\n",
       "    }\n",
       "</style>\n",
       "<table border=\"1\" class=\"dataframe\">\n",
       "  <thead>\n",
       "    <tr style=\"text-align: right;\">\n",
       "      <th></th>\n",
       "      <th>AMT_REQ_CREDIT_BUREAU_HOUR</th>\n",
       "      <th>AMT_REQ_CREDIT_BUREAU_DAY</th>\n",
       "      <th>AMT_REQ_CREDIT_BUREAU_WEEK</th>\n",
       "      <th>AMT_REQ_CREDIT_BUREAU_MON</th>\n",
       "      <th>AMT_REQ_CREDIT_BUREAU_QRT</th>\n",
       "      <th>AMT_REQ_CREDIT_BUREAU_YEAR</th>\n",
       "    </tr>\n",
       "  </thead>\n",
       "  <tbody>\n",
       "    <tr>\n",
       "      <th>count</th>\n",
       "      <td>265992.000000</td>\n",
       "      <td>265992.000000</td>\n",
       "      <td>265992.000000</td>\n",
       "      <td>265992.000000</td>\n",
       "      <td>265992.000000</td>\n",
       "      <td>265992.000000</td>\n",
       "    </tr>\n",
       "    <tr>\n",
       "      <th>mean</th>\n",
       "      <td>0.006402</td>\n",
       "      <td>0.007000</td>\n",
       "      <td>0.034362</td>\n",
       "      <td>0.267395</td>\n",
       "      <td>0.265474</td>\n",
       "      <td>1.899974</td>\n",
       "    </tr>\n",
       "    <tr>\n",
       "      <th>std</th>\n",
       "      <td>0.083849</td>\n",
       "      <td>0.110757</td>\n",
       "      <td>0.204685</td>\n",
       "      <td>0.916002</td>\n",
       "      <td>0.794056</td>\n",
       "      <td>1.869295</td>\n",
       "    </tr>\n",
       "    <tr>\n",
       "      <th>min</th>\n",
       "      <td>0.000000</td>\n",
       "      <td>0.000000</td>\n",
       "      <td>0.000000</td>\n",
       "      <td>0.000000</td>\n",
       "      <td>0.000000</td>\n",
       "      <td>0.000000</td>\n",
       "    </tr>\n",
       "    <tr>\n",
       "      <th>25%</th>\n",
       "      <td>0.000000</td>\n",
       "      <td>0.000000</td>\n",
       "      <td>0.000000</td>\n",
       "      <td>0.000000</td>\n",
       "      <td>0.000000</td>\n",
       "      <td>0.000000</td>\n",
       "    </tr>\n",
       "    <tr>\n",
       "      <th>50%</th>\n",
       "      <td>0.000000</td>\n",
       "      <td>0.000000</td>\n",
       "      <td>0.000000</td>\n",
       "      <td>0.000000</td>\n",
       "      <td>0.000000</td>\n",
       "      <td>1.000000</td>\n",
       "    </tr>\n",
       "    <tr>\n",
       "      <th>75%</th>\n",
       "      <td>0.000000</td>\n",
       "      <td>0.000000</td>\n",
       "      <td>0.000000</td>\n",
       "      <td>0.000000</td>\n",
       "      <td>0.000000</td>\n",
       "      <td>3.000000</td>\n",
       "    </tr>\n",
       "    <tr>\n",
       "      <th>max</th>\n",
       "      <td>4.000000</td>\n",
       "      <td>9.000000</td>\n",
       "      <td>8.000000</td>\n",
       "      <td>27.000000</td>\n",
       "      <td>261.000000</td>\n",
       "      <td>25.000000</td>\n",
       "    </tr>\n",
       "  </tbody>\n",
       "</table>\n",
       "</div>"
      ],
      "text/plain": [
       "       AMT_REQ_CREDIT_BUREAU_HOUR  AMT_REQ_CREDIT_BUREAU_DAY  AMT_REQ_CREDIT_BUREAU_WEEK  AMT_REQ_CREDIT_BUREAU_MON  AMT_REQ_CREDIT_BUREAU_QRT  AMT_REQ_CREDIT_BUREAU_YEAR\n",
       "count               265992.000000              265992.000000               265992.000000              265992.000000              265992.000000               265992.000000\n",
       "mean                     0.006402                   0.007000                    0.034362                   0.267395                   0.265474                    1.899974\n",
       "std                      0.083849                   0.110757                    0.204685                   0.916002                   0.794056                    1.869295\n",
       "min                      0.000000                   0.000000                    0.000000                   0.000000                   0.000000                    0.000000\n",
       "25%                      0.000000                   0.000000                    0.000000                   0.000000                   0.000000                    0.000000\n",
       "50%                      0.000000                   0.000000                    0.000000                   0.000000                   0.000000                    1.000000\n",
       "75%                      0.000000                   0.000000                    0.000000                   0.000000                   0.000000                    3.000000\n",
       "max                      4.000000                   9.000000                    8.000000                  27.000000                 261.000000                   25.000000"
      ]
     },
     "execution_count": 61,
     "metadata": {},
     "output_type": "execute_result"
    }
   ],
   "source": [
    "applicationDF[['AMT_REQ_CREDIT_BUREAU_HOUR','AMT_REQ_CREDIT_BUREAU_DAY','AMT_REQ_CREDIT_BUREAU_WEEK','AMT_REQ_CREDIT_BUREAU_MON','AMT_REQ_CREDIT_BUREAU_QRT','AMT_REQ_CREDIT_BUREAU_YEAR']].describe()"
   ]
  },
  {
   "cell_type": "code",
   "execution_count": 32,
   "metadata": {},
   "outputs": [],
   "source": [
    "# Impute with median as mean has decimals and this is number of people.\n",
    "applicationDF['AMT_REQ_CREDIT_BUREAU_HOUR'].fillna(applicationDF['AMT_REQ_CREDIT_BUREAU_HOUR'].median(),inplace = True)\n",
    "applicationDF['AMT_REQ_CREDIT_BUREAU_DAY'].fillna(applicationDF['AMT_REQ_CREDIT_BUREAU_DAY'].median(),inplace = True)\n",
    "applicationDF['AMT_REQ_CREDIT_BUREAU_WEEK'].fillna(applicationDF['AMT_REQ_CREDIT_BUREAU_WEEK'].median(),inplace = True)\n",
    "applicationDF['AMT_REQ_CREDIT_BUREAU_MON'].fillna(applicationDF['AMT_REQ_CREDIT_BUREAU_MON'].median(),inplace = True)\n",
    "applicationDF['AMT_REQ_CREDIT_BUREAU_QRT'].fillna(applicationDF['AMT_REQ_CREDIT_BUREAU_QRT'].median(),inplace = True)\n",
    "applicationDF['AMT_REQ_CREDIT_BUREAU_YEAR'].fillna(applicationDF['AMT_REQ_CREDIT_BUREAU_YEAR'].median(),inplace = True)"
   ]
  },
  {
   "cell_type": "code",
   "execution_count": 33,
   "metadata": {},
   "outputs": [
    {
     "data": {
      "text/plain": [
       "SK_ID_CURR                     0.00\n",
       "TARGET                         0.00\n",
       "NAME_CONTRACT_TYPE             0.00\n",
       "CODE_GENDER                    0.00\n",
       "FLAG_OWN_CAR                   0.00\n",
       "FLAG_OWN_REALTY                0.00\n",
       "CNT_CHILDREN                   0.00\n",
       "AMT_INCOME_TOTAL               0.00\n",
       "AMT_CREDIT                     0.00\n",
       "AMT_ANNUITY                    0.00\n",
       "AMT_GOODS_PRICE                0.02\n",
       "NAME_TYPE_SUITE                0.00\n",
       "NAME_INCOME_TYPE               0.00\n",
       "NAME_EDUCATION_TYPE            0.00\n",
       "NAME_FAMILY_STATUS             0.00\n",
       "NAME_HOUSING_TYPE              0.00\n",
       "REGION_POPULATION_RELATIVE     0.00\n",
       "DAYS_BIRTH                     0.00\n",
       "DAYS_EMPLOYED                  0.00\n",
       "DAYS_REGISTRATION              0.00\n",
       "DAYS_ID_PUBLISH                0.00\n",
       "OCCUPATION_TYPE                0.00\n",
       "CNT_FAM_MEMBERS                0.00\n",
       "REGION_RATING_CLIENT           0.00\n",
       "REGION_RATING_CLIENT_W_CITY    0.00\n",
       "WEEKDAY_APPR_PROCESS_START     0.00\n",
       "HOUR_APPR_PROCESS_START        0.00\n",
       "REG_REGION_NOT_LIVE_REGION     0.00\n",
       "REG_REGION_NOT_WORK_REGION     0.00\n",
       "LIVE_REGION_NOT_WORK_REGION    0.00\n",
       "REG_CITY_NOT_LIVE_CITY         0.00\n",
       "REG_CITY_NOT_WORK_CITY         0.00\n",
       "LIVE_CITY_NOT_WORK_CITY        0.00\n",
       "ORGANIZATION_TYPE              0.00\n",
       "OBS_30_CNT_SOCIAL_CIRCLE       0.06\n",
       "DEF_30_CNT_SOCIAL_CIRCLE       0.06\n",
       "OBS_60_CNT_SOCIAL_CIRCLE       0.06\n",
       "DEF_60_CNT_SOCIAL_CIRCLE       0.06\n",
       "DAYS_LAST_PHONE_CHANGE         0.00\n",
       "FLAG_DOCUMENT_3                0.00\n",
       "AMT_REQ_CREDIT_BUREAU_HOUR     0.00\n",
       "AMT_REQ_CREDIT_BUREAU_DAY      0.00\n",
       "AMT_REQ_CREDIT_BUREAU_WEEK     0.00\n",
       "AMT_REQ_CREDIT_BUREAU_MON      0.00\n",
       "AMT_REQ_CREDIT_BUREAU_QRT      0.00\n",
       "AMT_REQ_CREDIT_BUREAU_YEAR     0.00\n",
       "dtype: float64"
      ]
     },
     "execution_count": 33,
     "metadata": {},
     "output_type": "execute_result"
    }
   ],
   "source": [
    "# checking the null value % of each column in previousDF dataframe\n",
    "round(applicationDF.isnull().sum() / previousDF.shape[0] * 100.00,2)"
   ]
  },
  {
   "cell_type": "markdown",
   "metadata": {},
   "source": [
    "<p>\n",
    "    <font color = blue>\n",
    "        <em><b>\n",
    "We still have few null values in the columns: AMT_GOODS_PRICE, OBS_30_CNT_SOCIAL_CIRCLE, DEF_30_CNT_SOCIAL_CIRCLE, OBS_60_CNT_SOCIAL_CIRCLE, DEF_60_CNT_SOCIAL_CIRCLE. We can ignore as this percentage is very less.            </em></b>\n",
    "    </font>\n",
    "</p> "
   ]
  },
  {
   "cell_type": "markdown",
   "metadata": {},
   "source": [
    "#### 3.4.2 Impute Null Values in previousDF:\n",
    "\n",
    "\n",
    "#### Strategies used:\n",
    "\n",
    "- To impute null values in __continuous variables__, we plotted the distribution of the columns and used \n",
    "  - median if the distribution is skewed.\n",
    "  - mode if the distribution pattern is preserved.\n",
    "- To impute null values in __numerical column__, we analysed the loan status and assigned values."
   ]
  },
  {
   "cell_type": "code",
   "execution_count": 64,
   "metadata": {},
   "outputs": [
    {
     "data": {
      "text/plain": [
       "SK_ID_PREV                 0.00\n",
       "SK_ID_CURR                 0.00\n",
       "NAME_CONTRACT_TYPE         0.00\n",
       "AMT_ANNUITY               22.29\n",
       "AMT_APPLICATION            0.00\n",
       "AMT_CREDIT                 0.00\n",
       "AMT_GOODS_PRICE           23.08\n",
       "NAME_CASH_LOAN_PURPOSE     0.00\n",
       "NAME_CONTRACT_STATUS       0.00\n",
       "DAYS_DECISION              0.00\n",
       "NAME_PAYMENT_TYPE          0.00\n",
       "CODE_REJECT_REASON         0.00\n",
       "NAME_CLIENT_TYPE           0.00\n",
       "NAME_GOODS_CATEGORY        0.00\n",
       "NAME_PORTFOLIO             0.00\n",
       "NAME_PRODUCT_TYPE          0.00\n",
       "CHANNEL_TYPE               0.00\n",
       "SELLERPLACE_AREA           0.00\n",
       "NAME_SELLER_INDUSTRY       0.00\n",
       "CNT_PAYMENT               22.29\n",
       "NAME_YIELD_GROUP           0.00\n",
       "PRODUCT_COMBINATION        0.02\n",
       "dtype: float64"
      ]
     },
     "execution_count": 64,
     "metadata": {},
     "output_type": "execute_result"
    }
   ],
   "source": [
    "# checking the null value % of each column in previousDF dataframe\n",
    "round(previousDF.isnull().sum() / previousDF.shape[0] * 100.00,2)"
   ]
  },
  {
   "cell_type": "markdown",
   "metadata": {},
   "source": [
    "#### Impute AMT_ANNUITY with median as the distribution is greatly skewed:"
   ]
  },
  {
   "cell_type": "code",
   "execution_count": 34,
   "metadata": {},
   "outputs": [
    {
     "data": {
      "image/png": "[encoded data removed]",
      "text/plain": [
       "<Figure size 432x288 with 1 Axes>"
      ]
     },
     "metadata": {
      "needs_background": "light"
     },
     "output_type": "display_data"
    }
   ],
   "source": [
    "sns.kdeplot(previousDF['AMT_ANNUITY']);"
   ]
  },
  {
   "cell_type": "code",
   "execution_count": 35,
   "metadata": {},
   "outputs": [],
   "source": [
    "previousDF['AMT_ANNUITY'].fillna(previousDF['AMT_ANNUITY'].median(),inplace = True)"
   ]
  },
  {
   "cell_type": "markdown",
   "metadata": {},
   "source": [
    "#### Impute AMT_GOODS_PRICE with mode as the distribution is closely similar:"
   ]
  },
  {
   "cell_type": "code",
   "execution_count": 36,
   "metadata": {},
   "outputs": [
    {
     "data": {
      "image/png": "[encoded data removed]",
      "text/plain": [
       "<Figure size 432x288 with 1 Axes>"
      ]
     },
     "metadata": {
      "needs_background": "light"
     },
     "output_type": "display_data"
    }
   ],
   "source": [
    "sns.kdeplot(previousDF['AMT_GOODS_PRICE'][pd.notnull(previousDF['AMT_GOODS_PRICE'])]);"
   ]
  },
  {
   "cell_type": "markdown",
   "metadata": {},
   "source": [
    "There are several peaks along the distribution. Let's impute using the mode, mean and median and see if the distribution is still about the same."
   ]
  },
  {
   "cell_type": "code",
   "execution_count": 51,
   "metadata": {},
   "outputs": [
    {
     "data": {
      "image/png": "[encoded data removed]",
      "text/plain": [
       "<Figure size 1296x576 with 4 Axes>"
      ]
     },
     "metadata": {
      "needs_background": "light"
     },
     "output_type": "display_data"
    }
   ],
   "source": [
    "mode_prevDF['AMT_GOODS_PRICE_mode'] = previousDF['AMT_GOODS_PRICE'].fillna(previousDF['AMT_GOODS_PRICE'].mode()[0])\n",
    "median_prevDF['AMT_GOODS_PRICE_median'] = previousDF['AMT_GOODS_PRICE'].fillna(previousDF['AMT_GOODS_PRICE'].median())\n",
    "mean_prevDF['AMT_GOODS_PRICE_mean'] = previousDF['AMT_GOODS_PRICE'].fillna(previousDF['AMT_GOODS_PRICE'].median())\n",
    "plt.figure(figsize=(18,8))\n",
    "plt.subplot(221)\n",
    "sns.distplot(previousDF['AMT_GOODS_PRICE'][pd.notnull(previousDF['AMT_GOODS_PRICE'])]);\n",
    "plt.subplot(222)\n",
    "sns.distplot(mode_prevDF['AMT_GOODS_PRICE_mode']);\n",
    "plt.subplot(223)\n",
    "sns.distplot(median_prevDF['AMT_GOODS_PRICE_median']);\n",
    "plt.subplot(224)\n",
    "sns.distplot(mean_prevDF['AMT_GOODS_PRICE_mean']);"
   ]
  },
  {
   "cell_type": "markdown",
   "metadata": {},
   "source": [
    "<p>\n",
    "    <font color = blue>\n",
    "        <em><b>\n",
    "The original distribution closer with data imputed with mode in this case            </em></b>\n",
    "    </font>\n",
    "</p> "
   ]
  },
  {
   "cell_type": "code",
   "execution_count": 55,
   "metadata": {},
   "outputs": [],
   "source": [
    "previousDF['AMT_GOODS_PRICE'].fillna(previousDF['AMT_GOODS_PRICE'].mode()[0], inplace=True)"
   ]
  },
  {
   "cell_type": "markdown",
   "metadata": {},
   "source": [
    "#### Impute CNT_PAYMENT with 0 as the NAME_CONTRACT_STATUS for these indicate that most of these loans were not started:"
   ]
  },
  {
   "cell_type": "code",
   "execution_count": 52,
   "metadata": {},
   "outputs": [
    {
     "data": {
      "text/plain": [
       "Canceled        305805\n",
       "Refused          40897\n",
       "Unused offer     25524\n",
       "Approved             4\n",
       "Name: NAME_CONTRACT_STATUS, dtype: int64"
      ]
     },
     "execution_count": 52,
     "metadata": {},
     "output_type": "execute_result"
    }
   ],
   "source": [
    "previousDF.loc[previousDF['CNT_PAYMENT'].isnull(),'NAME_CONTRACT_STATUS'].value_counts()"
   ]
  },
  {
   "cell_type": "code",
   "execution_count": 53,
   "metadata": {},
   "outputs": [],
   "source": [
    "previousDF['CNT_PAYMENT'].fillna(0,inplace = True)"
   ]
  },
  {
   "cell_type": "code",
   "execution_count": 56,
   "metadata": {},
   "outputs": [
    {
     "data": {
      "text/plain": [
       "SK_ID_PREV                0.00\n",
       "SK_ID_CURR                0.00\n",
       "NAME_CONTRACT_TYPE        0.00\n",
       "AMT_ANNUITY               0.00\n",
       "AMT_APPLICATION           0.00\n",
       "AMT_CREDIT                0.00\n",
       "AMT_GOODS_PRICE           0.00\n",
       "NAME_CASH_LOAN_PURPOSE    0.00\n",
       "NAME_CONTRACT_STATUS      0.00\n",
       "DAYS_DECISION             0.00\n",
       "NAME_PAYMENT_TYPE         0.00\n",
       "CODE_REJECT_REASON        0.00\n",
       "NAME_CLIENT_TYPE          0.00\n",
       "NAME_GOODS_CATEGORY       0.00\n",
       "NAME_PORTFOLIO            0.00\n",
       "NAME_PRODUCT_TYPE         0.00\n",
       "CHANNEL_TYPE              0.00\n",
       "SELLERPLACE_AREA          0.00\n",
       "NAME_SELLER_INDUSTRY      0.00\n",
       "CNT_PAYMENT               0.00\n",
       "NAME_YIELD_GROUP          0.00\n",
       "PRODUCT_COMBINATION       0.02\n",
       "dtype: float64"
      ]
     },
     "execution_count": 56,
     "metadata": {},
     "output_type": "execute_result"
    }
   ],
   "source": [
    "# checking the null value % of each column in previousDF dataframe\n",
    "round(previousDF.isnull().sum() / previousDF.shape[0] * 100.00,2)"
   ]
  },
  {
   "cell_type": "markdown",
   "metadata": {},
   "source": [
    "<p>\n",
    "    <font color = blue>\n",
    "        <em><b>\n",
    "We still have few null values in the PRODUCT_COMBINATION column. We can ignore as this percentage is very less.            </em></b>\n",
    "    </font>\n",
    "</p> "
   ]
  },
  {
   "cell_type": "markdown",
   "metadata": {},
   "source": [
    "### 3.5 Identifying the outliers"
   ]
  },
  {
   "cell_type": "code",
   "execution_count": 69,
   "metadata": {},
   "outputs": [
    {
     "name": "stdout",
     "output_type": "stream",
     "text": [
      "<class 'pandas.core.frame.DataFrame'>\n",
      "RangeIndex: 307511 entries, 0 to 307510\n",
      "Data columns (total 46 columns):\n",
      " #   Column                       Non-Null Count   Dtype   \n",
      "---  ------                       --------------   -----   \n",
      " 0   SK_ID_CURR                   307511 non-null  int64   \n",
      " 1   TARGET                       307511 non-null  int64   \n",
      " 2   NAME_CONTRACT_TYPE           307511 non-null  category\n",
      " 3   CODE_GENDER                  307511 non-null  category\n",
      " 4   FLAG_OWN_CAR                 307511 non-null  int64   \n",
      " 5   FLAG_OWN_REALTY              307511 non-null  int64   \n",
      " 6   CNT_CHILDREN                 307511 non-null  int64   \n",
      " 7   AMT_INCOME_TOTAL             307511 non-null  float64 \n",
      " 8   AMT_CREDIT                   307511 non-null  float64 \n",
      " 9   AMT_ANNUITY                  307499 non-null  float64 \n",
      " 10  AMT_GOODS_PRICE              307233 non-null  float64 \n",
      " 11  NAME_TYPE_SUITE              307511 non-null  category\n",
      " 12  NAME_INCOME_TYPE             307511 non-null  category\n",
      " 13  NAME_EDUCATION_TYPE          307511 non-null  category\n",
      " 14  NAME_FAMILY_STATUS           307511 non-null  category\n",
      " 15  NAME_HOUSING_TYPE            307511 non-null  category\n",
      " 16  REGION_POPULATION_RELATIVE   307511 non-null  float64 \n",
      " 17  DAYS_BIRTH                   307511 non-null  int64   \n",
      " 18  DAYS_EMPLOYED                307511 non-null  int64   \n",
      " 19  DAYS_REGISTRATION            307511 non-null  float64 \n",
      " 20  DAYS_ID_PUBLISH              307511 non-null  int64   \n",
      " 21  OCCUPATION_TYPE              307511 non-null  category\n",
      " 22  CNT_FAM_MEMBERS              307509 non-null  float64 \n",
      " 23  REGION_RATING_CLIENT         307511 non-null  int64   \n",
      " 24  REGION_RATING_CLIENT_W_CITY  307511 non-null  int64   \n",
      " 25  WEEKDAY_APPR_PROCESS_START   307511 non-null  category\n",
      " 26  HOUR_APPR_PROCESS_START      307511 non-null  int64   \n",
      " 27  REG_REGION_NOT_LIVE_REGION   307511 non-null  int64   \n",
      " 28  REG_REGION_NOT_WORK_REGION   307511 non-null  int64   \n",
      " 29  LIVE_REGION_NOT_WORK_REGION  307511 non-null  int64   \n",
      " 30  REG_CITY_NOT_LIVE_CITY       307511 non-null  int64   \n",
      " 31  REG_CITY_NOT_WORK_CITY       307511 non-null  int64   \n",
      " 32  LIVE_CITY_NOT_WORK_CITY      307511 non-null  int64   \n",
      " 33  ORGANIZATION_TYPE            307511 non-null  category\n",
      " 34  OBS_30_CNT_SOCIAL_CIRCLE     306490 non-null  float64 \n",
      " 35  DEF_30_CNT_SOCIAL_CIRCLE     306490 non-null  float64 \n",
      " 36  OBS_60_CNT_SOCIAL_CIRCLE     306490 non-null  float64 \n",
      " 37  DEF_60_CNT_SOCIAL_CIRCLE     306490 non-null  float64 \n",
      " 38  DAYS_LAST_PHONE_CHANGE       307510 non-null  float64 \n",
      " 39  FLAG_DOCUMENT_3              307511 non-null  int64   \n",
      " 40  AMT_REQ_CREDIT_BUREAU_HOUR   307511 non-null  float64 \n",
      " 41  AMT_REQ_CREDIT_BUREAU_DAY    307511 non-null  float64 \n",
      " 42  AMT_REQ_CREDIT_BUREAU_WEEK   307511 non-null  float64 \n",
      " 43  AMT_REQ_CREDIT_BUREAU_MON    307511 non-null  float64 \n",
      " 44  AMT_REQ_CREDIT_BUREAU_QRT    307511 non-null  float64 \n",
      " 45  AMT_REQ_CREDIT_BUREAU_YEAR   307511 non-null  float64 \n",
      "dtypes: category(10), float64(18), int64(18)\n",
      "memory usage: 87.4 MB\n"
     ]
    }
   ],
   "source": [
    "applicationDF.info()"
   ]
  },
  {
   "cell_type": "code",
   "execution_count": 76,
   "metadata": {},
   "outputs": [
    {
     "data": {
      "image/png": "[encoded data removed]",
      "text/plain": [
       "<Figure size 1296x576 with 8 Axes>"
      ]
     },
     "metadata": {
      "needs_background": "light"
     },
     "output_type": "display_data"
    }
   ],
   "source": [
    "plt.figure(figsize=(18,8))\n",
    "plt.subplot(241)\n",
    "applicationDF.boxplot('AMT_ANNUITY')\n",
    "plt.yscale('log')\n",
    "plt.subplot(242)\n",
    "applicationDF.boxplot('AMT_INCOME_TOTAL')\n",
    "plt.yscale('log')\n",
    "plt.subplot(243)\n",
    "applicationDF.boxplot('AMT_CREDIT')\n",
    "plt.yscale('log')\n",
    "plt.subplot(244)\n",
    "applicationDF.boxplot('AMT_GOODS_PRICE')\n",
    "plt.yscale('log')\n",
    "plt.subplot(245)\n",
    "applicationDF.boxplot('CNT_CHILDREN')\n",
    "plt.subplot(246)\n",
    "applicationDF.boxplot('DAYS_BIRTH')\n",
    "plt.subplot(247)\n",
    "applicationDF.boxplot('DAYS_EMPLOYED')\n",
    "plt.yscale('log')\n",
    "plt.subplot(248)\n",
    "applicationDF.boxplot('DAYS_EMPLOYED')\n",
    "plt.show()"
   ]
  },
  {
   "cell_type": "markdown",
   "metadata": {},
   "source": [
    "<p>\n",
    "    <font color = blue>\n",
    "        <em>\n",
    "            It can be seen that in <b>current application data</b><br>\n",
    "\n",
    "1. AMT_ANNUITY, AMT_INCOME_TOTAL, AMT_CREDIT, AMT_GOODS_PRICE have huge number of outliers.<br>\n",
    "2. CNT_CHILDREN has some outliers.<br>\n",
    "3. DAYS_BIRTH has no outliers but the number of days is in negative which will be standardised in the later sections.\n",
    "4. DAYS_EMPLOYED has outlier values around 350000(days) which is around 958 years which is impossible and hence this has to be incorrect entry.\n",
    "</em>\n",
    "</font>\n",
    "</p> "
   ]
  },
  {
   "cell_type": "code",
   "execution_count": 67,
   "metadata": {},
   "outputs": [
    {
     "data": {
      "image/png": "[encoded data removed]",
      "text/plain": [
       "<Figure size 1296x576 with 8 Axes>"
      ]
     },
     "metadata": {
      "needs_background": "light"
     },
     "output_type": "display_data"
    }
   ],
   "source": [
    "plt.figure(figsize=(18,8))\n",
    "plt.subplot(241)\n",
    "previousDF.boxplot('AMT_ANNUITY')\n",
    "plt.yscale('log')\n",
    "plt.subplot(242)\n",
    "previousDF.boxplot('AMT_APPLICATION')\n",
    "plt.yscale('log')\n",
    "plt.subplot(243)\n",
    "previousDF.boxplot('AMT_CREDIT')\n",
    "plt.yscale('log')\n",
    "plt.subplot(244)\n",
    "previousDF.boxplot('AMT_GOODS_PRICE')\n",
    "plt.yscale('log')\n",
    "plt.subplot(245)\n",
    "previousDF.boxplot('SK_ID_CURR')\n",
    "plt.subplot(246)\n",
    "previousDF.boxplot('DAYS_DECISION')\n",
    "plt.subplot(247)\n",
    "previousDF.boxplot('CNT_PAYMENT')\n",
    "plt.subplot(248)\n",
    "previousDF.boxplot('SELLERPLACE_AREA')\n",
    "plt.yscale('log')\n",
    "plt.show()"
   ]
  },
  {
   "cell_type": "markdown",
   "metadata": {},
   "source": [
    "<p>\n",
    "    <font color = blue>\n",
    "        <em>\n",
    "            It can be seen that in <b>previous application data</b><br>\n",
    "\n",
    "1. AMT_ANNUITY, AMT_APPLICATION, AMT_CREDIT, AMT_GOODS_PRICE, SELLERPLACE_AREA have huge number of outliers.<br>\n",
    "2. CNT_PAYMENT has few outlier values.<br>\n",
    "3. SK_ID_CURR is an ID column and hence no outliers.<br>\n",
    "4. DAYS_DECISION has outliers on the negative side as the number of days is in negative.\n",
    "</em>\n",
    "</font>\n",
    "</p> "
   ]
  },
  {
   "cell_type": "markdown",
   "metadata": {},
   "source": [
    "### 3.6 Standardise Values\n",
    "\n",
    "#### Strategies:<TODO: on content>\n",
    "\n",
    "- Convert DAYS_DECISION from negative to positive as days cannot be negative.\n",
    "- Convert DAYS_BIRTH, DAYS_EMPLOYED from negative to positive values and calculate age and create categorical bins.\n",
    "- Categorize the amount variables into bins\n",
    "- Convert region rating column to categorical.\n",
    "- family members : repayer/defaulter on categorical values(binning and children no children)\n",
    "\n"
   ]
  },
  {
   "cell_type": "markdown",
   "metadata": {},
   "source": [
    "### 3.7 Rows Deletion with high number of parameters missing: TODO :to be removed"
   ]
  },
  {
   "cell_type": "markdown",
   "metadata": {},
   "source": [
    "<h2>\n",
    "    <font color = green>\n",
    "        4. Merging of Dataframes: TODO:  left join or inner?\n",
    "    </font>\n",
    "</h2> \n"
   ]
  },
  {
   "cell_type": "code",
   "execution_count": null,
   "metadata": {},
   "outputs": [],
   "source": [
    "#merge both the dataframe on SK_ID_CURR with Inner Joins\n",
    "loan_process_df = pd.merge(applicationDF, previousDF, on='SK_ID_CURR')\n",
    "loan_process_df.head()"
   ]
  },
  {
   "cell_type": "markdown",
   "metadata": {},
   "source": [
    "<h2>\n",
    "    <font color = green>\n",
    "         5. Data Analysis\n",
    "    </font>\n",
    "</h2>"
   ]
  },
  {
   "cell_type": "markdown",
   "metadata": {},
   "source": [
    "### 5.1 Categorical Values Analysis"
   ]
  },
  {
   "cell_type": "markdown",
   "metadata": {},
   "source": [
    "#### 5.1.1 Univariate Analysis"
   ]
  },
  {
   "cell_type": "markdown",
   "metadata": {},
   "source": [
    "#### 5.1.2 BiVariate / Multivariate Analysis"
   ]
  },
  {
   "cell_type": "markdown",
   "metadata": {},
   "source": [
    "### 5.2 Continuous Values Analysis"
   ]
  },
  {
   "cell_type": "code",
   "execution_count": null,
   "metadata": {},
   "outputs": [],
   "source": [
    "# Bifurcating the applicationDF dataframe based on Target value 0 and 1 for correlation and other analysis\n",
    "\n",
    "T0_df = applicationDF[applicationDF['TARGET']==0] # Repayers\n",
    "T1_df = applicationDF[applicationDF['TARGET']==0] # Defaulters"
   ]
  },
  {
   "cell_type": "markdown",
   "metadata": {},
   "source": [
    "#### 5.2.1 Checking for Imbalance"
   ]
  },
  {
   "cell_type": "code",
   "execution_count": null,
   "metadata": {},
   "outputs": [],
   "source": [
    "Imbalance = applicationDF[\"TARGET\"].value_counts().reset_index()\n",
    "\n",
    "plt.figure(figsize=(10,4))\n",
    "x= ['Defaulter','Repayer']\n",
    "plt.subplot(1,2,1)\n",
    "sns.barplot(x,\"TARGET\",data = Imbalance,palette= ['g','r'])\n",
    "plt.xlabel(\"Loan Repayment Status\")\n",
    "plt.ylabel(\"Count of Repayers & Defaulters\")\n",
    "plt.title(\"Imbalance Plotting\")"
   ]
  },
  {
   "cell_type": "code",
   "execution_count": null,
   "metadata": {},
   "outputs": [],
   "source": [
    "count_0 = Imbalance.iloc[0][\"TARGET\"]\n",
    "count_1 = Imbalance.iloc[1][\"TARGET\"]\n",
    "count_0_perc = round(count_0/(count_0+count_1)*100,2)\n",
    "count_1_perc = round(count_1/(count_0+count_1)*100,2)\n",
    "\n",
    "print('Ratios of imbalance in percentage with respect to Repayer and Defaulter datas are: %f and %f'%(count_0_perc,count_1_perc))\n",
    "print('Ratios of imbalance in relative with respect to Repayer and Defaulter datas is %f : 1 (approx)'%(count_0/count_1))"
   ]
  },
  {
   "cell_type": "markdown",
   "metadata": {},
   "source": [
    "#### 5.2.2 Univariate Analysis"
   ]
  },
  {
   "cell_type": "code",
   "execution_count": null,
   "metadata": {},
   "outputs": [],
   "source": []
  },
  {
   "cell_type": "markdown",
   "metadata": {},
   "source": [
    "#### 5.2.3 BiVariate / Multivariate Analysis"
   ]
  },
  {
   "cell_type": "markdown",
   "metadata": {},
   "source": [
    "#### Finding top 10 correlation\n"
   ]
  },
  {
   "cell_type": "code",
   "execution_count": null,
   "metadata": {},
   "outputs": [],
   "source": [
    "# Getting the top 10 correlation for the Repayers data\n",
    "corr_repayer = T0_df.corr()\n",
    "corr_repayer = corr_repayer.where(np.triu(np.ones(corr_repayer.shape),k=1).astype(np.bool))\n",
    "corr_df_repayer = corr_repayer.unstack().reset_index()\n",
    "corr_df_repayer.columns =['VAR1','VAR2','Correlation']\n",
    "corr_df_repayer.dropna(subset = [\"Correlation\"], inplace = True)\n",
    "corr_df_repayer[\"Correlation\"]=corr_df_repayer[\"Correlation\"].abs()\n",
    "corr_df_repayer.sort_values(by='Correlation', ascending=False, inplace=True)\n",
    "corr_df_repayer.head()"
   ]
  },
  {
   "cell_type": "code",
   "execution_count": null,
   "metadata": {},
   "outputs": [],
   "source": [
    "# Getting the top 10 correlation for the Defaulter data\n",
    "corr_Defaulter = T1_df.corr()\n",
    "corr_Defaulter = corr_Defaulter.where(np.triu(np.ones(corr_Defaulter.shape),k=1).astype(np.bool))\n",
    "corr_df_Defaulter = corr_Defaulter.unstack().reset_index()\n",
    "corr_df_Defaulter.columns =['VAR1','VAR2','Correlation']\n",
    "corr_df_Defaulter.dropna(subset = [\"Correlation\"], inplace = True)\n",
    "corr_df_Defaulter[\"Correlation\"]=corr_df_Defaulter[\"Correlation\"].abs()\n",
    "corr_df_Defaulter.sort_values(by='Correlation', ascending=False, inplace=True)\n",
    "corr_df_Defaulter.head()\n"
   ]
  },
  {
   "cell_type": "markdown",
   "metadata": {},
   "source": [
    "<h2>\n",
    "    <font color = green>\n",
    "        6. Conclusion\n",
    "    </font>\n",
    "</h2>  "
   ]
  },
  {
   "cell_type": "code",
   "execution_count": null,
   "metadata": {},
   "outputs": [],
   "source": [
    "sns.distplot(\"MONTHLY\")"
   ]
  }
 ],
 "metadata": {
  "kernelspec": {
   "display_name": "Python 3",
   "language": "python",
   "name": "python3"
  },
  "language_info": {
   "codemirror_mode": {
    "name": "ipython",
    "version": 3
   },
   "file_extension": ".py",
   "mimetype": "text/x-python",
   "name": "python",
   "nbconvert_exporter": "python",
   "pygments_lexer": "ipython3",
   "version": "3.7.6"
  }
 },
 "nbformat": 4,
 "nbformat_minor": 2
}
