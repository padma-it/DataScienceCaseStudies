{
 "cells": [
  {
   "cell_type": "markdown",
   "metadata": {},
   "source": [
    "<h1><center>References</center></h1>"
   ]
  },
  {
   "cell_type": "markdown",
   "metadata": {},
   "source": [
    "### Working links:\n",
    "1. [Attributes file Gdrive link](https://drive.google.com/drive/folders/1PZxGcQVdEZHlaxwXo88WiJYy6_0SoJRQ)\n",
    "2. [Upgrad Portal](https://learn.upgrad.com/v/course/593/module/28060)\n",
    "3. [Github](https://github.com/padma-it/DataScienceCaseStudies/tree/master/Credit%20EDA)"
   ]
  },
  {
   "cell_type": "markdown",
   "metadata": {},
   "source": [
    "### Credit EDA General References:\n",
    "1. https://www.scribd.com/document/436739836/Credit-Eda-Case-Study-Analysis\n",
    "2. [Kaggle Loan Prediction Search Results](https://www.kaggle.com/search?q=loan+prediction)\n",
    "3. https://www.kaggle.com/ab9bhatia/complete-eda-for-loan-analysis\n",
    "4. https://randlow.github.io/posts/machine-learning/kaggle-home-loan-credit-risk-eda/\n",
    "5. https://www.kaggle.com/pavanraj159/loan-repayers-v-s-loan-defaulters-home-credit\n",
    "\n",
    "### Upgrad Credit EDA Case Studies:\n",
    "1. https://github.com/sinhasangram/Credit-EDA-Case-Study\n",
    "2. https://github.com/NayanaRBhoj/Credit-EDA-Case-Study\n",
    "3. https://github.com/BMAnush/upgrad-edacasestudy\n",
    "4. https://www.academia.edu/40007678/Credit_EDA_Case_Study_Doc_1\n",
    "\n",
    "### Cleanup:\n",
    "1. https://github.com/comet-ml/comet-content/blob/master/home-credit/data/eda-part-1.ipynb\n",
    "2. https://www.kaggle.com/raenish/home-credit-default-risk-r\n"
   ]
  }
 ],
 "metadata": {
  "kernelspec": {
   "display_name": "Python 3",
   "language": "python",
   "name": "python3"
  },
  "language_info": {
   "codemirror_mode": {
    "name": "ipython",
    "version": 3
   },
   "file_extension": ".py",
   "mimetype": "text/x-python",
   "name": "python",
   "nbconvert_exporter": "python",
   "pygments_lexer": "ipython3",
   "version": "3.7.6"
  }
 },
 "nbformat": 4,
 "nbformat_minor": 4
}
