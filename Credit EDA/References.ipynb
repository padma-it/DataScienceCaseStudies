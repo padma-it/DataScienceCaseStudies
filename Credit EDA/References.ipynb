{
 "cells": [
  {
   "cell_type": "markdown",
   "metadata": {},
   "source": [
    "<h1><center>References</center></h1>"
   ]
  },
  {
   "cell_type": "markdown",
   "metadata": {},
   "source": [
    "### Working links:\n",
    "1. [Attributes file Gdrive link](https://drive.google.com/drive/folders/1PZxGcQVdEZHlaxwXo88WiJYy6_0SoJRQ)\n",
    "2. [Upgrad Portal](https://learn.upgrad.com/v/course/593/module/28060)\n",
    "3. [Github](https://github.com/padma-it/DataScienceCaseStudies/tree/master/Credit%20EDA)"
   ]
  },
  {
   "cell_type": "markdown",
   "metadata": {},
   "source": [
    "### Domain knowledge on Credit EDA:\n",
    "1. https://www.investopedia.com/terms/c/credit-inquiry.asp\n",
    "Hard inquiries can be harmful to a borrower’s credit score. Each hard inquiry usually causes a small credit score decrease for a borrower. Hard inquiries remain on one's credit report for two years. \n",
    "\n",
    "2. https://www.kaggle.com/c/home-credit-default-risk/discussion/63032 Loan applicant is given a credit limit to buy a goods (phone, laptop). If the price of the goods (AMTGOODSPRICE) is 100 USD, he will need to pay out of pocket (AMTDOWNPAYMENT) 20 USD for example. 80 USD will be the loan from HC that paid directly to goods seller. Loan applicant takes home the goods.\n",
    "\n",
    "3. https://www.kaggle.com/c/home-credit-default-risk/discussion/57054 for DPDs of social circle.\n",
    "4. \n",
    "\n",
    "### Credit EDA General References:\n",
    "1. https://www.scribd.com/document/436739836/Credit-Eda-Case-Study-Analysis\n",
    "2. [Kaggle Loan Prediction Search Results](https://www.kaggle.com/search?q=loan+prediction)\n",
    "3. https://www.kaggle.com/ab9bhatia/complete-eda-for-loan-analysis\n",
    "4. https://randlow.github.io/posts/machine-learning/kaggle-home-loan-credit-risk-eda/\n",
    "5. https://www.kaggle.com/pavanraj159/loan-repayers-v-s-loan-defaulters-home-credit\n",
    "\n",
    "### Upgrad Credit EDA Case Studies:\n",
    "1. https://github.com/sinhasangram/Credit-EDA-Case-Study\n",
    "2. https://github.com/NayanaRBhoj/Credit-EDA-Case-Study\n",
    "3. https://github.com/BMAnush/upgrad-edacasestudy\n",
    "4. https://www.academia.edu/40007678/Credit_EDA_Case_Study_Doc_1\n",
    "\n",
    "### Cleanup:\n",
    "1. https://github.com/comet-ml/comet-content/blob/master/home-credit/data/eda-part-1.ipynb\n",
    "2. https://www.kaggle.com/raenish/home-credit-default-risk-r\n"
   ]
  },
  {
   "cell_type": "code",
   "execution_count": null,
   "metadata": {},
   "outputs": [],
   "source": []
  }
 ],
 "metadata": {
  "kernelspec": {
   "display_name": "Python 3",
   "language": "python",
   "name": "python3"
  },
  "language_info": {
   "codemirror_mode": {
    "name": "ipython",
    "version": 3
   },
   "file_extension": ".py",
   "mimetype": "text/x-python",
   "name": "python",
   "nbconvert_exporter": "python",
   "pygments_lexer": "ipython3",
   "version": "3.7.6"
  }
 },
 "nbformat": 4,
 "nbformat_minor": 4
}
