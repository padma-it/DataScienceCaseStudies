{
 "cells": [
  {
   "cell_type": "markdown",
   "metadata": {},
   "source": [
    "<h1>\n",
    "    <center>\n",
    "        <font color = blue >\n",
    "            Credit EDA Case Study\n",
    "        </font>    \n",
    "            </center>\n",
    "</h1>\n",
    "<p style=\"text-align:right\">\n",
    "                           Submitted by Amrita Chatterjee and Padma A\n",
    "</p>"
   ]
  },
  {
   "cell_type": "markdown",
   "metadata": {},
   "source": [
    "<h2 style=\"font-family: Cambria>\n",
    "    <font color = green>\n",
    "       0. Import necessary libraries\n",
    "    </font>  \n",
    "</h2>    "
   ]
  },
  {
   "cell_type": "markdown",
   "metadata": {},
   "source": [
    "<h2>\n",
    "    <font color = green>\n",
    "        0. Import data sources from CSV file\n",
    "    </font>\n",
    "</h2>    "
   ]
  },
  {
   "cell_type": "markdown",
   "metadata": {},
   "source": [
    "### 0.1 Importing Libraries\n"
   ]
  },
  {
   "cell_type": "code",
   "execution_count": 1,
   "metadata": {},
   "outputs": [],
   "source": [
    "import numpy as np\n",
    "import pandas as pd\n",
    "import matplotlib.pyplot as plt\n",
    "import seaborn as sns\n",
    "import itertools\n",
    "%matplotlib inline"
   ]
  },
  {
   "cell_type": "markdown",
   "metadata": {},
   "source": [
    "### 0.2 Suppressing Warnings"
   ]
  },
  {
   "cell_type": "code",
   "execution_count": 2,
   "metadata": {},
   "outputs": [],
   "source": [
    "import warnings\n",
    "warnings.filterwarnings('ignore')"
   ]
  },
  {
   "cell_type": "markdown",
   "metadata": {},
   "source": [
    "### 0.3 Adjusting viewing mode in Jupyter"
   ]
  },
  {
   "cell_type": "code",
   "execution_count": 3,
   "metadata": {},
   "outputs": [],
   "source": [
    "pd.set_option('display.max_rows', 500)\n",
    "pd.set_option('display.max_columns', 500)\n",
    "pd.set_option('display.width', 1000)\n",
    "pd.set_option('display.expand_frame_repr', False)"
   ]
  },
  {
   "cell_type": "markdown",
   "metadata": {},
   "source": [
    "<h2>\n",
    "    <font color = green>\n",
    "        1. Import Data Sources from CSV files\n",
    "    </font>\n",
    "</h2> \n"
   ]
  },
  {
   "cell_type": "markdown",
   "metadata": {},
   "source": [
    "### 1.1 Importing the application_data csv file as applicationDF"
   ]
  },
  {
   "cell_type": "code",
   "execution_count": 4,
   "metadata": {},
   "outputs": [],
   "source": [
    "applicationDF = pd.read_csv(\"application_data.csv\")"
   ]
  },
  {
   "cell_type": "markdown",
   "metadata": {},
   "source": [
    "### 1.2 Importing the previous_application csv file as previdousDF"
   ]
  },
  {
   "cell_type": "code",
   "execution_count": 172,
   "metadata": {},
   "outputs": [],
   "source": [
    "previousDF= pd.read_csv(\"previous_application.csv\")"
   ]
  },
  {
   "cell_type": "markdown",
   "metadata": {},
   "source": [
    "<h2>\n",
    "    <font color = green>\n",
    "        2. Inspect the dataframes and respective columns for data understanding\n",
    "    </font>\n",
    "</h2> \n"
   ]
  },
  {
   "cell_type": "markdown",
   "metadata": {},
   "source": [
    "### 2.1 Inspect applicationDF Dataframe"
   ]
  },
  {
   "cell_type": "code",
   "execution_count": null,
   "metadata": {
    "scrolled": true
   },
   "outputs": [],
   "source": [
    "# Checking the top 5 rows of the dataframe\n",
    "applicationDF.head()"
   ]
  },
  {
   "cell_type": "code",
   "execution_count": null,
   "metadata": {},
   "outputs": [],
   "source": [
    "# checking botton 5 rows of the dataframe\n",
    "applicationDF.tail()"
   ]
  },
  {
   "cell_type": "code",
   "execution_count": null,
   "metadata": {},
   "outputs": [],
   "source": [
    "# Checking the shape of the dataframe\n",
    "applicationDF.shape"
   ]
  },
  {
   "cell_type": "code",
   "execution_count": null,
   "metadata": {},
   "outputs": [],
   "source": [
    "# Checking the size of the dataframe\n",
    "applicationDF.size"
   ]
  },
  {
   "cell_type": "markdown",
   "metadata": {},
   "source": [
    "#### Initial investigation of application_data dataframe by checking info() for Index, Datatype and Memory information"
   ]
  },
  {
   "cell_type": "code",
   "execution_count": 6,
   "metadata": {},
   "outputs": [
    {
     "name": "stdout",
     "output_type": "stream",
     "text": [
      "<class 'pandas.core.frame.DataFrame'>\n",
      "RangeIndex: 307511 entries, 0 to 307510\n",
      "Data columns (total 122 columns):\n",
      " #   Column                        Dtype  \n",
      "---  ------                        -----  \n",
      " 0   SK_ID_CURR                    int64  \n",
      " 1   TARGET                        int64  \n",
      " 2   NAME_CONTRACT_TYPE            object \n",
      " 3   CODE_GENDER                   object \n",
      " 4   FLAG_OWN_CAR                  object \n",
      " 5   FLAG_OWN_REALTY               object \n",
      " 6   CNT_CHILDREN                  int64  \n",
      " 7   AMT_INCOME_TOTAL              float64\n",
      " 8   AMT_CREDIT                    float64\n",
      " 9   AMT_ANNUITY                   float64\n",
      " 10  AMT_GOODS_PRICE               float64\n",
      " 11  NAME_TYPE_SUITE               object \n",
      " 12  NAME_INCOME_TYPE              object \n",
      " 13  NAME_EDUCATION_TYPE           object \n",
      " 14  NAME_FAMILY_STATUS            object \n",
      " 15  NAME_HOUSING_TYPE             object \n",
      " 16  REGION_POPULATION_RELATIVE    float64\n",
      " 17  DAYS_BIRTH                    int64  \n",
      " 18  DAYS_EMPLOYED                 int64  \n",
      " 19  DAYS_REGISTRATION             float64\n",
      " 20  DAYS_ID_PUBLISH               int64  \n",
      " 21  OWN_CAR_AGE                   float64\n",
      " 22  FLAG_MOBIL                    int64  \n",
      " 23  FLAG_EMP_PHONE                int64  \n",
      " 24  FLAG_WORK_PHONE               int64  \n",
      " 25  FLAG_CONT_MOBILE              int64  \n",
      " 26  FLAG_PHONE                    int64  \n",
      " 27  FLAG_EMAIL                    int64  \n",
      " 28  OCCUPATION_TYPE               object \n",
      " 29  CNT_FAM_MEMBERS               float64\n",
      " 30  REGION_RATING_CLIENT          int64  \n",
      " 31  REGION_RATING_CLIENT_W_CITY   int64  \n",
      " 32  WEEKDAY_APPR_PROCESS_START    object \n",
      " 33  HOUR_APPR_PROCESS_START       int64  \n",
      " 34  REG_REGION_NOT_LIVE_REGION    int64  \n",
      " 35  REG_REGION_NOT_WORK_REGION    int64  \n",
      " 36  LIVE_REGION_NOT_WORK_REGION   int64  \n",
      " 37  REG_CITY_NOT_LIVE_CITY        int64  \n",
      " 38  REG_CITY_NOT_WORK_CITY        int64  \n",
      " 39  LIVE_CITY_NOT_WORK_CITY       int64  \n",
      " 40  ORGANIZATION_TYPE             object \n",
      " 41  EXT_SOURCE_1                  float64\n",
      " 42  EXT_SOURCE_2                  float64\n",
      " 43  EXT_SOURCE_3                  float64\n",
      " 44  APARTMENTS_AVG                float64\n",
      " 45  BASEMENTAREA_AVG              float64\n",
      " 46  YEARS_BEGINEXPLUATATION_AVG   float64\n",
      " 47  YEARS_BUILD_AVG               float64\n",
      " 48  COMMONAREA_AVG                float64\n",
      " 49  ELEVATORS_AVG                 float64\n",
      " 50  ENTRANCES_AVG                 float64\n",
      " 51  FLOORSMAX_AVG                 float64\n",
      " 52  FLOORSMIN_AVG                 float64\n",
      " 53  LANDAREA_AVG                  float64\n",
      " 54  LIVINGAPARTMENTS_AVG          float64\n",
      " 55  LIVINGAREA_AVG                float64\n",
      " 56  NONLIVINGAPARTMENTS_AVG       float64\n",
      " 57  NONLIVINGAREA_AVG             float64\n",
      " 58  APARTMENTS_MODE               float64\n",
      " 59  BASEMENTAREA_MODE             float64\n",
      " 60  YEARS_BEGINEXPLUATATION_MODE  float64\n",
      " 61  YEARS_BUILD_MODE              float64\n",
      " 62  COMMONAREA_MODE               float64\n",
      " 63  ELEVATORS_MODE                float64\n",
      " 64  ENTRANCES_MODE                float64\n",
      " 65  FLOORSMAX_MODE                float64\n",
      " 66  FLOORSMIN_MODE                float64\n",
      " 67  LANDAREA_MODE                 float64\n",
      " 68  LIVINGAPARTMENTS_MODE         float64\n",
      " 69  LIVINGAREA_MODE               float64\n",
      " 70  NONLIVINGAPARTMENTS_MODE      float64\n",
      " 71  NONLIVINGAREA_MODE            float64\n",
      " 72  APARTMENTS_MEDI               float64\n",
      " 73  BASEMENTAREA_MEDI             float64\n",
      " 74  YEARS_BEGINEXPLUATATION_MEDI  float64\n",
      " 75  YEARS_BUILD_MEDI              float64\n",
      " 76  COMMONAREA_MEDI               float64\n",
      " 77  ELEVATORS_MEDI                float64\n",
      " 78  ENTRANCES_MEDI                float64\n",
      " 79  FLOORSMAX_MEDI                float64\n",
      " 80  FLOORSMIN_MEDI                float64\n",
      " 81  LANDAREA_MEDI                 float64\n",
      " 82  LIVINGAPARTMENTS_MEDI         float64\n",
      " 83  LIVINGAREA_MEDI               float64\n",
      " 84  NONLIVINGAPARTMENTS_MEDI      float64\n",
      " 85  NONLIVINGAREA_MEDI            float64\n",
      " 86  FONDKAPREMONT_MODE            object \n",
      " 87  HOUSETYPE_MODE                object \n",
      " 88  TOTALAREA_MODE                float64\n",
      " 89  WALLSMATERIAL_MODE            object \n",
      " 90  EMERGENCYSTATE_MODE           object \n",
      " 91  OBS_30_CNT_SOCIAL_CIRCLE      float64\n",
      " 92  DEF_30_CNT_SOCIAL_CIRCLE      float64\n",
      " 93  OBS_60_CNT_SOCIAL_CIRCLE      float64\n",
      " 94  DEF_60_CNT_SOCIAL_CIRCLE      float64\n",
      " 95  DAYS_LAST_PHONE_CHANGE        float64\n",
      " 96  FLAG_DOCUMENT_2               int64  \n",
      " 97  FLAG_DOCUMENT_3               int64  \n",
      " 98  FLAG_DOCUMENT_4               int64  \n",
      " 99  FLAG_DOCUMENT_5               int64  \n",
      " 100 FLAG_DOCUMENT_6               int64  \n",
      " 101 FLAG_DOCUMENT_7               int64  \n",
      " 102 FLAG_DOCUMENT_8               int64  \n",
      " 103 FLAG_DOCUMENT_9               int64  \n",
      " 104 FLAG_DOCUMENT_10              int64  \n",
      " 105 FLAG_DOCUMENT_11              int64  \n",
      " 106 FLAG_DOCUMENT_12              int64  \n",
      " 107 FLAG_DOCUMENT_13              int64  \n",
      " 108 FLAG_DOCUMENT_14              int64  \n",
      " 109 FLAG_DOCUMENT_15              int64  \n",
      " 110 FLAG_DOCUMENT_16              int64  \n",
      " 111 FLAG_DOCUMENT_17              int64  \n",
      " 112 FLAG_DOCUMENT_18              int64  \n",
      " 113 FLAG_DOCUMENT_19              int64  \n",
      " 114 FLAG_DOCUMENT_20              int64  \n",
      " 115 FLAG_DOCUMENT_21              int64  \n",
      " 116 AMT_REQ_CREDIT_BUREAU_HOUR    float64\n",
      " 117 AMT_REQ_CREDIT_BUREAU_DAY     float64\n",
      " 118 AMT_REQ_CREDIT_BUREAU_WEEK    float64\n",
      " 119 AMT_REQ_CREDIT_BUREAU_MON     float64\n",
      " 120 AMT_REQ_CREDIT_BUREAU_QRT     float64\n",
      " 121 AMT_REQ_CREDIT_BUREAU_YEAR    float64\n",
      "dtypes: float64(65), int64(41), object(16)\n",
      "memory usage: 286.2+ MB\n"
     ]
    }
   ],
   "source": [
    "# checking the info about column type etc.\n",
    "applicationDF.info(verbose = True)"
   ]
  },
  {
   "cell_type": "code",
   "execution_count": null,
   "metadata": {
    "scrolled": true
   },
   "outputs": [],
   "source": [
    "# How many types of each data type column exists and total memory usage\n",
    "applicationDF.info()"
   ]
  },
  {
   "cell_type": "code",
   "execution_count": null,
   "metadata": {},
   "outputs": [],
   "source": [
    "# Checking the numerical columns data distribution\n",
    "applicationDF.describe()"
   ]
  },
  {
   "cell_type": "markdown",
   "metadata": {},
   "source": [
    "### 2.2 Inspect previousDF Dataframe"
   ]
  },
  {
   "cell_type": "code",
   "execution_count": null,
   "metadata": {},
   "outputs": [],
   "source": [
    "# Checking the top 5 rows of the dataframe\n",
    "previousDF.head()"
   ]
  },
  {
   "cell_type": "code",
   "execution_count": null,
   "metadata": {},
   "outputs": [],
   "source": [
    "# checking botton 5 rows of the dataframe\n",
    "previousDF.tail()"
   ]
  },
  {
   "cell_type": "code",
   "execution_count": null,
   "metadata": {},
   "outputs": [],
   "source": [
    "# Checking the shape of the dataframe\n",
    "previousDF.shape"
   ]
  },
  {
   "cell_type": "code",
   "execution_count": null,
   "metadata": {},
   "outputs": [],
   "source": [
    "# Checking the size of the dataframe\n",
    "previousDF.size"
   ]
  },
  {
   "cell_type": "markdown",
   "metadata": {},
   "source": [
    "#### Initial investigation of previous_data dataframe by checking info() for Index, Datatype and Memory information"
   ]
  },
  {
   "cell_type": "code",
   "execution_count": null,
   "metadata": {
    "scrolled": true
   },
   "outputs": [],
   "source": [
    "# checking the info about column type etc.\n",
    "previousDF.info(verbose = True)"
   ]
  },
  {
   "cell_type": "code",
   "execution_count": null,
   "metadata": {},
   "outputs": [],
   "source": [
    "# How many types of each data type column exists and total memory usage\n",
    "previousDF.info()"
   ]
  },
  {
   "cell_type": "code",
   "execution_count": null,
   "metadata": {},
   "outputs": [],
   "source": [
    "# Checking the numerical columns data distribution\n",
    "previousDF.describe()"
   ]
  },
  {
   "cell_type": "markdown",
   "metadata": {},
   "source": [
    "<h2>\n",
    "    <font color = green>\n",
    "        3. Data Cleaning & Manipulation\n",
    "    </font>\n",
    "</h2> \n"
   ]
  },
  {
   "cell_type": "markdown",
   "metadata": {},
   "source": [
    "### 3.1 Column data type conversion"
   ]
  },
  {
   "cell_type": "markdown",
   "metadata": {},
   "source": [
    "### Changing the column types of applicationDF dataframe"
   ]
  },
  {
   "cell_type": "markdown",
   "metadata": {},
   "source": [
    "#### Numeric columns are already in int64 and float64 format. Hence proceeding with other columns.\n",
    "3.1.1 Numeric column conversion from object to Numeric"
   ]
  },
  {
   "cell_type": "code",
   "execution_count": null,
   "metadata": {},
   "outputs": [],
   "source": [
    "# # Converting the numeric values in applicationDF dataframe\n",
    "# numeric_columns=['TARGET','CNT_CHILDREN','AMT_INCOME_TOTAL','AMT_CREDIT','AMT_ANNUITY','REGION_POPULATION_RELATIVE','DAYS_BIRTH',\n",
    "#                 'DAYS_EMPLOYED','DAYS_REGISTRATION','DAYS_ID_PUBLISH','HOUR_APPR_PROCESS_START','LIVE_REGION_NOT_WORK_REGION', 'REG_CITY_NOT_LIVE_CITY',\n",
    "#        'REG_CITY_NOT_WORK_CITY', 'LIVE_CITY_NOT_WORK_CITY']\n",
    "\n",
    "# applicationDF[numeric_columns]=applicationDF[numeric_columns].apply(pd.to_numeric)\n"
   ]
  },
  {
   "cell_type": "code",
   "execution_count": null,
   "metadata": {},
   "outputs": [],
   "source": [
    "# # checking the dataframe after conversion\n",
    "# applicationDF.info(verbose=True)"
   ]
  },
  {
   "cell_type": "markdown",
   "metadata": {},
   "source": [
    "#### 3.1.2 Converting Y/N flag columns to 1/0 int64 format"
   ]
  },
  {
   "cell_type": "code",
   "execution_count": 6,
   "metadata": {},
   "outputs": [],
   "source": [
    "Flag_col_application =['FLAG_OWN_CAR','FLAG_OWN_REALTY']\n",
    "\n",
    "for col in Flag_col_application:\n",
    "    applicationDF[col].replace(('Y', 'N'), (1, 0), inplace=True)\n"
   ]
  },
  {
   "cell_type": "code",
   "execution_count": 7,
   "metadata": {},
   "outputs": [],
   "source": [
    "applicationDF['EMERGENCYSTATE_MODE'].replace((\"Yes\",\"No\"),(1,0),inplace=True)"
   ]
  },
  {
   "cell_type": "code",
   "execution_count": 8,
   "metadata": {
    "scrolled": true
   },
   "outputs": [
    {
     "name": "stdout",
     "output_type": "stream",
     "text": [
      "<class 'pandas.core.frame.DataFrame'>\n",
      "RangeIndex: 307511 entries, 0 to 307510\n",
      "Data columns (total 122 columns):\n",
      " #   Column                        Dtype  \n",
      "---  ------                        -----  \n",
      " 0   SK_ID_CURR                    int64  \n",
      " 1   TARGET                        int64  \n",
      " 2   NAME_CONTRACT_TYPE            object \n",
      " 3   CODE_GENDER                   object \n",
      " 4   FLAG_OWN_CAR                  int64  \n",
      " 5   FLAG_OWN_REALTY               int64  \n",
      " 6   CNT_CHILDREN                  int64  \n",
      " 7   AMT_INCOME_TOTAL              float64\n",
      " 8   AMT_CREDIT                    float64\n",
      " 9   AMT_ANNUITY                   float64\n",
      " 10  AMT_GOODS_PRICE               float64\n",
      " 11  NAME_TYPE_SUITE               object \n",
      " 12  NAME_INCOME_TYPE              object \n",
      " 13  NAME_EDUCATION_TYPE           object \n",
      " 14  NAME_FAMILY_STATUS            object \n",
      " 15  NAME_HOUSING_TYPE             object \n",
      " 16  REGION_POPULATION_RELATIVE    float64\n",
      " 17  DAYS_BIRTH                    int64  \n",
      " 18  DAYS_EMPLOYED                 int64  \n",
      " 19  DAYS_REGISTRATION             float64\n",
      " 20  DAYS_ID_PUBLISH               int64  \n",
      " 21  OWN_CAR_AGE                   float64\n",
      " 22  FLAG_MOBIL                    int64  \n",
      " 23  FLAG_EMP_PHONE                int64  \n",
      " 24  FLAG_WORK_PHONE               int64  \n",
      " 25  FLAG_CONT_MOBILE              int64  \n",
      " 26  FLAG_PHONE                    int64  \n",
      " 27  FLAG_EMAIL                    int64  \n",
      " 28  OCCUPATION_TYPE               object \n",
      " 29  CNT_FAM_MEMBERS               float64\n",
      " 30  REGION_RATING_CLIENT          int64  \n",
      " 31  REGION_RATING_CLIENT_W_CITY   int64  \n",
      " 32  WEEKDAY_APPR_PROCESS_START    object \n",
      " 33  HOUR_APPR_PROCESS_START       int64  \n",
      " 34  REG_REGION_NOT_LIVE_REGION    int64  \n",
      " 35  REG_REGION_NOT_WORK_REGION    int64  \n",
      " 36  LIVE_REGION_NOT_WORK_REGION   int64  \n",
      " 37  REG_CITY_NOT_LIVE_CITY        int64  \n",
      " 38  REG_CITY_NOT_WORK_CITY        int64  \n",
      " 39  LIVE_CITY_NOT_WORK_CITY       int64  \n",
      " 40  ORGANIZATION_TYPE             object \n",
      " 41  EXT_SOURCE_1                  float64\n",
      " 42  EXT_SOURCE_2                  float64\n",
      " 43  EXT_SOURCE_3                  float64\n",
      " 44  APARTMENTS_AVG                float64\n",
      " 45  BASEMENTAREA_AVG              float64\n",
      " 46  YEARS_BEGINEXPLUATATION_AVG   float64\n",
      " 47  YEARS_BUILD_AVG               float64\n",
      " 48  COMMONAREA_AVG                float64\n",
      " 49  ELEVATORS_AVG                 float64\n",
      " 50  ENTRANCES_AVG                 float64\n",
      " 51  FLOORSMAX_AVG                 float64\n",
      " 52  FLOORSMIN_AVG                 float64\n",
      " 53  LANDAREA_AVG                  float64\n",
      " 54  LIVINGAPARTMENTS_AVG          float64\n",
      " 55  LIVINGAREA_AVG                float64\n",
      " 56  NONLIVINGAPARTMENTS_AVG       float64\n",
      " 57  NONLIVINGAREA_AVG             float64\n",
      " 58  APARTMENTS_MODE               float64\n",
      " 59  BASEMENTAREA_MODE             float64\n",
      " 60  YEARS_BEGINEXPLUATATION_MODE  float64\n",
      " 61  YEARS_BUILD_MODE              float64\n",
      " 62  COMMONAREA_MODE               float64\n",
      " 63  ELEVATORS_MODE                float64\n",
      " 64  ENTRANCES_MODE                float64\n",
      " 65  FLOORSMAX_MODE                float64\n",
      " 66  FLOORSMIN_MODE                float64\n",
      " 67  LANDAREA_MODE                 float64\n",
      " 68  LIVINGAPARTMENTS_MODE         float64\n",
      " 69  LIVINGAREA_MODE               float64\n",
      " 70  NONLIVINGAPARTMENTS_MODE      float64\n",
      " 71  NONLIVINGAREA_MODE            float64\n",
      " 72  APARTMENTS_MEDI               float64\n",
      " 73  BASEMENTAREA_MEDI             float64\n",
      " 74  YEARS_BEGINEXPLUATATION_MEDI  float64\n",
      " 75  YEARS_BUILD_MEDI              float64\n",
      " 76  COMMONAREA_MEDI               float64\n",
      " 77  ELEVATORS_MEDI                float64\n",
      " 78  ENTRANCES_MEDI                float64\n",
      " 79  FLOORSMAX_MEDI                float64\n",
      " 80  FLOORSMIN_MEDI                float64\n",
      " 81  LANDAREA_MEDI                 float64\n",
      " 82  LIVINGAPARTMENTS_MEDI         float64\n",
      " 83  LIVINGAREA_MEDI               float64\n",
      " 84  NONLIVINGAPARTMENTS_MEDI      float64\n",
      " 85  NONLIVINGAREA_MEDI            float64\n",
      " 86  FONDKAPREMONT_MODE            object \n",
      " 87  HOUSETYPE_MODE                object \n",
      " 88  TOTALAREA_MODE                float64\n",
      " 89  WALLSMATERIAL_MODE            object \n",
      " 90  EMERGENCYSTATE_MODE           float64\n",
      " 91  OBS_30_CNT_SOCIAL_CIRCLE      float64\n",
      " 92  DEF_30_CNT_SOCIAL_CIRCLE      float64\n",
      " 93  OBS_60_CNT_SOCIAL_CIRCLE      float64\n",
      " 94  DEF_60_CNT_SOCIAL_CIRCLE      float64\n",
      " 95  DAYS_LAST_PHONE_CHANGE        float64\n",
      " 96  FLAG_DOCUMENT_2               int64  \n",
      " 97  FLAG_DOCUMENT_3               int64  \n",
      " 98  FLAG_DOCUMENT_4               int64  \n",
      " 99  FLAG_DOCUMENT_5               int64  \n",
      " 100 FLAG_DOCUMENT_6               int64  \n",
      " 101 FLAG_DOCUMENT_7               int64  \n",
      " 102 FLAG_DOCUMENT_8               int64  \n",
      " 103 FLAG_DOCUMENT_9               int64  \n",
      " 104 FLAG_DOCUMENT_10              int64  \n",
      " 105 FLAG_DOCUMENT_11              int64  \n",
      " 106 FLAG_DOCUMENT_12              int64  \n",
      " 107 FLAG_DOCUMENT_13              int64  \n",
      " 108 FLAG_DOCUMENT_14              int64  \n",
      " 109 FLAG_DOCUMENT_15              int64  \n",
      " 110 FLAG_DOCUMENT_16              int64  \n",
      " 111 FLAG_DOCUMENT_17              int64  \n",
      " 112 FLAG_DOCUMENT_18              int64  \n",
      " 113 FLAG_DOCUMENT_19              int64  \n",
      " 114 FLAG_DOCUMENT_20              int64  \n",
      " 115 FLAG_DOCUMENT_21              int64  \n",
      " 116 AMT_REQ_CREDIT_BUREAU_HOUR    float64\n",
      " 117 AMT_REQ_CREDIT_BUREAU_DAY     float64\n",
      " 118 AMT_REQ_CREDIT_BUREAU_WEEK    float64\n",
      " 119 AMT_REQ_CREDIT_BUREAU_MON     float64\n",
      " 120 AMT_REQ_CREDIT_BUREAU_QRT     float64\n",
      " 121 AMT_REQ_CREDIT_BUREAU_YEAR    float64\n",
      "dtypes: float64(66), int64(43), object(13)\n",
      "memory usage: 286.2+ MB\n"
     ]
    }
   ],
   "source": [
    "# rechecking the dataframe after column conversion\n",
    "applicationDF.info(verbose= True)"
   ]
  },
  {
   "cell_type": "markdown",
   "metadata": {},
   "source": [
    "#### 3.1.3 Date column conversion from object to Categorical column"
   ]
  },
  {
   "cell_type": "code",
   "execution_count": 9,
   "metadata": {},
   "outputs": [],
   "source": [
    "categorical_columns = ['NAME_CONTRACT_TYPE','CODE_GENDER','NAME_TYPE_SUITE','NAME_INCOME_TYPE','NAME_EDUCATION_TYPE',\n",
    "                  'NAME_FAMILY_STATUS','NAME_HOUSING_TYPE','OCCUPATION_TYPE','WEEKDAY_APPR_PROCESS_START','ORGANIZATION_TYPE',\n",
    "                  'HOUSETYPE_MODE','FONDKAPREMONT_MODE','WALLSMATERIAL_MODE']\n",
    "for col in categorical_columns:\n",
    "    applicationDF[col] =pd.Categorical(applicationDF[col])"
   ]
  },
  {
   "cell_type": "code",
   "execution_count": 10,
   "metadata": {},
   "outputs": [
    {
     "name": "stdout",
     "output_type": "stream",
     "text": [
      "<class 'pandas.core.frame.DataFrame'>\n",
      "RangeIndex: 307511 entries, 0 to 307510\n",
      "Columns: 122 entries, SK_ID_CURR to AMT_REQ_CREDIT_BUREAU_YEAR\n",
      "dtypes: category(13), float64(66), int64(43)\n",
      "memory usage: 259.5 MB\n"
     ]
    }
   ],
   "source": [
    "applicationDF.info()"
   ]
  },
  {
   "cell_type": "markdown",
   "metadata": {},
   "source": [
    "\n",
    "### Changing the column types of previousDF dataframe\n"
   ]
  },
  {
   "cell_type": "markdown",
   "metadata": {},
   "source": [
    "#### 3.1.4 converting Yes/No or Y/N columns to 1/0 format"
   ]
  },
  {
   "cell_type": "code",
   "execution_count": 173,
   "metadata": {},
   "outputs": [],
   "source": [
    "Flag_col_previous =['FLAG_LAST_APPL_PER_CONTRACT']\n",
    "previousDF['FLAG_LAST_APPL_PER_CONTRACT'].replace(('Y', 'N'), (1, 0), inplace=True)"
   ]
  },
  {
   "cell_type": "markdown",
   "metadata": {},
   "source": [
    "#### 3.1.5 converting Catgoerical columns from object to categorical"
   ]
  },
  {
   "cell_type": "code",
   "execution_count": 174,
   "metadata": {},
   "outputs": [],
   "source": [
    "Catgorical_col_p = ['WEEKDAY_APPR_PROCESS_START','NAME_CASH_LOAN_PURPOSE','NAME_CONTRACT_STATUS','NAME_PAYMENT_TYPE',\n",
    "                    'CODE_REJECT_REASON','NAME_TYPE_SUITE','NAME_CLIENT_TYPE','NAME_GOODS_CATEGORY','NAME_PORTFOLIO',\n",
    "                   'NAME_PRODUCT_TYPE','CHANNEL_TYPE','NAME_SELLER_INDUSTRY','NAME_YIELD_GROUP','PRODUCT_COMBINATION']\n",
    "\n",
    "for col in Catgorical_col_p:\n",
    "    previousDF[col] =pd.Categorical(previousDF[col])"
   ]
  },
  {
   "cell_type": "code",
   "execution_count": 175,
   "metadata": {},
   "outputs": [
    {
     "name": "stdout",
     "output_type": "stream",
     "text": [
      "<class 'pandas.core.frame.DataFrame'>\n",
      "RangeIndex: 1670214 entries, 0 to 1670213\n",
      "Data columns (total 37 columns):\n",
      " #   Column                       Non-Null Count    Dtype   \n",
      "---  ------                       --------------    -----   \n",
      " 0   SK_ID_PREV                   1670214 non-null  int64   \n",
      " 1   SK_ID_CURR                   1670214 non-null  int64   \n",
      " 2   NAME_CONTRACT_TYPE           1670214 non-null  object  \n",
      " 3   AMT_ANNUITY                  1297979 non-null  float64 \n",
      " 4   AMT_APPLICATION              1670214 non-null  float64 \n",
      " 5   AMT_CREDIT                   1670213 non-null  float64 \n",
      " 6   AMT_DOWN_PAYMENT             774370 non-null   float64 \n",
      " 7   AMT_GOODS_PRICE              1284699 non-null  float64 \n",
      " 8   WEEKDAY_APPR_PROCESS_START   1670214 non-null  category\n",
      " 9   HOUR_APPR_PROCESS_START      1670214 non-null  int64   \n",
      " 10  FLAG_LAST_APPL_PER_CONTRACT  1670214 non-null  int64   \n",
      " 11  NFLAG_LAST_APPL_IN_DAY       1670214 non-null  int64   \n",
      " 12  RATE_DOWN_PAYMENT            774370 non-null   float64 \n",
      " 13  RATE_INTEREST_PRIMARY        5951 non-null     float64 \n",
      " 14  RATE_INTEREST_PRIVILEGED     5951 non-null     float64 \n",
      " 15  NAME_CASH_LOAN_PURPOSE       1670214 non-null  category\n",
      " 16  NAME_CONTRACT_STATUS         1670214 non-null  category\n",
      " 17  DAYS_DECISION                1670214 non-null  int64   \n",
      " 18  NAME_PAYMENT_TYPE            1670214 non-null  category\n",
      " 19  CODE_REJECT_REASON           1670214 non-null  category\n",
      " 20  NAME_TYPE_SUITE              849809 non-null   category\n",
      " 21  NAME_CLIENT_TYPE             1670214 non-null  category\n",
      " 22  NAME_GOODS_CATEGORY          1670214 non-null  category\n",
      " 23  NAME_PORTFOLIO               1670214 non-null  category\n",
      " 24  NAME_PRODUCT_TYPE            1670214 non-null  category\n",
      " 25  CHANNEL_TYPE                 1670214 non-null  category\n",
      " 26  SELLERPLACE_AREA             1670214 non-null  int64   \n",
      " 27  NAME_SELLER_INDUSTRY         1670214 non-null  category\n",
      " 28  CNT_PAYMENT                  1297984 non-null  float64 \n",
      " 29  NAME_YIELD_GROUP             1670214 non-null  category\n",
      " 30  PRODUCT_COMBINATION          1669868 non-null  category\n",
      " 31  DAYS_FIRST_DRAWING           997149 non-null   float64 \n",
      " 32  DAYS_FIRST_DUE               997149 non-null   float64 \n",
      " 33  DAYS_LAST_DUE_1ST_VERSION    997149 non-null   float64 \n",
      " 34  DAYS_LAST_DUE                997149 non-null   float64 \n",
      " 35  DAYS_TERMINATION             997149 non-null   float64 \n",
      " 36  NFLAG_INSURED_ON_APPROVAL    997149 non-null   float64 \n",
      "dtypes: category(14), float64(15), int64(7), object(1)\n",
      "memory usage: 315.4+ MB\n"
     ]
    }
   ],
   "source": [
    "# inspecting the column types after conversion\n",
    "previousDF.info()"
   ]
  },
  {
   "cell_type": "markdown",
   "metadata": {},
   "source": [
    "### 3.2 Null Value calculation"
   ]
  },
  {
   "cell_type": "markdown",
   "metadata": {},
   "source": [
    "#### 3.2.1 Null value analysis for applicationDF dataframe"
   ]
  },
  {
   "cell_type": "code",
   "execution_count": 14,
   "metadata": {
    "scrolled": true
   },
   "outputs": [
    {
     "data": {
      "text/plain": [
       "SK_ID_CURR                       0.00\n",
       "TARGET                           0.00\n",
       "NAME_CONTRACT_TYPE               0.00\n",
       "CODE_GENDER                      0.00\n",
       "FLAG_OWN_CAR                     0.00\n",
       "FLAG_OWN_REALTY                  0.00\n",
       "CNT_CHILDREN                     0.00\n",
       "AMT_INCOME_TOTAL                 0.00\n",
       "AMT_CREDIT                       0.00\n",
       "AMT_ANNUITY                      0.00\n",
       "AMT_GOODS_PRICE                  0.09\n",
       "NAME_TYPE_SUITE                  0.42\n",
       "NAME_INCOME_TYPE                 0.00\n",
       "NAME_EDUCATION_TYPE              0.00\n",
       "NAME_FAMILY_STATUS               0.00\n",
       "NAME_HOUSING_TYPE                0.00\n",
       "REGION_POPULATION_RELATIVE       0.00\n",
       "DAYS_BIRTH                       0.00\n",
       "DAYS_EMPLOYED                    0.00\n",
       "DAYS_REGISTRATION                0.00\n",
       "DAYS_ID_PUBLISH                  0.00\n",
       "OWN_CAR_AGE                     65.99\n",
       "FLAG_MOBIL                       0.00\n",
       "FLAG_EMP_PHONE                   0.00\n",
       "FLAG_WORK_PHONE                  0.00\n",
       "FLAG_CONT_MOBILE                 0.00\n",
       "FLAG_PHONE                       0.00\n",
       "FLAG_EMAIL                       0.00\n",
       "OCCUPATION_TYPE                 31.35\n",
       "CNT_FAM_MEMBERS                  0.00\n",
       "REGION_RATING_CLIENT             0.00\n",
       "REGION_RATING_CLIENT_W_CITY      0.00\n",
       "WEEKDAY_APPR_PROCESS_START       0.00\n",
       "HOUR_APPR_PROCESS_START          0.00\n",
       "REG_REGION_NOT_LIVE_REGION       0.00\n",
       "REG_REGION_NOT_WORK_REGION       0.00\n",
       "LIVE_REGION_NOT_WORK_REGION      0.00\n",
       "REG_CITY_NOT_LIVE_CITY           0.00\n",
       "REG_CITY_NOT_WORK_CITY           0.00\n",
       "LIVE_CITY_NOT_WORK_CITY          0.00\n",
       "ORGANIZATION_TYPE                0.00\n",
       "EXT_SOURCE_1                    56.38\n",
       "EXT_SOURCE_2                     0.21\n",
       "EXT_SOURCE_3                    19.83\n",
       "APARTMENTS_AVG                  50.75\n",
       "BASEMENTAREA_AVG                58.52\n",
       "YEARS_BEGINEXPLUATATION_AVG     48.78\n",
       "YEARS_BUILD_AVG                 66.50\n",
       "COMMONAREA_AVG                  69.87\n",
       "ELEVATORS_AVG                   53.30\n",
       "ENTRANCES_AVG                   50.35\n",
       "FLOORSMAX_AVG                   49.76\n",
       "FLOORSMIN_AVG                   67.85\n",
       "LANDAREA_AVG                    59.38\n",
       "LIVINGAPARTMENTS_AVG            68.35\n",
       "LIVINGAREA_AVG                  50.19\n",
       "NONLIVINGAPARTMENTS_AVG         69.43\n",
       "NONLIVINGAREA_AVG               55.18\n",
       "APARTMENTS_MODE                 50.75\n",
       "BASEMENTAREA_MODE               58.52\n",
       "YEARS_BEGINEXPLUATATION_MODE    48.78\n",
       "YEARS_BUILD_MODE                66.50\n",
       "COMMONAREA_MODE                 69.87\n",
       "ELEVATORS_MODE                  53.30\n",
       "ENTRANCES_MODE                  50.35\n",
       "FLOORSMAX_MODE                  49.76\n",
       "FLOORSMIN_MODE                  67.85\n",
       "LANDAREA_MODE                   59.38\n",
       "LIVINGAPARTMENTS_MODE           68.35\n",
       "LIVINGAREA_MODE                 50.19\n",
       "NONLIVINGAPARTMENTS_MODE        69.43\n",
       "NONLIVINGAREA_MODE              55.18\n",
       "APARTMENTS_MEDI                 50.75\n",
       "BASEMENTAREA_MEDI               58.52\n",
       "YEARS_BEGINEXPLUATATION_MEDI    48.78\n",
       "YEARS_BUILD_MEDI                66.50\n",
       "COMMONAREA_MEDI                 69.87\n",
       "ELEVATORS_MEDI                  53.30\n",
       "ENTRANCES_MEDI                  50.35\n",
       "FLOORSMAX_MEDI                  49.76\n",
       "FLOORSMIN_MEDI                  67.85\n",
       "LANDAREA_MEDI                   59.38\n",
       "LIVINGAPARTMENTS_MEDI           68.35\n",
       "LIVINGAREA_MEDI                 50.19\n",
       "NONLIVINGAPARTMENTS_MEDI        69.43\n",
       "NONLIVINGAREA_MEDI              55.18\n",
       "FONDKAPREMONT_MODE              68.39\n",
       "HOUSETYPE_MODE                  50.18\n",
       "TOTALAREA_MODE                  48.27\n",
       "WALLSMATERIAL_MODE              50.84\n",
       "EMERGENCYSTATE_MODE             47.40\n",
       "OBS_30_CNT_SOCIAL_CIRCLE         0.33\n",
       "DEF_30_CNT_SOCIAL_CIRCLE         0.33\n",
       "OBS_60_CNT_SOCIAL_CIRCLE         0.33\n",
       "DEF_60_CNT_SOCIAL_CIRCLE         0.33\n",
       "DAYS_LAST_PHONE_CHANGE           0.00\n",
       "FLAG_DOCUMENT_2                  0.00\n",
       "FLAG_DOCUMENT_3                  0.00\n",
       "FLAG_DOCUMENT_4                  0.00\n",
       "FLAG_DOCUMENT_5                  0.00\n",
       "FLAG_DOCUMENT_6                  0.00\n",
       "FLAG_DOCUMENT_7                  0.00\n",
       "FLAG_DOCUMENT_8                  0.00\n",
       "FLAG_DOCUMENT_9                  0.00\n",
       "FLAG_DOCUMENT_10                 0.00\n",
       "FLAG_DOCUMENT_11                 0.00\n",
       "FLAG_DOCUMENT_12                 0.00\n",
       "FLAG_DOCUMENT_13                 0.00\n",
       "FLAG_DOCUMENT_14                 0.00\n",
       "FLAG_DOCUMENT_15                 0.00\n",
       "FLAG_DOCUMENT_16                 0.00\n",
       "FLAG_DOCUMENT_17                 0.00\n",
       "FLAG_DOCUMENT_18                 0.00\n",
       "FLAG_DOCUMENT_19                 0.00\n",
       "FLAG_DOCUMENT_20                 0.00\n",
       "FLAG_DOCUMENT_21                 0.00\n",
       "AMT_REQ_CREDIT_BUREAU_HOUR      13.50\n",
       "AMT_REQ_CREDIT_BUREAU_DAY       13.50\n",
       "AMT_REQ_CREDIT_BUREAU_WEEK      13.50\n",
       "AMT_REQ_CREDIT_BUREAU_MON       13.50\n",
       "AMT_REQ_CREDIT_BUREAU_QRT       13.50\n",
       "AMT_REQ_CREDIT_BUREAU_YEAR      13.50\n",
       "dtype: float64"
      ]
     },
     "execution_count": 14,
     "metadata": {},
     "output_type": "execute_result"
    }
   ],
   "source": [
    "# Checking the null value % of each column in applicationDF dataframe\n",
    "round(applicationDF.isnull().sum() / applicationDF.shape[0] * 100.00,2)"
   ]
  },
  {
   "cell_type": "code",
   "execution_count": 15,
   "metadata": {
    "scrolled": false
   },
   "outputs": [
    {
     "data": {
      "image/png": "[encoded data removed]",
      "text/plain": [
       "<Figure size 1296x432 with 1 Axes>"
      ]
     },
     "metadata": {
      "needs_background": "light"
     },
     "output_type": "display_data"
    }
   ],
   "source": [
    "# plotting the null value % in a line graph for visualizing. \n",
    "# Set a limit of 40% target line to check which columns have more than 40% unknown values\n",
    "fig = plt.figure(figsize=(18,6))\n",
    "null_applicationDF = pd.DataFrame((applicationDF.isnull().sum())*100/applicationDF.shape[0]).reset_index()\n",
    "ax = sns.pointplot(\"index\",0,data=null_applicationDF)\n",
    "plt.xticks(rotation =90,fontsize =7)\n",
    "ax.axhline(40, ls='--',color='red')\n",
    "plt.title(\"Percentage of Missing values in application data\")\n",
    "plt.ylabel(\"PERCENTAGE\")\n",
    "plt.xlabel(\"COLUMNS\")\n",
    "plt.show()"
   ]
  },
  {
   "cell_type": "code",
   "execution_count": 16,
   "metadata": {
    "scrolled": false
   },
   "outputs": [
    {
     "data": {
      "text/html": [
       "<div>\n",
       "<style scoped>\n",
       "    .dataframe tbody tr th:only-of-type {\n",
       "        vertical-align: middle;\n",
       "    }\n",
       "\n",
       "    .dataframe tbody tr th {\n",
       "        vertical-align: top;\n",
       "    }\n",
       "\n",
       "    .dataframe thead th {\n",
       "        text-align: right;\n",
       "    }\n",
       "</style>\n",
       "<table border=\"1\" class=\"dataframe\">\n",
       "  <thead>\n",
       "    <tr style=\"text-align: right;\">\n",
       "      <th></th>\n",
       "      <th>index</th>\n",
       "      <th>0</th>\n",
       "    </tr>\n",
       "  </thead>\n",
       "  <tbody>\n",
       "    <tr>\n",
       "      <th>21</th>\n",
       "      <td>OWN_CAR_AGE</td>\n",
       "      <td>65.990810</td>\n",
       "    </tr>\n",
       "    <tr>\n",
       "      <th>41</th>\n",
       "      <td>EXT_SOURCE_1</td>\n",
       "      <td>56.381073</td>\n",
       "    </tr>\n",
       "    <tr>\n",
       "      <th>44</th>\n",
       "      <td>APARTMENTS_AVG</td>\n",
       "      <td>50.749729</td>\n",
       "    </tr>\n",
       "    <tr>\n",
       "      <th>45</th>\n",
       "      <td>BASEMENTAREA_AVG</td>\n",
       "      <td>58.515956</td>\n",
       "    </tr>\n",
       "    <tr>\n",
       "      <th>46</th>\n",
       "      <td>YEARS_BEGINEXPLUATATION_AVG</td>\n",
       "      <td>48.781019</td>\n",
       "    </tr>\n",
       "    <tr>\n",
       "      <th>47</th>\n",
       "      <td>YEARS_BUILD_AVG</td>\n",
       "      <td>66.497784</td>\n",
       "    </tr>\n",
       "    <tr>\n",
       "      <th>48</th>\n",
       "      <td>COMMONAREA_AVG</td>\n",
       "      <td>69.872297</td>\n",
       "    </tr>\n",
       "    <tr>\n",
       "      <th>49</th>\n",
       "      <td>ELEVATORS_AVG</td>\n",
       "      <td>53.295980</td>\n",
       "    </tr>\n",
       "    <tr>\n",
       "      <th>50</th>\n",
       "      <td>ENTRANCES_AVG</td>\n",
       "      <td>50.348768</td>\n",
       "    </tr>\n",
       "    <tr>\n",
       "      <th>51</th>\n",
       "      <td>FLOORSMAX_AVG</td>\n",
       "      <td>49.760822</td>\n",
       "    </tr>\n",
       "    <tr>\n",
       "      <th>52</th>\n",
       "      <td>FLOORSMIN_AVG</td>\n",
       "      <td>67.848630</td>\n",
       "    </tr>\n",
       "    <tr>\n",
       "      <th>53</th>\n",
       "      <td>LANDAREA_AVG</td>\n",
       "      <td>59.376738</td>\n",
       "    </tr>\n",
       "    <tr>\n",
       "      <th>54</th>\n",
       "      <td>LIVINGAPARTMENTS_AVG</td>\n",
       "      <td>68.354953</td>\n",
       "    </tr>\n",
       "    <tr>\n",
       "      <th>55</th>\n",
       "      <td>LIVINGAREA_AVG</td>\n",
       "      <td>50.193326</td>\n",
       "    </tr>\n",
       "    <tr>\n",
       "      <th>56</th>\n",
       "      <td>NONLIVINGAPARTMENTS_AVG</td>\n",
       "      <td>69.432963</td>\n",
       "    </tr>\n",
       "    <tr>\n",
       "      <th>57</th>\n",
       "      <td>NONLIVINGAREA_AVG</td>\n",
       "      <td>55.179164</td>\n",
       "    </tr>\n",
       "    <tr>\n",
       "      <th>58</th>\n",
       "      <td>APARTMENTS_MODE</td>\n",
       "      <td>50.749729</td>\n",
       "    </tr>\n",
       "    <tr>\n",
       "      <th>59</th>\n",
       "      <td>BASEMENTAREA_MODE</td>\n",
       "      <td>58.515956</td>\n",
       "    </tr>\n",
       "    <tr>\n",
       "      <th>60</th>\n",
       "      <td>YEARS_BEGINEXPLUATATION_MODE</td>\n",
       "      <td>48.781019</td>\n",
       "    </tr>\n",
       "    <tr>\n",
       "      <th>61</th>\n",
       "      <td>YEARS_BUILD_MODE</td>\n",
       "      <td>66.497784</td>\n",
       "    </tr>\n",
       "    <tr>\n",
       "      <th>62</th>\n",
       "      <td>COMMONAREA_MODE</td>\n",
       "      <td>69.872297</td>\n",
       "    </tr>\n",
       "    <tr>\n",
       "      <th>63</th>\n",
       "      <td>ELEVATORS_MODE</td>\n",
       "      <td>53.295980</td>\n",
       "    </tr>\n",
       "    <tr>\n",
       "      <th>64</th>\n",
       "      <td>ENTRANCES_MODE</td>\n",
       "      <td>50.348768</td>\n",
       "    </tr>\n",
       "    <tr>\n",
       "      <th>65</th>\n",
       "      <td>FLOORSMAX_MODE</td>\n",
       "      <td>49.760822</td>\n",
       "    </tr>\n",
       "    <tr>\n",
       "      <th>66</th>\n",
       "      <td>FLOORSMIN_MODE</td>\n",
       "      <td>67.848630</td>\n",
       "    </tr>\n",
       "    <tr>\n",
       "      <th>67</th>\n",
       "      <td>LANDAREA_MODE</td>\n",
       "      <td>59.376738</td>\n",
       "    </tr>\n",
       "    <tr>\n",
       "      <th>68</th>\n",
       "      <td>LIVINGAPARTMENTS_MODE</td>\n",
       "      <td>68.354953</td>\n",
       "    </tr>\n",
       "    <tr>\n",
       "      <th>69</th>\n",
       "      <td>LIVINGAREA_MODE</td>\n",
       "      <td>50.193326</td>\n",
       "    </tr>\n",
       "    <tr>\n",
       "      <th>70</th>\n",
       "      <td>NONLIVINGAPARTMENTS_MODE</td>\n",
       "      <td>69.432963</td>\n",
       "    </tr>\n",
       "    <tr>\n",
       "      <th>71</th>\n",
       "      <td>NONLIVINGAREA_MODE</td>\n",
       "      <td>55.179164</td>\n",
       "    </tr>\n",
       "    <tr>\n",
       "      <th>72</th>\n",
       "      <td>APARTMENTS_MEDI</td>\n",
       "      <td>50.749729</td>\n",
       "    </tr>\n",
       "    <tr>\n",
       "      <th>73</th>\n",
       "      <td>BASEMENTAREA_MEDI</td>\n",
       "      <td>58.515956</td>\n",
       "    </tr>\n",
       "    <tr>\n",
       "      <th>74</th>\n",
       "      <td>YEARS_BEGINEXPLUATATION_MEDI</td>\n",
       "      <td>48.781019</td>\n",
       "    </tr>\n",
       "    <tr>\n",
       "      <th>75</th>\n",
       "      <td>YEARS_BUILD_MEDI</td>\n",
       "      <td>66.497784</td>\n",
       "    </tr>\n",
       "    <tr>\n",
       "      <th>76</th>\n",
       "      <td>COMMONAREA_MEDI</td>\n",
       "      <td>69.872297</td>\n",
       "    </tr>\n",
       "    <tr>\n",
       "      <th>77</th>\n",
       "      <td>ELEVATORS_MEDI</td>\n",
       "      <td>53.295980</td>\n",
       "    </tr>\n",
       "    <tr>\n",
       "      <th>78</th>\n",
       "      <td>ENTRANCES_MEDI</td>\n",
       "      <td>50.348768</td>\n",
       "    </tr>\n",
       "    <tr>\n",
       "      <th>79</th>\n",
       "      <td>FLOORSMAX_MEDI</td>\n",
       "      <td>49.760822</td>\n",
       "    </tr>\n",
       "    <tr>\n",
       "      <th>80</th>\n",
       "      <td>FLOORSMIN_MEDI</td>\n",
       "      <td>67.848630</td>\n",
       "    </tr>\n",
       "    <tr>\n",
       "      <th>81</th>\n",
       "      <td>LANDAREA_MEDI</td>\n",
       "      <td>59.376738</td>\n",
       "    </tr>\n",
       "    <tr>\n",
       "      <th>82</th>\n",
       "      <td>LIVINGAPARTMENTS_MEDI</td>\n",
       "      <td>68.354953</td>\n",
       "    </tr>\n",
       "    <tr>\n",
       "      <th>83</th>\n",
       "      <td>LIVINGAREA_MEDI</td>\n",
       "      <td>50.193326</td>\n",
       "    </tr>\n",
       "    <tr>\n",
       "      <th>84</th>\n",
       "      <td>NONLIVINGAPARTMENTS_MEDI</td>\n",
       "      <td>69.432963</td>\n",
       "    </tr>\n",
       "    <tr>\n",
       "      <th>85</th>\n",
       "      <td>NONLIVINGAREA_MEDI</td>\n",
       "      <td>55.179164</td>\n",
       "    </tr>\n",
       "    <tr>\n",
       "      <th>86</th>\n",
       "      <td>FONDKAPREMONT_MODE</td>\n",
       "      <td>68.386172</td>\n",
       "    </tr>\n",
       "    <tr>\n",
       "      <th>87</th>\n",
       "      <td>HOUSETYPE_MODE</td>\n",
       "      <td>50.176091</td>\n",
       "    </tr>\n",
       "    <tr>\n",
       "      <th>88</th>\n",
       "      <td>TOTALAREA_MODE</td>\n",
       "      <td>48.268517</td>\n",
       "    </tr>\n",
       "    <tr>\n",
       "      <th>89</th>\n",
       "      <td>WALLSMATERIAL_MODE</td>\n",
       "      <td>50.840783</td>\n",
       "    </tr>\n",
       "    <tr>\n",
       "      <th>90</th>\n",
       "      <td>EMERGENCYSTATE_MODE</td>\n",
       "      <td>47.398304</td>\n",
       "    </tr>\n",
       "  </tbody>\n",
       "</table>\n",
       "</div>"
      ],
      "text/plain": [
       "                           index          0\n",
       "21                   OWN_CAR_AGE  65.990810\n",
       "41                  EXT_SOURCE_1  56.381073\n",
       "44                APARTMENTS_AVG  50.749729\n",
       "45              BASEMENTAREA_AVG  58.515956\n",
       "46   YEARS_BEGINEXPLUATATION_AVG  48.781019\n",
       "47               YEARS_BUILD_AVG  66.497784\n",
       "48                COMMONAREA_AVG  69.872297\n",
       "49                 ELEVATORS_AVG  53.295980\n",
       "50                 ENTRANCES_AVG  50.348768\n",
       "51                 FLOORSMAX_AVG  49.760822\n",
       "52                 FLOORSMIN_AVG  67.848630\n",
       "53                  LANDAREA_AVG  59.376738\n",
       "54          LIVINGAPARTMENTS_AVG  68.354953\n",
       "55                LIVINGAREA_AVG  50.193326\n",
       "56       NONLIVINGAPARTMENTS_AVG  69.432963\n",
       "57             NONLIVINGAREA_AVG  55.179164\n",
       "58               APARTMENTS_MODE  50.749729\n",
       "59             BASEMENTAREA_MODE  58.515956\n",
       "60  YEARS_BEGINEXPLUATATION_MODE  48.781019\n",
       "61              YEARS_BUILD_MODE  66.497784\n",
       "62               COMMONAREA_MODE  69.872297\n",
       "63                ELEVATORS_MODE  53.295980\n",
       "64                ENTRANCES_MODE  50.348768\n",
       "65                FLOORSMAX_MODE  49.760822\n",
       "66                FLOORSMIN_MODE  67.848630\n",
       "67                 LANDAREA_MODE  59.376738\n",
       "68         LIVINGAPARTMENTS_MODE  68.354953\n",
       "69               LIVINGAREA_MODE  50.193326\n",
       "70      NONLIVINGAPARTMENTS_MODE  69.432963\n",
       "71            NONLIVINGAREA_MODE  55.179164\n",
       "72               APARTMENTS_MEDI  50.749729\n",
       "73             BASEMENTAREA_MEDI  58.515956\n",
       "74  YEARS_BEGINEXPLUATATION_MEDI  48.781019\n",
       "75              YEARS_BUILD_MEDI  66.497784\n",
       "76               COMMONAREA_MEDI  69.872297\n",
       "77                ELEVATORS_MEDI  53.295980\n",
       "78                ENTRANCES_MEDI  50.348768\n",
       "79                FLOORSMAX_MEDI  49.760822\n",
       "80                FLOORSMIN_MEDI  67.848630\n",
       "81                 LANDAREA_MEDI  59.376738\n",
       "82         LIVINGAPARTMENTS_MEDI  68.354953\n",
       "83               LIVINGAREA_MEDI  50.193326\n",
       "84      NONLIVINGAPARTMENTS_MEDI  69.432963\n",
       "85            NONLIVINGAREA_MEDI  55.179164\n",
       "86            FONDKAPREMONT_MODE  68.386172\n",
       "87                HOUSETYPE_MODE  50.176091\n",
       "88                TOTALAREA_MODE  48.268517\n",
       "89            WALLSMATERIAL_MODE  50.840783\n",
       "90           EMERGENCYSTATE_MODE  47.398304"
      ]
     },
     "execution_count": 16,
     "metadata": {},
     "output_type": "execute_result"
    }
   ],
   "source": [
    "# more than or equal to 40% empty rows columns\n",
    "nullcol_40_application = null_applicationDF[null_applicationDF[0]>=40]\n",
    "nullcol_40_application"
   ]
  },
  {
   "cell_type": "code",
   "execution_count": 17,
   "metadata": {},
   "outputs": [
    {
     "data": {
      "text/plain": [
       "49"
      ]
     },
     "execution_count": 17,
     "metadata": {},
     "output_type": "execute_result"
    }
   ],
   "source": [
    "# How many columns have more than or euqal to 40% null values ?\n",
    "len(nullcol_40_application)"
   ]
  },
  {
   "cell_type": "markdown",
   "metadata": {},
   "source": [
    "#### 3.2.2 Null value analysis for previousDF dataframe"
   ]
  },
  {
   "cell_type": "code",
   "execution_count": 176,
   "metadata": {},
   "outputs": [
    {
     "data": {
      "text/plain": [
       "SK_ID_PREV                      0.00\n",
       "SK_ID_CURR                      0.00\n",
       "NAME_CONTRACT_TYPE              0.00\n",
       "AMT_ANNUITY                    22.29\n",
       "AMT_APPLICATION                 0.00\n",
       "AMT_CREDIT                      0.00\n",
       "AMT_DOWN_PAYMENT               53.64\n",
       "AMT_GOODS_PRICE                23.08\n",
       "WEEKDAY_APPR_PROCESS_START      0.00\n",
       "HOUR_APPR_PROCESS_START         0.00\n",
       "FLAG_LAST_APPL_PER_CONTRACT     0.00\n",
       "NFLAG_LAST_APPL_IN_DAY          0.00\n",
       "RATE_DOWN_PAYMENT              53.64\n",
       "RATE_INTEREST_PRIMARY          99.64\n",
       "RATE_INTEREST_PRIVILEGED       99.64\n",
       "NAME_CASH_LOAN_PURPOSE          0.00\n",
       "NAME_CONTRACT_STATUS            0.00\n",
       "DAYS_DECISION                   0.00\n",
       "NAME_PAYMENT_TYPE               0.00\n",
       "CODE_REJECT_REASON              0.00\n",
       "NAME_TYPE_SUITE                49.12\n",
       "NAME_CLIENT_TYPE                0.00\n",
       "NAME_GOODS_CATEGORY             0.00\n",
       "NAME_PORTFOLIO                  0.00\n",
       "NAME_PRODUCT_TYPE               0.00\n",
       "CHANNEL_TYPE                    0.00\n",
       "SELLERPLACE_AREA                0.00\n",
       "NAME_SELLER_INDUSTRY            0.00\n",
       "CNT_PAYMENT                    22.29\n",
       "NAME_YIELD_GROUP                0.00\n",
       "PRODUCT_COMBINATION             0.02\n",
       "DAYS_FIRST_DRAWING             40.30\n",
       "DAYS_FIRST_DUE                 40.30\n",
       "DAYS_LAST_DUE_1ST_VERSION      40.30\n",
       "DAYS_LAST_DUE                  40.30\n",
       "DAYS_TERMINATION               40.30\n",
       "NFLAG_INSURED_ON_APPROVAL      40.30\n",
       "dtype: float64"
      ]
     },
     "execution_count": 176,
     "metadata": {},
     "output_type": "execute_result"
    }
   ],
   "source": [
    "# checking the null value % of each column in previousDF dataframe\n",
    "round(previousDF.isnull().sum() / previousDF.shape[0] * 100.00,2)"
   ]
  },
  {
   "cell_type": "code",
   "execution_count": 181,
   "metadata": {
    "scrolled": false
   },
   "outputs": [
    {
     "data": {
      "image/png": "[encoded data removed]",
      "text/plain": [
       "<Figure size 1296x432 with 1 Axes>"
      ]
     },
     "metadata": {
      "needs_background": "light"
     },
     "output_type": "display_data"
    }
   ],
   "source": [
    "# plotting the null value % in a line graph for visualizing. \n",
    "# Set a limit of 40% target line to check which columns have more than 40% unknown values\n",
    "fig = plt.figure(figsize=(18,6))\n",
    "null_previousDF = pd.DataFrame((previousDF.isnull().sum())*100/previousDF.shape[0]).reset_index()\n",
    "ax = sns.pointplot(\"index\",0,data=null_previousDF)\n",
    "plt.xticks(rotation =90,fontsize =7)\n",
    "ax.axhline(40, ls='--',color='red')\n",
    "plt.title(\"Percentage of Missing values in previousDF data\")\n",
    "plt.ylabel(\"PERCENTAGE\")\n",
    "plt.xlabel(\"COLUMNS\")\n",
    "plt.show()"
   ]
  },
  {
   "cell_type": "code",
   "execution_count": 182,
   "metadata": {},
   "outputs": [
    {
     "data": {
      "text/html": [
       "<div>\n",
       "<style scoped>\n",
       "    .dataframe tbody tr th:only-of-type {\n",
       "        vertical-align: middle;\n",
       "    }\n",
       "\n",
       "    .dataframe tbody tr th {\n",
       "        vertical-align: top;\n",
       "    }\n",
       "\n",
       "    .dataframe thead th {\n",
       "        text-align: right;\n",
       "    }\n",
       "</style>\n",
       "<table border=\"1\" class=\"dataframe\">\n",
       "  <thead>\n",
       "    <tr style=\"text-align: right;\">\n",
       "      <th></th>\n",
       "      <th>index</th>\n",
       "      <th>0</th>\n",
       "    </tr>\n",
       "  </thead>\n",
       "  <tbody>\n",
       "    <tr>\n",
       "      <th>6</th>\n",
       "      <td>AMT_DOWN_PAYMENT</td>\n",
       "      <td>53.636480</td>\n",
       "    </tr>\n",
       "    <tr>\n",
       "      <th>12</th>\n",
       "      <td>RATE_DOWN_PAYMENT</td>\n",
       "      <td>53.636480</td>\n",
       "    </tr>\n",
       "    <tr>\n",
       "      <th>13</th>\n",
       "      <td>RATE_INTEREST_PRIMARY</td>\n",
       "      <td>99.643698</td>\n",
       "    </tr>\n",
       "    <tr>\n",
       "      <th>14</th>\n",
       "      <td>RATE_INTEREST_PRIVILEGED</td>\n",
       "      <td>99.643698</td>\n",
       "    </tr>\n",
       "    <tr>\n",
       "      <th>20</th>\n",
       "      <td>NAME_TYPE_SUITE</td>\n",
       "      <td>49.119754</td>\n",
       "    </tr>\n",
       "    <tr>\n",
       "      <th>31</th>\n",
       "      <td>DAYS_FIRST_DRAWING</td>\n",
       "      <td>40.298129</td>\n",
       "    </tr>\n",
       "    <tr>\n",
       "      <th>32</th>\n",
       "      <td>DAYS_FIRST_DUE</td>\n",
       "      <td>40.298129</td>\n",
       "    </tr>\n",
       "    <tr>\n",
       "      <th>33</th>\n",
       "      <td>DAYS_LAST_DUE_1ST_VERSION</td>\n",
       "      <td>40.298129</td>\n",
       "    </tr>\n",
       "    <tr>\n",
       "      <th>34</th>\n",
       "      <td>DAYS_LAST_DUE</td>\n",
       "      <td>40.298129</td>\n",
       "    </tr>\n",
       "    <tr>\n",
       "      <th>35</th>\n",
       "      <td>DAYS_TERMINATION</td>\n",
       "      <td>40.298129</td>\n",
       "    </tr>\n",
       "    <tr>\n",
       "      <th>36</th>\n",
       "      <td>NFLAG_INSURED_ON_APPROVAL</td>\n",
       "      <td>40.298129</td>\n",
       "    </tr>\n",
       "  </tbody>\n",
       "</table>\n",
       "</div>"
      ],
      "text/plain": [
       "                        index          0\n",
       "6            AMT_DOWN_PAYMENT  53.636480\n",
       "12          RATE_DOWN_PAYMENT  53.636480\n",
       "13      RATE_INTEREST_PRIMARY  99.643698\n",
       "14   RATE_INTEREST_PRIVILEGED  99.643698\n",
       "20            NAME_TYPE_SUITE  49.119754\n",
       "31         DAYS_FIRST_DRAWING  40.298129\n",
       "32             DAYS_FIRST_DUE  40.298129\n",
       "33  DAYS_LAST_DUE_1ST_VERSION  40.298129\n",
       "34              DAYS_LAST_DUE  40.298129\n",
       "35           DAYS_TERMINATION  40.298129\n",
       "36  NFLAG_INSURED_ON_APPROVAL  40.298129"
      ]
     },
     "execution_count": 182,
     "metadata": {},
     "output_type": "execute_result"
    }
   ],
   "source": [
    "# more than or equal to 40% empty rows columns\n",
    "nullcol_40_previous = null_previousDF[null_previousDF[0]>=40]\n",
    "nullcol_40_previous"
   ]
  },
  {
   "cell_type": "code",
   "execution_count": 183,
   "metadata": {},
   "outputs": [
    {
     "data": {
      "text/plain": [
       "11"
      ]
     },
     "execution_count": 183,
     "metadata": {},
     "output_type": "execute_result"
    }
   ],
   "source": [
    "# How many columns have more than or euqal to 40% null values ?\n",
    "len(nullcol_40_previous)"
   ]
  },
  {
   "cell_type": "markdown",
   "metadata": {},
   "source": [
    "<p>\n",
    "    <font color = blue>\n",
    "        <em>\n",
    "There are 49 columns in applicationDF and 11 columns in previousDF which have null values 40% or more. These columns can be deleted from the analysis.\n",
    "Before dropping these columns, we want to investigate if there are more columns that can be dropped from the two dataframes.        </em>\n",
    "    </font>\n",
    "</p>    "
   ]
  },
  {
   "cell_type": "markdown",
   "metadata": {},
   "source": [
    "### 3.3 Analyze & Delete Unnecessary Columns"
   ]
  },
  {
   "cell_type": "markdown",
   "metadata": {},
   "source": [
    "#### 3.3.1 Analyze other unwanted columns in applicationDF"
   ]
  },
  {
   "cell_type": "markdown",
   "metadata": {},
   "source": [
    "Due to [an issue in matplotlib version 3.1.1](https://gitter.im/matplotlib/matplotlib?at=5d239514f5dd1457424d7b09), [sns.heatmap top and bottom boxes are cut off](https://github.com/mwaskom/seaborn/issues/1773), we have used set_ylim(bottom + 0.5, top - 0.5) as a [workaround](https://github.com/matplotlib/matplotlib/issues/14751) to display the heatmap properly. If the heatmap is not seen properly at the TA's side, please comment the line out.\n",
    "\n",
    "Investigating if there is any correlation between EXT_SOURCE_X columns and loan repayment status"
   ]
  },
  {
   "cell_type": "code",
   "execution_count": 25,
   "metadata": {
    "scrolled": true
   },
   "outputs": [
    {
     "data": {
      "image/png": "[encoded data removed]",
      "text/plain": [
       "<Figure size 432x288 with 2 Axes>"
      ]
     },
     "metadata": {
      "needs_background": "light"
     },
     "output_type": "display_data"
    }
   ],
   "source": [
    "# Checking correlation of EXT_SOURCE_X columns vs TARGET column\n",
    "Source = applicationDF[[\"EXT_SOURCE_1\",\"EXT_SOURCE_2\",\"EXT_SOURCE_3\",\"TARGET\"]]\n",
    "source_corr = Source.corr()\n",
    "ax = sns.heatmap(source_corr,\n",
    "            xticklabels=source_corr.columns,\n",
    "            yticklabels=source_corr.columns,\n",
    "            annot = True,\n",
    "            cmap =\"RdYlGn\")\n",
    "bottom, top = ax.get_ylim()\n",
    "ax.set_ylim(bottom + 0.5, top - 0.5); "
   ]
  },
  {
   "cell_type": "markdown",
   "metadata": {},
   "source": [
    "<p>\n",
    "    <font color = blue>\n",
    "        <em>\n",
    "As there is no correlation among EXT_SOURCE_X columns and targets, we can drop these columns\n",
    "        </em>\n",
    "    </font>\n",
    "</p>  "
   ]
  },
  {
   "cell_type": "code",
   "execution_count": 26,
   "metadata": {},
   "outputs": [
    {
     "data": {
      "text/plain": [
       "51"
      ]
     },
     "execution_count": 26,
     "metadata": {},
     "output_type": "execute_result"
    }
   ],
   "source": [
    "# create a list of columns that needs to be dropped including the columns with >40% null values\n",
    "Unwanted_application = nullcol_40_application[\"index\"].tolist()+ ['EXT_SOURCE_2','EXT_SOURCE_3'] \n",
    "# as EXT_SOURCE_1 column is already included in nullcol_40_application \n",
    "len(Unwanted_application)"
   ]
  },
  {
   "cell_type": "code",
   "execution_count": 27,
   "metadata": {},
   "outputs": [
    {
     "data": {
      "image/png": "[encoded data removed]",
      "text/plain": [
       "<Figure size 1296x1728 with 20 Axes>"
      ]
     },
     "metadata": {
      "needs_background": "light"
     },
     "output_type": "display_data"
    }
   ],
   "source": [
    "# Checking the relevance of Flag_Document and whether it has any relation with loan repayment status\n",
    "col_Doc = [ 'FLAG_DOCUMENT_2', 'FLAG_DOCUMENT_3','FLAG_DOCUMENT_4', 'FLAG_DOCUMENT_5', 'FLAG_DOCUMENT_6','FLAG_DOCUMENT_7', \n",
    "           'FLAG_DOCUMENT_8', 'FLAG_DOCUMENT_9','FLAG_DOCUMENT_10', 'FLAG_DOCUMENT_11', 'FLAG_DOCUMENT_12','FLAG_DOCUMENT_13',\n",
    "           'FLAG_DOCUMENT_14', 'FLAG_DOCUMENT_15','FLAG_DOCUMENT_16', 'FLAG_DOCUMENT_17', 'FLAG_DOCUMENT_18',\n",
    "           'FLAG_DOCUMENT_19', 'FLAG_DOCUMENT_20', 'FLAG_DOCUMENT_21']\n",
    "df_flag = applicationDF[col_Doc+[\"TARGET\"]]\n",
    "\n",
    "length = len(col_Doc)\n",
    "\n",
    "df_flag[\"TARGET\"] = df_flag[\"TARGET\"].replace({1:\"Defaulter\",0:\"Repayer\"})\n",
    "\n",
    "fig = plt.figure(figsize=(18,24))\n",
    "\n",
    "for i,j in itertools.zip_longest(col_Doc,range(length)):\n",
    "    plt.subplot(5,4,j+1)\n",
    "    ax = sns.countplot(df_flag[i],hue=df_flag[\"TARGET\"],palette=[\"r\",\"g\"])\n",
    "    plt.yticks(fontsize=8)\n",
    "    plt.xlabel(\"\")\n",
    "    plt.ylabel(\"\")\n",
    "    plt.title(i)"
   ]
  },
  {
   "cell_type": "markdown",
   "metadata": {},
   "source": [
    "<p>\n",
    "    <font color = blue>\n",
    "        <em>\n",
    "The above graph shows that in most of the loan application cases, clients who applied for loans has not submitted FLAG_DOCUMENT_X except FLAG_DOCUMENT_3. Thus, Except for FLAG_DOCUMENT_3, we can delete rest of the columns. Data shows if borrower has submitted FLAG_DOCUMENT_3 then there is a less chance of defaulting the loan\n",
    "        </em>\n",
    "    </font>\n",
    "</p> "
   ]
  },
  {
   "cell_type": "code",
   "execution_count": 28,
   "metadata": {
    "scrolled": true
   },
   "outputs": [
    {
     "data": {
      "text/plain": [
       "70"
      ]
     },
     "execution_count": 28,
     "metadata": {},
     "output_type": "execute_result"
    }
   ],
   "source": [
    "# Including the flag documents for dropping the Document columns\n",
    "col_Doc.remove('FLAG_DOCUMENT_3') \n",
    "Unwanted_application = Unwanted_application + col_Doc\n",
    "len(Unwanted_application)"
   ]
  },
  {
   "cell_type": "code",
   "execution_count": 29,
   "metadata": {},
   "outputs": [
    {
     "data": {
      "image/png": "[encoded data removed]",
      "text/plain": [
       "<Figure size 576x576 with 2 Axes>"
      ]
     },
     "metadata": {
      "needs_background": "light"
     },
     "output_type": "display_data"
    }
   ],
   "source": [
    "# checking is there is any correlation between mobile phone, work phone etc, email, Family members and Region rating\n",
    "contact_col = ['FLAG_MOBIL', 'FLAG_EMP_PHONE', 'FLAG_WORK_PHONE', 'FLAG_CONT_MOBILE',\n",
    "       'FLAG_PHONE', 'FLAG_EMAIL','TARGET']\n",
    "Contact_corr = applicationDF[contact_col].corr()\n",
    "fig = plt.figure(figsize=(8,8))\n",
    "ax = sns.heatmap(Contact_corr,\n",
    "            xticklabels=Contact_corr.columns,\n",
    "            yticklabels=Contact_corr.columns,\n",
    "            annot = True,\n",
    "            cmap =\"RdYlGn\",\n",
    "            linewidth=1)\n",
    "bottom, top = ax.get_ylim()\n",
    "ax.set_ylim(bottom + 0.5, top - 0.5);"
   ]
  },
  {
   "cell_type": "markdown",
   "metadata": {},
   "source": [
    "<p>\n",
    "    <font color = blue>\n",
    "        <em>\n",
    "There is no correlation with flags of mobile phone, email etc with loan repayment; thus these columns can be deleted\n",
    "        </em>\n",
    "    </font>\n",
    "</p> "
   ]
  },
  {
   "cell_type": "code",
   "execution_count": 30,
   "metadata": {
    "scrolled": true
   },
   "outputs": [
    {
     "data": {
      "text/plain": [
       "76"
      ]
     },
     "execution_count": 30,
     "metadata": {},
     "output_type": "execute_result"
    }
   ],
   "source": [
    "# including the 6 FLAG columns to be deleted\n",
    "contact_col.remove('TARGET') \n",
    "Unwanted_application = Unwanted_application + contact_col\n",
    "len(Unwanted_application)"
   ]
  },
  {
   "cell_type": "markdown",
   "metadata": {},
   "source": [
    "<p>\n",
    "    <font color = blue>\n",
    "        <em><b>\n",
    "Total 76 columns can be deleted from applicationDF\n",
    "            </b>\n",
    "        </em>\n",
    "    </font>\n",
    "</p>"
   ]
  },
  {
   "cell_type": "code",
   "execution_count": 33,
   "metadata": {},
   "outputs": [],
   "source": [
    "# Dropping the unnecessary columns from applicationDF\n",
    "applicationDF.drop(labels=Unwanted_application,axis=1,inplace=True)\n"
   ]
  },
  {
   "cell_type": "code",
   "execution_count": 37,
   "metadata": {},
   "outputs": [
    {
     "data": {
      "text/plain": [
       "(307511, 46)"
      ]
     },
     "execution_count": 37,
     "metadata": {},
     "output_type": "execute_result"
    }
   ],
   "source": [
    "# Inspecting the dataframe after removal of unnecessary columns\n",
    "applicationDF.shape"
   ]
  },
  {
   "cell_type": "code",
   "execution_count": 43,
   "metadata": {},
   "outputs": [
    {
     "name": "stdout",
     "output_type": "stream",
     "text": [
      "<class 'pandas.core.frame.DataFrame'>\n",
      "RangeIndex: 307511 entries, 0 to 307510\n",
      "Data columns (total 46 columns):\n",
      " #   Column                       Non-Null Count   Dtype   \n",
      "---  ------                       --------------   -----   \n",
      " 0   SK_ID_CURR                   307511 non-null  int64   \n",
      " 1   TARGET                       307511 non-null  int64   \n",
      " 2   NAME_CONTRACT_TYPE           307511 non-null  category\n",
      " 3   CODE_GENDER                  307511 non-null  category\n",
      " 4   FLAG_OWN_CAR                 307511 non-null  int64   \n",
      " 5   FLAG_OWN_REALTY              307511 non-null  int64   \n",
      " 6   CNT_CHILDREN                 307511 non-null  int64   \n",
      " 7   AMT_INCOME_TOTAL             307511 non-null  float64 \n",
      " 8   AMT_CREDIT                   307511 non-null  float64 \n",
      " 9   AMT_ANNUITY                  307499 non-null  float64 \n",
      " 10  AMT_GOODS_PRICE              307233 non-null  float64 \n",
      " 11  NAME_TYPE_SUITE              306219 non-null  category\n",
      " 12  NAME_INCOME_TYPE             307511 non-null  category\n",
      " 13  NAME_EDUCATION_TYPE          307511 non-null  category\n",
      " 14  NAME_FAMILY_STATUS           307511 non-null  category\n",
      " 15  NAME_HOUSING_TYPE            307511 non-null  category\n",
      " 16  REGION_POPULATION_RELATIVE   307511 non-null  float64 \n",
      " 17  DAYS_BIRTH                   307511 non-null  int64   \n",
      " 18  DAYS_EMPLOYED                307511 non-null  int64   \n",
      " 19  DAYS_REGISTRATION            307511 non-null  float64 \n",
      " 20  DAYS_ID_PUBLISH              307511 non-null  int64   \n",
      " 21  OCCUPATION_TYPE              211120 non-null  category\n",
      " 22  CNT_FAM_MEMBERS              307509 non-null  float64 \n",
      " 23  REGION_RATING_CLIENT         307511 non-null  int64   \n",
      " 24  REGION_RATING_CLIENT_W_CITY  307511 non-null  int64   \n",
      " 25  WEEKDAY_APPR_PROCESS_START   307511 non-null  category\n",
      " 26  HOUR_APPR_PROCESS_START      307511 non-null  int64   \n",
      " 27  REG_REGION_NOT_LIVE_REGION   307511 non-null  int64   \n",
      " 28  REG_REGION_NOT_WORK_REGION   307511 non-null  int64   \n",
      " 29  LIVE_REGION_NOT_WORK_REGION  307511 non-null  int64   \n",
      " 30  REG_CITY_NOT_LIVE_CITY       307511 non-null  int64   \n",
      " 31  REG_CITY_NOT_WORK_CITY       307511 non-null  int64   \n",
      " 32  LIVE_CITY_NOT_WORK_CITY      307511 non-null  int64   \n",
      " 33  ORGANIZATION_TYPE            307511 non-null  category\n",
      " 34  OBS_30_CNT_SOCIAL_CIRCLE     306490 non-null  float64 \n",
      " 35  DEF_30_CNT_SOCIAL_CIRCLE     306490 non-null  float64 \n",
      " 36  OBS_60_CNT_SOCIAL_CIRCLE     306490 non-null  float64 \n",
      " 37  DEF_60_CNT_SOCIAL_CIRCLE     306490 non-null  float64 \n",
      " 38  DAYS_LAST_PHONE_CHANGE       307510 non-null  float64 \n",
      " 39  FLAG_DOCUMENT_3              307511 non-null  int64   \n",
      " 40  AMT_REQ_CREDIT_BUREAU_HOUR   265992 non-null  float64 \n",
      " 41  AMT_REQ_CREDIT_BUREAU_DAY    265992 non-null  float64 \n",
      " 42  AMT_REQ_CREDIT_BUREAU_WEEK   265992 non-null  float64 \n",
      " 43  AMT_REQ_CREDIT_BUREAU_MON    265992 non-null  float64 \n",
      " 44  AMT_REQ_CREDIT_BUREAU_QRT    265992 non-null  float64 \n",
      " 45  AMT_REQ_CREDIT_BUREAU_YEAR   265992 non-null  float64 \n",
      "dtypes: category(10), float64(18), int64(18)\n",
      "memory usage: 87.4 MB\n"
     ]
    }
   ],
   "source": [
    "# inspecting the column types after removal of unnecessary columns\n",
    "applicationDF.info()"
   ]
  },
  {
   "cell_type": "markdown",
   "metadata": {},
   "source": [
    "<p>\n",
    "    <font color = blue>\n",
    "        <em>\n",
    "After deleting unnecessary columns, there are 46 columns remaining in applicationDF\n",
    "        </em>\n",
    "    </font>\n",
    "</p> "
   ]
  },
  {
   "cell_type": "markdown",
   "metadata": {},
   "source": [
    "#### 3.3.1 Analyze other unwanted columns in previousDF"
   ]
  },
  {
   "cell_type": "code",
   "execution_count": 184,
   "metadata": {},
   "outputs": [
    {
     "data": {
      "text/plain": [
       "['AMT_DOWN_PAYMENT',\n",
       " 'RATE_DOWN_PAYMENT',\n",
       " 'RATE_INTEREST_PRIMARY',\n",
       " 'RATE_INTEREST_PRIVILEGED',\n",
       " 'NAME_TYPE_SUITE',\n",
       " 'DAYS_FIRST_DRAWING',\n",
       " 'DAYS_FIRST_DUE',\n",
       " 'DAYS_LAST_DUE_1ST_VERSION',\n",
       " 'DAYS_LAST_DUE',\n",
       " 'DAYS_TERMINATION',\n",
       " 'NFLAG_INSURED_ON_APPROVAL']"
      ]
     },
     "execution_count": 184,
     "metadata": {},
     "output_type": "execute_result"
    }
   ],
   "source": [
    "# Getting the 11 columns which has more than 40% unknown\n",
    "Unwanted_previous = nullcol_40_previous[\"index\"].tolist()\n",
    "Unwanted_previous"
   ]
  },
  {
   "cell_type": "code",
   "execution_count": 185,
   "metadata": {},
   "outputs": [],
   "source": [
    "# Listing down columns which are not needed\n",
    "Unnecessary_previous = ['WEEKDAY_APPR_PROCESS_START','HOUR_APPR_PROCESS_START',\n",
    "                        'FLAG_LAST_APPL_PER_CONTRACT','NFLAG_LAST_APPL_IN_DAY']"
   ]
  },
  {
   "cell_type": "code",
   "execution_count": 186,
   "metadata": {},
   "outputs": [
    {
     "data": {
      "text/plain": [
       "15"
      ]
     },
     "execution_count": 186,
     "metadata": {},
     "output_type": "execute_result"
    }
   ],
   "source": [
    "Unwanted_previous = Unwanted_previous + Unnecessary_previous\n",
    "len(Unwanted_previous)"
   ]
  },
  {
   "cell_type": "markdown",
   "metadata": {},
   "source": [
    "<p>\n",
    "    <font color = blue>\n",
    "        <em><b>\n",
    "Total 19 columns can be deleted from previousDF\n",
    "            </em></b>\n",
    "    </font>\n",
    "</p>"
   ]
  },
  {
   "cell_type": "code",
   "execution_count": 187,
   "metadata": {},
   "outputs": [],
   "source": [
    "# Dropping the unnecessary columns from previous\n",
    "previousDF.drop(labels=Unwanted_previous,axis=1,inplace=True)"
   ]
  },
  {
   "cell_type": "code",
   "execution_count": 188,
   "metadata": {},
   "outputs": [
    {
     "data": {
      "text/plain": [
       "(1670214, 22)"
      ]
     },
     "execution_count": 188,
     "metadata": {},
     "output_type": "execute_result"
    }
   ],
   "source": [
    "# Inspecting the dataframe after removal of unnecessary columns\n",
    "previousDF.shape"
   ]
  },
  {
   "cell_type": "code",
   "execution_count": 189,
   "metadata": {},
   "outputs": [
    {
     "name": "stdout",
     "output_type": "stream",
     "text": [
      "<class 'pandas.core.frame.DataFrame'>\n",
      "RangeIndex: 1670214 entries, 0 to 1670213\n",
      "Data columns (total 22 columns):\n",
      " #   Column                  Non-Null Count    Dtype   \n",
      "---  ------                  --------------    -----   \n",
      " 0   SK_ID_PREV              1670214 non-null  int64   \n",
      " 1   SK_ID_CURR              1670214 non-null  int64   \n",
      " 2   NAME_CONTRACT_TYPE      1670214 non-null  object  \n",
      " 3   AMT_ANNUITY             1670214 non-null  float64 \n",
      " 4   AMT_APPLICATION         1670214 non-null  float64 \n",
      " 5   AMT_CREDIT              1670213 non-null  float64 \n",
      " 6   AMT_GOODS_PRICE         1670214 non-null  float64 \n",
      " 7   NAME_CASH_LOAN_PURPOSE  1670214 non-null  category\n",
      " 8   NAME_CONTRACT_STATUS    1670214 non-null  category\n",
      " 9   DAYS_DECISION           1670214 non-null  int64   \n",
      " 10  NAME_PAYMENT_TYPE       1670214 non-null  category\n",
      " 11  CODE_REJECT_REASON      1670214 non-null  category\n",
      " 12  NAME_CLIENT_TYPE        1670214 non-null  category\n",
      " 13  NAME_GOODS_CATEGORY     1670214 non-null  category\n",
      " 14  NAME_PORTFOLIO          1670214 non-null  category\n",
      " 15  NAME_PRODUCT_TYPE       1670214 non-null  category\n",
      " 16  CHANNEL_TYPE            1670214 non-null  category\n",
      " 17  SELLERPLACE_AREA        1670214 non-null  int64   \n",
      " 18  NAME_SELLER_INDUSTRY    1670214 non-null  category\n",
      " 19  CNT_PAYMENT             1297984 non-null  float64 \n",
      " 20  NAME_YIELD_GROUP        1670214 non-null  category\n",
      " 21  PRODUCT_COMBINATION     1669868 non-null  category\n",
      "dtypes: category(12), float64(5), int64(4), object(1)\n",
      "memory usage: 146.5+ MB\n"
     ]
    }
   ],
   "source": [
    "# inspecting the column types after after removal of unnecessary columns\n",
    "previousDF.info()"
   ]
  },
  {
   "cell_type": "markdown",
   "metadata": {},
   "source": [
    "<p>\n",
    "    <font color = blue>\n",
    "        <em>\n",
    "After deleting unnecessary columns, there are 22 columns remaining in applicationDF\n",
    "        </em>\n",
    "    </font>\n",
    "</p> "
   ]
  },
  {
   "cell_type": "markdown",
   "metadata": {},
   "source": [
    "### 3.4 Null value data imputation"
   ]
  },
  {
   "cell_type": "code",
   "execution_count": 40,
   "metadata": {},
   "outputs": [
    {
     "data": {
      "text/plain": [
       "SK_ID_CURR                      0.00\n",
       "TARGET                          0.00\n",
       "NAME_CONTRACT_TYPE              0.00\n",
       "CODE_GENDER                     0.00\n",
       "FLAG_OWN_CAR                    0.00\n",
       "FLAG_OWN_REALTY                 0.00\n",
       "CNT_CHILDREN                    0.00\n",
       "AMT_INCOME_TOTAL                0.00\n",
       "AMT_CREDIT                      0.00\n",
       "AMT_ANNUITY                     0.00\n",
       "AMT_GOODS_PRICE                 0.09\n",
       "NAME_TYPE_SUITE                 0.42\n",
       "NAME_INCOME_TYPE                0.00\n",
       "NAME_EDUCATION_TYPE             0.00\n",
       "NAME_FAMILY_STATUS              0.00\n",
       "NAME_HOUSING_TYPE               0.00\n",
       "REGION_POPULATION_RELATIVE      0.00\n",
       "DAYS_BIRTH                      0.00\n",
       "DAYS_EMPLOYED                   0.00\n",
       "DAYS_REGISTRATION               0.00\n",
       "DAYS_ID_PUBLISH                 0.00\n",
       "OCCUPATION_TYPE                31.35\n",
       "CNT_FAM_MEMBERS                 0.00\n",
       "REGION_RATING_CLIENT            0.00\n",
       "REGION_RATING_CLIENT_W_CITY     0.00\n",
       "WEEKDAY_APPR_PROCESS_START      0.00\n",
       "HOUR_APPR_PROCESS_START         0.00\n",
       "REG_REGION_NOT_LIVE_REGION      0.00\n",
       "REG_REGION_NOT_WORK_REGION      0.00\n",
       "LIVE_REGION_NOT_WORK_REGION     0.00\n",
       "REG_CITY_NOT_LIVE_CITY          0.00\n",
       "REG_CITY_NOT_WORK_CITY          0.00\n",
       "LIVE_CITY_NOT_WORK_CITY         0.00\n",
       "ORGANIZATION_TYPE               0.00\n",
       "OBS_30_CNT_SOCIAL_CIRCLE        0.33\n",
       "DEF_30_CNT_SOCIAL_CIRCLE        0.33\n",
       "OBS_60_CNT_SOCIAL_CIRCLE        0.33\n",
       "DEF_60_CNT_SOCIAL_CIRCLE        0.33\n",
       "DAYS_LAST_PHONE_CHANGE          0.00\n",
       "FLAG_DOCUMENT_3                 0.00\n",
       "AMT_REQ_CREDIT_BUREAU_HOUR     13.50\n",
       "AMT_REQ_CREDIT_BUREAU_DAY      13.50\n",
       "AMT_REQ_CREDIT_BUREAU_WEEK     13.50\n",
       "AMT_REQ_CREDIT_BUREAU_MON      13.50\n",
       "AMT_REQ_CREDIT_BUREAU_QRT      13.50\n",
       "AMT_REQ_CREDIT_BUREAU_YEAR     13.50\n",
       "dtype: float64"
      ]
     },
     "execution_count": 40,
     "metadata": {},
     "output_type": "execute_result"
    }
   ],
   "source": [
    "# checking the null value % of each column in applicationDF dataframe\n",
    "round(applicationDF.isnull().sum() / applicationDF.shape[0] * 100.00,2)"
   ]
  },
  {
   "cell_type": "code",
   "execution_count": 45,
   "metadata": {},
   "outputs": [
    {
     "data": {
      "text/plain": [
       "450000.0    0.084698\n",
       "225000.0    0.082289\n",
       "675000.0    0.081248\n",
       "900000.0    0.050177\n",
       "270000.0    0.037197\n",
       "              ...   \n",
       "705892.5    0.000003\n",
       "442062.0    0.000003\n",
       "353641.5    0.000003\n",
       "353749.5    0.000003\n",
       "738945.0    0.000003\n",
       "Name: AMT_GOODS_PRICE, Length: 1002, dtype: float64"
      ]
     },
     "execution_count": 45,
     "metadata": {},
     "output_type": "execute_result"
    }
   ],
   "source": [
    "applicationDF['AMT_GOODS_PRICE'].value_counts(normalize=True)"
   ]
  },
  {
   "cell_type": "code",
   "execution_count": 48,
   "metadata": {},
   "outputs": [
    {
     "data": {
      "text/plain": [
       "278"
      ]
     },
     "execution_count": 48,
     "metadata": {},
     "output_type": "execute_result"
    }
   ],
   "source": [
    "applicationDF['AMT_GOODS_PRICE'].isnull().sum()"
   ]
  },
  {
   "cell_type": "code",
   "execution_count": null,
   "metadata": {},
   "outputs": [],
   "source": [
    "# can impute after merge? with previous amt_goods_price"
   ]
  },
  {
   "cell_type": "code",
   "execution_count": 56,
   "metadata": {},
   "outputs": [
    {
     "data": {
      "text/plain": [
       "Cash loans         278232\n",
       "Revolving loans     29279\n",
       "Name: NAME_CONTRACT_TYPE, dtype: int64"
      ]
     },
     "execution_count": 56,
     "metadata": {},
     "output_type": "execute_result"
    }
   ],
   "source": [
    "applicationDF['NAME_CONTRACT_TYPE'].value_counts()"
   ]
  },
  {
   "cell_type": "code",
   "execution_count": 107,
   "metadata": {},
   "outputs": [
    {
     "data": {
      "text/plain": [
       "Unaccompanied      0.811596\n",
       "Family             0.131112\n",
       "Spouse, partner    0.037130\n",
       "Children           0.010669\n",
       "Other_B            0.005780\n",
       "Other_A            0.002828\n",
       "Group of people    0.000885\n",
       "Name: NAME_TYPE_SUITE, dtype: float64"
      ]
     },
     "execution_count": 107,
     "metadata": {},
     "output_type": "execute_result"
    }
   ],
   "source": [
    "applicationDF['NAME_TYPE_SUITE'].value_counts(normalize=True)"
   ]
  },
  {
   "cell_type": "code",
   "execution_count": 108,
   "metadata": {},
   "outputs": [
    {
     "data": {
      "text/plain": [
       "0    Unaccompanied\n",
       "Name: NAME_TYPE_SUITE, dtype: category\n",
       "Categories (7, object): [Children, Family, Group of people, Other_A, Other_B, Spouse, partner, Unaccompanied]"
      ]
     },
     "execution_count": 108,
     "metadata": {},
     "output_type": "execute_result"
    }
   ],
   "source": [
    "applicationDF['NAME_TYPE_SUITE'].mode(0)"
   ]
  },
  {
   "cell_type": "code",
   "execution_count": 115,
   "metadata": {},
   "outputs": [],
   "source": [
    "applicationDF['NAME_TYPE_SUITE'].fillna((applicationDF['NAME_TYPE_SUITE'].mode()[0]),inplace = True)"
   ]
  },
  {
   "cell_type": "code",
   "execution_count": 116,
   "metadata": {},
   "outputs": [
    {
     "data": {
      "text/plain": [
       "Unaccompanied      0.812387\n",
       "Family             0.130561\n",
       "Spouse, partner    0.036974\n",
       "Children           0.010624\n",
       "Other_B            0.005756\n",
       "Other_A            0.002816\n",
       "Group of people    0.000881\n",
       "Name: NAME_TYPE_SUITE, dtype: float64"
      ]
     },
     "execution_count": 116,
     "metadata": {},
     "output_type": "execute_result"
    }
   ],
   "source": [
    "applicationDF['NAME_TYPE_SUITE'].value_counts(normalize=True)"
   ]
  },
  {
   "cell_type": "code",
   "execution_count": 117,
   "metadata": {},
   "outputs": [
    {
     "data": {
      "text/plain": [
       "0"
      ]
     },
     "execution_count": 117,
     "metadata": {},
     "output_type": "execute_result"
    }
   ],
   "source": [
    "applicationDF['NAME_TYPE_SUITE'].isnull().sum()"
   ]
  },
  {
   "cell_type": "code",
   "execution_count": 71,
   "metadata": {},
   "outputs": [
    {
     "data": {
      "text/plain": [
       "96391"
      ]
     },
     "execution_count": 71,
     "metadata": {},
     "output_type": "execute_result"
    }
   ],
   "source": [
    "applicationDF['OCCUPATION_TYPE'].isnull().sum()"
   ]
  },
  {
   "cell_type": "code",
   "execution_count": 63,
   "metadata": {},
   "outputs": [
    {
     "data": {
      "text/plain": [
       "Laborers                 0.261396\n",
       "Sales staff              0.152056\n",
       "Core staff               0.130589\n",
       "Managers                 0.101227\n",
       "Drivers                  0.088116\n",
       "High skill tech staff    0.053903\n",
       "Accountants              0.046481\n",
       "Medicine staff           0.040437\n",
       "Security staff           0.031835\n",
       "Cooking staff            0.028164\n",
       "Cleaning staff           0.022040\n",
       "Private service staff    0.012562\n",
       "Low-skill Laborers       0.009914\n",
       "Waiters/barmen staff     0.006385\n",
       "Secretaries              0.006181\n",
       "Realty agents            0.003557\n",
       "HR staff                 0.002667\n",
       "IT staff                 0.002491\n",
       "Name: OCCUPATION_TYPE, dtype: float64"
      ]
     },
     "execution_count": 63,
     "metadata": {},
     "output_type": "execute_result"
    }
   ],
   "source": [
    "applicationDF['OCCUPATION_TYPE'].value_counts(normalize=True)                "
   ]
  },
  {
   "cell_type": "code",
   "execution_count": 73,
   "metadata": {},
   "outputs": [],
   "source": [
    "# Null values are 31% and could be a implicit category by institution\n",
    "# hence replace those values with a new category “Unknown”\n",
    "applicationDF['OCCUPATION_TYPE'] = applicationDF['OCCUPATION_TYPE'].cat.add_categories('Unknown')\n",
    "applicationDF['OCCUPATION_TYPE'].fillna('Unknown', inplace =True) "
   ]
  },
  {
   "cell_type": "code",
   "execution_count": 77,
   "metadata": {},
   "outputs": [
    {
     "data": {
      "text/plain": [
       "1021"
      ]
     },
     "execution_count": 77,
     "metadata": {},
     "output_type": "execute_result"
    }
   ],
   "source": [
    "applicationDF['OBS_30_CNT_SOCIAL_CIRCLE'].isnull().sum()"
   ]
  },
  {
   "cell_type": "code",
   "execution_count": 78,
   "metadata": {},
   "outputs": [
    {
     "data": {
      "text/plain": [
       "0.0      0.534797\n",
       "1.0      0.159167\n",
       "2.0      0.097256\n",
       "3.0      0.066306\n",
       "4.0      0.046145\n",
       "5.0      0.031169\n",
       "6.0      0.021055\n",
       "7.0      0.014323\n",
       "8.0      0.009681\n",
       "9.0      0.006535\n",
       "10.0     0.004490\n",
       "11.0     0.002780\n",
       "12.0     0.002127\n",
       "13.0     0.001341\n",
       "14.0     0.000842\n",
       "15.0     0.000542\n",
       "16.0     0.000434\n",
       "17.0     0.000287\n",
       "18.0     0.000150\n",
       "19.0     0.000144\n",
       "20.0     0.000098\n",
       "21.0     0.000095\n",
       "22.0     0.000072\n",
       "23.0     0.000049\n",
       "24.0     0.000036\n",
       "25.0     0.000036\n",
       "27.0     0.000016\n",
       "26.0     0.000010\n",
       "30.0     0.000007\n",
       "28.0     0.000003\n",
       "348.0    0.000003\n",
       "29.0     0.000003\n",
       "47.0     0.000003\n",
       "Name: OBS_30_CNT_SOCIAL_CIRCLE, dtype: float64"
      ]
     },
     "execution_count": 78,
     "metadata": {},
     "output_type": "execute_result"
    }
   ],
   "source": [
    "applicationDF['OBS_30_CNT_SOCIAL_CIRCLE'].value_counts(normalize=True)                "
   ]
  },
  {
   "cell_type": "markdown",
   "metadata": {},
   "source": [
    "Imputing mode, mean or median values on these columns might influence the defaulter vs repayer decision and hence lets use -1 "
   ]
  },
  {
   "cell_type": "code",
   "execution_count": 81,
   "metadata": {},
   "outputs": [],
   "source": [
    "applicationDF['OBS_30_CNT_SOCIAL_CIRCLE'].fillna(-1,inplace = True)\n",
    "applicationDF['DEF_30_CNT_SOCIAL_CIRCLE'].fillna(-1,inplace = True)\n",
    "applicationDF['OBS_60_CNT_SOCIAL_CIRCLE'].fillna(-1,inplace = True)\n",
    "applicationDF['DEF_60_CNT_SOCIAL_CIRCLE'].fillna(-1,inplace = True)"
   ]
  },
  {
   "cell_type": "code",
   "execution_count": 83,
   "metadata": {},
   "outputs": [
    {
     "data": {
      "text/plain": [
       "41519"
      ]
     },
     "execution_count": 83,
     "metadata": {},
     "output_type": "execute_result"
    }
   ],
   "source": [
    "applicationDF['AMT_REQ_CREDIT_BUREAU_HOUR'].isnull().sum()"
   ]
  },
  {
   "cell_type": "code",
   "execution_count": 84,
   "metadata": {},
   "outputs": [
    {
     "data": {
      "text/plain": [
       "0.0    0.993887\n",
       "1.0    0.005865\n",
       "2.0    0.000211\n",
       "3.0    0.000034\n",
       "4.0    0.000004\n",
       "Name: AMT_REQ_CREDIT_BUREAU_HOUR, dtype: float64"
      ]
     },
     "execution_count": 84,
     "metadata": {},
     "output_type": "execute_result"
    }
   ],
   "source": [
    "applicationDF['AMT_REQ_CREDIT_BUREAU_HOUR'].value_counts(normalize=True)                "
   ]
  },
  {
   "cell_type": "code",
   "execution_count": 88,
   "metadata": {},
   "outputs": [
    {
     "data": {
      "text/plain": [
       "0.006402448193930645"
      ]
     },
     "execution_count": 88,
     "metadata": {},
     "output_type": "execute_result"
    }
   ],
   "source": [
    "applicationDF['AMT_REQ_CREDIT_BUREAU_HOUR'].mean()             "
   ]
  },
  {
   "cell_type": "code",
   "execution_count": 87,
   "metadata": {},
   "outputs": [
    {
     "data": {
      "text/plain": [
       "0.0"
      ]
     },
     "execution_count": 87,
     "metadata": {},
     "output_type": "execute_result"
    }
   ],
   "source": [
    "applicationDF['AMT_REQ_CREDIT_BUREAU_HOUR'].median()              "
   ]
  },
  {
   "cell_type": "code",
   "execution_count": 95,
   "metadata": {},
   "outputs": [
    {
     "data": {
      "text/plain": [
       "0.0    0.994402\n",
       "1.0    0.004857\n",
       "2.0    0.000399\n",
       "3.0    0.000169\n",
       "4.0    0.000098\n",
       "5.0    0.000034\n",
       "6.0    0.000030\n",
       "9.0    0.000008\n",
       "8.0    0.000004\n",
       "Name: AMT_REQ_CREDIT_BUREAU_DAY, dtype: float64"
      ]
     },
     "execution_count": 95,
     "metadata": {},
     "output_type": "execute_result"
    }
   ],
   "source": [
    "applicationDF['AMT_REQ_CREDIT_BUREAU_DAY'].value_counts(normalize=True)                "
   ]
  },
  {
   "cell_type": "code",
   "execution_count": 97,
   "metadata": {},
   "outputs": [
    {
     "data": {
      "text/plain": [
       "0.0    0.967909\n",
       "1.0    0.030858\n",
       "2.0    0.000748\n",
       "3.0    0.000218\n",
       "4.0    0.000128\n",
       "6.0    0.000075\n",
       "5.0    0.000038\n",
       "8.0    0.000019\n",
       "7.0    0.000008\n",
       "Name: AMT_REQ_CREDIT_BUREAU_WEEK, dtype: float64"
      ]
     },
     "execution_count": 97,
     "metadata": {},
     "output_type": "execute_result"
    }
   ],
   "source": [
    "applicationDF['AMT_REQ_CREDIT_BUREAU_WEEK'].value_counts(normalize=True)                "
   ]
  },
  {
   "cell_type": "code",
   "execution_count": 98,
   "metadata": {},
   "outputs": [
    {
     "data": {
      "text/plain": [
       "0.0     0.835488\n",
       "1.0     0.124617\n",
       "2.0     0.020249\n",
       "3.0     0.007485\n",
       "4.0     0.004045\n",
       "5.0     0.002263\n",
       "6.0     0.001290\n",
       "7.0     0.001120\n",
       "9.0     0.000774\n",
       "8.0     0.000696\n",
       "10.0    0.000496\n",
       "11.0    0.000447\n",
       "12.0    0.000289\n",
       "13.0    0.000271\n",
       "14.0    0.000150\n",
       "15.0    0.000132\n",
       "16.0    0.000086\n",
       "17.0    0.000053\n",
       "18.0    0.000023\n",
       "19.0    0.000011\n",
       "24.0    0.000004\n",
       "27.0    0.000004\n",
       "22.0    0.000004\n",
       "23.0    0.000004\n",
       "Name: AMT_REQ_CREDIT_BUREAU_MON, dtype: float64"
      ]
     },
     "execution_count": 98,
     "metadata": {},
     "output_type": "execute_result"
    }
   ],
   "source": [
    "applicationDF['AMT_REQ_CREDIT_BUREAU_MON'].value_counts(normalize=True)                "
   ]
  },
  {
   "cell_type": "code",
   "execution_count": 99,
   "metadata": {},
   "outputs": [
    {
     "data": {
      "text/plain": [
       "0.0      0.809863\n",
       "1.0      0.127305\n",
       "2.0      0.054182\n",
       "3.0      0.006455\n",
       "4.0      0.001790\n",
       "5.0      0.000241\n",
       "6.0      0.000105\n",
       "7.0      0.000026\n",
       "8.0      0.000026\n",
       "19.0     0.000004\n",
       "261.0    0.000004\n",
       "Name: AMT_REQ_CREDIT_BUREAU_QRT, dtype: float64"
      ]
     },
     "execution_count": 99,
     "metadata": {},
     "output_type": "execute_result"
    }
   ],
   "source": [
    "applicationDF['AMT_REQ_CREDIT_BUREAU_QRT'].value_counts(normalize=True)                "
   ]
  },
  {
   "cell_type": "code",
   "execution_count": 100,
   "metadata": {},
   "outputs": [
    {
     "data": {
      "text/plain": [
       "0.0     0.269937\n",
       "1.0     0.238372\n",
       "2.0     0.188697\n",
       "3.0     0.126425\n",
       "4.0     0.077875\n",
       "5.0     0.045310\n",
       "6.0     0.026193\n",
       "7.0     0.014546\n",
       "8.0     0.007996\n",
       "9.0     0.004120\n",
       "11.0    0.000117\n",
       "12.0    0.000113\n",
       "10.0    0.000083\n",
       "13.0    0.000071\n",
       "14.0    0.000038\n",
       "17.0    0.000026\n",
       "15.0    0.000023\n",
       "19.0    0.000015\n",
       "18.0    0.000015\n",
       "16.0    0.000011\n",
       "21.0    0.000004\n",
       "23.0    0.000004\n",
       "25.0    0.000004\n",
       "20.0    0.000004\n",
       "22.0    0.000004\n",
       "Name: AMT_REQ_CREDIT_BUREAU_YEAR, dtype: float64"
      ]
     },
     "execution_count": 100,
     "metadata": {},
     "output_type": "execute_result"
    }
   ],
   "source": [
    "applicationDF['AMT_REQ_CREDIT_BUREAU_YEAR'].value_counts(normalize=True)                "
   ]
  },
  {
   "cell_type": "code",
   "execution_count": 101,
   "metadata": {},
   "outputs": [
    {
     "data": {
      "text/plain": [
       "1.899974435321363"
      ]
     },
     "execution_count": 101,
     "metadata": {},
     "output_type": "execute_result"
    }
   ],
   "source": [
    "applicationDF['AMT_REQ_CREDIT_BUREAU_YEAR'].mean()"
   ]
  },
  {
   "cell_type": "code",
   "execution_count": 102,
   "metadata": {},
   "outputs": [
    {
     "data": {
      "text/plain": [
       "1.0"
      ]
     },
     "execution_count": 102,
     "metadata": {},
     "output_type": "execute_result"
    }
   ],
   "source": [
    "applicationDF['AMT_REQ_CREDIT_BUREAU_YEAR'].median()"
   ]
  },
  {
   "cell_type": "code",
   "execution_count": 103,
   "metadata": {},
   "outputs": [],
   "source": [
    "# Impute with median as mean has decimals and this is number of people.\n",
    "applicationDF['AMT_REQ_CREDIT_BUREAU_HOUR'].fillna(applicationDF['AMT_REQ_CREDIT_BUREAU_HOUR'].median(),inplace = True)\n",
    "applicationDF['AMT_REQ_CREDIT_BUREAU_DAY'].fillna(applicationDF['AMT_REQ_CREDIT_BUREAU_DAY'].median(),inplace = True)\n",
    "applicationDF['AMT_REQ_CREDIT_BUREAU_WEEK'].fillna(applicationDF['AMT_REQ_CREDIT_BUREAU_WEEK'].median(),inplace = True)\n",
    "applicationDF['AMT_REQ_CREDIT_BUREAU_MON'].fillna(applicationDF['AMT_REQ_CREDIT_BUREAU_MON'].median(),inplace = True)\n",
    "applicationDF['AMT_REQ_CREDIT_BUREAU_QRT'].fillna(applicationDF['AMT_REQ_CREDIT_BUREAU_QRT'].median(),inplace = True)\n",
    "applicationDF['AMT_REQ_CREDIT_BUREAU_YEAR'].fillna(applicationDF['AMT_REQ_CREDIT_BUREAU_YEAR'].median(),inplace = True)"
   ]
  },
  {
   "cell_type": "code",
   "execution_count": 118,
   "metadata": {},
   "outputs": [
    {
     "data": {
      "text/plain": [
       "SK_ID_CURR                     0.00\n",
       "TARGET                         0.00\n",
       "NAME_CONTRACT_TYPE             0.00\n",
       "CODE_GENDER                    0.00\n",
       "FLAG_OWN_CAR                   0.00\n",
       "FLAG_OWN_REALTY                0.00\n",
       "CNT_CHILDREN                   0.00\n",
       "AMT_INCOME_TOTAL               0.00\n",
       "AMT_CREDIT                     0.00\n",
       "AMT_ANNUITY                    0.00\n",
       "AMT_GOODS_PRICE                0.02\n",
       "NAME_TYPE_SUITE                0.00\n",
       "NAME_INCOME_TYPE               0.00\n",
       "NAME_EDUCATION_TYPE            0.00\n",
       "NAME_FAMILY_STATUS             0.00\n",
       "NAME_HOUSING_TYPE              0.00\n",
       "REGION_POPULATION_RELATIVE     0.00\n",
       "DAYS_BIRTH                     0.00\n",
       "DAYS_EMPLOYED                  0.00\n",
       "DAYS_REGISTRATION              0.00\n",
       "DAYS_ID_PUBLISH                0.00\n",
       "OCCUPATION_TYPE                0.00\n",
       "CNT_FAM_MEMBERS                0.00\n",
       "REGION_RATING_CLIENT           0.00\n",
       "REGION_RATING_CLIENT_W_CITY    0.00\n",
       "WEEKDAY_APPR_PROCESS_START     0.00\n",
       "HOUR_APPR_PROCESS_START        0.00\n",
       "REG_REGION_NOT_LIVE_REGION     0.00\n",
       "REG_REGION_NOT_WORK_REGION     0.00\n",
       "LIVE_REGION_NOT_WORK_REGION    0.00\n",
       "REG_CITY_NOT_LIVE_CITY         0.00\n",
       "REG_CITY_NOT_WORK_CITY         0.00\n",
       "LIVE_CITY_NOT_WORK_CITY        0.00\n",
       "ORGANIZATION_TYPE              0.00\n",
       "OBS_30_CNT_SOCIAL_CIRCLE       0.00\n",
       "DEF_30_CNT_SOCIAL_CIRCLE       0.00\n",
       "OBS_60_CNT_SOCIAL_CIRCLE       0.00\n",
       "DEF_60_CNT_SOCIAL_CIRCLE       0.00\n",
       "DAYS_LAST_PHONE_CHANGE         0.00\n",
       "FLAG_DOCUMENT_3                0.00\n",
       "AMT_REQ_CREDIT_BUREAU_HOUR     0.00\n",
       "AMT_REQ_CREDIT_BUREAU_DAY      0.00\n",
       "AMT_REQ_CREDIT_BUREAU_WEEK     0.00\n",
       "AMT_REQ_CREDIT_BUREAU_MON      0.00\n",
       "AMT_REQ_CREDIT_BUREAU_QRT      0.00\n",
       "AMT_REQ_CREDIT_BUREAU_YEAR     0.00\n",
       "dtype: float64"
      ]
     },
     "execution_count": 118,
     "metadata": {},
     "output_type": "execute_result"
    }
   ],
   "source": [
    "# checking the null value % of each column in previousDF dataframe\n",
    "round(applicationDF.isnull().sum() / previousDF.shape[0] * 100.00,2)"
   ]
  },
  {
   "cell_type": "markdown",
   "metadata": {},
   "source": [
    "#### impute on previous DF"
   ]
  },
  {
   "cell_type": "code",
   "execution_count": 190,
   "metadata": {},
   "outputs": [
    {
     "data": {
      "text/plain": [
       "SK_ID_PREV                 0.00\n",
       "SK_ID_CURR                 0.00\n",
       "NAME_CONTRACT_TYPE         0.00\n",
       "AMT_ANNUITY                0.00\n",
       "AMT_APPLICATION            0.00\n",
       "AMT_CREDIT                 0.00\n",
       "AMT_GOODS_PRICE            0.00\n",
       "NAME_CASH_LOAN_PURPOSE     0.00\n",
       "NAME_CONTRACT_STATUS       0.00\n",
       "DAYS_DECISION              0.00\n",
       "NAME_PAYMENT_TYPE          0.00\n",
       "CODE_REJECT_REASON         0.00\n",
       "NAME_CLIENT_TYPE           0.00\n",
       "NAME_GOODS_CATEGORY        0.00\n",
       "NAME_PORTFOLIO             0.00\n",
       "NAME_PRODUCT_TYPE          0.00\n",
       "CHANNEL_TYPE               0.00\n",
       "SELLERPLACE_AREA           0.00\n",
       "NAME_SELLER_INDUSTRY       0.00\n",
       "CNT_PAYMENT               22.29\n",
       "NAME_YIELD_GROUP           0.00\n",
       "PRODUCT_COMBINATION        0.02\n",
       "dtype: float64"
      ]
     },
     "execution_count": 190,
     "metadata": {},
     "output_type": "execute_result"
    }
   ],
   "source": [
    "# checking the null value % of each column in previousDF dataframe\n",
    "round(previousDF.isnull().sum() / previousDF.shape[0] * 100.00,2)"
   ]
  },
  {
   "cell_type": "code",
   "execution_count": 178,
   "metadata": {},
   "outputs": [
    {
     "data": {
      "text/plain": [
       "2250.000     2.454970e-02\n",
       "11250.000    1.076597e-02\n",
       "6750.000     1.035610e-02\n",
       "9000.000     9.627274e-03\n",
       "22500.000    9.170410e-03\n",
       "                 ...     \n",
       "30073.860    7.704285e-07\n",
       "41845.365    7.704285e-07\n",
       "36622.620    7.704285e-07\n",
       "41864.760    7.704285e-07\n",
       "63715.905    7.704285e-07\n",
       "Name: AMT_ANNUITY, Length: 357959, dtype: float64"
      ]
     },
     "execution_count": 178,
     "metadata": {},
     "output_type": "execute_result"
    }
   ],
   "source": [
    "previousDF['AMT_ANNUITY'].value_counts(normalize=True)                "
   ]
  },
  {
   "cell_type": "code",
   "execution_count": 137,
   "metadata": {},
   "outputs": [
    {
     "data": {
      "text/plain": [
       "372235"
      ]
     },
     "execution_count": 137,
     "metadata": {},
     "output_type": "execute_result"
    }
   ],
   "source": [
    "previousDF['AMT_ANNUITY'].isnull().sum()"
   ]
  },
  {
   "cell_type": "code",
   "execution_count": 138,
   "metadata": {},
   "outputs": [
    {
     "data": {
      "text/html": [
       "<div>\n",
       "<style scoped>\n",
       "    .dataframe tbody tr th:only-of-type {\n",
       "        vertical-align: middle;\n",
       "    }\n",
       "\n",
       "    .dataframe tbody tr th {\n",
       "        vertical-align: top;\n",
       "    }\n",
       "\n",
       "    .dataframe thead th {\n",
       "        text-align: right;\n",
       "    }\n",
       "</style>\n",
       "<table border=\"1\" class=\"dataframe\">\n",
       "  <thead>\n",
       "    <tr style=\"text-align: right;\">\n",
       "      <th></th>\n",
       "      <th>SK_ID_PREV</th>\n",
       "      <th>SK_ID_CURR</th>\n",
       "      <th>NAME_CONTRACT_TYPE</th>\n",
       "      <th>AMT_ANNUITY</th>\n",
       "      <th>AMT_APPLICATION</th>\n",
       "      <th>AMT_CREDIT</th>\n",
       "      <th>AMT_GOODS_PRICE</th>\n",
       "      <th>NAME_CASH_LOAN_PURPOSE</th>\n",
       "      <th>NAME_CONTRACT_STATUS</th>\n",
       "      <th>DAYS_DECISION</th>\n",
       "      <th>NAME_PAYMENT_TYPE</th>\n",
       "      <th>CODE_REJECT_REASON</th>\n",
       "      <th>NAME_CLIENT_TYPE</th>\n",
       "      <th>NAME_GOODS_CATEGORY</th>\n",
       "      <th>NAME_PORTFOLIO</th>\n",
       "      <th>NAME_PRODUCT_TYPE</th>\n",
       "      <th>CHANNEL_TYPE</th>\n",
       "      <th>SELLERPLACE_AREA</th>\n",
       "      <th>NAME_SELLER_INDUSTRY</th>\n",
       "      <th>CNT_PAYMENT</th>\n",
       "      <th>NAME_YIELD_GROUP</th>\n",
       "      <th>PRODUCT_COMBINATION</th>\n",
       "    </tr>\n",
       "  </thead>\n",
       "  <tbody>\n",
       "    <tr>\n",
       "      <th>6</th>\n",
       "      <td>2315218</td>\n",
       "      <td>175704</td>\n",
       "      <td>Cash loans</td>\n",
       "      <td>NaN</td>\n",
       "      <td>0.0</td>\n",
       "      <td>0.0</td>\n",
       "      <td>NaN</td>\n",
       "      <td>XNA</td>\n",
       "      <td>Canceled</td>\n",
       "      <td>-14</td>\n",
       "      <td>XNA</td>\n",
       "      <td>XAP</td>\n",
       "      <td>Repeater</td>\n",
       "      <td>XNA</td>\n",
       "      <td>XNA</td>\n",
       "      <td>XNA</td>\n",
       "      <td>Credit and cash offices</td>\n",
       "      <td>-1</td>\n",
       "      <td>XNA</td>\n",
       "      <td>NaN</td>\n",
       "      <td>XNA</td>\n",
       "      <td>Cash</td>\n",
       "    </tr>\n",
       "    <tr>\n",
       "      <th>7</th>\n",
       "      <td>1656711</td>\n",
       "      <td>296299</td>\n",
       "      <td>Cash loans</td>\n",
       "      <td>NaN</td>\n",
       "      <td>0.0</td>\n",
       "      <td>0.0</td>\n",
       "      <td>NaN</td>\n",
       "      <td>XNA</td>\n",
       "      <td>Canceled</td>\n",
       "      <td>-21</td>\n",
       "      <td>XNA</td>\n",
       "      <td>XAP</td>\n",
       "      <td>Repeater</td>\n",
       "      <td>XNA</td>\n",
       "      <td>XNA</td>\n",
       "      <td>XNA</td>\n",
       "      <td>Credit and cash offices</td>\n",
       "      <td>-1</td>\n",
       "      <td>XNA</td>\n",
       "      <td>NaN</td>\n",
       "      <td>XNA</td>\n",
       "      <td>Cash</td>\n",
       "    </tr>\n",
       "    <tr>\n",
       "      <th>8</th>\n",
       "      <td>2367563</td>\n",
       "      <td>342292</td>\n",
       "      <td>Cash loans</td>\n",
       "      <td>NaN</td>\n",
       "      <td>0.0</td>\n",
       "      <td>0.0</td>\n",
       "      <td>NaN</td>\n",
       "      <td>XNA</td>\n",
       "      <td>Canceled</td>\n",
       "      <td>-386</td>\n",
       "      <td>XNA</td>\n",
       "      <td>XAP</td>\n",
       "      <td>Repeater</td>\n",
       "      <td>XNA</td>\n",
       "      <td>XNA</td>\n",
       "      <td>XNA</td>\n",
       "      <td>Credit and cash offices</td>\n",
       "      <td>-1</td>\n",
       "      <td>XNA</td>\n",
       "      <td>NaN</td>\n",
       "      <td>XNA</td>\n",
       "      <td>Cash</td>\n",
       "    </tr>\n",
       "    <tr>\n",
       "      <th>9</th>\n",
       "      <td>2579447</td>\n",
       "      <td>334349</td>\n",
       "      <td>Cash loans</td>\n",
       "      <td>NaN</td>\n",
       "      <td>0.0</td>\n",
       "      <td>0.0</td>\n",
       "      <td>NaN</td>\n",
       "      <td>XNA</td>\n",
       "      <td>Canceled</td>\n",
       "      <td>-57</td>\n",
       "      <td>XNA</td>\n",
       "      <td>XAP</td>\n",
       "      <td>Repeater</td>\n",
       "      <td>XNA</td>\n",
       "      <td>XNA</td>\n",
       "      <td>XNA</td>\n",
       "      <td>Credit and cash offices</td>\n",
       "      <td>-1</td>\n",
       "      <td>XNA</td>\n",
       "      <td>NaN</td>\n",
       "      <td>XNA</td>\n",
       "      <td>Cash</td>\n",
       "    </tr>\n",
       "    <tr>\n",
       "      <th>22</th>\n",
       "      <td>1172842</td>\n",
       "      <td>302212</td>\n",
       "      <td>Cash loans</td>\n",
       "      <td>NaN</td>\n",
       "      <td>0.0</td>\n",
       "      <td>0.0</td>\n",
       "      <td>NaN</td>\n",
       "      <td>XNA</td>\n",
       "      <td>Refused</td>\n",
       "      <td>-239</td>\n",
       "      <td>XNA</td>\n",
       "      <td>HC</td>\n",
       "      <td>Repeater</td>\n",
       "      <td>XNA</td>\n",
       "      <td>XNA</td>\n",
       "      <td>XNA</td>\n",
       "      <td>Credit and cash offices</td>\n",
       "      <td>-1</td>\n",
       "      <td>XNA</td>\n",
       "      <td>NaN</td>\n",
       "      <td>XNA</td>\n",
       "      <td>Cash</td>\n",
       "    </tr>\n",
       "    <tr>\n",
       "      <th>...</th>\n",
       "      <td>...</td>\n",
       "      <td>...</td>\n",
       "      <td>...</td>\n",
       "      <td>...</td>\n",
       "      <td>...</td>\n",
       "      <td>...</td>\n",
       "      <td>...</td>\n",
       "      <td>...</td>\n",
       "      <td>...</td>\n",
       "      <td>...</td>\n",
       "      <td>...</td>\n",
       "      <td>...</td>\n",
       "      <td>...</td>\n",
       "      <td>...</td>\n",
       "      <td>...</td>\n",
       "      <td>...</td>\n",
       "      <td>...</td>\n",
       "      <td>...</td>\n",
       "      <td>...</td>\n",
       "      <td>...</td>\n",
       "      <td>...</td>\n",
       "      <td>...</td>\n",
       "    </tr>\n",
       "    <tr>\n",
       "      <th>1670187</th>\n",
       "      <td>1971628</td>\n",
       "      <td>435554</td>\n",
       "      <td>Cash loans</td>\n",
       "      <td>NaN</td>\n",
       "      <td>0.0</td>\n",
       "      <td>0.0</td>\n",
       "      <td>NaN</td>\n",
       "      <td>XNA</td>\n",
       "      <td>Canceled</td>\n",
       "      <td>-134</td>\n",
       "      <td>XNA</td>\n",
       "      <td>XAP</td>\n",
       "      <td>Repeater</td>\n",
       "      <td>XNA</td>\n",
       "      <td>XNA</td>\n",
       "      <td>XNA</td>\n",
       "      <td>Contact center</td>\n",
       "      <td>-1</td>\n",
       "      <td>XNA</td>\n",
       "      <td>NaN</td>\n",
       "      <td>XNA</td>\n",
       "      <td>Cash</td>\n",
       "    </tr>\n",
       "    <tr>\n",
       "      <th>1670190</th>\n",
       "      <td>2381880</td>\n",
       "      <td>175920</td>\n",
       "      <td>Cash loans</td>\n",
       "      <td>NaN</td>\n",
       "      <td>0.0</td>\n",
       "      <td>0.0</td>\n",
       "      <td>NaN</td>\n",
       "      <td>XNA</td>\n",
       "      <td>Canceled</td>\n",
       "      <td>-243</td>\n",
       "      <td>XNA</td>\n",
       "      <td>XAP</td>\n",
       "      <td>Repeater</td>\n",
       "      <td>XNA</td>\n",
       "      <td>XNA</td>\n",
       "      <td>XNA</td>\n",
       "      <td>Contact center</td>\n",
       "      <td>-1</td>\n",
       "      <td>XNA</td>\n",
       "      <td>NaN</td>\n",
       "      <td>XNA</td>\n",
       "      <td>Cash</td>\n",
       "    </tr>\n",
       "    <tr>\n",
       "      <th>1670193</th>\n",
       "      <td>1120445</td>\n",
       "      <td>179433</td>\n",
       "      <td>Revolving loans</td>\n",
       "      <td>NaN</td>\n",
       "      <td>0.0</td>\n",
       "      <td>0.0</td>\n",
       "      <td>NaN</td>\n",
       "      <td>XAP</td>\n",
       "      <td>Refused</td>\n",
       "      <td>-365</td>\n",
       "      <td>XNA</td>\n",
       "      <td>HC</td>\n",
       "      <td>Refreshed</td>\n",
       "      <td>XNA</td>\n",
       "      <td>XNA</td>\n",
       "      <td>XNA</td>\n",
       "      <td>AP+ (Cash loan)</td>\n",
       "      <td>10</td>\n",
       "      <td>XNA</td>\n",
       "      <td>NaN</td>\n",
       "      <td>XNA</td>\n",
       "      <td>Card Street</td>\n",
       "    </tr>\n",
       "    <tr>\n",
       "      <th>1670196</th>\n",
       "      <td>1662123</td>\n",
       "      <td>398290</td>\n",
       "      <td>Consumer loans</td>\n",
       "      <td>NaN</td>\n",
       "      <td>57910.5</td>\n",
       "      <td>57910.5</td>\n",
       "      <td>57910.5</td>\n",
       "      <td>XAP</td>\n",
       "      <td>Unused offer</td>\n",
       "      <td>-289</td>\n",
       "      <td>Cash through the bank</td>\n",
       "      <td>CLIENT</td>\n",
       "      <td>Repeater</td>\n",
       "      <td>Mobile</td>\n",
       "      <td>XNA</td>\n",
       "      <td>XNA</td>\n",
       "      <td>Country-wide</td>\n",
       "      <td>96</td>\n",
       "      <td>Connectivity</td>\n",
       "      <td>NaN</td>\n",
       "      <td>XNA</td>\n",
       "      <td>POS mobile with interest</td>\n",
       "    </tr>\n",
       "    <tr>\n",
       "      <th>1670203</th>\n",
       "      <td>2844282</td>\n",
       "      <td>383898</td>\n",
       "      <td>Consumer loans</td>\n",
       "      <td>NaN</td>\n",
       "      <td>14791.5</td>\n",
       "      <td>14791.5</td>\n",
       "      <td>14791.5</td>\n",
       "      <td>XAP</td>\n",
       "      <td>Refused</td>\n",
       "      <td>-1848</td>\n",
       "      <td>Cash through the bank</td>\n",
       "      <td>XNA</td>\n",
       "      <td>New</td>\n",
       "      <td>Mobile</td>\n",
       "      <td>XNA</td>\n",
       "      <td>XNA</td>\n",
       "      <td>Stone</td>\n",
       "      <td>106</td>\n",
       "      <td>Connectivity</td>\n",
       "      <td>NaN</td>\n",
       "      <td>XNA</td>\n",
       "      <td>POS mobile with interest</td>\n",
       "    </tr>\n",
       "  </tbody>\n",
       "</table>\n",
       "<p>372235 rows × 22 columns</p>\n",
       "</div>"
      ],
      "text/plain": [
       "         SK_ID_PREV  SK_ID_CURR NAME_CONTRACT_TYPE  AMT_ANNUITY  AMT_APPLICATION  AMT_CREDIT  AMT_GOODS_PRICE NAME_CASH_LOAN_PURPOSE NAME_CONTRACT_STATUS  DAYS_DECISION      NAME_PAYMENT_TYPE CODE_REJECT_REASON NAME_CLIENT_TYPE NAME_GOODS_CATEGORY NAME_PORTFOLIO NAME_PRODUCT_TYPE             CHANNEL_TYPE  SELLERPLACE_AREA NAME_SELLER_INDUSTRY  CNT_PAYMENT NAME_YIELD_GROUP       PRODUCT_COMBINATION\n",
       "6           2315218      175704         Cash loans          NaN              0.0         0.0              NaN                    XNA             Canceled            -14                    XNA                XAP         Repeater                 XNA            XNA               XNA  Credit and cash offices                -1                  XNA          NaN              XNA                      Cash\n",
       "7           1656711      296299         Cash loans          NaN              0.0         0.0              NaN                    XNA             Canceled            -21                    XNA                XAP         Repeater                 XNA            XNA               XNA  Credit and cash offices                -1                  XNA          NaN              XNA                      Cash\n",
       "8           2367563      342292         Cash loans          NaN              0.0         0.0              NaN                    XNA             Canceled           -386                    XNA                XAP         Repeater                 XNA            XNA               XNA  Credit and cash offices                -1                  XNA          NaN              XNA                      Cash\n",
       "9           2579447      334349         Cash loans          NaN              0.0         0.0              NaN                    XNA             Canceled            -57                    XNA                XAP         Repeater                 XNA            XNA               XNA  Credit and cash offices                -1                  XNA          NaN              XNA                      Cash\n",
       "22          1172842      302212         Cash loans          NaN              0.0         0.0              NaN                    XNA              Refused           -239                    XNA                 HC         Repeater                 XNA            XNA               XNA  Credit and cash offices                -1                  XNA          NaN              XNA                      Cash\n",
       "...             ...         ...                ...          ...              ...         ...              ...                    ...                  ...            ...                    ...                ...              ...                 ...            ...               ...                      ...               ...                  ...          ...              ...                       ...\n",
       "1670187     1971628      435554         Cash loans          NaN              0.0         0.0              NaN                    XNA             Canceled           -134                    XNA                XAP         Repeater                 XNA            XNA               XNA           Contact center                -1                  XNA          NaN              XNA                      Cash\n",
       "1670190     2381880      175920         Cash loans          NaN              0.0         0.0              NaN                    XNA             Canceled           -243                    XNA                XAP         Repeater                 XNA            XNA               XNA           Contact center                -1                  XNA          NaN              XNA                      Cash\n",
       "1670193     1120445      179433    Revolving loans          NaN              0.0         0.0              NaN                    XAP              Refused           -365                    XNA                 HC        Refreshed                 XNA            XNA               XNA          AP+ (Cash loan)                10                  XNA          NaN              XNA               Card Street\n",
       "1670196     1662123      398290     Consumer loans          NaN          57910.5     57910.5          57910.5                    XAP         Unused offer           -289  Cash through the bank             CLIENT         Repeater              Mobile            XNA               XNA             Country-wide                96         Connectivity          NaN              XNA  POS mobile with interest\n",
       "1670203     2844282      383898     Consumer loans          NaN          14791.5     14791.5          14791.5                    XAP              Refused          -1848  Cash through the bank                XNA              New              Mobile            XNA               XNA                    Stone               106         Connectivity          NaN              XNA  POS mobile with interest\n",
       "\n",
       "[372235 rows x 22 columns]"
      ]
     },
     "execution_count": 138,
     "metadata": {},
     "output_type": "execute_result"
    }
   ],
   "source": [
    "previousDF[previousDF['AMT_ANNUITY'].isnull()]"
   ]
  },
  {
   "cell_type": "code",
   "execution_count": 191,
   "metadata": {},
   "outputs": [],
   "source": [
    "previousDF['AMT_ANNUITY'].fillna(0,inplace = True)"
   ]
  },
  {
   "cell_type": "code",
   "execution_count": 141,
   "metadata": {},
   "outputs": [
    {
     "data": {
      "text/plain": [
       "385515"
      ]
     },
     "execution_count": 141,
     "metadata": {},
     "output_type": "execute_result"
    }
   ],
   "source": [
    "previousDF['AMT_GOODS_PRICE'].isnull().sum()"
   ]
  },
  {
   "cell_type": "code",
   "execution_count": 142,
   "metadata": {},
   "outputs": [
    {
     "data": {
      "text/html": [
       "<div>\n",
       "<style scoped>\n",
       "    .dataframe tbody tr th:only-of-type {\n",
       "        vertical-align: middle;\n",
       "    }\n",
       "\n",
       "    .dataframe tbody tr th {\n",
       "        vertical-align: top;\n",
       "    }\n",
       "\n",
       "    .dataframe thead th {\n",
       "        text-align: right;\n",
       "    }\n",
       "</style>\n",
       "<table border=\"1\" class=\"dataframe\">\n",
       "  <thead>\n",
       "    <tr style=\"text-align: right;\">\n",
       "      <th></th>\n",
       "      <th>SK_ID_PREV</th>\n",
       "      <th>SK_ID_CURR</th>\n",
       "      <th>NAME_CONTRACT_TYPE</th>\n",
       "      <th>AMT_ANNUITY</th>\n",
       "      <th>AMT_APPLICATION</th>\n",
       "      <th>AMT_CREDIT</th>\n",
       "      <th>AMT_GOODS_PRICE</th>\n",
       "      <th>NAME_CASH_LOAN_PURPOSE</th>\n",
       "      <th>NAME_CONTRACT_STATUS</th>\n",
       "      <th>DAYS_DECISION</th>\n",
       "      <th>NAME_PAYMENT_TYPE</th>\n",
       "      <th>CODE_REJECT_REASON</th>\n",
       "      <th>NAME_CLIENT_TYPE</th>\n",
       "      <th>NAME_GOODS_CATEGORY</th>\n",
       "      <th>NAME_PORTFOLIO</th>\n",
       "      <th>NAME_PRODUCT_TYPE</th>\n",
       "      <th>CHANNEL_TYPE</th>\n",
       "      <th>SELLERPLACE_AREA</th>\n",
       "      <th>NAME_SELLER_INDUSTRY</th>\n",
       "      <th>CNT_PAYMENT</th>\n",
       "      <th>NAME_YIELD_GROUP</th>\n",
       "      <th>PRODUCT_COMBINATION</th>\n",
       "    </tr>\n",
       "  </thead>\n",
       "  <tbody>\n",
       "    <tr>\n",
       "      <th>6</th>\n",
       "      <td>2315218</td>\n",
       "      <td>175704</td>\n",
       "      <td>Cash loans</td>\n",
       "      <td>0.0</td>\n",
       "      <td>0.0</td>\n",
       "      <td>0.0</td>\n",
       "      <td>NaN</td>\n",
       "      <td>XNA</td>\n",
       "      <td>Canceled</td>\n",
       "      <td>-14</td>\n",
       "      <td>XNA</td>\n",
       "      <td>XAP</td>\n",
       "      <td>Repeater</td>\n",
       "      <td>XNA</td>\n",
       "      <td>XNA</td>\n",
       "      <td>XNA</td>\n",
       "      <td>Credit and cash offices</td>\n",
       "      <td>-1</td>\n",
       "      <td>XNA</td>\n",
       "      <td>NaN</td>\n",
       "      <td>XNA</td>\n",
       "      <td>Cash</td>\n",
       "    </tr>\n",
       "    <tr>\n",
       "      <th>7</th>\n",
       "      <td>1656711</td>\n",
       "      <td>296299</td>\n",
       "      <td>Cash loans</td>\n",
       "      <td>0.0</td>\n",
       "      <td>0.0</td>\n",
       "      <td>0.0</td>\n",
       "      <td>NaN</td>\n",
       "      <td>XNA</td>\n",
       "      <td>Canceled</td>\n",
       "      <td>-21</td>\n",
       "      <td>XNA</td>\n",
       "      <td>XAP</td>\n",
       "      <td>Repeater</td>\n",
       "      <td>XNA</td>\n",
       "      <td>XNA</td>\n",
       "      <td>XNA</td>\n",
       "      <td>Credit and cash offices</td>\n",
       "      <td>-1</td>\n",
       "      <td>XNA</td>\n",
       "      <td>NaN</td>\n",
       "      <td>XNA</td>\n",
       "      <td>Cash</td>\n",
       "    </tr>\n",
       "    <tr>\n",
       "      <th>8</th>\n",
       "      <td>2367563</td>\n",
       "      <td>342292</td>\n",
       "      <td>Cash loans</td>\n",
       "      <td>0.0</td>\n",
       "      <td>0.0</td>\n",
       "      <td>0.0</td>\n",
       "      <td>NaN</td>\n",
       "      <td>XNA</td>\n",
       "      <td>Canceled</td>\n",
       "      <td>-386</td>\n",
       "      <td>XNA</td>\n",
       "      <td>XAP</td>\n",
       "      <td>Repeater</td>\n",
       "      <td>XNA</td>\n",
       "      <td>XNA</td>\n",
       "      <td>XNA</td>\n",
       "      <td>Credit and cash offices</td>\n",
       "      <td>-1</td>\n",
       "      <td>XNA</td>\n",
       "      <td>NaN</td>\n",
       "      <td>XNA</td>\n",
       "      <td>Cash</td>\n",
       "    </tr>\n",
       "    <tr>\n",
       "      <th>9</th>\n",
       "      <td>2579447</td>\n",
       "      <td>334349</td>\n",
       "      <td>Cash loans</td>\n",
       "      <td>0.0</td>\n",
       "      <td>0.0</td>\n",
       "      <td>0.0</td>\n",
       "      <td>NaN</td>\n",
       "      <td>XNA</td>\n",
       "      <td>Canceled</td>\n",
       "      <td>-57</td>\n",
       "      <td>XNA</td>\n",
       "      <td>XAP</td>\n",
       "      <td>Repeater</td>\n",
       "      <td>XNA</td>\n",
       "      <td>XNA</td>\n",
       "      <td>XNA</td>\n",
       "      <td>Credit and cash offices</td>\n",
       "      <td>-1</td>\n",
       "      <td>XNA</td>\n",
       "      <td>NaN</td>\n",
       "      <td>XNA</td>\n",
       "      <td>Cash</td>\n",
       "    </tr>\n",
       "    <tr>\n",
       "      <th>22</th>\n",
       "      <td>1172842</td>\n",
       "      <td>302212</td>\n",
       "      <td>Cash loans</td>\n",
       "      <td>0.0</td>\n",
       "      <td>0.0</td>\n",
       "      <td>0.0</td>\n",
       "      <td>NaN</td>\n",
       "      <td>XNA</td>\n",
       "      <td>Refused</td>\n",
       "      <td>-239</td>\n",
       "      <td>XNA</td>\n",
       "      <td>HC</td>\n",
       "      <td>Repeater</td>\n",
       "      <td>XNA</td>\n",
       "      <td>XNA</td>\n",
       "      <td>XNA</td>\n",
       "      <td>Credit and cash offices</td>\n",
       "      <td>-1</td>\n",
       "      <td>XNA</td>\n",
       "      <td>NaN</td>\n",
       "      <td>XNA</td>\n",
       "      <td>Cash</td>\n",
       "    </tr>\n",
       "    <tr>\n",
       "      <th>...</th>\n",
       "      <td>...</td>\n",
       "      <td>...</td>\n",
       "      <td>...</td>\n",
       "      <td>...</td>\n",
       "      <td>...</td>\n",
       "      <td>...</td>\n",
       "      <td>...</td>\n",
       "      <td>...</td>\n",
       "      <td>...</td>\n",
       "      <td>...</td>\n",
       "      <td>...</td>\n",
       "      <td>...</td>\n",
       "      <td>...</td>\n",
       "      <td>...</td>\n",
       "      <td>...</td>\n",
       "      <td>...</td>\n",
       "      <td>...</td>\n",
       "      <td>...</td>\n",
       "      <td>...</td>\n",
       "      <td>...</td>\n",
       "      <td>...</td>\n",
       "      <td>...</td>\n",
       "    </tr>\n",
       "    <tr>\n",
       "      <th>1670186</th>\n",
       "      <td>1433968</td>\n",
       "      <td>272570</td>\n",
       "      <td>Cash loans</td>\n",
       "      <td>0.0</td>\n",
       "      <td>0.0</td>\n",
       "      <td>0.0</td>\n",
       "      <td>NaN</td>\n",
       "      <td>XNA</td>\n",
       "      <td>Canceled</td>\n",
       "      <td>-21</td>\n",
       "      <td>XNA</td>\n",
       "      <td>XAP</td>\n",
       "      <td>Repeater</td>\n",
       "      <td>XNA</td>\n",
       "      <td>XNA</td>\n",
       "      <td>XNA</td>\n",
       "      <td>Contact center</td>\n",
       "      <td>-1</td>\n",
       "      <td>XNA</td>\n",
       "      <td>NaN</td>\n",
       "      <td>XNA</td>\n",
       "      <td>Cash</td>\n",
       "    </tr>\n",
       "    <tr>\n",
       "      <th>1670187</th>\n",
       "      <td>1971628</td>\n",
       "      <td>435554</td>\n",
       "      <td>Cash loans</td>\n",
       "      <td>0.0</td>\n",
       "      <td>0.0</td>\n",
       "      <td>0.0</td>\n",
       "      <td>NaN</td>\n",
       "      <td>XNA</td>\n",
       "      <td>Canceled</td>\n",
       "      <td>-134</td>\n",
       "      <td>XNA</td>\n",
       "      <td>XAP</td>\n",
       "      <td>Repeater</td>\n",
       "      <td>XNA</td>\n",
       "      <td>XNA</td>\n",
       "      <td>XNA</td>\n",
       "      <td>Contact center</td>\n",
       "      <td>-1</td>\n",
       "      <td>XNA</td>\n",
       "      <td>NaN</td>\n",
       "      <td>XNA</td>\n",
       "      <td>Cash</td>\n",
       "    </tr>\n",
       "    <tr>\n",
       "      <th>1670190</th>\n",
       "      <td>2381880</td>\n",
       "      <td>175920</td>\n",
       "      <td>Cash loans</td>\n",
       "      <td>0.0</td>\n",
       "      <td>0.0</td>\n",
       "      <td>0.0</td>\n",
       "      <td>NaN</td>\n",
       "      <td>XNA</td>\n",
       "      <td>Canceled</td>\n",
       "      <td>-243</td>\n",
       "      <td>XNA</td>\n",
       "      <td>XAP</td>\n",
       "      <td>Repeater</td>\n",
       "      <td>XNA</td>\n",
       "      <td>XNA</td>\n",
       "      <td>XNA</td>\n",
       "      <td>Contact center</td>\n",
       "      <td>-1</td>\n",
       "      <td>XNA</td>\n",
       "      <td>NaN</td>\n",
       "      <td>XNA</td>\n",
       "      <td>Cash</td>\n",
       "    </tr>\n",
       "    <tr>\n",
       "      <th>1670192</th>\n",
       "      <td>2101747</td>\n",
       "      <td>339383</td>\n",
       "      <td>Revolving loans</td>\n",
       "      <td>3375.0</td>\n",
       "      <td>0.0</td>\n",
       "      <td>67500.0</td>\n",
       "      <td>NaN</td>\n",
       "      <td>XAP</td>\n",
       "      <td>Approved</td>\n",
       "      <td>-540</td>\n",
       "      <td>XNA</td>\n",
       "      <td>XAP</td>\n",
       "      <td>Refreshed</td>\n",
       "      <td>XNA</td>\n",
       "      <td>Cards</td>\n",
       "      <td>x-sell</td>\n",
       "      <td>AP+ (Cash loan)</td>\n",
       "      <td>10</td>\n",
       "      <td>XNA</td>\n",
       "      <td>0.0</td>\n",
       "      <td>XNA</td>\n",
       "      <td>Card X-Sell</td>\n",
       "    </tr>\n",
       "    <tr>\n",
       "      <th>1670193</th>\n",
       "      <td>1120445</td>\n",
       "      <td>179433</td>\n",
       "      <td>Revolving loans</td>\n",
       "      <td>0.0</td>\n",
       "      <td>0.0</td>\n",
       "      <td>0.0</td>\n",
       "      <td>NaN</td>\n",
       "      <td>XAP</td>\n",
       "      <td>Refused</td>\n",
       "      <td>-365</td>\n",
       "      <td>XNA</td>\n",
       "      <td>HC</td>\n",
       "      <td>Refreshed</td>\n",
       "      <td>XNA</td>\n",
       "      <td>XNA</td>\n",
       "      <td>XNA</td>\n",
       "      <td>AP+ (Cash loan)</td>\n",
       "      <td>10</td>\n",
       "      <td>XNA</td>\n",
       "      <td>NaN</td>\n",
       "      <td>XNA</td>\n",
       "      <td>Card Street</td>\n",
       "    </tr>\n",
       "  </tbody>\n",
       "</table>\n",
       "<p>385515 rows × 22 columns</p>\n",
       "</div>"
      ],
      "text/plain": [
       "         SK_ID_PREV  SK_ID_CURR NAME_CONTRACT_TYPE  AMT_ANNUITY  AMT_APPLICATION  AMT_CREDIT  AMT_GOODS_PRICE NAME_CASH_LOAN_PURPOSE NAME_CONTRACT_STATUS  DAYS_DECISION NAME_PAYMENT_TYPE CODE_REJECT_REASON NAME_CLIENT_TYPE NAME_GOODS_CATEGORY NAME_PORTFOLIO NAME_PRODUCT_TYPE             CHANNEL_TYPE  SELLERPLACE_AREA NAME_SELLER_INDUSTRY  CNT_PAYMENT NAME_YIELD_GROUP PRODUCT_COMBINATION\n",
       "6           2315218      175704         Cash loans          0.0              0.0         0.0              NaN                    XNA             Canceled            -14               XNA                XAP         Repeater                 XNA            XNA               XNA  Credit and cash offices                -1                  XNA          NaN              XNA                Cash\n",
       "7           1656711      296299         Cash loans          0.0              0.0         0.0              NaN                    XNA             Canceled            -21               XNA                XAP         Repeater                 XNA            XNA               XNA  Credit and cash offices                -1                  XNA          NaN              XNA                Cash\n",
       "8           2367563      342292         Cash loans          0.0              0.0         0.0              NaN                    XNA             Canceled           -386               XNA                XAP         Repeater                 XNA            XNA               XNA  Credit and cash offices                -1                  XNA          NaN              XNA                Cash\n",
       "9           2579447      334349         Cash loans          0.0              0.0         0.0              NaN                    XNA             Canceled            -57               XNA                XAP         Repeater                 XNA            XNA               XNA  Credit and cash offices                -1                  XNA          NaN              XNA                Cash\n",
       "22          1172842      302212         Cash loans          0.0              0.0         0.0              NaN                    XNA              Refused           -239               XNA                 HC         Repeater                 XNA            XNA               XNA  Credit and cash offices                -1                  XNA          NaN              XNA                Cash\n",
       "...             ...         ...                ...          ...              ...         ...              ...                    ...                  ...            ...               ...                ...              ...                 ...            ...               ...                      ...               ...                  ...          ...              ...                 ...\n",
       "1670186     1433968      272570         Cash loans          0.0              0.0         0.0              NaN                    XNA             Canceled            -21               XNA                XAP         Repeater                 XNA            XNA               XNA           Contact center                -1                  XNA          NaN              XNA                Cash\n",
       "1670187     1971628      435554         Cash loans          0.0              0.0         0.0              NaN                    XNA             Canceled           -134               XNA                XAP         Repeater                 XNA            XNA               XNA           Contact center                -1                  XNA          NaN              XNA                Cash\n",
       "1670190     2381880      175920         Cash loans          0.0              0.0         0.0              NaN                    XNA             Canceled           -243               XNA                XAP         Repeater                 XNA            XNA               XNA           Contact center                -1                  XNA          NaN              XNA                Cash\n",
       "1670192     2101747      339383    Revolving loans       3375.0              0.0     67500.0              NaN                    XAP             Approved           -540               XNA                XAP        Refreshed                 XNA          Cards            x-sell          AP+ (Cash loan)                10                  XNA          0.0              XNA         Card X-Sell\n",
       "1670193     1120445      179433    Revolving loans          0.0              0.0         0.0              NaN                    XAP              Refused           -365               XNA                 HC        Refreshed                 XNA            XNA               XNA          AP+ (Cash loan)                10                  XNA          NaN              XNA         Card Street\n",
       "\n",
       "[385515 rows x 22 columns]"
      ]
     },
     "execution_count": 142,
     "metadata": {},
     "output_type": "execute_result"
    }
   ],
   "source": [
    "previousDF[previousDF['AMT_GOODS_PRICE'].isnull()]"
   ]
  },
  {
   "cell_type": "code",
   "execution_count": 192,
   "metadata": {},
   "outputs": [],
   "source": [
    "previousDF['AMT_GOODS_PRICE'].fillna(0,inplace = True)"
   ]
  },
  {
   "cell_type": "code",
   "execution_count": 146,
   "metadata": {},
   "outputs": [
    {
     "data": {
      "text/plain": [
       "12.0    2.488852e-01\n",
       "6.0     1.467360e-01\n",
       "0.0     1.117001e-01\n",
       "10.0    1.092856e-01\n",
       "24.0    1.061369e-01\n",
       "18.0    5.965405e-02\n",
       "36.0    5.591980e-02\n",
       "60.0    4.129481e-02\n",
       "48.0    3.645345e-02\n",
       "8.0     2.338164e-02\n",
       "4.0     2.074294e-02\n",
       "30.0    1.303868e-02\n",
       "14.0    6.358322e-03\n",
       "42.0    5.497757e-03\n",
       "16.0    4.399130e-03\n",
       "5.0     3.048574e-03\n",
       "54.0    1.620975e-03\n",
       "20.0    1.390618e-03\n",
       "7.0     1.104790e-03\n",
       "9.0     9.522459e-04\n",
       "3.0     8.474681e-04\n",
       "15.0    6.964647e-04\n",
       "11.0    5.154147e-04\n",
       "72.0    1.070891e-04\n",
       "13.0    3.929170e-05\n",
       "17.0    3.698043e-05\n",
       "84.0    3.466915e-05\n",
       "22.0    2.850574e-05\n",
       "23.0    2.080149e-05\n",
       "26.0    1.001553e-05\n",
       "35.0    8.474681e-06\n",
       "66.0    7.704255e-06\n",
       "29.0    6.163404e-06\n",
       "28.0    6.163404e-06\n",
       "32.0    4.622553e-06\n",
       "19.0    4.622553e-06\n",
       "34.0    3.081702e-06\n",
       "59.0    3.081702e-06\n",
       "45.0    2.311277e-06\n",
       "41.0    2.311277e-06\n",
       "47.0    2.311277e-06\n",
       "21.0    2.311277e-06\n",
       "44.0    1.540851e-06\n",
       "39.0    1.540851e-06\n",
       "38.0    1.540851e-06\n",
       "46.0    1.540851e-06\n",
       "40.0    7.704255e-07\n",
       "33.0    7.704255e-07\n",
       "53.0    7.704255e-07\n",
       "Name: CNT_PAYMENT, dtype: float64"
      ]
     },
     "execution_count": 146,
     "metadata": {},
     "output_type": "execute_result"
    }
   ],
   "source": [
    "#  number of payments for the credit.\n",
    "previousDF['CNT_PAYMENT'].value_counts(normalize=True)                "
   ]
  },
  {
   "cell_type": "code",
   "execution_count": 147,
   "metadata": {},
   "outputs": [
    {
     "data": {
      "text/plain": [
       "372230"
      ]
     },
     "execution_count": 147,
     "metadata": {},
     "output_type": "execute_result"
    }
   ],
   "source": [
    "previousDF['CNT_PAYMENT'].isnull().sum()"
   ]
  },
  {
   "cell_type": "code",
   "execution_count": 148,
   "metadata": {},
   "outputs": [
    {
     "data": {
      "text/html": [
       "<div>\n",
       "<style scoped>\n",
       "    .dataframe tbody tr th:only-of-type {\n",
       "        vertical-align: middle;\n",
       "    }\n",
       "\n",
       "    .dataframe tbody tr th {\n",
       "        vertical-align: top;\n",
       "    }\n",
       "\n",
       "    .dataframe thead th {\n",
       "        text-align: right;\n",
       "    }\n",
       "</style>\n",
       "<table border=\"1\" class=\"dataframe\">\n",
       "  <thead>\n",
       "    <tr style=\"text-align: right;\">\n",
       "      <th></th>\n",
       "      <th>SK_ID_PREV</th>\n",
       "      <th>SK_ID_CURR</th>\n",
       "      <th>NAME_CONTRACT_TYPE</th>\n",
       "      <th>AMT_ANNUITY</th>\n",
       "      <th>AMT_APPLICATION</th>\n",
       "      <th>AMT_CREDIT</th>\n",
       "      <th>AMT_GOODS_PRICE</th>\n",
       "      <th>NAME_CASH_LOAN_PURPOSE</th>\n",
       "      <th>NAME_CONTRACT_STATUS</th>\n",
       "      <th>DAYS_DECISION</th>\n",
       "      <th>NAME_PAYMENT_TYPE</th>\n",
       "      <th>CODE_REJECT_REASON</th>\n",
       "      <th>NAME_CLIENT_TYPE</th>\n",
       "      <th>NAME_GOODS_CATEGORY</th>\n",
       "      <th>NAME_PORTFOLIO</th>\n",
       "      <th>NAME_PRODUCT_TYPE</th>\n",
       "      <th>CHANNEL_TYPE</th>\n",
       "      <th>SELLERPLACE_AREA</th>\n",
       "      <th>NAME_SELLER_INDUSTRY</th>\n",
       "      <th>CNT_PAYMENT</th>\n",
       "      <th>NAME_YIELD_GROUP</th>\n",
       "      <th>PRODUCT_COMBINATION</th>\n",
       "    </tr>\n",
       "  </thead>\n",
       "  <tbody>\n",
       "    <tr>\n",
       "      <th>6</th>\n",
       "      <td>2315218</td>\n",
       "      <td>175704</td>\n",
       "      <td>Cash loans</td>\n",
       "      <td>0.0</td>\n",
       "      <td>0.0</td>\n",
       "      <td>0.0</td>\n",
       "      <td>0.0</td>\n",
       "      <td>XNA</td>\n",
       "      <td>Canceled</td>\n",
       "      <td>-14</td>\n",
       "      <td>XNA</td>\n",
       "      <td>XAP</td>\n",
       "      <td>Repeater</td>\n",
       "      <td>XNA</td>\n",
       "      <td>XNA</td>\n",
       "      <td>XNA</td>\n",
       "      <td>Credit and cash offices</td>\n",
       "      <td>-1</td>\n",
       "      <td>XNA</td>\n",
       "      <td>NaN</td>\n",
       "      <td>XNA</td>\n",
       "      <td>Cash</td>\n",
       "    </tr>\n",
       "    <tr>\n",
       "      <th>7</th>\n",
       "      <td>1656711</td>\n",
       "      <td>296299</td>\n",
       "      <td>Cash loans</td>\n",
       "      <td>0.0</td>\n",
       "      <td>0.0</td>\n",
       "      <td>0.0</td>\n",
       "      <td>0.0</td>\n",
       "      <td>XNA</td>\n",
       "      <td>Canceled</td>\n",
       "      <td>-21</td>\n",
       "      <td>XNA</td>\n",
       "      <td>XAP</td>\n",
       "      <td>Repeater</td>\n",
       "      <td>XNA</td>\n",
       "      <td>XNA</td>\n",
       "      <td>XNA</td>\n",
       "      <td>Credit and cash offices</td>\n",
       "      <td>-1</td>\n",
       "      <td>XNA</td>\n",
       "      <td>NaN</td>\n",
       "      <td>XNA</td>\n",
       "      <td>Cash</td>\n",
       "    </tr>\n",
       "    <tr>\n",
       "      <th>8</th>\n",
       "      <td>2367563</td>\n",
       "      <td>342292</td>\n",
       "      <td>Cash loans</td>\n",
       "      <td>0.0</td>\n",
       "      <td>0.0</td>\n",
       "      <td>0.0</td>\n",
       "      <td>0.0</td>\n",
       "      <td>XNA</td>\n",
       "      <td>Canceled</td>\n",
       "      <td>-386</td>\n",
       "      <td>XNA</td>\n",
       "      <td>XAP</td>\n",
       "      <td>Repeater</td>\n",
       "      <td>XNA</td>\n",
       "      <td>XNA</td>\n",
       "      <td>XNA</td>\n",
       "      <td>Credit and cash offices</td>\n",
       "      <td>-1</td>\n",
       "      <td>XNA</td>\n",
       "      <td>NaN</td>\n",
       "      <td>XNA</td>\n",
       "      <td>Cash</td>\n",
       "    </tr>\n",
       "    <tr>\n",
       "      <th>9</th>\n",
       "      <td>2579447</td>\n",
       "      <td>334349</td>\n",
       "      <td>Cash loans</td>\n",
       "      <td>0.0</td>\n",
       "      <td>0.0</td>\n",
       "      <td>0.0</td>\n",
       "      <td>0.0</td>\n",
       "      <td>XNA</td>\n",
       "      <td>Canceled</td>\n",
       "      <td>-57</td>\n",
       "      <td>XNA</td>\n",
       "      <td>XAP</td>\n",
       "      <td>Repeater</td>\n",
       "      <td>XNA</td>\n",
       "      <td>XNA</td>\n",
       "      <td>XNA</td>\n",
       "      <td>Credit and cash offices</td>\n",
       "      <td>-1</td>\n",
       "      <td>XNA</td>\n",
       "      <td>NaN</td>\n",
       "      <td>XNA</td>\n",
       "      <td>Cash</td>\n",
       "    </tr>\n",
       "    <tr>\n",
       "      <th>22</th>\n",
       "      <td>1172842</td>\n",
       "      <td>302212</td>\n",
       "      <td>Cash loans</td>\n",
       "      <td>0.0</td>\n",
       "      <td>0.0</td>\n",
       "      <td>0.0</td>\n",
       "      <td>0.0</td>\n",
       "      <td>XNA</td>\n",
       "      <td>Refused</td>\n",
       "      <td>-239</td>\n",
       "      <td>XNA</td>\n",
       "      <td>HC</td>\n",
       "      <td>Repeater</td>\n",
       "      <td>XNA</td>\n",
       "      <td>XNA</td>\n",
       "      <td>XNA</td>\n",
       "      <td>Credit and cash offices</td>\n",
       "      <td>-1</td>\n",
       "      <td>XNA</td>\n",
       "      <td>NaN</td>\n",
       "      <td>XNA</td>\n",
       "      <td>Cash</td>\n",
       "    </tr>\n",
       "    <tr>\n",
       "      <th>...</th>\n",
       "      <td>...</td>\n",
       "      <td>...</td>\n",
       "      <td>...</td>\n",
       "      <td>...</td>\n",
       "      <td>...</td>\n",
       "      <td>...</td>\n",
       "      <td>...</td>\n",
       "      <td>...</td>\n",
       "      <td>...</td>\n",
       "      <td>...</td>\n",
       "      <td>...</td>\n",
       "      <td>...</td>\n",
       "      <td>...</td>\n",
       "      <td>...</td>\n",
       "      <td>...</td>\n",
       "      <td>...</td>\n",
       "      <td>...</td>\n",
       "      <td>...</td>\n",
       "      <td>...</td>\n",
       "      <td>...</td>\n",
       "      <td>...</td>\n",
       "      <td>...</td>\n",
       "    </tr>\n",
       "    <tr>\n",
       "      <th>1670187</th>\n",
       "      <td>1971628</td>\n",
       "      <td>435554</td>\n",
       "      <td>Cash loans</td>\n",
       "      <td>0.0</td>\n",
       "      <td>0.0</td>\n",
       "      <td>0.0</td>\n",
       "      <td>0.0</td>\n",
       "      <td>XNA</td>\n",
       "      <td>Canceled</td>\n",
       "      <td>-134</td>\n",
       "      <td>XNA</td>\n",
       "      <td>XAP</td>\n",
       "      <td>Repeater</td>\n",
       "      <td>XNA</td>\n",
       "      <td>XNA</td>\n",
       "      <td>XNA</td>\n",
       "      <td>Contact center</td>\n",
       "      <td>-1</td>\n",
       "      <td>XNA</td>\n",
       "      <td>NaN</td>\n",
       "      <td>XNA</td>\n",
       "      <td>Cash</td>\n",
       "    </tr>\n",
       "    <tr>\n",
       "      <th>1670190</th>\n",
       "      <td>2381880</td>\n",
       "      <td>175920</td>\n",
       "      <td>Cash loans</td>\n",
       "      <td>0.0</td>\n",
       "      <td>0.0</td>\n",
       "      <td>0.0</td>\n",
       "      <td>0.0</td>\n",
       "      <td>XNA</td>\n",
       "      <td>Canceled</td>\n",
       "      <td>-243</td>\n",
       "      <td>XNA</td>\n",
       "      <td>XAP</td>\n",
       "      <td>Repeater</td>\n",
       "      <td>XNA</td>\n",
       "      <td>XNA</td>\n",
       "      <td>XNA</td>\n",
       "      <td>Contact center</td>\n",
       "      <td>-1</td>\n",
       "      <td>XNA</td>\n",
       "      <td>NaN</td>\n",
       "      <td>XNA</td>\n",
       "      <td>Cash</td>\n",
       "    </tr>\n",
       "    <tr>\n",
       "      <th>1670193</th>\n",
       "      <td>1120445</td>\n",
       "      <td>179433</td>\n",
       "      <td>Revolving loans</td>\n",
       "      <td>0.0</td>\n",
       "      <td>0.0</td>\n",
       "      <td>0.0</td>\n",
       "      <td>0.0</td>\n",
       "      <td>XAP</td>\n",
       "      <td>Refused</td>\n",
       "      <td>-365</td>\n",
       "      <td>XNA</td>\n",
       "      <td>HC</td>\n",
       "      <td>Refreshed</td>\n",
       "      <td>XNA</td>\n",
       "      <td>XNA</td>\n",
       "      <td>XNA</td>\n",
       "      <td>AP+ (Cash loan)</td>\n",
       "      <td>10</td>\n",
       "      <td>XNA</td>\n",
       "      <td>NaN</td>\n",
       "      <td>XNA</td>\n",
       "      <td>Card Street</td>\n",
       "    </tr>\n",
       "    <tr>\n",
       "      <th>1670196</th>\n",
       "      <td>1662123</td>\n",
       "      <td>398290</td>\n",
       "      <td>Consumer loans</td>\n",
       "      <td>0.0</td>\n",
       "      <td>57910.5</td>\n",
       "      <td>57910.5</td>\n",
       "      <td>57910.5</td>\n",
       "      <td>XAP</td>\n",
       "      <td>Unused offer</td>\n",
       "      <td>-289</td>\n",
       "      <td>Cash through the bank</td>\n",
       "      <td>CLIENT</td>\n",
       "      <td>Repeater</td>\n",
       "      <td>Mobile</td>\n",
       "      <td>XNA</td>\n",
       "      <td>XNA</td>\n",
       "      <td>Country-wide</td>\n",
       "      <td>96</td>\n",
       "      <td>Connectivity</td>\n",
       "      <td>NaN</td>\n",
       "      <td>XNA</td>\n",
       "      <td>POS mobile with interest</td>\n",
       "    </tr>\n",
       "    <tr>\n",
       "      <th>1670203</th>\n",
       "      <td>2844282</td>\n",
       "      <td>383898</td>\n",
       "      <td>Consumer loans</td>\n",
       "      <td>0.0</td>\n",
       "      <td>14791.5</td>\n",
       "      <td>14791.5</td>\n",
       "      <td>14791.5</td>\n",
       "      <td>XAP</td>\n",
       "      <td>Refused</td>\n",
       "      <td>-1848</td>\n",
       "      <td>Cash through the bank</td>\n",
       "      <td>XNA</td>\n",
       "      <td>New</td>\n",
       "      <td>Mobile</td>\n",
       "      <td>XNA</td>\n",
       "      <td>XNA</td>\n",
       "      <td>Stone</td>\n",
       "      <td>106</td>\n",
       "      <td>Connectivity</td>\n",
       "      <td>NaN</td>\n",
       "      <td>XNA</td>\n",
       "      <td>POS mobile with interest</td>\n",
       "    </tr>\n",
       "  </tbody>\n",
       "</table>\n",
       "<p>372230 rows × 22 columns</p>\n",
       "</div>"
      ],
      "text/plain": [
       "         SK_ID_PREV  SK_ID_CURR NAME_CONTRACT_TYPE  AMT_ANNUITY  AMT_APPLICATION  AMT_CREDIT  AMT_GOODS_PRICE NAME_CASH_LOAN_PURPOSE NAME_CONTRACT_STATUS  DAYS_DECISION      NAME_PAYMENT_TYPE CODE_REJECT_REASON NAME_CLIENT_TYPE NAME_GOODS_CATEGORY NAME_PORTFOLIO NAME_PRODUCT_TYPE             CHANNEL_TYPE  SELLERPLACE_AREA NAME_SELLER_INDUSTRY  CNT_PAYMENT NAME_YIELD_GROUP       PRODUCT_COMBINATION\n",
       "6           2315218      175704         Cash loans          0.0              0.0         0.0              0.0                    XNA             Canceled            -14                    XNA                XAP         Repeater                 XNA            XNA               XNA  Credit and cash offices                -1                  XNA          NaN              XNA                      Cash\n",
       "7           1656711      296299         Cash loans          0.0              0.0         0.0              0.0                    XNA             Canceled            -21                    XNA                XAP         Repeater                 XNA            XNA               XNA  Credit and cash offices                -1                  XNA          NaN              XNA                      Cash\n",
       "8           2367563      342292         Cash loans          0.0              0.0         0.0              0.0                    XNA             Canceled           -386                    XNA                XAP         Repeater                 XNA            XNA               XNA  Credit and cash offices                -1                  XNA          NaN              XNA                      Cash\n",
       "9           2579447      334349         Cash loans          0.0              0.0         0.0              0.0                    XNA             Canceled            -57                    XNA                XAP         Repeater                 XNA            XNA               XNA  Credit and cash offices                -1                  XNA          NaN              XNA                      Cash\n",
       "22          1172842      302212         Cash loans          0.0              0.0         0.0              0.0                    XNA              Refused           -239                    XNA                 HC         Repeater                 XNA            XNA               XNA  Credit and cash offices                -1                  XNA          NaN              XNA                      Cash\n",
       "...             ...         ...                ...          ...              ...         ...              ...                    ...                  ...            ...                    ...                ...              ...                 ...            ...               ...                      ...               ...                  ...          ...              ...                       ...\n",
       "1670187     1971628      435554         Cash loans          0.0              0.0         0.0              0.0                    XNA             Canceled           -134                    XNA                XAP         Repeater                 XNA            XNA               XNA           Contact center                -1                  XNA          NaN              XNA                      Cash\n",
       "1670190     2381880      175920         Cash loans          0.0              0.0         0.0              0.0                    XNA             Canceled           -243                    XNA                XAP         Repeater                 XNA            XNA               XNA           Contact center                -1                  XNA          NaN              XNA                      Cash\n",
       "1670193     1120445      179433    Revolving loans          0.0              0.0         0.0              0.0                    XAP              Refused           -365                    XNA                 HC        Refreshed                 XNA            XNA               XNA          AP+ (Cash loan)                10                  XNA          NaN              XNA               Card Street\n",
       "1670196     1662123      398290     Consumer loans          0.0          57910.5     57910.5          57910.5                    XAP         Unused offer           -289  Cash through the bank             CLIENT         Repeater              Mobile            XNA               XNA             Country-wide                96         Connectivity          NaN              XNA  POS mobile with interest\n",
       "1670203     2844282      383898     Consumer loans          0.0          14791.5     14791.5          14791.5                    XAP              Refused          -1848  Cash through the bank                XNA              New              Mobile            XNA               XNA                    Stone               106         Connectivity          NaN              XNA  POS mobile with interest\n",
       "\n",
       "[372230 rows x 22 columns]"
      ]
     },
     "execution_count": 148,
     "metadata": {},
     "output_type": "execute_result"
    }
   ],
   "source": [
    "previousDF[previousDF['CNT_PAYMENT'].isnull()]"
   ]
  },
  {
   "cell_type": "code",
   "execution_count": 151,
   "metadata": {},
   "outputs": [
    {
     "data": {
      "text/plain": [
       "Canceled        305805\n",
       "Refused          40897\n",
       "Unused offer     25524\n",
       "Approved             4\n",
       "Name: NAME_CONTRACT_STATUS, dtype: int64"
      ]
     },
     "execution_count": 151,
     "metadata": {},
     "output_type": "execute_result"
    }
   ],
   "source": [
    "previousDF.loc[previousDF['CNT_PAYMENT'].isnull(),'NAME_CONTRACT_STATUS'].value_counts()"
   ]
  },
  {
   "cell_type": "code",
   "execution_count": 193,
   "metadata": {},
   "outputs": [],
   "source": [
    "previousDF['CNT_PAYMENT'].fillna(0,inplace = True)"
   ]
  },
  {
   "cell_type": "code",
   "execution_count": 166,
   "metadata": {},
   "outputs": [
    {
     "data": {
      "text/plain": [
       "Cash                              0.171265\n",
       "POS household with interest       0.157870\n",
       "POS mobile with interest          0.132148\n",
       "Cash X-Sell: middle               0.086164\n",
       "Cash X-Sell: low                  0.077999\n",
       "Card Street                       0.067420\n",
       "POS industry with interest        0.059186\n",
       "POS household without interest    0.049649\n",
       "Card X-Sell                       0.048257\n",
       "Cash Street: high                 0.035715\n",
       "Cash X-Sell: high                 0.035512\n",
       "Cash Street: middle               0.020755\n",
       "Cash Street: low                  0.020261\n",
       "POS mobile without interest       0.014421\n",
       "POS other with interest           0.014300\n",
       "POS industry without interest     0.007547\n",
       "POS others without interest       0.001530\n",
       "Name: PRODUCT_COMBINATION, dtype: float64"
      ]
     },
     "execution_count": 166,
     "metadata": {},
     "output_type": "execute_result"
    }
   ],
   "source": [
    "#  number of payments for the credit.\n",
    "previousDF['PRODUCT_COMBINATION'].value_counts(normalize=True)                "
   ]
  },
  {
   "cell_type": "code",
   "execution_count": 155,
   "metadata": {},
   "outputs": [
    {
     "data": {
      "text/plain": [
       "346"
      ]
     },
     "execution_count": 155,
     "metadata": {},
     "output_type": "execute_result"
    }
   ],
   "source": [
    "previousDF['PRODUCT_COMBINATION'].isnull().sum()"
   ]
  },
  {
   "cell_type": "code",
   "execution_count": 164,
   "metadata": {},
   "outputs": [
    {
     "data": {
      "text/plain": [
       "Canceled    315\n",
       "Refused      31\n",
       "Name: NAME_CONTRACT_STATUS, dtype: int64"
      ]
     },
     "execution_count": 164,
     "metadata": {},
     "output_type": "execute_result"
    }
   ],
   "source": [
    "previousDF.loc[previousDF['PRODUCT_COMBINATION'].isnull(),'NAME_CONTRACT_STATUS'].value_counts()"
   ]
  },
  {
   "cell_type": "code",
   "execution_count": 194,
   "metadata": {},
   "outputs": [],
   "source": [
    "# Null values are 2% and all are either cancelled or refused\n",
    "# TODO: check if this is ok or should we impute with highest frequency combination i.e Cash\n",
    "# hence replace those values with a new category “Unknown”\n",
    "previousDF['PRODUCT_COMBINATION'] = previousDF['PRODUCT_COMBINATION'].cat.add_categories('Unknown')\n",
    "previousDF['PRODUCT_COMBINATION'].fillna('Unknown', inplace =True) "
   ]
  },
  {
   "cell_type": "code",
   "execution_count": 195,
   "metadata": {},
   "outputs": [
    {
     "data": {
      "text/plain": [
       "SK_ID_PREV                0.0\n",
       "SK_ID_CURR                0.0\n",
       "NAME_CONTRACT_TYPE        0.0\n",
       "AMT_ANNUITY               0.0\n",
       "AMT_APPLICATION           0.0\n",
       "AMT_CREDIT                0.0\n",
       "AMT_GOODS_PRICE           0.0\n",
       "NAME_CASH_LOAN_PURPOSE    0.0\n",
       "NAME_CONTRACT_STATUS      0.0\n",
       "DAYS_DECISION             0.0\n",
       "NAME_PAYMENT_TYPE         0.0\n",
       "CODE_REJECT_REASON        0.0\n",
       "NAME_CLIENT_TYPE          0.0\n",
       "NAME_GOODS_CATEGORY       0.0\n",
       "NAME_PORTFOLIO            0.0\n",
       "NAME_PRODUCT_TYPE         0.0\n",
       "CHANNEL_TYPE              0.0\n",
       "SELLERPLACE_AREA          0.0\n",
       "NAME_SELLER_INDUSTRY      0.0\n",
       "CNT_PAYMENT               0.0\n",
       "NAME_YIELD_GROUP          0.0\n",
       "PRODUCT_COMBINATION       0.0\n",
       "dtype: float64"
      ]
     },
     "execution_count": 195,
     "metadata": {},
     "output_type": "execute_result"
    }
   ],
   "source": [
    "# checking the null value % of each column in previousDF dataframe\n",
    "round(previousDF.isnull().sum() / previousDF.shape[0] * 100.00,2)"
   ]
  },
  {
   "cell_type": "markdown",
   "metadata": {},
   "source": [
    "### 3.5 Rows Deletion with high number of parameters missing"
   ]
  },
  {
   "cell_type": "markdown",
   "metadata": {},
   "source": [
    "<h2>\n",
    "    <font color = green>\n",
    "        4. Merging of Dataframes\n",
    "    </font>\n",
    "</h2> \n"
   ]
  },
  {
   "cell_type": "code",
   "execution_count": 119,
   "metadata": {},
   "outputs": [
    {
     "data": {
      "text/html": [
       "<div>\n",
       "<style scoped>\n",
       "    .dataframe tbody tr th:only-of-type {\n",
       "        vertical-align: middle;\n",
       "    }\n",
       "\n",
       "    .dataframe tbody tr th {\n",
       "        vertical-align: top;\n",
       "    }\n",
       "\n",
       "    .dataframe thead th {\n",
       "        text-align: right;\n",
       "    }\n",
       "</style>\n",
       "<table border=\"1\" class=\"dataframe\">\n",
       "  <thead>\n",
       "    <tr style=\"text-align: right;\">\n",
       "      <th></th>\n",
       "      <th>SK_ID_CURR</th>\n",
       "      <th>TARGET</th>\n",
       "      <th>NAME_CONTRACT_TYPE_x</th>\n",
       "      <th>CODE_GENDER</th>\n",
       "      <th>FLAG_OWN_CAR</th>\n",
       "      <th>FLAG_OWN_REALTY</th>\n",
       "      <th>CNT_CHILDREN</th>\n",
       "      <th>AMT_INCOME_TOTAL</th>\n",
       "      <th>AMT_CREDIT_x</th>\n",
       "      <th>AMT_ANNUITY_x</th>\n",
       "      <th>AMT_GOODS_PRICE_x</th>\n",
       "      <th>NAME_TYPE_SUITE</th>\n",
       "      <th>NAME_INCOME_TYPE</th>\n",
       "      <th>NAME_EDUCATION_TYPE</th>\n",
       "      <th>NAME_FAMILY_STATUS</th>\n",
       "      <th>NAME_HOUSING_TYPE</th>\n",
       "      <th>REGION_POPULATION_RELATIVE</th>\n",
       "      <th>DAYS_BIRTH</th>\n",
       "      <th>DAYS_EMPLOYED</th>\n",
       "      <th>DAYS_REGISTRATION</th>\n",
       "      <th>DAYS_ID_PUBLISH</th>\n",
       "      <th>OCCUPATION_TYPE</th>\n",
       "      <th>CNT_FAM_MEMBERS</th>\n",
       "      <th>REGION_RATING_CLIENT</th>\n",
       "      <th>REGION_RATING_CLIENT_W_CITY</th>\n",
       "      <th>WEEKDAY_APPR_PROCESS_START</th>\n",
       "      <th>HOUR_APPR_PROCESS_START</th>\n",
       "      <th>REG_REGION_NOT_LIVE_REGION</th>\n",
       "      <th>REG_REGION_NOT_WORK_REGION</th>\n",
       "      <th>LIVE_REGION_NOT_WORK_REGION</th>\n",
       "      <th>REG_CITY_NOT_LIVE_CITY</th>\n",
       "      <th>REG_CITY_NOT_WORK_CITY</th>\n",
       "      <th>LIVE_CITY_NOT_WORK_CITY</th>\n",
       "      <th>ORGANIZATION_TYPE</th>\n",
       "      <th>OBS_30_CNT_SOCIAL_CIRCLE</th>\n",
       "      <th>DEF_30_CNT_SOCIAL_CIRCLE</th>\n",
       "      <th>OBS_60_CNT_SOCIAL_CIRCLE</th>\n",
       "      <th>DEF_60_CNT_SOCIAL_CIRCLE</th>\n",
       "      <th>DAYS_LAST_PHONE_CHANGE</th>\n",
       "      <th>FLAG_DOCUMENT_3</th>\n",
       "      <th>AMT_REQ_CREDIT_BUREAU_HOUR</th>\n",
       "      <th>AMT_REQ_CREDIT_BUREAU_DAY</th>\n",
       "      <th>AMT_REQ_CREDIT_BUREAU_WEEK</th>\n",
       "      <th>AMT_REQ_CREDIT_BUREAU_MON</th>\n",
       "      <th>AMT_REQ_CREDIT_BUREAU_QRT</th>\n",
       "      <th>AMT_REQ_CREDIT_BUREAU_YEAR</th>\n",
       "      <th>SK_ID_PREV</th>\n",
       "      <th>NAME_CONTRACT_TYPE_y</th>\n",
       "      <th>AMT_ANNUITY_y</th>\n",
       "      <th>AMT_APPLICATION</th>\n",
       "      <th>AMT_CREDIT_y</th>\n",
       "      <th>AMT_GOODS_PRICE_y</th>\n",
       "      <th>NAME_CASH_LOAN_PURPOSE</th>\n",
       "      <th>NAME_CONTRACT_STATUS</th>\n",
       "      <th>DAYS_DECISION</th>\n",
       "      <th>NAME_PAYMENT_TYPE</th>\n",
       "      <th>CODE_REJECT_REASON</th>\n",
       "      <th>NAME_CLIENT_TYPE</th>\n",
       "      <th>NAME_GOODS_CATEGORY</th>\n",
       "      <th>NAME_PORTFOLIO</th>\n",
       "      <th>NAME_PRODUCT_TYPE</th>\n",
       "      <th>CHANNEL_TYPE</th>\n",
       "      <th>SELLERPLACE_AREA</th>\n",
       "      <th>NAME_SELLER_INDUSTRY</th>\n",
       "      <th>CNT_PAYMENT</th>\n",
       "      <th>NAME_YIELD_GROUP</th>\n",
       "      <th>PRODUCT_COMBINATION</th>\n",
       "    </tr>\n",
       "  </thead>\n",
       "  <tbody>\n",
       "    <tr>\n",
       "      <th>0</th>\n",
       "      <td>100002</td>\n",
       "      <td>1</td>\n",
       "      <td>Cash loans</td>\n",
       "      <td>M</td>\n",
       "      <td>0</td>\n",
       "      <td>1</td>\n",
       "      <td>0</td>\n",
       "      <td>202500.0</td>\n",
       "      <td>406597.5</td>\n",
       "      <td>24700.5</td>\n",
       "      <td>351000.0</td>\n",
       "      <td>Unaccompanied</td>\n",
       "      <td>Working</td>\n",
       "      <td>Secondary / secondary special</td>\n",
       "      <td>Single / not married</td>\n",
       "      <td>House / apartment</td>\n",
       "      <td>0.018801</td>\n",
       "      <td>-9461</td>\n",
       "      <td>-637</td>\n",
       "      <td>-3648.0</td>\n",
       "      <td>-2120</td>\n",
       "      <td>Laborers</td>\n",
       "      <td>1.0</td>\n",
       "      <td>2</td>\n",
       "      <td>2</td>\n",
       "      <td>WEDNESDAY</td>\n",
       "      <td>10</td>\n",
       "      <td>0</td>\n",
       "      <td>0</td>\n",
       "      <td>0</td>\n",
       "      <td>0</td>\n",
       "      <td>0</td>\n",
       "      <td>0</td>\n",
       "      <td>Business Entity Type 3</td>\n",
       "      <td>2.0</td>\n",
       "      <td>2.0</td>\n",
       "      <td>2.0</td>\n",
       "      <td>2.0</td>\n",
       "      <td>-1134.0</td>\n",
       "      <td>1</td>\n",
       "      <td>0.0</td>\n",
       "      <td>0.0</td>\n",
       "      <td>0.0</td>\n",
       "      <td>0.0</td>\n",
       "      <td>0.0</td>\n",
       "      <td>1.0</td>\n",
       "      <td>1038818</td>\n",
       "      <td>Consumer loans</td>\n",
       "      <td>9251.775</td>\n",
       "      <td>179055.0</td>\n",
       "      <td>179055.0</td>\n",
       "      <td>179055.0</td>\n",
       "      <td>XAP</td>\n",
       "      <td>Approved</td>\n",
       "      <td>-606</td>\n",
       "      <td>XNA</td>\n",
       "      <td>XAP</td>\n",
       "      <td>New</td>\n",
       "      <td>Vehicles</td>\n",
       "      <td>POS</td>\n",
       "      <td>XNA</td>\n",
       "      <td>Stone</td>\n",
       "      <td>500</td>\n",
       "      <td>Auto technology</td>\n",
       "      <td>24.0</td>\n",
       "      <td>low_normal</td>\n",
       "      <td>POS other with interest</td>\n",
       "    </tr>\n",
       "    <tr>\n",
       "      <th>1</th>\n",
       "      <td>100003</td>\n",
       "      <td>0</td>\n",
       "      <td>Cash loans</td>\n",
       "      <td>F</td>\n",
       "      <td>0</td>\n",
       "      <td>0</td>\n",
       "      <td>0</td>\n",
       "      <td>270000.0</td>\n",
       "      <td>1293502.5</td>\n",
       "      <td>35698.5</td>\n",
       "      <td>1129500.0</td>\n",
       "      <td>Family</td>\n",
       "      <td>State servant</td>\n",
       "      <td>Higher education</td>\n",
       "      <td>Married</td>\n",
       "      <td>House / apartment</td>\n",
       "      <td>0.003541</td>\n",
       "      <td>-16765</td>\n",
       "      <td>-1188</td>\n",
       "      <td>-1186.0</td>\n",
       "      <td>-291</td>\n",
       "      <td>Core staff</td>\n",
       "      <td>2.0</td>\n",
       "      <td>1</td>\n",
       "      <td>1</td>\n",
       "      <td>MONDAY</td>\n",
       "      <td>11</td>\n",
       "      <td>0</td>\n",
       "      <td>0</td>\n",
       "      <td>0</td>\n",
       "      <td>0</td>\n",
       "      <td>0</td>\n",
       "      <td>0</td>\n",
       "      <td>School</td>\n",
       "      <td>1.0</td>\n",
       "      <td>0.0</td>\n",
       "      <td>1.0</td>\n",
       "      <td>0.0</td>\n",
       "      <td>-828.0</td>\n",
       "      <td>1</td>\n",
       "      <td>0.0</td>\n",
       "      <td>0.0</td>\n",
       "      <td>0.0</td>\n",
       "      <td>0.0</td>\n",
       "      <td>0.0</td>\n",
       "      <td>0.0</td>\n",
       "      <td>1810518</td>\n",
       "      <td>Cash loans</td>\n",
       "      <td>98356.995</td>\n",
       "      <td>900000.0</td>\n",
       "      <td>1035882.0</td>\n",
       "      <td>900000.0</td>\n",
       "      <td>XNA</td>\n",
       "      <td>Approved</td>\n",
       "      <td>-746</td>\n",
       "      <td>XNA</td>\n",
       "      <td>XAP</td>\n",
       "      <td>Repeater</td>\n",
       "      <td>XNA</td>\n",
       "      <td>Cash</td>\n",
       "      <td>x-sell</td>\n",
       "      <td>Credit and cash offices</td>\n",
       "      <td>-1</td>\n",
       "      <td>XNA</td>\n",
       "      <td>12.0</td>\n",
       "      <td>low_normal</td>\n",
       "      <td>Cash X-Sell: low</td>\n",
       "    </tr>\n",
       "    <tr>\n",
       "      <th>2</th>\n",
       "      <td>100003</td>\n",
       "      <td>0</td>\n",
       "      <td>Cash loans</td>\n",
       "      <td>F</td>\n",
       "      <td>0</td>\n",
       "      <td>0</td>\n",
       "      <td>0</td>\n",
       "      <td>270000.0</td>\n",
       "      <td>1293502.5</td>\n",
       "      <td>35698.5</td>\n",
       "      <td>1129500.0</td>\n",
       "      <td>Family</td>\n",
       "      <td>State servant</td>\n",
       "      <td>Higher education</td>\n",
       "      <td>Married</td>\n",
       "      <td>House / apartment</td>\n",
       "      <td>0.003541</td>\n",
       "      <td>-16765</td>\n",
       "      <td>-1188</td>\n",
       "      <td>-1186.0</td>\n",
       "      <td>-291</td>\n",
       "      <td>Core staff</td>\n",
       "      <td>2.0</td>\n",
       "      <td>1</td>\n",
       "      <td>1</td>\n",
       "      <td>MONDAY</td>\n",
       "      <td>11</td>\n",
       "      <td>0</td>\n",
       "      <td>0</td>\n",
       "      <td>0</td>\n",
       "      <td>0</td>\n",
       "      <td>0</td>\n",
       "      <td>0</td>\n",
       "      <td>School</td>\n",
       "      <td>1.0</td>\n",
       "      <td>0.0</td>\n",
       "      <td>1.0</td>\n",
       "      <td>0.0</td>\n",
       "      <td>-828.0</td>\n",
       "      <td>1</td>\n",
       "      <td>0.0</td>\n",
       "      <td>0.0</td>\n",
       "      <td>0.0</td>\n",
       "      <td>0.0</td>\n",
       "      <td>0.0</td>\n",
       "      <td>0.0</td>\n",
       "      <td>2636178</td>\n",
       "      <td>Consumer loans</td>\n",
       "      <td>64567.665</td>\n",
       "      <td>337500.0</td>\n",
       "      <td>348637.5</td>\n",
       "      <td>337500.0</td>\n",
       "      <td>XAP</td>\n",
       "      <td>Approved</td>\n",
       "      <td>-828</td>\n",
       "      <td>Cash through the bank</td>\n",
       "      <td>XAP</td>\n",
       "      <td>Refreshed</td>\n",
       "      <td>Furniture</td>\n",
       "      <td>POS</td>\n",
       "      <td>XNA</td>\n",
       "      <td>Stone</td>\n",
       "      <td>1400</td>\n",
       "      <td>Furniture</td>\n",
       "      <td>6.0</td>\n",
       "      <td>middle</td>\n",
       "      <td>POS industry with interest</td>\n",
       "    </tr>\n",
       "    <tr>\n",
       "      <th>3</th>\n",
       "      <td>100003</td>\n",
       "      <td>0</td>\n",
       "      <td>Cash loans</td>\n",
       "      <td>F</td>\n",
       "      <td>0</td>\n",
       "      <td>0</td>\n",
       "      <td>0</td>\n",
       "      <td>270000.0</td>\n",
       "      <td>1293502.5</td>\n",
       "      <td>35698.5</td>\n",
       "      <td>1129500.0</td>\n",
       "      <td>Family</td>\n",
       "      <td>State servant</td>\n",
       "      <td>Higher education</td>\n",
       "      <td>Married</td>\n",
       "      <td>House / apartment</td>\n",
       "      <td>0.003541</td>\n",
       "      <td>-16765</td>\n",
       "      <td>-1188</td>\n",
       "      <td>-1186.0</td>\n",
       "      <td>-291</td>\n",
       "      <td>Core staff</td>\n",
       "      <td>2.0</td>\n",
       "      <td>1</td>\n",
       "      <td>1</td>\n",
       "      <td>MONDAY</td>\n",
       "      <td>11</td>\n",
       "      <td>0</td>\n",
       "      <td>0</td>\n",
       "      <td>0</td>\n",
       "      <td>0</td>\n",
       "      <td>0</td>\n",
       "      <td>0</td>\n",
       "      <td>School</td>\n",
       "      <td>1.0</td>\n",
       "      <td>0.0</td>\n",
       "      <td>1.0</td>\n",
       "      <td>0.0</td>\n",
       "      <td>-828.0</td>\n",
       "      <td>1</td>\n",
       "      <td>0.0</td>\n",
       "      <td>0.0</td>\n",
       "      <td>0.0</td>\n",
       "      <td>0.0</td>\n",
       "      <td>0.0</td>\n",
       "      <td>0.0</td>\n",
       "      <td>2396755</td>\n",
       "      <td>Consumer loans</td>\n",
       "      <td>6737.310</td>\n",
       "      <td>68809.5</td>\n",
       "      <td>68053.5</td>\n",
       "      <td>68809.5</td>\n",
       "      <td>XAP</td>\n",
       "      <td>Approved</td>\n",
       "      <td>-2341</td>\n",
       "      <td>Cash through the bank</td>\n",
       "      <td>XAP</td>\n",
       "      <td>Refreshed</td>\n",
       "      <td>Consumer Electronics</td>\n",
       "      <td>POS</td>\n",
       "      <td>XNA</td>\n",
       "      <td>Country-wide</td>\n",
       "      <td>200</td>\n",
       "      <td>Consumer electronics</td>\n",
       "      <td>12.0</td>\n",
       "      <td>middle</td>\n",
       "      <td>POS household with interest</td>\n",
       "    </tr>\n",
       "    <tr>\n",
       "      <th>4</th>\n",
       "      <td>100004</td>\n",
       "      <td>0</td>\n",
       "      <td>Revolving loans</td>\n",
       "      <td>M</td>\n",
       "      <td>1</td>\n",
       "      <td>1</td>\n",
       "      <td>0</td>\n",
       "      <td>67500.0</td>\n",
       "      <td>135000.0</td>\n",
       "      <td>6750.0</td>\n",
       "      <td>135000.0</td>\n",
       "      <td>Unaccompanied</td>\n",
       "      <td>Working</td>\n",
       "      <td>Secondary / secondary special</td>\n",
       "      <td>Single / not married</td>\n",
       "      <td>House / apartment</td>\n",
       "      <td>0.010032</td>\n",
       "      <td>-19046</td>\n",
       "      <td>-225</td>\n",
       "      <td>-4260.0</td>\n",
       "      <td>-2531</td>\n",
       "      <td>Laborers</td>\n",
       "      <td>1.0</td>\n",
       "      <td>2</td>\n",
       "      <td>2</td>\n",
       "      <td>MONDAY</td>\n",
       "      <td>9</td>\n",
       "      <td>0</td>\n",
       "      <td>0</td>\n",
       "      <td>0</td>\n",
       "      <td>0</td>\n",
       "      <td>0</td>\n",
       "      <td>0</td>\n",
       "      <td>Government</td>\n",
       "      <td>0.0</td>\n",
       "      <td>0.0</td>\n",
       "      <td>0.0</td>\n",
       "      <td>0.0</td>\n",
       "      <td>-815.0</td>\n",
       "      <td>0</td>\n",
       "      <td>0.0</td>\n",
       "      <td>0.0</td>\n",
       "      <td>0.0</td>\n",
       "      <td>0.0</td>\n",
       "      <td>0.0</td>\n",
       "      <td>0.0</td>\n",
       "      <td>1564014</td>\n",
       "      <td>Consumer loans</td>\n",
       "      <td>5357.250</td>\n",
       "      <td>24282.0</td>\n",
       "      <td>20106.0</td>\n",
       "      <td>24282.0</td>\n",
       "      <td>XAP</td>\n",
       "      <td>Approved</td>\n",
       "      <td>-815</td>\n",
       "      <td>Cash through the bank</td>\n",
       "      <td>XAP</td>\n",
       "      <td>New</td>\n",
       "      <td>Mobile</td>\n",
       "      <td>POS</td>\n",
       "      <td>XNA</td>\n",
       "      <td>Regional / Local</td>\n",
       "      <td>30</td>\n",
       "      <td>Connectivity</td>\n",
       "      <td>4.0</td>\n",
       "      <td>middle</td>\n",
       "      <td>POS mobile without interest</td>\n",
       "    </tr>\n",
       "  </tbody>\n",
       "</table>\n",
       "</div>"
      ],
      "text/plain": [
       "   SK_ID_CURR  TARGET NAME_CONTRACT_TYPE_x CODE_GENDER  FLAG_OWN_CAR  FLAG_OWN_REALTY  CNT_CHILDREN  AMT_INCOME_TOTAL  AMT_CREDIT_x  AMT_ANNUITY_x  AMT_GOODS_PRICE_x NAME_TYPE_SUITE NAME_INCOME_TYPE            NAME_EDUCATION_TYPE    NAME_FAMILY_STATUS  NAME_HOUSING_TYPE  REGION_POPULATION_RELATIVE  DAYS_BIRTH  DAYS_EMPLOYED  DAYS_REGISTRATION  DAYS_ID_PUBLISH OCCUPATION_TYPE  CNT_FAM_MEMBERS  REGION_RATING_CLIENT  REGION_RATING_CLIENT_W_CITY WEEKDAY_APPR_PROCESS_START  HOUR_APPR_PROCESS_START  REG_REGION_NOT_LIVE_REGION  REG_REGION_NOT_WORK_REGION  LIVE_REGION_NOT_WORK_REGION  REG_CITY_NOT_LIVE_CITY  REG_CITY_NOT_WORK_CITY  LIVE_CITY_NOT_WORK_CITY       ORGANIZATION_TYPE  OBS_30_CNT_SOCIAL_CIRCLE  DEF_30_CNT_SOCIAL_CIRCLE  OBS_60_CNT_SOCIAL_CIRCLE  DEF_60_CNT_SOCIAL_CIRCLE  DAYS_LAST_PHONE_CHANGE  FLAG_DOCUMENT_3  AMT_REQ_CREDIT_BUREAU_HOUR  AMT_REQ_CREDIT_BUREAU_DAY  AMT_REQ_CREDIT_BUREAU_WEEK  AMT_REQ_CREDIT_BUREAU_MON  AMT_REQ_CREDIT_BUREAU_QRT  AMT_REQ_CREDIT_BUREAU_YEAR  SK_ID_PREV NAME_CONTRACT_TYPE_y  AMT_ANNUITY_y  AMT_APPLICATION  AMT_CREDIT_y  AMT_GOODS_PRICE_y NAME_CASH_LOAN_PURPOSE NAME_CONTRACT_STATUS  DAYS_DECISION      NAME_PAYMENT_TYPE CODE_REJECT_REASON NAME_CLIENT_TYPE   NAME_GOODS_CATEGORY NAME_PORTFOLIO NAME_PRODUCT_TYPE             CHANNEL_TYPE  SELLERPLACE_AREA  NAME_SELLER_INDUSTRY  CNT_PAYMENT NAME_YIELD_GROUP          PRODUCT_COMBINATION\n",
       "0      100002       1           Cash loans           M             0                1             0          202500.0      406597.5        24700.5           351000.0   Unaccompanied          Working  Secondary / secondary special  Single / not married  House / apartment                    0.018801       -9461           -637            -3648.0            -2120        Laborers              1.0                     2                            2                  WEDNESDAY                       10                           0                           0                            0                       0                       0                        0  Business Entity Type 3                       2.0                       2.0                       2.0                       2.0                 -1134.0                1                         0.0                        0.0                         0.0                        0.0                        0.0                         1.0     1038818       Consumer loans       9251.775         179055.0      179055.0           179055.0                    XAP             Approved           -606                    XNA                XAP              New              Vehicles            POS               XNA                    Stone               500       Auto technology         24.0       low_normal      POS other with interest\n",
       "1      100003       0           Cash loans           F             0                0             0          270000.0     1293502.5        35698.5          1129500.0          Family    State servant               Higher education               Married  House / apartment                    0.003541      -16765          -1188            -1186.0             -291      Core staff              2.0                     1                            1                     MONDAY                       11                           0                           0                            0                       0                       0                        0                  School                       1.0                       0.0                       1.0                       0.0                  -828.0                1                         0.0                        0.0                         0.0                        0.0                        0.0                         0.0     1810518           Cash loans      98356.995         900000.0     1035882.0           900000.0                    XNA             Approved           -746                    XNA                XAP         Repeater                   XNA           Cash            x-sell  Credit and cash offices                -1                   XNA         12.0       low_normal             Cash X-Sell: low\n",
       "2      100003       0           Cash loans           F             0                0             0          270000.0     1293502.5        35698.5          1129500.0          Family    State servant               Higher education               Married  House / apartment                    0.003541      -16765          -1188            -1186.0             -291      Core staff              2.0                     1                            1                     MONDAY                       11                           0                           0                            0                       0                       0                        0                  School                       1.0                       0.0                       1.0                       0.0                  -828.0                1                         0.0                        0.0                         0.0                        0.0                        0.0                         0.0     2636178       Consumer loans      64567.665         337500.0      348637.5           337500.0                    XAP             Approved           -828  Cash through the bank                XAP        Refreshed             Furniture            POS               XNA                    Stone              1400             Furniture          6.0           middle   POS industry with interest\n",
       "3      100003       0           Cash loans           F             0                0             0          270000.0     1293502.5        35698.5          1129500.0          Family    State servant               Higher education               Married  House / apartment                    0.003541      -16765          -1188            -1186.0             -291      Core staff              2.0                     1                            1                     MONDAY                       11                           0                           0                            0                       0                       0                        0                  School                       1.0                       0.0                       1.0                       0.0                  -828.0                1                         0.0                        0.0                         0.0                        0.0                        0.0                         0.0     2396755       Consumer loans       6737.310          68809.5       68053.5            68809.5                    XAP             Approved          -2341  Cash through the bank                XAP        Refreshed  Consumer Electronics            POS               XNA             Country-wide               200  Consumer electronics         12.0           middle  POS household with interest\n",
       "4      100004       0      Revolving loans           M             1                1             0           67500.0      135000.0         6750.0           135000.0   Unaccompanied          Working  Secondary / secondary special  Single / not married  House / apartment                    0.010032      -19046           -225            -4260.0            -2531        Laborers              1.0                     2                            2                     MONDAY                        9                           0                           0                            0                       0                       0                        0              Government                       0.0                       0.0                       0.0                       0.0                  -815.0                0                         0.0                        0.0                         0.0                        0.0                        0.0                         0.0     1564014       Consumer loans       5357.250          24282.0       20106.0            24282.0                    XAP             Approved           -815  Cash through the bank                XAP              New                Mobile            POS               XNA         Regional / Local                30          Connectivity          4.0           middle  POS mobile without interest"
      ]
     },
     "execution_count": 119,
     "metadata": {},
     "output_type": "execute_result"
    }
   ],
   "source": [
    "#merge both the dataframe on SK_ID_CURR with Inner Joins\n",
    "loan_process_df = pd.merge(applicationDF, previousDF, on='SK_ID_CURR')\n",
    "loan_process_df.head()"
   ]
  },
  {
   "cell_type": "code",
   "execution_count": 122,
   "metadata": {},
   "outputs": [
    {
     "data": {
      "text/plain": [
       "278"
      ]
     },
     "execution_count": 122,
     "metadata": {},
     "output_type": "execute_result"
    }
   ],
   "source": [
    "applicationDF['AMT_GOODS_PRICE'].isnull().sum()"
   ]
  },
  {
   "cell_type": "code",
   "execution_count": 123,
   "metadata": {},
   "outputs": [
    {
     "data": {
      "text/plain": [
       "1208"
      ]
     },
     "execution_count": 123,
     "metadata": {},
     "output_type": "execute_result"
    }
   ],
   "source": [
    "loan_process_df['AMT_GOODS_PRICE_x'].isnull().sum()"
   ]
  },
  {
   "cell_type": "code",
   "execution_count": 124,
   "metadata": {},
   "outputs": [
    {
     "data": {
      "text/plain": [
       "307511"
      ]
     },
     "execution_count": 124,
     "metadata": {},
     "output_type": "execute_result"
    }
   ],
   "source": [
    "len(applicationDF.index)"
   ]
  },
  {
   "cell_type": "code",
   "execution_count": 125,
   "metadata": {},
   "outputs": [
    {
     "data": {
      "text/plain": [
       "1413701"
      ]
     },
     "execution_count": 125,
     "metadata": {},
     "output_type": "execute_result"
    }
   ],
   "source": [
    "len(loan_process_df.index)"
   ]
  },
  {
   "cell_type": "code",
   "execution_count": 130,
   "metadata": {},
   "outputs": [
    {
     "data": {
      "text/html": [
       "<div>\n",
       "<style scoped>\n",
       "    .dataframe tbody tr th:only-of-type {\n",
       "        vertical-align: middle;\n",
       "    }\n",
       "\n",
       "    .dataframe tbody tr th {\n",
       "        vertical-align: top;\n",
       "    }\n",
       "\n",
       "    .dataframe thead th {\n",
       "        text-align: right;\n",
       "    }\n",
       "</style>\n",
       "<table border=\"1\" class=\"dataframe\">\n",
       "  <thead>\n",
       "    <tr style=\"text-align: right;\">\n",
       "      <th></th>\n",
       "      <th>AMT_INCOME_TOTAL</th>\n",
       "      <th>AMT_CREDIT_x</th>\n",
       "      <th>AMT_ANNUITY_x</th>\n",
       "      <th>AMT_GOODS_PRICE_x</th>\n",
       "      <th>AMT_ANNUITY_y</th>\n",
       "      <th>AMT_APPLICATION</th>\n",
       "      <th>AMT_CREDIT_y</th>\n",
       "      <th>AMT_GOODS_PRICE_y</th>\n",
       "    </tr>\n",
       "  </thead>\n",
       "  <tbody>\n",
       "    <tr>\n",
       "      <th>3417</th>\n",
       "      <td>45000.0</td>\n",
       "      <td>135000.0</td>\n",
       "      <td>6750.0</td>\n",
       "      <td>NaN</td>\n",
       "      <td>9169.290</td>\n",
       "      <td>67090.5</td>\n",
       "      <td>68787.0</td>\n",
       "      <td>67090.5</td>\n",
       "    </tr>\n",
       "    <tr>\n",
       "      <th>3418</th>\n",
       "      <td>45000.0</td>\n",
       "      <td>135000.0</td>\n",
       "      <td>6750.0</td>\n",
       "      <td>NaN</td>\n",
       "      <td>11094.750</td>\n",
       "      <td>210204.0</td>\n",
       "      <td>246276.0</td>\n",
       "      <td>210204.0</td>\n",
       "    </tr>\n",
       "    <tr>\n",
       "      <th>3419</th>\n",
       "      <td>45000.0</td>\n",
       "      <td>135000.0</td>\n",
       "      <td>6750.0</td>\n",
       "      <td>NaN</td>\n",
       "      <td>1923.840</td>\n",
       "      <td>35257.5</td>\n",
       "      <td>42705.0</td>\n",
       "      <td>35257.5</td>\n",
       "    </tr>\n",
       "    <tr>\n",
       "      <th>27447</th>\n",
       "      <td>157500.0</td>\n",
       "      <td>450000.0</td>\n",
       "      <td>22500.0</td>\n",
       "      <td>NaN</td>\n",
       "      <td>12185.775</td>\n",
       "      <td>106357.5</td>\n",
       "      <td>117589.5</td>\n",
       "      <td>106357.5</td>\n",
       "    </tr>\n",
       "    <tr>\n",
       "      <th>27448</th>\n",
       "      <td>157500.0</td>\n",
       "      <td>450000.0</td>\n",
       "      <td>22500.0</td>\n",
       "      <td>NaN</td>\n",
       "      <td>6750.000</td>\n",
       "      <td>135000.0</td>\n",
       "      <td>135000.0</td>\n",
       "      <td>135000.0</td>\n",
       "    </tr>\n",
       "    <tr>\n",
       "      <th>...</th>\n",
       "      <td>...</td>\n",
       "      <td>...</td>\n",
       "      <td>...</td>\n",
       "      <td>...</td>\n",
       "      <td>...</td>\n",
       "      <td>...</td>\n",
       "      <td>...</td>\n",
       "      <td>...</td>\n",
       "    </tr>\n",
       "    <tr>\n",
       "      <th>1407131</th>\n",
       "      <td>135000.0</td>\n",
       "      <td>270000.0</td>\n",
       "      <td>13500.0</td>\n",
       "      <td>NaN</td>\n",
       "      <td>25729.605</td>\n",
       "      <td>103455.0</td>\n",
       "      <td>95256.0</td>\n",
       "      <td>103455.0</td>\n",
       "    </tr>\n",
       "    <tr>\n",
       "      <th>1407841</th>\n",
       "      <td>67500.0</td>\n",
       "      <td>202500.0</td>\n",
       "      <td>10125.0</td>\n",
       "      <td>NaN</td>\n",
       "      <td>16254.225</td>\n",
       "      <td>137749.5</td>\n",
       "      <td>147190.5</td>\n",
       "      <td>137749.5</td>\n",
       "    </tr>\n",
       "    <tr>\n",
       "      <th>1407842</th>\n",
       "      <td>67500.0</td>\n",
       "      <td>202500.0</td>\n",
       "      <td>10125.0</td>\n",
       "      <td>NaN</td>\n",
       "      <td>15358.500</td>\n",
       "      <td>82494.0</td>\n",
       "      <td>86575.5</td>\n",
       "      <td>82494.0</td>\n",
       "    </tr>\n",
       "    <tr>\n",
       "      <th>1407843</th>\n",
       "      <td>67500.0</td>\n",
       "      <td>202500.0</td>\n",
       "      <td>10125.0</td>\n",
       "      <td>NaN</td>\n",
       "      <td>8235.360</td>\n",
       "      <td>81805.5</td>\n",
       "      <td>89905.5</td>\n",
       "      <td>81805.5</td>\n",
       "    </tr>\n",
       "    <tr>\n",
       "      <th>1407844</th>\n",
       "      <td>67500.0</td>\n",
       "      <td>202500.0</td>\n",
       "      <td>10125.0</td>\n",
       "      <td>NaN</td>\n",
       "      <td>7752.465</td>\n",
       "      <td>74601.0</td>\n",
       "      <td>65587.5</td>\n",
       "      <td>74601.0</td>\n",
       "    </tr>\n",
       "  </tbody>\n",
       "</table>\n",
       "<p>958 rows × 8 columns</p>\n",
       "</div>"
      ],
      "text/plain": [
       "         AMT_INCOME_TOTAL  AMT_CREDIT_x  AMT_ANNUITY_x  AMT_GOODS_PRICE_x  AMT_ANNUITY_y  AMT_APPLICATION  AMT_CREDIT_y  AMT_GOODS_PRICE_y\n",
       "3417              45000.0      135000.0         6750.0                NaN       9169.290          67090.5       68787.0            67090.5\n",
       "3418              45000.0      135000.0         6750.0                NaN      11094.750         210204.0      246276.0           210204.0\n",
       "3419              45000.0      135000.0         6750.0                NaN       1923.840          35257.5       42705.0            35257.5\n",
       "27447            157500.0      450000.0        22500.0                NaN      12185.775         106357.5      117589.5           106357.5\n",
       "27448            157500.0      450000.0        22500.0                NaN       6750.000         135000.0      135000.0           135000.0\n",
       "...                   ...           ...            ...                ...            ...              ...           ...                ...\n",
       "1407131          135000.0      270000.0        13500.0                NaN      25729.605         103455.0       95256.0           103455.0\n",
       "1407841           67500.0      202500.0        10125.0                NaN      16254.225         137749.5      147190.5           137749.5\n",
       "1407842           67500.0      202500.0        10125.0                NaN      15358.500          82494.0       86575.5            82494.0\n",
       "1407843           67500.0      202500.0        10125.0                NaN       8235.360          81805.5       89905.5            81805.5\n",
       "1407844           67500.0      202500.0        10125.0                NaN       7752.465          74601.0       65587.5            74601.0\n",
       "\n",
       "[958 rows x 8 columns]"
      ]
     },
     "execution_count": 130,
     "metadata": {},
     "output_type": "execute_result"
    }
   ],
   "source": [
    "cols = ['AMT_INCOME_TOTAL', 'AMT_CREDIT_x', 'AMT_ANNUITY_x', 'AMT_GOODS_PRICE_x', 'AMT_ANNUITY_y','AMT_APPLICATION','AMT_CREDIT_y','AMT_GOODS_PRICE_y']\n",
    "loan_process_df.loc[(~loan_process_df['AMT_GOODS_PRICE_y'].isnull() & loan_process_df['AMT_GOODS_PRICE_x'].isnull()),cols]"
   ]
  },
  {
   "cell_type": "code",
   "execution_count": 132,
   "metadata": {},
   "outputs": [
    {
     "data": {
      "text/html": [
       "<div>\n",
       "<style scoped>\n",
       "    .dataframe tbody tr th:only-of-type {\n",
       "        vertical-align: middle;\n",
       "    }\n",
       "\n",
       "    .dataframe tbody tr th {\n",
       "        vertical-align: top;\n",
       "    }\n",
       "\n",
       "    .dataframe thead th {\n",
       "        text-align: right;\n",
       "    }\n",
       "</style>\n",
       "<table border=\"1\" class=\"dataframe\">\n",
       "  <thead>\n",
       "    <tr style=\"text-align: right;\">\n",
       "      <th></th>\n",
       "      <th>AMT_INCOME_TOTAL</th>\n",
       "      <th>AMT_CREDIT_x</th>\n",
       "      <th>AMT_ANNUITY_x</th>\n",
       "      <th>AMT_GOODS_PRICE_x</th>\n",
       "      <th>AMT_ANNUITY_y</th>\n",
       "      <th>AMT_APPLICATION</th>\n",
       "      <th>AMT_CREDIT_y</th>\n",
       "      <th>AMT_GOODS_PRICE_y</th>\n",
       "    </tr>\n",
       "  </thead>\n",
       "  <tbody>\n",
       "    <tr>\n",
       "      <th>3417</th>\n",
       "      <td>45000.0</td>\n",
       "      <td>135000.0</td>\n",
       "      <td>6750.0</td>\n",
       "      <td>NaN</td>\n",
       "      <td>9169.290</td>\n",
       "      <td>67090.5</td>\n",
       "      <td>68787.0</td>\n",
       "      <td>67090.5</td>\n",
       "    </tr>\n",
       "    <tr>\n",
       "      <th>3418</th>\n",
       "      <td>45000.0</td>\n",
       "      <td>135000.0</td>\n",
       "      <td>6750.0</td>\n",
       "      <td>NaN</td>\n",
       "      <td>11094.750</td>\n",
       "      <td>210204.0</td>\n",
       "      <td>246276.0</td>\n",
       "      <td>210204.0</td>\n",
       "    </tr>\n",
       "    <tr>\n",
       "      <th>3419</th>\n",
       "      <td>45000.0</td>\n",
       "      <td>135000.0</td>\n",
       "      <td>6750.0</td>\n",
       "      <td>NaN</td>\n",
       "      <td>1923.840</td>\n",
       "      <td>35257.5</td>\n",
       "      <td>42705.0</td>\n",
       "      <td>35257.5</td>\n",
       "    </tr>\n",
       "    <tr>\n",
       "      <th>27447</th>\n",
       "      <td>157500.0</td>\n",
       "      <td>450000.0</td>\n",
       "      <td>22500.0</td>\n",
       "      <td>NaN</td>\n",
       "      <td>12185.775</td>\n",
       "      <td>106357.5</td>\n",
       "      <td>117589.5</td>\n",
       "      <td>106357.5</td>\n",
       "    </tr>\n",
       "    <tr>\n",
       "      <th>27448</th>\n",
       "      <td>157500.0</td>\n",
       "      <td>450000.0</td>\n",
       "      <td>22500.0</td>\n",
       "      <td>NaN</td>\n",
       "      <td>6750.000</td>\n",
       "      <td>135000.0</td>\n",
       "      <td>135000.0</td>\n",
       "      <td>135000.0</td>\n",
       "    </tr>\n",
       "    <tr>\n",
       "      <th>...</th>\n",
       "      <td>...</td>\n",
       "      <td>...</td>\n",
       "      <td>...</td>\n",
       "      <td>...</td>\n",
       "      <td>...</td>\n",
       "      <td>...</td>\n",
       "      <td>...</td>\n",
       "      <td>...</td>\n",
       "    </tr>\n",
       "    <tr>\n",
       "      <th>1407132</th>\n",
       "      <td>135000.0</td>\n",
       "      <td>270000.0</td>\n",
       "      <td>13500.0</td>\n",
       "      <td>NaN</td>\n",
       "      <td>NaN</td>\n",
       "      <td>0.0</td>\n",
       "      <td>0.0</td>\n",
       "      <td>NaN</td>\n",
       "    </tr>\n",
       "    <tr>\n",
       "      <th>1407841</th>\n",
       "      <td>67500.0</td>\n",
       "      <td>202500.0</td>\n",
       "      <td>10125.0</td>\n",
       "      <td>NaN</td>\n",
       "      <td>16254.225</td>\n",
       "      <td>137749.5</td>\n",
       "      <td>147190.5</td>\n",
       "      <td>137749.5</td>\n",
       "    </tr>\n",
       "    <tr>\n",
       "      <th>1407842</th>\n",
       "      <td>67500.0</td>\n",
       "      <td>202500.0</td>\n",
       "      <td>10125.0</td>\n",
       "      <td>NaN</td>\n",
       "      <td>15358.500</td>\n",
       "      <td>82494.0</td>\n",
       "      <td>86575.5</td>\n",
       "      <td>82494.0</td>\n",
       "    </tr>\n",
       "    <tr>\n",
       "      <th>1407843</th>\n",
       "      <td>67500.0</td>\n",
       "      <td>202500.0</td>\n",
       "      <td>10125.0</td>\n",
       "      <td>NaN</td>\n",
       "      <td>8235.360</td>\n",
       "      <td>81805.5</td>\n",
       "      <td>89905.5</td>\n",
       "      <td>81805.5</td>\n",
       "    </tr>\n",
       "    <tr>\n",
       "      <th>1407844</th>\n",
       "      <td>67500.0</td>\n",
       "      <td>202500.0</td>\n",
       "      <td>10125.0</td>\n",
       "      <td>NaN</td>\n",
       "      <td>7752.465</td>\n",
       "      <td>74601.0</td>\n",
       "      <td>65587.5</td>\n",
       "      <td>74601.0</td>\n",
       "    </tr>\n",
       "  </tbody>\n",
       "</table>\n",
       "<p>1208 rows × 8 columns</p>\n",
       "</div>"
      ],
      "text/plain": [
       "         AMT_INCOME_TOTAL  AMT_CREDIT_x  AMT_ANNUITY_x  AMT_GOODS_PRICE_x  AMT_ANNUITY_y  AMT_APPLICATION  AMT_CREDIT_y  AMT_GOODS_PRICE_y\n",
       "3417              45000.0      135000.0         6750.0                NaN       9169.290          67090.5       68787.0            67090.5\n",
       "3418              45000.0      135000.0         6750.0                NaN      11094.750         210204.0      246276.0           210204.0\n",
       "3419              45000.0      135000.0         6750.0                NaN       1923.840          35257.5       42705.0            35257.5\n",
       "27447            157500.0      450000.0        22500.0                NaN      12185.775         106357.5      117589.5           106357.5\n",
       "27448            157500.0      450000.0        22500.0                NaN       6750.000         135000.0      135000.0           135000.0\n",
       "...                   ...           ...            ...                ...            ...              ...           ...                ...\n",
       "1407132          135000.0      270000.0        13500.0                NaN            NaN              0.0           0.0                NaN\n",
       "1407841           67500.0      202500.0        10125.0                NaN      16254.225         137749.5      147190.5           137749.5\n",
       "1407842           67500.0      202500.0        10125.0                NaN      15358.500          82494.0       86575.5            82494.0\n",
       "1407843           67500.0      202500.0        10125.0                NaN       8235.360          81805.5       89905.5            81805.5\n",
       "1407844           67500.0      202500.0        10125.0                NaN       7752.465          74601.0       65587.5            74601.0\n",
       "\n",
       "[1208 rows x 8 columns]"
      ]
     },
     "execution_count": 132,
     "metadata": {},
     "output_type": "execute_result"
    }
   ],
   "source": [
    "cols = ['AMT_INCOME_TOTAL', 'AMT_CREDIT_x', 'AMT_ANNUITY_x', 'AMT_GOODS_PRICE_x', 'AMT_ANNUITY_y','AMT_APPLICATION','AMT_CREDIT_y','AMT_GOODS_PRICE_y']\n",
    "loan_process_df.loc[(loan_process_df['AMT_GOODS_PRICE_x'].isnull()),cols]"
   ]
  },
  {
   "cell_type": "markdown",
   "metadata": {},
   "source": [
    "<h2>\n",
    "    <font color = green>\n",
    "         5. Data Analysis\n",
    "    </font>\n",
    "</h2>"
   ]
  },
  {
   "cell_type": "markdown",
   "metadata": {},
   "source": [
    "### 5.1 Univariate Analysis"
   ]
  },
  {
   "cell_type": "markdown",
   "metadata": {},
   "source": [
    "### 5.2 Bivariate / Multivariate Analysis"
   ]
  },
  {
   "cell_type": "markdown",
   "metadata": {},
   "source": [
    "<h2>\n",
    "    <font color = green>\n",
    "        6. Conclusion\n",
    "    </font>\n",
    "</h2>  "
   ]
  },
  {
   "cell_type": "code",
   "execution_count": null,
   "metadata": {},
   "outputs": [],
   "source": []
  }
 ],
 "metadata": {
  "kernelspec": {
   "display_name": "Python 3",
   "language": "python",
   "name": "python3"
  },
  "language_info": {
   "codemirror_mode": {
    "name": "ipython",
    "version": 3
   },
   "file_extension": ".py",
   "mimetype": "text/x-python",
   "name": "python",
   "nbconvert_exporter": "python",
   "pygments_lexer": "ipython3",
   "version": "3.7.6"
  }
 },
 "nbformat": 4,
 "nbformat_minor": 2
}
