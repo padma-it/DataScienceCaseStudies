{
 "cells": [
  {
   "cell_type": "markdown",
   "metadata": {},
   "source": [
    "## Build a multiple linear regression model for the prediction of demand for shared bikes"
   ]
  },
  {
   "cell_type": "markdown",
   "metadata": {},
   "source": [
    "## Problem Statement\n",
    "A bike-sharing system is a service in which bikes are made available for shared use to individuals on a short term basis for a price or free. Many bike share systems allow people to borrow a bike from a \"dock\" which is usually computer-controlled wherein the user enters the payment information, and the system unlocks it. This bike can then be returned to another dock belonging to the same system.\n",
    "\n",
    "\n",
    "A US bike-sharing provider BoomBikes has recently suffered considerable dips in their revenues due to the ongoing Corona pandemic. The company is finding it very difficult to sustain in the current market scenario. So, it has decided to come up with a mindful business plan to be able to accelerate its revenue as soon as the ongoing lockdown comes to an end, and the economy restores to a healthy state. \n",
    "\n",
    "\n",
    "In such an attempt, BoomBikes aspires to understand the demand for shared bikes among the people after this ongoing quarantine situation ends across the nation due to Covid-19. They have planned this to prepare themselves to cater to the people's needs once the situation gets better all around and stand out from other service providers and make huge profits.\n",
    "\n",
    "\n",
    "They have contracted a consulting company to understand the factors on which the demand for these shared bikes depends. Specifically, they want to understand the factors affecting the demand for these shared bikes in the American market. The company wants to know:\n",
    "\n",
    "- Which variables are significant in predicting the demand for shared bikes.\n",
    "- How well those variables describe the bike demands\n",
    "\n",
    "Based on various meteorological surveys and people's styles, the service provider firm has gathered a large dataset on daily bike demands across the American market based on some factors. "
   ]
  },
  {
   "cell_type": "markdown",
   "metadata": {},
   "source": [
    "## Business Goal :\n",
    "   \n",
    "- Build a model which will be used by management to understand the demand for shared bikes with the available independent variables. \n",
    "- Explain how exactly the demands vary with different features so that the business strategy can be modified to meet the demand levels and meet the customer's expectations. \n",
    "- Further, the model will be a good way for management to understand the demand dynamics of a new market. \n",
    "    \n",
    "## ML Tasks:    \n",
    "\n",
    "- Which variables are significant in predicting the demand for shared bikes.\n",
    "- How well those variables describe the bike demands\n",
    "\n",
    "You can observe in the dataset that some of the variables like 'weathersit' and 'season' have values as 1, 2, 3, 4 which have specific labels associated with them (as can be seen in the data dictionary). These numeric values associated with the labels may indicate that there is some order to them - which is actually not the case (Check the data dictionary and think why). So, it is advisable to convert such feature values into categorical string values before proceeding with model building. Please refer the data dictionary to get a better understanding of all the independent variables."
   ]
  },
  {
   "cell_type": "markdown",
   "metadata": {},
   "source": [
    "#### Steps:\n",
    "1. Reading, understanding and visualing the data\n",
    "2. Preprocessing the data\n",
    "   - Encode the categorical variables using dummy variables.\n",
    "   - Divide into Train and Test data set.\n",
    "   - Scaling on training data set\n",
    "3. Building the model\n",
    "   - Create X and Y variables\n",
    "   - Use RFE and build initial model with RFE recommended features.\n",
    "   - Feature selection and Iteratively work on better model by dropping features based on p-value and VIF\n",
    "4. Model Evaluation\n",
    "   - Prove that the assumptions of linear regression are true\n",
    "   - Residual analysis\n",
    "   - Scaling on test data set\n",
    "   - Predict target variable using the fitted model\n",
    "   - Evaluate the prediction on the test data set\n",
    "5. Conclusion"
   ]
  },
  {
   "cell_type": "markdown",
   "metadata": {},
   "source": [
    "## 0. Import necessary libraries\n",
    "\n",
    "Ignore warnings and import necessary libraries:\n",
    "\n",
    "### 0.1 Importing Libraries\n"
   ]
  },
  {
   "cell_type": "code",
   "execution_count": 1,
   "metadata": {},
   "outputs": [],
   "source": [
    "import numpy as np\n",
    "import pandas as pd\n",
    "import matplotlib.pyplot as plt\n",
    "import seaborn as sns\n",
    "%matplotlib inline\n",
    "\n",
    "# To split into training-test data set\n",
    "from sklearn.model_selection import train_test_split\n",
    "\n",
    "# To scale the dataset\n",
    "from sklearn.preprocessing import MinMaxScaler\n",
    "\n",
    "# To get statistical information of the model\n",
    "import statsmodels.api as sm\n",
    "\n",
    "# Check for the VIF values of the feature variables. \n",
    "from statsmodels.stats.outliers_influence import variance_inflation_factor\n",
    "\n",
    "# To calculate the R-squared score, RMSE, MAE on the test set.\n",
    "from sklearn.metrics import r2_score, mean_squared_error, mean_absolute_error\n",
    "from math import sqrt\n",
    "\n",
    "# Importing RFE and LinearRegression\n",
    "from sklearn.feature_selection import RFE\n",
    "from sklearn.linear_model import LinearRegression"
   ]
  },
  {
   "cell_type": "markdown",
   "metadata": {},
   "source": [
    "### 0.2 Suppressing Warnings"
   ]
  },
  {
   "cell_type": "code",
   "execution_count": 2,
   "metadata": {},
   "outputs": [],
   "source": [
    "import warnings\n",
    "warnings.filterwarnings('ignore')"
   ]
  },
  {
   "cell_type": "markdown",
   "metadata": {},
   "source": [
    "## Step 1: Exploratory Data Analysis\n",
    "## Step 1.1 : Reading and understanding data:\n",
    "Read the given dataset into a dataframe called `bike_df`"
   ]
  },
  {
   "cell_type": "code",
   "execution_count": 3,
   "metadata": {},
   "outputs": [
    {
     "data": {
      "text/html": [
       "<div>\n",
       "<style scoped>\n",
       "    .dataframe tbody tr th:only-of-type {\n",
       "        vertical-align: middle;\n",
       "    }\n",
       "\n",
       "    .dataframe tbody tr th {\n",
       "        vertical-align: top;\n",
       "    }\n",
       "\n",
       "    .dataframe thead th {\n",
       "        text-align: right;\n",
       "    }\n",
       "</style>\n",
       "<table border=\"1\" class=\"dataframe\">\n",
       "  <thead>\n",
       "    <tr style=\"text-align: right;\">\n",
       "      <th></th>\n",
       "      <th>instant</th>\n",
       "      <th>dteday</th>\n",
       "      <th>season</th>\n",
       "      <th>yr</th>\n",
       "      <th>mnth</th>\n",
       "      <th>holiday</th>\n",
       "      <th>weekday</th>\n",
       "      <th>workingday</th>\n",
       "      <th>weathersit</th>\n",
       "      <th>temp</th>\n",
       "      <th>atemp</th>\n",
       "      <th>hum</th>\n",
       "      <th>windspeed</th>\n",
       "      <th>casual</th>\n",
       "      <th>registered</th>\n",
       "      <th>cnt</th>\n",
       "    </tr>\n",
       "  </thead>\n",
       "  <tbody>\n",
       "    <tr>\n",
       "      <th>0</th>\n",
       "      <td>1</td>\n",
       "      <td>01-01-2018</td>\n",
       "      <td>1</td>\n",
       "      <td>0</td>\n",
       "      <td>1</td>\n",
       "      <td>0</td>\n",
       "      <td>6</td>\n",
       "      <td>0</td>\n",
       "      <td>2</td>\n",
       "      <td>14.110847</td>\n",
       "      <td>18.18125</td>\n",
       "      <td>80.5833</td>\n",
       "      <td>10.749882</td>\n",
       "      <td>331</td>\n",
       "      <td>654</td>\n",
       "      <td>985</td>\n",
       "    </tr>\n",
       "    <tr>\n",
       "      <th>1</th>\n",
       "      <td>2</td>\n",
       "      <td>02-01-2018</td>\n",
       "      <td>1</td>\n",
       "      <td>0</td>\n",
       "      <td>1</td>\n",
       "      <td>0</td>\n",
       "      <td>0</td>\n",
       "      <td>0</td>\n",
       "      <td>2</td>\n",
       "      <td>14.902598</td>\n",
       "      <td>17.68695</td>\n",
       "      <td>69.6087</td>\n",
       "      <td>16.652113</td>\n",
       "      <td>131</td>\n",
       "      <td>670</td>\n",
       "      <td>801</td>\n",
       "    </tr>\n",
       "    <tr>\n",
       "      <th>2</th>\n",
       "      <td>3</td>\n",
       "      <td>03-01-2018</td>\n",
       "      <td>1</td>\n",
       "      <td>0</td>\n",
       "      <td>1</td>\n",
       "      <td>0</td>\n",
       "      <td>1</td>\n",
       "      <td>1</td>\n",
       "      <td>1</td>\n",
       "      <td>8.050924</td>\n",
       "      <td>9.47025</td>\n",
       "      <td>43.7273</td>\n",
       "      <td>16.636703</td>\n",
       "      <td>120</td>\n",
       "      <td>1229</td>\n",
       "      <td>1349</td>\n",
       "    </tr>\n",
       "    <tr>\n",
       "      <th>3</th>\n",
       "      <td>4</td>\n",
       "      <td>04-01-2018</td>\n",
       "      <td>1</td>\n",
       "      <td>0</td>\n",
       "      <td>1</td>\n",
       "      <td>0</td>\n",
       "      <td>2</td>\n",
       "      <td>1</td>\n",
       "      <td>1</td>\n",
       "      <td>8.200000</td>\n",
       "      <td>10.60610</td>\n",
       "      <td>59.0435</td>\n",
       "      <td>10.739832</td>\n",
       "      <td>108</td>\n",
       "      <td>1454</td>\n",
       "      <td>1562</td>\n",
       "    </tr>\n",
       "    <tr>\n",
       "      <th>4</th>\n",
       "      <td>5</td>\n",
       "      <td>05-01-2018</td>\n",
       "      <td>1</td>\n",
       "      <td>0</td>\n",
       "      <td>1</td>\n",
       "      <td>0</td>\n",
       "      <td>3</td>\n",
       "      <td>1</td>\n",
       "      <td>1</td>\n",
       "      <td>9.305237</td>\n",
       "      <td>11.46350</td>\n",
       "      <td>43.6957</td>\n",
       "      <td>12.522300</td>\n",
       "      <td>82</td>\n",
       "      <td>1518</td>\n",
       "      <td>1600</td>\n",
       "    </tr>\n",
       "  </tbody>\n",
       "</table>\n",
       "</div>"
      ],
      "text/plain": [
       "   instant      dteday  season  yr  mnth  holiday  weekday  workingday  \\\n",
       "0        1  01-01-2018       1   0     1        0        6           0   \n",
       "1        2  02-01-2018       1   0     1        0        0           0   \n",
       "2        3  03-01-2018       1   0     1        0        1           1   \n",
       "3        4  04-01-2018       1   0     1        0        2           1   \n",
       "4        5  05-01-2018       1   0     1        0        3           1   \n",
       "\n",
       "   weathersit       temp     atemp      hum  windspeed  casual  registered  \\\n",
       "0           2  14.110847  18.18125  80.5833  10.749882     331         654   \n",
       "1           2  14.902598  17.68695  69.6087  16.652113     131         670   \n",
       "2           1   8.050924   9.47025  43.7273  16.636703     120        1229   \n",
       "3           1   8.200000  10.60610  59.0435  10.739832     108        1454   \n",
       "4           1   9.305237  11.46350  43.6957  12.522300      82        1518   \n",
       "\n",
       "    cnt  \n",
       "0   985  \n",
       "1   801  \n",
       "2  1349  \n",
       "3  1562  \n",
       "4  1600  "
      ]
     },
     "execution_count": 3,
     "metadata": {},
     "output_type": "execute_result"
    }
   ],
   "source": [
    "bike_df = pd.read_csv('day.csv')\n",
    "bike_df.head() # Checking the top 5 rows of the dataframe"
   ]
  },
  {
   "cell_type": "code",
   "execution_count": 4,
   "metadata": {},
   "outputs": [
    {
     "data": {
      "text/html": [
       "<div>\n",
       "<style scoped>\n",
       "    .dataframe tbody tr th:only-of-type {\n",
       "        vertical-align: middle;\n",
       "    }\n",
       "\n",
       "    .dataframe tbody tr th {\n",
       "        vertical-align: top;\n",
       "    }\n",
       "\n",
       "    .dataframe thead th {\n",
       "        text-align: right;\n",
       "    }\n",
       "</style>\n",
       "<table border=\"1\" class=\"dataframe\">\n",
       "  <thead>\n",
       "    <tr style=\"text-align: right;\">\n",
       "      <th></th>\n",
       "      <th>instant</th>\n",
       "      <th>dteday</th>\n",
       "      <th>season</th>\n",
       "      <th>yr</th>\n",
       "      <th>mnth</th>\n",
       "      <th>holiday</th>\n",
       "      <th>weekday</th>\n",
       "      <th>workingday</th>\n",
       "      <th>weathersit</th>\n",
       "      <th>temp</th>\n",
       "      <th>atemp</th>\n",
       "      <th>hum</th>\n",
       "      <th>windspeed</th>\n",
       "      <th>casual</th>\n",
       "      <th>registered</th>\n",
       "      <th>cnt</th>\n",
       "    </tr>\n",
       "  </thead>\n",
       "  <tbody>\n",
       "    <tr>\n",
       "      <th>725</th>\n",
       "      <td>726</td>\n",
       "      <td>27-12-2019</td>\n",
       "      <td>1</td>\n",
       "      <td>1</td>\n",
       "      <td>12</td>\n",
       "      <td>0</td>\n",
       "      <td>4</td>\n",
       "      <td>1</td>\n",
       "      <td>2</td>\n",
       "      <td>10.420847</td>\n",
       "      <td>11.33210</td>\n",
       "      <td>65.2917</td>\n",
       "      <td>23.458911</td>\n",
       "      <td>247</td>\n",
       "      <td>1867</td>\n",
       "      <td>2114</td>\n",
       "    </tr>\n",
       "    <tr>\n",
       "      <th>726</th>\n",
       "      <td>727</td>\n",
       "      <td>28-12-2019</td>\n",
       "      <td>1</td>\n",
       "      <td>1</td>\n",
       "      <td>12</td>\n",
       "      <td>0</td>\n",
       "      <td>5</td>\n",
       "      <td>1</td>\n",
       "      <td>2</td>\n",
       "      <td>10.386653</td>\n",
       "      <td>12.75230</td>\n",
       "      <td>59.0000</td>\n",
       "      <td>10.416557</td>\n",
       "      <td>644</td>\n",
       "      <td>2451</td>\n",
       "      <td>3095</td>\n",
       "    </tr>\n",
       "    <tr>\n",
       "      <th>727</th>\n",
       "      <td>728</td>\n",
       "      <td>29-12-2019</td>\n",
       "      <td>1</td>\n",
       "      <td>1</td>\n",
       "      <td>12</td>\n",
       "      <td>0</td>\n",
       "      <td>6</td>\n",
       "      <td>0</td>\n",
       "      <td>2</td>\n",
       "      <td>10.386653</td>\n",
       "      <td>12.12000</td>\n",
       "      <td>75.2917</td>\n",
       "      <td>8.333661</td>\n",
       "      <td>159</td>\n",
       "      <td>1182</td>\n",
       "      <td>1341</td>\n",
       "    </tr>\n",
       "    <tr>\n",
       "      <th>728</th>\n",
       "      <td>729</td>\n",
       "      <td>30-12-2019</td>\n",
       "      <td>1</td>\n",
       "      <td>1</td>\n",
       "      <td>12</td>\n",
       "      <td>0</td>\n",
       "      <td>0</td>\n",
       "      <td>0</td>\n",
       "      <td>1</td>\n",
       "      <td>10.489153</td>\n",
       "      <td>11.58500</td>\n",
       "      <td>48.3333</td>\n",
       "      <td>23.500518</td>\n",
       "      <td>364</td>\n",
       "      <td>1432</td>\n",
       "      <td>1796</td>\n",
       "    </tr>\n",
       "    <tr>\n",
       "      <th>729</th>\n",
       "      <td>730</td>\n",
       "      <td>31-12-2019</td>\n",
       "      <td>1</td>\n",
       "      <td>1</td>\n",
       "      <td>12</td>\n",
       "      <td>0</td>\n",
       "      <td>1</td>\n",
       "      <td>1</td>\n",
       "      <td>2</td>\n",
       "      <td>8.849153</td>\n",
       "      <td>11.17435</td>\n",
       "      <td>57.7500</td>\n",
       "      <td>10.374682</td>\n",
       "      <td>439</td>\n",
       "      <td>2290</td>\n",
       "      <td>2729</td>\n",
       "    </tr>\n",
       "  </tbody>\n",
       "</table>\n",
       "</div>"
      ],
      "text/plain": [
       "     instant      dteday  season  yr  mnth  holiday  weekday  workingday  \\\n",
       "725      726  27-12-2019       1   1    12        0        4           1   \n",
       "726      727  28-12-2019       1   1    12        0        5           1   \n",
       "727      728  29-12-2019       1   1    12        0        6           0   \n",
       "728      729  30-12-2019       1   1    12        0        0           0   \n",
       "729      730  31-12-2019       1   1    12        0        1           1   \n",
       "\n",
       "     weathersit       temp     atemp      hum  windspeed  casual  registered  \\\n",
       "725           2  10.420847  11.33210  65.2917  23.458911     247        1867   \n",
       "726           2  10.386653  12.75230  59.0000  10.416557     644        2451   \n",
       "727           2  10.386653  12.12000  75.2917   8.333661     159        1182   \n",
       "728           1  10.489153  11.58500  48.3333  23.500518     364        1432   \n",
       "729           2   8.849153  11.17435  57.7500  10.374682     439        2290   \n",
       "\n",
       "      cnt  \n",
       "725  2114  \n",
       "726  3095  \n",
       "727  1341  \n",
       "728  1796  \n",
       "729  2729  "
      ]
     },
     "execution_count": 4,
     "metadata": {},
     "output_type": "execute_result"
    }
   ],
   "source": [
    "# checking botton 5 rows of the dataframe\n",
    "bike_df.tail()"
   ]
  },
  {
   "cell_type": "markdown",
   "metadata": {},
   "source": [
    "Inspect the various aspects of the `bike_df` dataframe such as \n",
    "- `shape` for number of rows and columns\n",
    "- `size` for memory usage\n",
    "- `info()` for the presence of null values\n",
    "- `describe()` for statistical information"
   ]
  },
  {
   "cell_type": "code",
   "execution_count": 5,
   "metadata": {},
   "outputs": [
    {
     "data": {
      "text/plain": [
       "(730, 16)"
      ]
     },
     "execution_count": 5,
     "metadata": {},
     "output_type": "execute_result"
    }
   ],
   "source": [
    "# Checking the shape of the dataframe\n",
    "bike_df.shape"
   ]
  },
  {
   "cell_type": "markdown",
   "metadata": {},
   "source": [
    "There are `730` rows and `16` columns in the given dataset."
   ]
  },
  {
   "cell_type": "code",
   "execution_count": 6,
   "metadata": {},
   "outputs": [
    {
     "data": {
      "text/plain": [
       "11680"
      ]
     },
     "execution_count": 6,
     "metadata": {},
     "output_type": "execute_result"
    }
   ],
   "source": [
    "# Checking the size of the dataframe\n",
    "bike_df.size"
   ]
  },
  {
   "cell_type": "code",
   "execution_count": 7,
   "metadata": {},
   "outputs": [
    {
     "name": "stdout",
     "output_type": "stream",
     "text": [
      "instant         int64\n",
      "dteday         object\n",
      "season          int64\n",
      "yr              int64\n",
      "mnth            int64\n",
      "holiday         int64\n",
      "weekday         int64\n",
      "workingday      int64\n",
      "weathersit      int64\n",
      "temp          float64\n",
      "atemp         float64\n",
      "hum           float64\n",
      "windspeed     float64\n",
      "casual          int64\n",
      "registered      int64\n",
      "cnt             int64\n",
      "dtype: object\n"
     ]
    }
   ],
   "source": [
    "# Inspecting type\n",
    "print(bike_df.dtypes)"
   ]
  },
  {
   "cell_type": "code",
   "execution_count": 8,
   "metadata": {},
   "outputs": [
    {
     "name": "stdout",
     "output_type": "stream",
     "text": [
      "<class 'pandas.core.frame.DataFrame'>\n",
      "RangeIndex: 730 entries, 0 to 729\n",
      "Data columns (total 16 columns):\n",
      " #   Column      Non-Null Count  Dtype  \n",
      "---  ------      --------------  -----  \n",
      " 0   instant     730 non-null    int64  \n",
      " 1   dteday      730 non-null    object \n",
      " 2   season      730 non-null    int64  \n",
      " 3   yr          730 non-null    int64  \n",
      " 4   mnth        730 non-null    int64  \n",
      " 5   holiday     730 non-null    int64  \n",
      " 6   weekday     730 non-null    int64  \n",
      " 7   workingday  730 non-null    int64  \n",
      " 8   weathersit  730 non-null    int64  \n",
      " 9   temp        730 non-null    float64\n",
      " 10  atemp       730 non-null    float64\n",
      " 11  hum         730 non-null    float64\n",
      " 12  windspeed   730 non-null    float64\n",
      " 13  casual      730 non-null    int64  \n",
      " 14  registered  730 non-null    int64  \n",
      " 15  cnt         730 non-null    int64  \n",
      "dtypes: float64(4), int64(11), object(1)\n",
      "memory usage: 91.4+ KB\n"
     ]
    }
   ],
   "source": [
    "# How many types of each data type column exists and total memory usage\n",
    "bike_df.info()"
   ]
  },
  {
   "cell_type": "markdown",
   "metadata": {},
   "source": [
    "#### Null Value analysis"
   ]
  },
  {
   "cell_type": "code",
   "execution_count": 9,
   "metadata": {},
   "outputs": [
    {
     "name": "stdout",
     "output_type": "stream",
     "text": [
      "instant       False\n",
      "dteday        False\n",
      "season        False\n",
      "yr            False\n",
      "mnth          False\n",
      "holiday       False\n",
      "weekday       False\n",
      "workingday    False\n",
      "weathersit    False\n",
      "temp          False\n",
      "atemp         False\n",
      "hum           False\n",
      "windspeed     False\n",
      "casual        False\n",
      "registered    False\n",
      "cnt           False\n",
      "dtype: bool\n"
     ]
    }
   ],
   "source": [
    "# Looking for any null value in any column \n",
    "print(bike_df.isnull().any())"
   ]
  },
  {
   "cell_type": "markdown",
   "metadata": {},
   "source": [
    "Both `info()` and `isnull().any()` output indicate that there are no null values in the given dataset."
   ]
  },
  {
   "cell_type": "code",
   "execution_count": 10,
   "metadata": {},
   "outputs": [
    {
     "data": {
      "text/html": [
       "<div>\n",
       "<style scoped>\n",
       "    .dataframe tbody tr th:only-of-type {\n",
       "        vertical-align: middle;\n",
       "    }\n",
       "\n",
       "    .dataframe tbody tr th {\n",
       "        vertical-align: top;\n",
       "    }\n",
       "\n",
       "    .dataframe thead th {\n",
       "        text-align: right;\n",
       "    }\n",
       "</style>\n",
       "<table border=\"1\" class=\"dataframe\">\n",
       "  <thead>\n",
       "    <tr style=\"text-align: right;\">\n",
       "      <th></th>\n",
       "      <th>instant</th>\n",
       "      <th>season</th>\n",
       "      <th>yr</th>\n",
       "      <th>mnth</th>\n",
       "      <th>holiday</th>\n",
       "      <th>weekday</th>\n",
       "      <th>workingday</th>\n",
       "      <th>weathersit</th>\n",
       "      <th>temp</th>\n",
       "      <th>atemp</th>\n",
       "      <th>hum</th>\n",
       "      <th>windspeed</th>\n",
       "      <th>casual</th>\n",
       "      <th>registered</th>\n",
       "      <th>cnt</th>\n",
       "    </tr>\n",
       "  </thead>\n",
       "  <tbody>\n",
       "    <tr>\n",
       "      <th>count</th>\n",
       "      <td>730.000000</td>\n",
       "      <td>730.000000</td>\n",
       "      <td>730.000000</td>\n",
       "      <td>730.000000</td>\n",
       "      <td>730.000000</td>\n",
       "      <td>730.000000</td>\n",
       "      <td>730.000000</td>\n",
       "      <td>730.000000</td>\n",
       "      <td>730.000000</td>\n",
       "      <td>730.000000</td>\n",
       "      <td>730.000000</td>\n",
       "      <td>730.000000</td>\n",
       "      <td>730.000000</td>\n",
       "      <td>730.000000</td>\n",
       "      <td>730.000000</td>\n",
       "    </tr>\n",
       "    <tr>\n",
       "      <th>mean</th>\n",
       "      <td>365.500000</td>\n",
       "      <td>2.498630</td>\n",
       "      <td>0.500000</td>\n",
       "      <td>6.526027</td>\n",
       "      <td>0.028767</td>\n",
       "      <td>2.997260</td>\n",
       "      <td>0.683562</td>\n",
       "      <td>1.394521</td>\n",
       "      <td>20.319259</td>\n",
       "      <td>23.726322</td>\n",
       "      <td>62.765175</td>\n",
       "      <td>12.763620</td>\n",
       "      <td>849.249315</td>\n",
       "      <td>3658.757534</td>\n",
       "      <td>4508.006849</td>\n",
       "    </tr>\n",
       "    <tr>\n",
       "      <th>std</th>\n",
       "      <td>210.877136</td>\n",
       "      <td>1.110184</td>\n",
       "      <td>0.500343</td>\n",
       "      <td>3.450215</td>\n",
       "      <td>0.167266</td>\n",
       "      <td>2.006161</td>\n",
       "      <td>0.465405</td>\n",
       "      <td>0.544807</td>\n",
       "      <td>7.506729</td>\n",
       "      <td>8.150308</td>\n",
       "      <td>14.237589</td>\n",
       "      <td>5.195841</td>\n",
       "      <td>686.479875</td>\n",
       "      <td>1559.758728</td>\n",
       "      <td>1936.011647</td>\n",
       "    </tr>\n",
       "    <tr>\n",
       "      <th>min</th>\n",
       "      <td>1.000000</td>\n",
       "      <td>1.000000</td>\n",
       "      <td>0.000000</td>\n",
       "      <td>1.000000</td>\n",
       "      <td>0.000000</td>\n",
       "      <td>0.000000</td>\n",
       "      <td>0.000000</td>\n",
       "      <td>1.000000</td>\n",
       "      <td>2.424346</td>\n",
       "      <td>3.953480</td>\n",
       "      <td>0.000000</td>\n",
       "      <td>1.500244</td>\n",
       "      <td>2.000000</td>\n",
       "      <td>20.000000</td>\n",
       "      <td>22.000000</td>\n",
       "    </tr>\n",
       "    <tr>\n",
       "      <th>25%</th>\n",
       "      <td>183.250000</td>\n",
       "      <td>2.000000</td>\n",
       "      <td>0.000000</td>\n",
       "      <td>4.000000</td>\n",
       "      <td>0.000000</td>\n",
       "      <td>1.000000</td>\n",
       "      <td>0.000000</td>\n",
       "      <td>1.000000</td>\n",
       "      <td>13.811885</td>\n",
       "      <td>16.889713</td>\n",
       "      <td>52.000000</td>\n",
       "      <td>9.041650</td>\n",
       "      <td>316.250000</td>\n",
       "      <td>2502.250000</td>\n",
       "      <td>3169.750000</td>\n",
       "    </tr>\n",
       "    <tr>\n",
       "      <th>50%</th>\n",
       "      <td>365.500000</td>\n",
       "      <td>3.000000</td>\n",
       "      <td>0.500000</td>\n",
       "      <td>7.000000</td>\n",
       "      <td>0.000000</td>\n",
       "      <td>3.000000</td>\n",
       "      <td>1.000000</td>\n",
       "      <td>1.000000</td>\n",
       "      <td>20.465826</td>\n",
       "      <td>24.368225</td>\n",
       "      <td>62.625000</td>\n",
       "      <td>12.125325</td>\n",
       "      <td>717.000000</td>\n",
       "      <td>3664.500000</td>\n",
       "      <td>4548.500000</td>\n",
       "    </tr>\n",
       "    <tr>\n",
       "      <th>75%</th>\n",
       "      <td>547.750000</td>\n",
       "      <td>3.000000</td>\n",
       "      <td>1.000000</td>\n",
       "      <td>10.000000</td>\n",
       "      <td>0.000000</td>\n",
       "      <td>5.000000</td>\n",
       "      <td>1.000000</td>\n",
       "      <td>2.000000</td>\n",
       "      <td>26.880615</td>\n",
       "      <td>30.445775</td>\n",
       "      <td>72.989575</td>\n",
       "      <td>15.625589</td>\n",
       "      <td>1096.500000</td>\n",
       "      <td>4783.250000</td>\n",
       "      <td>5966.000000</td>\n",
       "    </tr>\n",
       "    <tr>\n",
       "      <th>max</th>\n",
       "      <td>730.000000</td>\n",
       "      <td>4.000000</td>\n",
       "      <td>1.000000</td>\n",
       "      <td>12.000000</td>\n",
       "      <td>1.000000</td>\n",
       "      <td>6.000000</td>\n",
       "      <td>1.000000</td>\n",
       "      <td>3.000000</td>\n",
       "      <td>35.328347</td>\n",
       "      <td>42.044800</td>\n",
       "      <td>97.250000</td>\n",
       "      <td>34.000021</td>\n",
       "      <td>3410.000000</td>\n",
       "      <td>6946.000000</td>\n",
       "      <td>8714.000000</td>\n",
       "    </tr>\n",
       "  </tbody>\n",
       "</table>\n",
       "</div>"
      ],
      "text/plain": [
       "          instant      season          yr        mnth     holiday     weekday  \\\n",
       "count  730.000000  730.000000  730.000000  730.000000  730.000000  730.000000   \n",
       "mean   365.500000    2.498630    0.500000    6.526027    0.028767    2.997260   \n",
       "std    210.877136    1.110184    0.500343    3.450215    0.167266    2.006161   \n",
       "min      1.000000    1.000000    0.000000    1.000000    0.000000    0.000000   \n",
       "25%    183.250000    2.000000    0.000000    4.000000    0.000000    1.000000   \n",
       "50%    365.500000    3.000000    0.500000    7.000000    0.000000    3.000000   \n",
       "75%    547.750000    3.000000    1.000000   10.000000    0.000000    5.000000   \n",
       "max    730.000000    4.000000    1.000000   12.000000    1.000000    6.000000   \n",
       "\n",
       "       workingday  weathersit        temp       atemp         hum   windspeed  \\\n",
       "count  730.000000  730.000000  730.000000  730.000000  730.000000  730.000000   \n",
       "mean     0.683562    1.394521   20.319259   23.726322   62.765175   12.763620   \n",
       "std      0.465405    0.544807    7.506729    8.150308   14.237589    5.195841   \n",
       "min      0.000000    1.000000    2.424346    3.953480    0.000000    1.500244   \n",
       "25%      0.000000    1.000000   13.811885   16.889713   52.000000    9.041650   \n",
       "50%      1.000000    1.000000   20.465826   24.368225   62.625000   12.125325   \n",
       "75%      1.000000    2.000000   26.880615   30.445775   72.989575   15.625589   \n",
       "max      1.000000    3.000000   35.328347   42.044800   97.250000   34.000021   \n",
       "\n",
       "            casual   registered          cnt  \n",
       "count   730.000000   730.000000   730.000000  \n",
       "mean    849.249315  3658.757534  4508.006849  \n",
       "std     686.479875  1559.758728  1936.011647  \n",
       "min       2.000000    20.000000    22.000000  \n",
       "25%     316.250000  2502.250000  3169.750000  \n",
       "50%     717.000000  3664.500000  4548.500000  \n",
       "75%    1096.500000  4783.250000  5966.000000  \n",
       "max    3410.000000  6946.000000  8714.000000  "
      ]
     },
     "execution_count": 10,
     "metadata": {},
     "output_type": "execute_result"
    }
   ],
   "source": [
    "# Checking the numerical columns data distribution\n",
    "bike_df.describe()"
   ]
  },
  {
   "cell_type": "code",
   "execution_count": 11,
   "metadata": {},
   "outputs": [
    {
     "data": {
      "text/plain": [
       "yr              2\n",
       "holiday         2\n",
       "workingday      2\n",
       "weathersit      3\n",
       "season          4\n",
       "weekday         7\n",
       "mnth           12\n",
       "temp          498\n",
       "hum           594\n",
       "casual        605\n",
       "windspeed     649\n",
       "registered    678\n",
       "atemp         689\n",
       "cnt           695\n",
       "instant       730\n",
       "dteday        730\n",
       "dtype: int64"
      ]
     },
     "execution_count": 11,
     "metadata": {},
     "output_type": "execute_result"
    }
   ],
   "source": [
    "# Checking the number of unique values each column possess to identify categorical columns\n",
    "bike_df.nunique().sort_values()"
   ]
  },
  {
   "cell_type": "markdown",
   "metadata": {},
   "source": [
    "Both `nunique()` and `describe()` shows that there are some categorical variables in the dataframe which are in int format\n",
    "\n",
    "- Columns such as `yr`, `holiday`, `workingday` have only 2 distinct values and hence its ok to keep these as int and use the same columns.\n",
    "- Columns such as `weathersit`, `season`, `weekday`, `mnth` have around 3 to 12 distinct values and hence we will convert these columns to categorical data type."
   ]
  },
  {
   "cell_type": "markdown",
   "metadata": {},
   "source": [
    "#### Convert to Categorical Columns so that these can be used in Pandas get_dummies()"
   ]
  },
  {
   "cell_type": "code",
   "execution_count": 12,
   "metadata": {},
   "outputs": [
    {
     "name": "stdout",
     "output_type": "stream",
     "text": [
      "<class 'pandas.core.frame.DataFrame'>\n",
      "RangeIndex: 730 entries, 0 to 729\n",
      "Data columns (total 16 columns):\n",
      " #   Column      Non-Null Count  Dtype   \n",
      "---  ------      --------------  -----   \n",
      " 0   instant     730 non-null    int64   \n",
      " 1   dteday      730 non-null    object  \n",
      " 2   season      730 non-null    category\n",
      " 3   yr          730 non-null    int64   \n",
      " 4   mnth        730 non-null    category\n",
      " 5   holiday     730 non-null    int64   \n",
      " 6   weekday     730 non-null    category\n",
      " 7   workingday  730 non-null    int64   \n",
      " 8   weathersit  730 non-null    category\n",
      " 9   temp        730 non-null    float64 \n",
      " 10  atemp       730 non-null    float64 \n",
      " 11  hum         730 non-null    float64 \n",
      " 12  windspeed   730 non-null    float64 \n",
      " 13  casual      730 non-null    int64   \n",
      " 14  registered  730 non-null    int64   \n",
      " 15  cnt         730 non-null    int64   \n",
      "dtypes: category(4), float64(4), int64(7), object(1)\n",
      "memory usage: 72.5+ KB\n"
     ]
    }
   ],
   "source": [
    "categorical_columns = ['season','mnth','weekday','weathersit']\n",
    "for col in categorical_columns:\n",
    "    bike_df[col] =pd.Categorical(bike_df[col])\n",
    "bike_df.info() # Observe the data frame after conversion"
   ]
  },
  {
   "cell_type": "markdown",
   "metadata": {},
   "source": [
    "## Step 1.2 Visualizing the dataset\n",
    "\n",
    "- We can identify whether any of the predictive features have association with the outcome variable.\n",
    "- Find if there is any multicollinearity - any independent feature is correlated with another independent feature \n",
    "\n",
    "Lets visualize only the numerical variables and see if there is scope for linear regression:"
   ]
  },
  {
   "cell_type": "code",
   "execution_count": 13,
   "metadata": {},
   "outputs": [
    {
     "data": {
      "image/png": "[encoded data removed]",
      "text/plain": [
       "<Figure size 900x900 with 30 Axes>"
      ]
     },
     "metadata": {
      "needs_background": "light"
     },
     "output_type": "display_data"
    }
   ],
   "source": [
    "sns.pairplot(bike_df[['temp','atemp','hum','windspeed','cnt']])\n",
    "plt.show()"
   ]
  },
  {
   "cell_type": "markdown",
   "metadata": {},
   "source": [
    "#### INFERENCES:\n",
    "\n",
    "- Looking at the pairplot among the numerical variables, the variables **temp** and **atemp** seem to have highest correlation with the target variable **cnt**\n",
    "- There seem to be linear relationship between `temp`, `atemp`, other parameters and `cnt` which is target variable\n",
    "- There seem to be strong correlation between `temp` and `atemp`\n",
    "- Higher temperatures lead to an increasing number of bike rents and lower temperatures decrease the number of rents.\n",
    "- There are few outliers in all the variables - `temp`, `atemp`, `hum`, `windspeed` which we can ignore for now.\n",
    "- There are some of the zero number of rentals for few of the temperatures, atemp, humidity etc.  \n",
    "\n",
    "Lets check correlation matrix to detect `multicolinearity`"
   ]
  },
  {
   "cell_type": "code",
   "execution_count": 14,
   "metadata": {},
   "outputs": [
    {
     "data": {
      "image/png": "[encoded data removed]",
      "text/plain": [
       "<Figure size 1152x720 with 2 Axes>"
      ]
     },
     "metadata": {
      "needs_background": "light"
     },
     "output_type": "display_data"
    }
   ],
   "source": [
    "# Let's check the correlation coefficients to see which variables are highly correlated\n",
    "plt.figure(figsize = (16, 10))\n",
    "sns.heatmap(bike_df.corr(), annot = True, cmap=\"YlGnBu\")\n",
    "plt.show()"
   ]
  },
  {
   "cell_type": "markdown",
   "metadata": {},
   "source": [
    "#### INFERENCES:\n",
    "\n",
    "- From correlation plot, we can observed that some features are positively correlated or some are negatively correlated to each other. \n",
    "\n",
    "- `casual` and `registered` contain direct information about the bike sharing count which we have to predict. Therefore we can remove these from the feature set.\n",
    "\n",
    "- The variables `temp` and `atemp` are highly positively correlated which means both are having same information. \n",
    "\n",
    "We can drop either of `temp` or `atemp` as one of those can explain the other but `temp` is retained considering \n",
    "- it will be simpler measure for the business\n",
    "- it will be used for calculating `atemp`\n",
    "- `atemp` is a measure of multiple entries and any of the columns outliers, missing values will affect `atemp` and there is a more chance of error. \n",
    "\n",
    "So we can drop `atemp` before building the model itself as part of `dimensionality reduction` "
   ]
  },
  {
   "cell_type": "markdown",
   "metadata": {},
   "source": [
    "#### Dropping the unnecessary columns which are not required for building a model\n",
    "\n",
    "Drop the following columns:\n",
    "- `instant` (it has just record index)\n",
    "- `dteday` (other fields represent this)\n",
    "- `casual`,`registered` (represented by `cnt`) \n",
    "- `atemp` due to high correlation"
   ]
  },
  {
   "cell_type": "code",
   "execution_count": 15,
   "metadata": {},
   "outputs": [
    {
     "name": "stdout",
     "output_type": "stream",
     "text": [
      "<class 'pandas.core.frame.DataFrame'>\n",
      "RangeIndex: 730 entries, 0 to 729\n",
      "Data columns (total 11 columns):\n",
      " #   Column      Non-Null Count  Dtype   \n",
      "---  ------      --------------  -----   \n",
      " 0   season      730 non-null    category\n",
      " 1   yr          730 non-null    int64   \n",
      " 2   mnth        730 non-null    category\n",
      " 3   holiday     730 non-null    int64   \n",
      " 4   weekday     730 non-null    category\n",
      " 5   workingday  730 non-null    int64   \n",
      " 6   weathersit  730 non-null    category\n",
      " 7   temp        730 non-null    float64 \n",
      " 8   hum         730 non-null    float64 \n",
      " 9   windspeed   730 non-null    float64 \n",
      " 10  cnt         730 non-null    int64   \n",
      "dtypes: category(4), float64(3), int64(4)\n",
      "memory usage: 44.0 KB\n"
     ]
    }
   ],
   "source": [
    "drop_cols = ['instant', 'dteday', 'casual', 'registered','atemp']\n",
    "bike_df.drop(labels=drop_cols,axis=1,inplace=True)\n",
    "bike_df.info()"
   ]
  },
  {
   "cell_type": "markdown",
   "metadata": {},
   "source": [
    "#### Visualising Categorical Variables\n",
    "\n",
    "Let's visualize the categorical variables against count of rentals"
   ]
  },
  {
   "cell_type": "code",
   "execution_count": 16,
   "metadata": {},
   "outputs": [
    {
     "data": {
      "image/png": "[encoded data removed]",
      "text/plain": [
       "<Figure size 1440x864 with 7 Axes>"
      ]
     },
     "metadata": {
      "needs_background": "light"
     },
     "output_type": "display_data"
    }
   ],
   "source": [
    "plt.figure(figsize=(20, 12))\n",
    "\n",
    "features = ['yr','mnth','season','weathersit','holiday','workingday','weekday']\n",
    "\n",
    "for i in enumerate(features):\n",
    "    plt.subplot(2,4,i[0]+1)\n",
    "    sns.boxplot(x = i[1], y = 'cnt', data = bike_df)\n",
    "    plt.title(i[1])"
   ]
  },
  {
   "cell_type": "markdown",
   "metadata": {},
   "source": [
    "#### INFERENCES:\n",
    "\n",
    "- `yr` boxplot indicate that the demand for the bike has increased in 2019 compared to 2018.\n",
    "- `working day` and `holiday` box plots indicate that more bicycles are rent during normal working days than on weekends or holidays. \n",
    "- From the `weathersit` plot, we can observe that during `clear,partly cloudy` weather the bike rental count is highest and the second highest is during `mist cloudy` weather and followed by during `light snow` and there is no rental data during `heavy rain` weather.\n",
    "- From the `season` boxplot, we can observe that increasing the bike rental count in `fall` and `summer` season and then decreasing bike rental count in `spring` season\n",
    "- There are very few outliers which we can ignore.\n"
   ]
  },
  {
   "cell_type": "markdown",
   "metadata": {},
   "source": [
    "#### Univariate distribution"
   ]
  },
  {
   "cell_type": "code",
   "execution_count": 17,
   "metadata": {},
   "outputs": [
    {
     "data": {
      "image/png": "[encoded data removed]",
      "text/plain": [
       "<Figure size 1440x432 with 4 Axes>"
      ]
     },
     "metadata": {
      "needs_background": "light"
     },
     "output_type": "display_data"
    }
   ],
   "source": [
    "plt.figure(figsize=(20, 6))\n",
    "\n",
    "features = ['temp','hum','windspeed','cnt']\n",
    "\n",
    "for i in enumerate(features):\n",
    "    plt.subplot(1,4,i[0]+1)\n",
    "    sns.distplot(bike_df[i[1]])\n",
    "    plt.title(i[1])\n",
    "plt.show()"
   ]
  },
  {
   "cell_type": "markdown",
   "metadata": {},
   "source": [
    "#### INFERENCES:\n",
    "\n",
    "- `hum` seem to have few of the values as zero; need to check if its valid as relative humidity is usually above than 0.\n",
    "- `temp` seem to have most of the values between 10 and 30.\n",
    "- `hum` seem to have values across and most of the values range between 40 and 80.\n",
    "- `windspeed` seem to have values between 10 and 20 mostly.\n",
    "\n",
    "From the pair plot and other plots, its visible that **linear regression** can be applied to this business problem to predict the `cnt` variable\n",
    "\n",
    "\n",
    "Equation of linear regression<br>\n",
    "$cnt = const + m_1x_1 + m_2x_2 + ... + m_nx_n$\n",
    "\n",
    "-  $cnt$ is the target\n",
    "-  $const$ is the intercept\n",
    "-  $m_1$ is the coefficient for the first feature\n",
    "-  $m_n$ is the coefficient for the nth feature<br>\n",
    "\n",
    "We have to find the coefficients and the appropriate features to fit into linear regression model."
   ]
  },
  {
   "cell_type": "markdown",
   "metadata": {},
   "source": [
    "## Step 2: Data Preparation\n",
    "\n",
    "### 2.1 Dummy Variables\n",
    "- Linear regression assumes that all the numerical values are independent data points.\n",
    "- When we have a categorical variable in a regression which takes more than two values, we can represent them using `dummy variables`\n",
    "- The `dummy variables` will have only two quantitative values i.e. 0 and 1 and is easier to interpret.\n",
    "- When the variable is present, it will take the value of 1 and absence of the variable is indicated by 0.\n",
    "- For e.g. the variable `season` has four values like 1,2,3,4. We need to convert these levels into integer as well. \n",
    "But since these dummy variables would have column names as 1,2,3,4 and it will not give any meaning, its better to use the `data dictionary` provided and map these values to string\n",
    "- For any categorical variable with `k` distinct values, we would need to create `k-1` dummy variables.\n",
    "- For e.g. `season` have 4 distinct values and we can map those 4 values with 3 columns:\n",
    "\n",
    "| summer | fall | winter |\n",
    "|------|------|------|\n",
    "|  1   |  0   |   0  |\n",
    "|  0   |  0   |   1  |\n",
    "|  0   |  1   |   0  |\n",
    "|  0   |  0   |   0  |\n",
    "\n",
    "All zeros would indicate `spring` and hence it does not require a separate column.\n",
    "\n",
    "Once we have encoded the categorical variable as dummy variable, it can be used in the below linear regression equation:\n",
    "$cnt = const + m_1x_1 + m_2x_2 + ... + m_nx_n$\n",
    "\n",
    "where \n",
    "-  $x_1$ is the coefficient for the first level of categorical feature e.g. `summer`\n",
    "-  $x_2$ is the coefficient for the second level of categorical feature e.g. `fall`\n",
    "-  $m_n$ is the coefficient for the nth feature<br>\n",
    "\n",
    "and `summer` which has `000` is the `base value` and all other groups are evaluated against this base group.\n",
    "\n"
   ]
  },
  {
   "cell_type": "code",
   "execution_count": 18,
   "metadata": {},
   "outputs": [
    {
     "data": {
      "text/html": [
       "<div>\n",
       "<style scoped>\n",
       "    .dataframe tbody tr th:only-of-type {\n",
       "        vertical-align: middle;\n",
       "    }\n",
       "\n",
       "    .dataframe tbody tr th {\n",
       "        vertical-align: top;\n",
       "    }\n",
       "\n",
       "    .dataframe thead th {\n",
       "        text-align: right;\n",
       "    }\n",
       "</style>\n",
       "<table border=\"1\" class=\"dataframe\">\n",
       "  <thead>\n",
       "    <tr style=\"text-align: right;\">\n",
       "      <th></th>\n",
       "      <th>season</th>\n",
       "      <th>yr</th>\n",
       "      <th>mnth</th>\n",
       "      <th>holiday</th>\n",
       "      <th>weekday</th>\n",
       "      <th>workingday</th>\n",
       "      <th>weathersit</th>\n",
       "      <th>temp</th>\n",
       "      <th>hum</th>\n",
       "      <th>windspeed</th>\n",
       "      <th>cnt</th>\n",
       "    </tr>\n",
       "  </thead>\n",
       "  <tbody>\n",
       "    <tr>\n",
       "      <th>0</th>\n",
       "      <td>spring</td>\n",
       "      <td>0</td>\n",
       "      <td>jan</td>\n",
       "      <td>0</td>\n",
       "      <td>sat</td>\n",
       "      <td>0</td>\n",
       "      <td>mist</td>\n",
       "      <td>14.110847</td>\n",
       "      <td>80.5833</td>\n",
       "      <td>10.749882</td>\n",
       "      <td>985</td>\n",
       "    </tr>\n",
       "    <tr>\n",
       "      <th>1</th>\n",
       "      <td>spring</td>\n",
       "      <td>0</td>\n",
       "      <td>jan</td>\n",
       "      <td>0</td>\n",
       "      <td>sun</td>\n",
       "      <td>0</td>\n",
       "      <td>mist</td>\n",
       "      <td>14.902598</td>\n",
       "      <td>69.6087</td>\n",
       "      <td>16.652113</td>\n",
       "      <td>801</td>\n",
       "    </tr>\n",
       "    <tr>\n",
       "      <th>2</th>\n",
       "      <td>spring</td>\n",
       "      <td>0</td>\n",
       "      <td>jan</td>\n",
       "      <td>0</td>\n",
       "      <td>mon</td>\n",
       "      <td>1</td>\n",
       "      <td>clear</td>\n",
       "      <td>8.050924</td>\n",
       "      <td>43.7273</td>\n",
       "      <td>16.636703</td>\n",
       "      <td>1349</td>\n",
       "    </tr>\n",
       "    <tr>\n",
       "      <th>3</th>\n",
       "      <td>spring</td>\n",
       "      <td>0</td>\n",
       "      <td>jan</td>\n",
       "      <td>0</td>\n",
       "      <td>tue</td>\n",
       "      <td>1</td>\n",
       "      <td>clear</td>\n",
       "      <td>8.200000</td>\n",
       "      <td>59.0435</td>\n",
       "      <td>10.739832</td>\n",
       "      <td>1562</td>\n",
       "    </tr>\n",
       "    <tr>\n",
       "      <th>4</th>\n",
       "      <td>spring</td>\n",
       "      <td>0</td>\n",
       "      <td>jan</td>\n",
       "      <td>0</td>\n",
       "      <td>wed</td>\n",
       "      <td>1</td>\n",
       "      <td>clear</td>\n",
       "      <td>9.305237</td>\n",
       "      <td>43.6957</td>\n",
       "      <td>12.522300</td>\n",
       "      <td>1600</td>\n",
       "    </tr>\n",
       "  </tbody>\n",
       "</table>\n",
       "</div>"
      ],
      "text/plain": [
       "   season  yr mnth  holiday weekday  workingday weathersit       temp  \\\n",
       "0  spring   0  jan        0     sat           0       mist  14.110847   \n",
       "1  spring   0  jan        0     sun           0       mist  14.902598   \n",
       "2  spring   0  jan        0     mon           1      clear   8.050924   \n",
       "3  spring   0  jan        0     tue           1      clear   8.200000   \n",
       "4  spring   0  jan        0     wed           1      clear   9.305237   \n",
       "\n",
       "       hum  windspeed   cnt  \n",
       "0  80.5833  10.749882   985  \n",
       "1  69.6087  16.652113   801  \n",
       "2  43.7273  16.636703  1349  \n",
       "3  59.0435  10.739832  1562  \n",
       "4  43.6957  12.522300  1600  "
      ]
     },
     "execution_count": 18,
     "metadata": {},
     "output_type": "execute_result"
    }
   ],
   "source": [
    "# Replacing the numbers with strings from data dictionary so that the column names will be meaningful\n",
    "\n",
    "bike_df[['season']]=bike_df[['season']].apply(lambda x: x.map({1: \"spring\", 2: \"summer\", 3:\"fall\", 4:\"winter\"}))\n",
    "bike_df[['mnth']]=bike_df[['mnth']].apply(lambda x: x.map({1:\"jan\",2:\"feb\",3:\"mar\",4:\"apr\",5:\"may\",6:\"jun\",7:\"jul\",8:\"aug\",9:\"sep\",10:\"oct\",11:\"nov\",12:\"dec\"}))\n",
    "bike_df[['weekday']]=bike_df[['weekday']].apply(lambda x: x.map({1:\"mon\",2:\"tue\",3:\"wed\",4:\"thur\",5:\"fri\",6:\"sat\",0:\"sun\"}))\n",
    "bike_df[['weathersit']]=bike_df[['weathersit']].apply(lambda x: x.map({1:\"clear\",2:\"mist\",3:\"snow\",4:\"rain\"}))\n",
    "\n",
    "bike_df.head()"
   ]
  },
  {
   "cell_type": "code",
   "execution_count": 19,
   "metadata": {},
   "outputs": [
    {
     "data": {
      "text/html": [
       "<div>\n",
       "<style scoped>\n",
       "    .dataframe tbody tr th:only-of-type {\n",
       "        vertical-align: middle;\n",
       "    }\n",
       "\n",
       "    .dataframe tbody tr th {\n",
       "        vertical-align: top;\n",
       "    }\n",
       "\n",
       "    .dataframe thead th {\n",
       "        text-align: right;\n",
       "    }\n",
       "</style>\n",
       "<table border=\"1\" class=\"dataframe\">\n",
       "  <thead>\n",
       "    <tr style=\"text-align: right;\">\n",
       "      <th></th>\n",
       "      <th>yr</th>\n",
       "      <th>holiday</th>\n",
       "      <th>workingday</th>\n",
       "      <th>temp</th>\n",
       "      <th>hum</th>\n",
       "      <th>windspeed</th>\n",
       "      <th>cnt</th>\n",
       "      <th>summer</th>\n",
       "      <th>fall</th>\n",
       "      <th>winter</th>\n",
       "      <th>...</th>\n",
       "      <th>nov</th>\n",
       "      <th>dec</th>\n",
       "      <th>mon</th>\n",
       "      <th>tue</th>\n",
       "      <th>wed</th>\n",
       "      <th>thur</th>\n",
       "      <th>fri</th>\n",
       "      <th>sat</th>\n",
       "      <th>mist</th>\n",
       "      <th>snow</th>\n",
       "    </tr>\n",
       "  </thead>\n",
       "  <tbody>\n",
       "    <tr>\n",
       "      <th>0</th>\n",
       "      <td>0</td>\n",
       "      <td>0</td>\n",
       "      <td>0</td>\n",
       "      <td>14.110847</td>\n",
       "      <td>80.5833</td>\n",
       "      <td>10.749882</td>\n",
       "      <td>985</td>\n",
       "      <td>0</td>\n",
       "      <td>0</td>\n",
       "      <td>0</td>\n",
       "      <td>...</td>\n",
       "      <td>0</td>\n",
       "      <td>0</td>\n",
       "      <td>0</td>\n",
       "      <td>0</td>\n",
       "      <td>0</td>\n",
       "      <td>0</td>\n",
       "      <td>0</td>\n",
       "      <td>1</td>\n",
       "      <td>1</td>\n",
       "      <td>0</td>\n",
       "    </tr>\n",
       "    <tr>\n",
       "      <th>1</th>\n",
       "      <td>0</td>\n",
       "      <td>0</td>\n",
       "      <td>0</td>\n",
       "      <td>14.902598</td>\n",
       "      <td>69.6087</td>\n",
       "      <td>16.652113</td>\n",
       "      <td>801</td>\n",
       "      <td>0</td>\n",
       "      <td>0</td>\n",
       "      <td>0</td>\n",
       "      <td>...</td>\n",
       "      <td>0</td>\n",
       "      <td>0</td>\n",
       "      <td>0</td>\n",
       "      <td>0</td>\n",
       "      <td>0</td>\n",
       "      <td>0</td>\n",
       "      <td>0</td>\n",
       "      <td>0</td>\n",
       "      <td>1</td>\n",
       "      <td>0</td>\n",
       "    </tr>\n",
       "    <tr>\n",
       "      <th>2</th>\n",
       "      <td>0</td>\n",
       "      <td>0</td>\n",
       "      <td>1</td>\n",
       "      <td>8.050924</td>\n",
       "      <td>43.7273</td>\n",
       "      <td>16.636703</td>\n",
       "      <td>1349</td>\n",
       "      <td>0</td>\n",
       "      <td>0</td>\n",
       "      <td>0</td>\n",
       "      <td>...</td>\n",
       "      <td>0</td>\n",
       "      <td>0</td>\n",
       "      <td>1</td>\n",
       "      <td>0</td>\n",
       "      <td>0</td>\n",
       "      <td>0</td>\n",
       "      <td>0</td>\n",
       "      <td>0</td>\n",
       "      <td>0</td>\n",
       "      <td>0</td>\n",
       "    </tr>\n",
       "    <tr>\n",
       "      <th>3</th>\n",
       "      <td>0</td>\n",
       "      <td>0</td>\n",
       "      <td>1</td>\n",
       "      <td>8.200000</td>\n",
       "      <td>59.0435</td>\n",
       "      <td>10.739832</td>\n",
       "      <td>1562</td>\n",
       "      <td>0</td>\n",
       "      <td>0</td>\n",
       "      <td>0</td>\n",
       "      <td>...</td>\n",
       "      <td>0</td>\n",
       "      <td>0</td>\n",
       "      <td>0</td>\n",
       "      <td>1</td>\n",
       "      <td>0</td>\n",
       "      <td>0</td>\n",
       "      <td>0</td>\n",
       "      <td>0</td>\n",
       "      <td>0</td>\n",
       "      <td>0</td>\n",
       "    </tr>\n",
       "    <tr>\n",
       "      <th>4</th>\n",
       "      <td>0</td>\n",
       "      <td>0</td>\n",
       "      <td>1</td>\n",
       "      <td>9.305237</td>\n",
       "      <td>43.6957</td>\n",
       "      <td>12.522300</td>\n",
       "      <td>1600</td>\n",
       "      <td>0</td>\n",
       "      <td>0</td>\n",
       "      <td>0</td>\n",
       "      <td>...</td>\n",
       "      <td>0</td>\n",
       "      <td>0</td>\n",
       "      <td>0</td>\n",
       "      <td>0</td>\n",
       "      <td>1</td>\n",
       "      <td>0</td>\n",
       "      <td>0</td>\n",
       "      <td>0</td>\n",
       "      <td>0</td>\n",
       "      <td>0</td>\n",
       "    </tr>\n",
       "  </tbody>\n",
       "</table>\n",
       "<p>5 rows × 29 columns</p>\n",
       "</div>"
      ],
      "text/plain": [
       "   yr  holiday  workingday       temp      hum  windspeed   cnt  summer  fall  \\\n",
       "0   0        0           0  14.110847  80.5833  10.749882   985       0     0   \n",
       "1   0        0           0  14.902598  69.6087  16.652113   801       0     0   \n",
       "2   0        0           1   8.050924  43.7273  16.636703  1349       0     0   \n",
       "3   0        0           1   8.200000  59.0435  10.739832  1562       0     0   \n",
       "4   0        0           1   9.305237  43.6957  12.522300  1600       0     0   \n",
       "\n",
       "   winter  ...  nov  dec  mon  tue  wed  thur  fri  sat  mist  snow  \n",
       "0       0  ...    0    0    0    0    0     0    0    1     1     0  \n",
       "1       0  ...    0    0    0    0    0     0    0    0     1     0  \n",
       "2       0  ...    0    0    1    0    0     0    0    0     0     0  \n",
       "3       0  ...    0    0    0    1    0     0    0    0     0     0  \n",
       "4       0  ...    0    0    0    0    1     0    0    0     0     0  \n",
       "\n",
       "[5 rows x 29 columns]"
      ]
     },
     "execution_count": 19,
     "metadata": {},
     "output_type": "execute_result"
    }
   ],
   "source": [
    "# Let's drop the first column from corresponding dummy variables in df using 'drop_first = True'\n",
    "season = pd.get_dummies(bike_df['season'], drop_first = True)\n",
    "mnth = pd.get_dummies(bike_df['mnth'], drop_first = True)\n",
    "weekday = pd.get_dummies(bike_df['weekday'], drop_first = True)\n",
    "weathersit = pd.get_dummies(bike_df['weathersit'], drop_first = True)\n",
    "\n",
    "# Add the results to the original bike sharing dataframe\n",
    "bike_df = pd.concat([bike_df, season,mnth,weekday,weathersit], axis = 1)\n",
    "\n",
    "# Drop the categorical variables as we have created the dummies for it\n",
    "bike_df.drop(['season','mnth','weekday','weathersit'], axis = 1, inplace = True)\n",
    "bike_df.head()"
   ]
  },
  {
   "cell_type": "code",
   "execution_count": 20,
   "metadata": {},
   "outputs": [
    {
     "name": "stdout",
     "output_type": "stream",
     "text": [
      "<class 'pandas.core.frame.DataFrame'>\n",
      "RangeIndex: 730 entries, 0 to 729\n",
      "Data columns (total 29 columns):\n",
      " #   Column      Non-Null Count  Dtype  \n",
      "---  ------      --------------  -----  \n",
      " 0   yr          730 non-null    int64  \n",
      " 1   holiday     730 non-null    int64  \n",
      " 2   workingday  730 non-null    int64  \n",
      " 3   temp        730 non-null    float64\n",
      " 4   hum         730 non-null    float64\n",
      " 5   windspeed   730 non-null    float64\n",
      " 6   cnt         730 non-null    int64  \n",
      " 7   summer      730 non-null    uint8  \n",
      " 8   fall        730 non-null    uint8  \n",
      " 9   winter      730 non-null    uint8  \n",
      " 10  feb         730 non-null    uint8  \n",
      " 11  mar         730 non-null    uint8  \n",
      " 12  apr         730 non-null    uint8  \n",
      " 13  may         730 non-null    uint8  \n",
      " 14  jun         730 non-null    uint8  \n",
      " 15  jul         730 non-null    uint8  \n",
      " 16  aug         730 non-null    uint8  \n",
      " 17  sep         730 non-null    uint8  \n",
      " 18  oct         730 non-null    uint8  \n",
      " 19  nov         730 non-null    uint8  \n",
      " 20  dec         730 non-null    uint8  \n",
      " 21  mon         730 non-null    uint8  \n",
      " 22  tue         730 non-null    uint8  \n",
      " 23  wed         730 non-null    uint8  \n",
      " 24  thur        730 non-null    uint8  \n",
      " 25  fri         730 non-null    uint8  \n",
      " 26  sat         730 non-null    uint8  \n",
      " 27  mist        730 non-null    uint8  \n",
      " 28  snow        730 non-null    uint8  \n",
      "dtypes: float64(3), int64(4), uint8(22)\n",
      "memory usage: 55.7 KB\n"
     ]
    }
   ],
   "source": [
    "bike_df.info() # Observe the dataframe after creation of dummy variables and dropping categorical variables"
   ]
  },
  {
   "cell_type": "markdown",
   "metadata": {},
   "source": [
    "- The categorical variables are converted to dummy variables.\n",
    "- Dummy variables are concatenated with the original `bike_df` data frame\n",
    "- Hence the actual categorical variables such as `season`, `mnth`, `weekday`, `weathersit` are deleted from the `bike_df`"
   ]
  },
  {
   "cell_type": "markdown",
   "metadata": {},
   "source": [
    "### 2.2 Split the dataset into train and test dataset"
   ]
  },
  {
   "cell_type": "markdown",
   "metadata": {},
   "source": [
    "We specify `random_state` so that the train and test data set always have the same rows; changing random state will change the analysis and the model. "
   ]
  },
  {
   "cell_type": "code",
   "execution_count": 21,
   "metadata": {},
   "outputs": [],
   "source": [
    "df_train, df_test = train_test_split(bike_df, train_size = 0.70, test_size = 0.30, random_state = 10) "
   ]
  },
  {
   "cell_type": "code",
   "execution_count": 22,
   "metadata": {},
   "outputs": [
    {
     "data": {
      "text/plain": [
       "(510, 29)"
      ]
     },
     "execution_count": 22,
     "metadata": {},
     "output_type": "execute_result"
    }
   ],
   "source": [
    "df_train.shape # Observe the train dataset shape"
   ]
  },
  {
   "cell_type": "code",
   "execution_count": 23,
   "metadata": {},
   "outputs": [
    {
     "data": {
      "text/plain": [
       "(219, 29)"
      ]
     },
     "execution_count": 23,
     "metadata": {},
     "output_type": "execute_result"
    }
   ],
   "source": [
    "df_test.shape# Observe the train dataset shape"
   ]
  },
  {
   "cell_type": "markdown",
   "metadata": {},
   "source": [
    "#### Null check on training and test dataset"
   ]
  },
  {
   "cell_type": "code",
   "execution_count": 24,
   "metadata": {},
   "outputs": [
    {
     "data": {
      "text/plain": [
       "yr            False\n",
       "holiday       False\n",
       "workingday    False\n",
       "temp          False\n",
       "hum           False\n",
       "windspeed     False\n",
       "cnt           False\n",
       "summer        False\n",
       "fall          False\n",
       "winter        False\n",
       "feb           False\n",
       "mar           False\n",
       "apr           False\n",
       "may           False\n",
       "jun           False\n",
       "jul           False\n",
       "aug           False\n",
       "sep           False\n",
       "oct           False\n",
       "nov           False\n",
       "dec           False\n",
       "mon           False\n",
       "tue           False\n",
       "wed           False\n",
       "thur          False\n",
       "fri           False\n",
       "sat           False\n",
       "mist          False\n",
       "snow          False\n",
       "dtype: bool"
      ]
     },
     "execution_count": 24,
     "metadata": {},
     "output_type": "execute_result"
    }
   ],
   "source": [
    "df_train.isnull().any()"
   ]
  },
  {
   "cell_type": "code",
   "execution_count": 25,
   "metadata": {},
   "outputs": [
    {
     "data": {
      "text/plain": [
       "yr            False\n",
       "holiday       False\n",
       "workingday    False\n",
       "temp          False\n",
       "hum           False\n",
       "windspeed     False\n",
       "cnt           False\n",
       "summer        False\n",
       "fall          False\n",
       "winter        False\n",
       "feb           False\n",
       "mar           False\n",
       "apr           False\n",
       "may           False\n",
       "jun           False\n",
       "jul           False\n",
       "aug           False\n",
       "sep           False\n",
       "oct           False\n",
       "nov           False\n",
       "dec           False\n",
       "mon           False\n",
       "tue           False\n",
       "wed           False\n",
       "thur          False\n",
       "fri           False\n",
       "sat           False\n",
       "mist          False\n",
       "snow          False\n",
       "dtype: bool"
      ]
     },
     "execution_count": 25,
     "metadata": {},
     "output_type": "execute_result"
    }
   ],
   "source": [
    "df_test.isnull().any()"
   ]
  },
  {
   "cell_type": "markdown",
   "metadata": {},
   "source": [
    "One row seem to have missed from train_test_split. Lets ignore for now as its just one row. There are no null values in both the dataframes."
   ]
  },
  {
   "cell_type": "markdown",
   "metadata": {},
   "source": [
    "### 2.3 Scaling the numerical features on the training data set"
   ]
  },
  {
   "cell_type": "markdown",
   "metadata": {},
   "source": [
    "- As see above, we can use linear algebra to solve this linear regression model. \n",
    "- Most of the times, your dataset will contain features highly varying in magnitudes, units and range. \n",
    "- Linear regression use distance between two data points in its computations. \n",
    "- If we do not scale, it only take in the magnitude of features neglecting the units. \n",
    "- The results would vary greatly between different units, 5kg and 5000gms. \n",
    "- The features with high magnitudes will weigh in a lot more in the distance calculations than features with low magnitudes.\n",
    "- To supress this effect, we need to bring all features to the same level of magnitudes. This can be acheived by **scaling**.\n",
    "- If you rescale your independent variables, you will get identical regression results, except that the constant term and coefficients will be changed to offset the rescaling.\n",
    "\n",
    "There are two common techniques in scaling:\n",
    "1. **Min-Max Scaling** or **Normalization**:\n",
    "   - Scales all the values between 0 and 1\n",
    "   - Computes value using (x-xmin) / (xmax-xmin)\n",
    "   \n",
    "   \n",
    "2. **Standardisation** :\n",
    "   - Standardisation replaces the values by their Z scores\n",
    "   - Computes value using (x-mu)/sigma\n",
    "   - This redistributes the features with their mean μ = 0 and standard deviation σ =1\n",
    "   \n",
    "`Normalization` is chosen for this model building "
   ]
  },
  {
   "cell_type": "code",
   "execution_count": 26,
   "metadata": {},
   "outputs": [
    {
     "data": {
      "text/html": [
       "<div>\n",
       "<style scoped>\n",
       "    .dataframe tbody tr th:only-of-type {\n",
       "        vertical-align: middle;\n",
       "    }\n",
       "\n",
       "    .dataframe tbody tr th {\n",
       "        vertical-align: top;\n",
       "    }\n",
       "\n",
       "    .dataframe thead th {\n",
       "        text-align: right;\n",
       "    }\n",
       "</style>\n",
       "<table border=\"1\" class=\"dataframe\">\n",
       "  <thead>\n",
       "    <tr style=\"text-align: right;\">\n",
       "      <th></th>\n",
       "      <th>yr</th>\n",
       "      <th>holiday</th>\n",
       "      <th>workingday</th>\n",
       "      <th>temp</th>\n",
       "      <th>hum</th>\n",
       "      <th>windspeed</th>\n",
       "      <th>cnt</th>\n",
       "      <th>summer</th>\n",
       "      <th>fall</th>\n",
       "      <th>winter</th>\n",
       "      <th>...</th>\n",
       "      <th>nov</th>\n",
       "      <th>dec</th>\n",
       "      <th>mon</th>\n",
       "      <th>tue</th>\n",
       "      <th>wed</th>\n",
       "      <th>thur</th>\n",
       "      <th>fri</th>\n",
       "      <th>sat</th>\n",
       "      <th>mist</th>\n",
       "      <th>snow</th>\n",
       "    </tr>\n",
       "  </thead>\n",
       "  <tbody>\n",
       "    <tr>\n",
       "      <th>323</th>\n",
       "      <td>0</td>\n",
       "      <td>0</td>\n",
       "      <td>0</td>\n",
       "      <td>0.478808</td>\n",
       "      <td>0.634717</td>\n",
       "      <td>0.337184</td>\n",
       "      <td>0.372933</td>\n",
       "      <td>0</td>\n",
       "      <td>0</td>\n",
       "      <td>1</td>\n",
       "      <td>...</td>\n",
       "      <td>1</td>\n",
       "      <td>0</td>\n",
       "      <td>0</td>\n",
       "      <td>0</td>\n",
       "      <td>0</td>\n",
       "      <td>0</td>\n",
       "      <td>0</td>\n",
       "      <td>0</td>\n",
       "      <td>1</td>\n",
       "      <td>0</td>\n",
       "    </tr>\n",
       "    <tr>\n",
       "      <th>72</th>\n",
       "      <td>0</td>\n",
       "      <td>0</td>\n",
       "      <td>1</td>\n",
       "      <td>0.298094</td>\n",
       "      <td>0.394939</td>\n",
       "      <td>0.236118</td>\n",
       "      <td>0.194978</td>\n",
       "      <td>0</td>\n",
       "      <td>0</td>\n",
       "      <td>0</td>\n",
       "      <td>...</td>\n",
       "      <td>0</td>\n",
       "      <td>0</td>\n",
       "      <td>1</td>\n",
       "      <td>0</td>\n",
       "      <td>0</td>\n",
       "      <td>0</td>\n",
       "      <td>0</td>\n",
       "      <td>0</td>\n",
       "      <td>0</td>\n",
       "      <td>0</td>\n",
       "    </tr>\n",
       "    <tr>\n",
       "      <th>510</th>\n",
       "      <td>1</td>\n",
       "      <td>0</td>\n",
       "      <td>0</td>\n",
       "      <td>0.778657</td>\n",
       "      <td>0.695953</td>\n",
       "      <td>0.364071</td>\n",
       "      <td>0.737052</td>\n",
       "      <td>1</td>\n",
       "      <td>0</td>\n",
       "      <td>0</td>\n",
       "      <td>...</td>\n",
       "      <td>0</td>\n",
       "      <td>0</td>\n",
       "      <td>0</td>\n",
       "      <td>0</td>\n",
       "      <td>0</td>\n",
       "      <td>0</td>\n",
       "      <td>0</td>\n",
       "      <td>1</td>\n",
       "      <td>0</td>\n",
       "      <td>0</td>\n",
       "    </tr>\n",
       "    <tr>\n",
       "      <th>700</th>\n",
       "      <td>1</td>\n",
       "      <td>0</td>\n",
       "      <td>0</td>\n",
       "      <td>0.327249</td>\n",
       "      <td>0.812033</td>\n",
       "      <td>0.210252</td>\n",
       "      <td>0.509236</td>\n",
       "      <td>0</td>\n",
       "      <td>0</td>\n",
       "      <td>1</td>\n",
       "      <td>...</td>\n",
       "      <td>0</td>\n",
       "      <td>1</td>\n",
       "      <td>0</td>\n",
       "      <td>0</td>\n",
       "      <td>0</td>\n",
       "      <td>0</td>\n",
       "      <td>0</td>\n",
       "      <td>0</td>\n",
       "      <td>1</td>\n",
       "      <td>0</td>\n",
       "    </tr>\n",
       "    <tr>\n",
       "      <th>264</th>\n",
       "      <td>0</td>\n",
       "      <td>0</td>\n",
       "      <td>1</td>\n",
       "      <td>0.694699</td>\n",
       "      <td>0.912672</td>\n",
       "      <td>0.217975</td>\n",
       "      <td>0.526862</td>\n",
       "      <td>0</td>\n",
       "      <td>1</td>\n",
       "      <td>0</td>\n",
       "      <td>...</td>\n",
       "      <td>0</td>\n",
       "      <td>0</td>\n",
       "      <td>0</td>\n",
       "      <td>0</td>\n",
       "      <td>0</td>\n",
       "      <td>1</td>\n",
       "      <td>0</td>\n",
       "      <td>0</td>\n",
       "      <td>1</td>\n",
       "      <td>0</td>\n",
       "    </tr>\n",
       "  </tbody>\n",
       "</table>\n",
       "<p>5 rows × 29 columns</p>\n",
       "</div>"
      ],
      "text/plain": [
       "     yr  holiday  workingday      temp       hum  windspeed       cnt  summer  \\\n",
       "323   0        0           0  0.478808  0.634717   0.337184  0.372933       0   \n",
       "72    0        0           1  0.298094  0.394939   0.236118  0.194978       0   \n",
       "510   1        0           0  0.778657  0.695953   0.364071  0.737052       1   \n",
       "700   1        0           0  0.327249  0.812033   0.210252  0.509236       0   \n",
       "264   0        0           1  0.694699  0.912672   0.217975  0.526862       0   \n",
       "\n",
       "     fall  winter  ...  nov  dec  mon  tue  wed  thur  fri  sat  mist  snow  \n",
       "323     0       1  ...    1    0    0    0    0     0    0    0     1     0  \n",
       "72      0       0  ...    0    0    1    0    0     0    0    0     0     0  \n",
       "510     0       0  ...    0    0    0    0    0     0    0    1     0     0  \n",
       "700     0       1  ...    0    1    0    0    0     0    0    0     1     0  \n",
       "264     1       0  ...    0    0    0    0    0     1    0    0     1     0  \n",
       "\n",
       "[5 rows x 29 columns]"
      ]
     },
     "execution_count": 26,
     "metadata": {},
     "output_type": "execute_result"
    }
   ],
   "source": [
    "scaler = MinMaxScaler()\n",
    "# Apply scaler() to all the columns(only for continuous variables) except the 'yes-no' and 'dummy' variables\n",
    "num_vars = ['temp','hum','windspeed','cnt']\n",
    "\n",
    "df_train[num_vars] = scaler.fit_transform(df_train[num_vars])\n",
    "df_train.head()"
   ]
  },
  {
   "cell_type": "code",
   "execution_count": 27,
   "metadata": {},
   "outputs": [
    {
     "data": {
      "text/html": [
       "<div>\n",
       "<style scoped>\n",
       "    .dataframe tbody tr th:only-of-type {\n",
       "        vertical-align: middle;\n",
       "    }\n",
       "\n",
       "    .dataframe tbody tr th {\n",
       "        vertical-align: top;\n",
       "    }\n",
       "\n",
       "    .dataframe thead th {\n",
       "        text-align: right;\n",
       "    }\n",
       "</style>\n",
       "<table border=\"1\" class=\"dataframe\">\n",
       "  <thead>\n",
       "    <tr style=\"text-align: right;\">\n",
       "      <th></th>\n",
       "      <th>yr</th>\n",
       "      <th>holiday</th>\n",
       "      <th>workingday</th>\n",
       "      <th>temp</th>\n",
       "      <th>hum</th>\n",
       "      <th>windspeed</th>\n",
       "      <th>cnt</th>\n",
       "      <th>summer</th>\n",
       "      <th>fall</th>\n",
       "      <th>winter</th>\n",
       "      <th>...</th>\n",
       "      <th>nov</th>\n",
       "      <th>dec</th>\n",
       "      <th>mon</th>\n",
       "      <th>tue</th>\n",
       "      <th>wed</th>\n",
       "      <th>thur</th>\n",
       "      <th>fri</th>\n",
       "      <th>sat</th>\n",
       "      <th>mist</th>\n",
       "      <th>snow</th>\n",
       "    </tr>\n",
       "  </thead>\n",
       "  <tbody>\n",
       "    <tr>\n",
       "      <th>count</th>\n",
       "      <td>510.000000</td>\n",
       "      <td>510.000000</td>\n",
       "      <td>510.000000</td>\n",
       "      <td>510.000000</td>\n",
       "      <td>510.000000</td>\n",
       "      <td>510.000000</td>\n",
       "      <td>510.000000</td>\n",
       "      <td>510.000000</td>\n",
       "      <td>510.000000</td>\n",
       "      <td>510.000000</td>\n",
       "      <td>...</td>\n",
       "      <td>510.000000</td>\n",
       "      <td>510.000000</td>\n",
       "      <td>510.000000</td>\n",
       "      <td>510.000000</td>\n",
       "      <td>510.000000</td>\n",
       "      <td>510.000000</td>\n",
       "      <td>510.000000</td>\n",
       "      <td>510.000000</td>\n",
       "      <td>510.000000</td>\n",
       "      <td>510.000000</td>\n",
       "    </tr>\n",
       "    <tr>\n",
       "      <th>mean</th>\n",
       "      <td>0.507843</td>\n",
       "      <td>0.033333</td>\n",
       "      <td>0.688235</td>\n",
       "      <td>0.512980</td>\n",
       "      <td>0.564620</td>\n",
       "      <td>0.343339</td>\n",
       "      <td>0.492266</td>\n",
       "      <td>0.256863</td>\n",
       "      <td>0.235294</td>\n",
       "      <td>0.260784</td>\n",
       "      <td>...</td>\n",
       "      <td>0.092157</td>\n",
       "      <td>0.094118</td>\n",
       "      <td>0.147059</td>\n",
       "      <td>0.149020</td>\n",
       "      <td>0.152941</td>\n",
       "      <td>0.137255</td>\n",
       "      <td>0.135294</td>\n",
       "      <td>0.147059</td>\n",
       "      <td>0.345098</td>\n",
       "      <td>0.033333</td>\n",
       "    </tr>\n",
       "    <tr>\n",
       "      <th>std</th>\n",
       "      <td>0.500429</td>\n",
       "      <td>0.179682</td>\n",
       "      <td>0.463669</td>\n",
       "      <td>0.233096</td>\n",
       "      <td>0.183343</td>\n",
       "      <td>0.162447</td>\n",
       "      <td>0.235984</td>\n",
       "      <td>0.437332</td>\n",
       "      <td>0.424599</td>\n",
       "      <td>0.439494</td>\n",
       "      <td>...</td>\n",
       "      <td>0.289531</td>\n",
       "      <td>0.292279</td>\n",
       "      <td>0.354512</td>\n",
       "      <td>0.356457</td>\n",
       "      <td>0.360284</td>\n",
       "      <td>0.344454</td>\n",
       "      <td>0.342373</td>\n",
       "      <td>0.354512</td>\n",
       "      <td>0.475867</td>\n",
       "      <td>0.179682</td>\n",
       "    </tr>\n",
       "    <tr>\n",
       "      <th>min</th>\n",
       "      <td>0.000000</td>\n",
       "      <td>0.000000</td>\n",
       "      <td>0.000000</td>\n",
       "      <td>0.000000</td>\n",
       "      <td>0.000000</td>\n",
       "      <td>0.000000</td>\n",
       "      <td>0.000000</td>\n",
       "      <td>0.000000</td>\n",
       "      <td>0.000000</td>\n",
       "      <td>0.000000</td>\n",
       "      <td>...</td>\n",
       "      <td>0.000000</td>\n",
       "      <td>0.000000</td>\n",
       "      <td>0.000000</td>\n",
       "      <td>0.000000</td>\n",
       "      <td>0.000000</td>\n",
       "      <td>0.000000</td>\n",
       "      <td>0.000000</td>\n",
       "      <td>0.000000</td>\n",
       "      <td>0.000000</td>\n",
       "      <td>0.000000</td>\n",
       "    </tr>\n",
       "    <tr>\n",
       "      <th>25%</th>\n",
       "      <td>0.000000</td>\n",
       "      <td>0.000000</td>\n",
       "      <td>0.000000</td>\n",
       "      <td>0.314983</td>\n",
       "      <td>0.427182</td>\n",
       "      <td>0.227237</td>\n",
       "      <td>0.326754</td>\n",
       "      <td>0.000000</td>\n",
       "      <td>0.000000</td>\n",
       "      <td>0.000000</td>\n",
       "      <td>...</td>\n",
       "      <td>0.000000</td>\n",
       "      <td>0.000000</td>\n",
       "      <td>0.000000</td>\n",
       "      <td>0.000000</td>\n",
       "      <td>0.000000</td>\n",
       "      <td>0.000000</td>\n",
       "      <td>0.000000</td>\n",
       "      <td>0.000000</td>\n",
       "      <td>0.000000</td>\n",
       "      <td>0.000000</td>\n",
       "    </tr>\n",
       "    <tr>\n",
       "      <th>50%</th>\n",
       "      <td>1.000000</td>\n",
       "      <td>0.000000</td>\n",
       "      <td>1.000000</td>\n",
       "      <td>0.506068</td>\n",
       "      <td>0.563897</td>\n",
       "      <td>0.323711</td>\n",
       "      <td>0.490945</td>\n",
       "      <td>0.000000</td>\n",
       "      <td>0.000000</td>\n",
       "      <td>0.000000</td>\n",
       "      <td>...</td>\n",
       "      <td>0.000000</td>\n",
       "      <td>0.000000</td>\n",
       "      <td>0.000000</td>\n",
       "      <td>0.000000</td>\n",
       "      <td>0.000000</td>\n",
       "      <td>0.000000</td>\n",
       "      <td>0.000000</td>\n",
       "      <td>0.000000</td>\n",
       "      <td>0.000000</td>\n",
       "      <td>0.000000</td>\n",
       "    </tr>\n",
       "    <tr>\n",
       "      <th>75%</th>\n",
       "      <td>1.000000</td>\n",
       "      <td>0.000000</td>\n",
       "      <td>1.000000</td>\n",
       "      <td>0.721686</td>\n",
       "      <td>0.698806</td>\n",
       "      <td>0.434281</td>\n",
       "      <td>0.675812</td>\n",
       "      <td>1.000000</td>\n",
       "      <td>0.000000</td>\n",
       "      <td>1.000000</td>\n",
       "      <td>...</td>\n",
       "      <td>0.000000</td>\n",
       "      <td>0.000000</td>\n",
       "      <td>0.000000</td>\n",
       "      <td>0.000000</td>\n",
       "      <td>0.000000</td>\n",
       "      <td>0.000000</td>\n",
       "      <td>0.000000</td>\n",
       "      <td>0.000000</td>\n",
       "      <td>1.000000</td>\n",
       "      <td>0.000000</td>\n",
       "    </tr>\n",
       "    <tr>\n",
       "      <th>max</th>\n",
       "      <td>1.000000</td>\n",
       "      <td>1.000000</td>\n",
       "      <td>1.000000</td>\n",
       "      <td>1.000000</td>\n",
       "      <td>1.000000</td>\n",
       "      <td>1.000000</td>\n",
       "      <td>1.000000</td>\n",
       "      <td>1.000000</td>\n",
       "      <td>1.000000</td>\n",
       "      <td>1.000000</td>\n",
       "      <td>...</td>\n",
       "      <td>1.000000</td>\n",
       "      <td>1.000000</td>\n",
       "      <td>1.000000</td>\n",
       "      <td>1.000000</td>\n",
       "      <td>1.000000</td>\n",
       "      <td>1.000000</td>\n",
       "      <td>1.000000</td>\n",
       "      <td>1.000000</td>\n",
       "      <td>1.000000</td>\n",
       "      <td>1.000000</td>\n",
       "    </tr>\n",
       "  </tbody>\n",
       "</table>\n",
       "<p>8 rows × 29 columns</p>\n",
       "</div>"
      ],
      "text/plain": [
       "               yr     holiday  workingday        temp         hum   windspeed  \\\n",
       "count  510.000000  510.000000  510.000000  510.000000  510.000000  510.000000   \n",
       "mean     0.507843    0.033333    0.688235    0.512980    0.564620    0.343339   \n",
       "std      0.500429    0.179682    0.463669    0.233096    0.183343    0.162447   \n",
       "min      0.000000    0.000000    0.000000    0.000000    0.000000    0.000000   \n",
       "25%      0.000000    0.000000    0.000000    0.314983    0.427182    0.227237   \n",
       "50%      1.000000    0.000000    1.000000    0.506068    0.563897    0.323711   \n",
       "75%      1.000000    0.000000    1.000000    0.721686    0.698806    0.434281   \n",
       "max      1.000000    1.000000    1.000000    1.000000    1.000000    1.000000   \n",
       "\n",
       "              cnt      summer        fall      winter  ...         nov  \\\n",
       "count  510.000000  510.000000  510.000000  510.000000  ...  510.000000   \n",
       "mean     0.492266    0.256863    0.235294    0.260784  ...    0.092157   \n",
       "std      0.235984    0.437332    0.424599    0.439494  ...    0.289531   \n",
       "min      0.000000    0.000000    0.000000    0.000000  ...    0.000000   \n",
       "25%      0.326754    0.000000    0.000000    0.000000  ...    0.000000   \n",
       "50%      0.490945    0.000000    0.000000    0.000000  ...    0.000000   \n",
       "75%      0.675812    1.000000    0.000000    1.000000  ...    0.000000   \n",
       "max      1.000000    1.000000    1.000000    1.000000  ...    1.000000   \n",
       "\n",
       "              dec         mon         tue         wed        thur         fri  \\\n",
       "count  510.000000  510.000000  510.000000  510.000000  510.000000  510.000000   \n",
       "mean     0.094118    0.147059    0.149020    0.152941    0.137255    0.135294   \n",
       "std      0.292279    0.354512    0.356457    0.360284    0.344454    0.342373   \n",
       "min      0.000000    0.000000    0.000000    0.000000    0.000000    0.000000   \n",
       "25%      0.000000    0.000000    0.000000    0.000000    0.000000    0.000000   \n",
       "50%      0.000000    0.000000    0.000000    0.000000    0.000000    0.000000   \n",
       "75%      0.000000    0.000000    0.000000    0.000000    0.000000    0.000000   \n",
       "max      1.000000    1.000000    1.000000    1.000000    1.000000    1.000000   \n",
       "\n",
       "              sat        mist        snow  \n",
       "count  510.000000  510.000000  510.000000  \n",
       "mean     0.147059    0.345098    0.033333  \n",
       "std      0.354512    0.475867    0.179682  \n",
       "min      0.000000    0.000000    0.000000  \n",
       "25%      0.000000    0.000000    0.000000  \n",
       "50%      0.000000    0.000000    0.000000  \n",
       "75%      0.000000    1.000000    0.000000  \n",
       "max      1.000000    1.000000    1.000000  \n",
       "\n",
       "[8 rows x 29 columns]"
      ]
     },
     "execution_count": 27,
     "metadata": {},
     "output_type": "execute_result"
    }
   ],
   "source": [
    "df_train.describe()"
   ]
  },
  {
   "cell_type": "markdown",
   "metadata": {},
   "source": [
    "We can see from the `describe()` output that all the variables have values between 0(min) and 1(max). "
   ]
  },
  {
   "cell_type": "markdown",
   "metadata": {},
   "source": [
    "## Step 3: Building the model"
   ]
  },
  {
   "cell_type": "markdown",
   "metadata": {},
   "source": [
    "### 3.1 : Dividing into X and Y sets for the model building"
   ]
  },
  {
   "cell_type": "code",
   "execution_count": 28,
   "metadata": {},
   "outputs": [
    {
     "name": "stdout",
     "output_type": "stream",
     "text": [
      "     yr  holiday  workingday      temp       hum  windspeed  summer  fall  \\\n",
      "323   0        0           0  0.478808  0.634717   0.337184       0     0   \n",
      "72    0        0           1  0.298094  0.394939   0.236118       0     0   \n",
      "510   1        0           0  0.778657  0.695953   0.364071       1     0   \n",
      "700   1        0           0  0.327249  0.812033   0.210252       0     0   \n",
      "264   0        0           1  0.694699  0.912672   0.217975       0     1   \n",
      "\n",
      "     winter  feb  ...  nov  dec  mon  tue  wed  thur  fri  sat  mist  snow  \n",
      "323       1    0  ...    1    0    0    0    0     0    0    0     1     0  \n",
      "72        0    0  ...    0    0    1    0    0     0    0    0     0     0  \n",
      "510       0    0  ...    0    0    0    0    0     0    0    1     0     0  \n",
      "700       1    0  ...    0    1    0    0    0     0    0    0     1     0  \n",
      "264       0    0  ...    0    0    0    0    0     1    0    0     1     0  \n",
      "\n",
      "[5 rows x 28 columns] \n",
      "Y train:\n",
      " 323    0.372933\n",
      "72     0.194978\n",
      "510    0.737052\n",
      "700    0.509236\n",
      "264    0.526862\n",
      "Name: cnt, dtype: float64\n"
     ]
    }
   ],
   "source": [
    "y_train = df_train.pop('cnt') # target variable \n",
    "X_train_initial = df_train # target variable should not be in predictor list\n",
    "print(X_train_initial.head(),\"\\nY train:\\n\",y_train.head())"
   ]
  },
  {
   "cell_type": "markdown",
   "metadata": {},
   "source": [
    "### 3.2 Identify the top significant features using RFE ( Recursive Feature Elimination - automated approach)\n"
   ]
  },
  {
   "cell_type": "code",
   "execution_count": 29,
   "metadata": {},
   "outputs": [
    {
     "name": "stdout",
     "output_type": "stream",
     "text": [
      "All features by their rank:\n",
      "[('apr', False, 2), ('aug', True, 1), ('dec', False, 11), ('fall', True, 1), ('feb', False, 6), ('fri', False, 9), ('holiday', True, 1), ('hum', True, 1), ('jul', False, 10), ('jun', False, 3), ('mar', True, 1), ('may', True, 1), ('mist', True, 1), ('mon', False, 7), ('nov', False, 8), ('oct', True, 1), ('sat', False, 4), ('sep', True, 1), ('snow', True, 1), ('summer', True, 1), ('temp', True, 1), ('thur', False, 13), ('tue', False, 12), ('wed', False, 14), ('windspeed', True, 1), ('winter', True, 1), ('workingday', False, 5), ('yr', True, 1)]\n"
     ]
    }
   ],
   "source": [
    "# Use linear regression as the model and RFE to select 15 features\n",
    "lr = LinearRegression()\n",
    "#rank all features, i.e continue the elimination until the last one\n",
    "rfe = RFE(lr, n_features_to_select=15)\n",
    "rfe = rfe.fit(X_train_initial, y_train)\n",
    "\n",
    "print(\"All features by their rank:\")\n",
    "print(sorted(list(zip(X_train_initial.columns,rfe.support_,rfe.ranking_))))"
   ]
  },
  {
   "cell_type": "code",
   "execution_count": 30,
   "metadata": {},
   "outputs": [
    {
     "name": "stdout",
     "output_type": "stream",
     "text": [
      "RFE selected columns:\n",
      " Index(['yr', 'holiday', 'temp', 'hum', 'windspeed', 'summer', 'fall', 'winter',\n",
      "       'mar', 'may', 'aug', 'sep', 'oct', 'mist', 'snow'],\n",
      "      dtype='object')\n"
     ]
    }
   ],
   "source": [
    "col = X_train_initial.columns[rfe.support_]\n",
    "print(\"RFE selected columns:\\n\", col)"
   ]
  },
  {
   "cell_type": "markdown",
   "metadata": {},
   "source": [
    "### 3.3 Feature selection\n",
    "\n",
    "Two main statistics to select the features:\n",
    "- p-value of the feature\n",
    "- VIFs.\n",
    "\n",
    "**Hypothesis of the test** is that a feature is `insignificant` in the model and by having p-value less than 0.05, we `reject this hypothesis` and hence the feature is selected. So wherever the p-value of a feature is higher than 0.05, it indicates that we `failed to reject the hypothesis` that the feature is insignificant.\n",
    "\n",
    "When there is a feature in the model that can be explained by other features, then the variable's VIF will be higher than 10 and we can eliminate those variables.\n",
    "\n",
    "#### Strategies:\n",
    "\n",
    "- When a feature has high p-value and high VIF, then it can be dropped first.\n",
    "- When a feature has high p-value and low VIF, then we will drop it as it is not significant.\n",
    "- When a feature has low p-value and high VIF, we try to drop other features which have higher p-value and if there is none, we will remove this feature and build the model and check the R-squared.\n",
    "- When a feature has low p-value and low VIF, then it is significant and not explained by other features and hence we keep these features in the model.\n"
   ]
  },
  {
   "cell_type": "markdown",
   "metadata": {},
   "source": [
    "#### Functions for building Linear regression model using statsmodels and calculate VIF using sklearn:\n",
    "\n",
    "Iteratively we can drop the features one by one from the model using **p-value** and **VIF** and build the model using **statsmodels**\n",
    "\n",
    "We will try to achieve a model not more than 10 variables and Rsquared is around 80 percent.\n",
    "\n",
    "Following functions are created to call iteratively and build `linear regression` model using `statsmodels` and calculate `VIF` using `sklearn` and print statistics summary of each model."
   ]
  },
  {
   "cell_type": "code",
   "execution_count": 31,
   "metadata": {},
   "outputs": [],
   "source": [
    "def build_lr_model(feature_list):\n",
    "    X_train = X_train_initial[feature_list] # get feature list \n",
    "    X_train_lm = sm.add_constant(X_train) # required by statsmodels \n",
    "    lr = sm.OLS(y_train, X_train_lm).fit() # build model and learn coefficients\n",
    "    print(\"Co-efficients:\\n\",lr.params) # OLS coefficients\n",
    "    print(lr.summary()) # OLS summary with R-squared, adjusted R-squared, p-value etc.\n",
    "    calculate_vif(X_train) # Calculate VIF for features\n",
    "    return(lr, X_train_lm) # return the model and the X_train fitted with constant\n",
    "\n",
    "def calculate_vif(X_train):\n",
    "    vif = pd.DataFrame()\n",
    "    vif['Features'] = X_train.columns # Read the feature names\n",
    "    vif['ViF'] = [variance_inflation_factor(X_train.values,i) for i in range(X_train.shape[1])] # calculate VIF\n",
    "    vif['ViF'] = round(vif['ViF'],2)\n",
    "    vif.sort_values(by='ViF', ascending = False, inplace=True)  \n",
    "    print(vif) # prints the calculated VIFs for all the features"
   ]
  },
  {
   "cell_type": "markdown",
   "metadata": {},
   "source": [
    "#### Model 1 : Use all 15 RFE selected features"
   ]
  },
  {
   "cell_type": "code",
   "execution_count": 32,
   "metadata": {},
   "outputs": [
    {
     "name": "stdout",
     "output_type": "stream",
     "text": [
      "Co-efficients:\n",
      " const        0.192940\n",
      "yr           0.247764\n",
      "holiday     -0.085885\n",
      "temp         0.455166\n",
      "hum         -0.173587\n",
      "windspeed   -0.178944\n",
      "summer       0.137383\n",
      "fall         0.082696\n",
      "winter       0.172726\n",
      "mar          0.051105\n",
      "may          0.033611\n",
      "aug          0.041804\n",
      "sep          0.119242\n",
      "oct          0.070154\n",
      "mist        -0.051695\n",
      "snow        -0.201133\n",
      "dtype: float64\n",
      "                            OLS Regression Results                            \n",
      "==============================================================================\n",
      "Dep. Variable:                    cnt   R-squared:                       0.849\n",
      "Model:                            OLS   Adj. R-squared:                  0.844\n",
      "Method:                 Least Squares   F-statistic:                     184.5\n",
      "Date:                Mon, 27 Jul 2020   Prob (F-statistic):          2.42e-191\n",
      "Time:                        17:08:00   Log-Likelihood:                 494.60\n",
      "No. Observations:                 510   AIC:                            -957.2\n",
      "Df Residuals:                     494   BIC:                            -889.4\n",
      "Df Model:                          15                                         \n",
      "Covariance Type:            nonrobust                                         \n",
      "==============================================================================\n",
      "                 coef    std err          t      P>|t|      [0.025      0.975]\n",
      "------------------------------------------------------------------------------\n",
      "const          0.1929      0.024      7.951      0.000       0.145       0.241\n",
      "yr             0.2478      0.008     29.157      0.000       0.231       0.264\n",
      "holiday       -0.0859      0.023     -3.707      0.000      -0.131      -0.040\n",
      "temp           0.4552      0.033     13.681      0.000       0.390       0.521\n",
      "hum           -0.1736      0.034     -5.139      0.000      -0.240      -0.107\n",
      "windspeed     -0.1789      0.028     -6.402      0.000      -0.234      -0.124\n",
      "summer         0.1374      0.016      8.639      0.000       0.106       0.169\n",
      "fall           0.0827      0.023      3.584      0.000       0.037       0.128\n",
      "winter         0.1727      0.014     12.110      0.000       0.145       0.201\n",
      "mar            0.0511      0.016      3.199      0.001       0.020       0.082\n",
      "may            0.0336      0.018      1.855      0.064      -0.002       0.069\n",
      "aug            0.0418      0.020      2.126      0.034       0.003       0.080\n",
      "sep            0.1192      0.017      6.863      0.000       0.085       0.153\n",
      "oct            0.0702      0.018      3.896      0.000       0.035       0.106\n",
      "mist          -0.0517      0.011     -4.607      0.000      -0.074      -0.030\n",
      "snow          -0.2011      0.028     -7.161      0.000      -0.256      -0.146\n",
      "==============================================================================\n",
      "Omnibus:                       78.295   Durbin-Watson:                   2.062\n",
      "Prob(Omnibus):                  0.000   Jarque-Bera (JB):              199.529\n",
      "Skew:                          -0.775   Prob(JB):                     4.71e-44\n",
      "Kurtosis:                       5.643   Cond. No.                         17.4\n",
      "==============================================================================\n",
      "\n",
      "Warnings:\n",
      "[1] Standard Errors assume that the covariance matrix of the errors is correctly specified.\n",
      "     Features    ViF\n",
      "2        temp  19.53\n",
      "3         hum  12.21\n",
      "6        fall   7.35\n",
      "4   windspeed   3.84\n",
      "5      summer   3.80\n",
      "7      winter   3.03\n",
      "13       mist   2.34\n",
      "0          yr   1.99\n",
      "10        aug   1.72\n",
      "9         may   1.65\n",
      "12        oct   1.59\n",
      "11        sep   1.57\n",
      "14       snow   1.38\n",
      "8         mar   1.24\n",
      "1     holiday   1.05\n"
     ]
    }
   ],
   "source": [
    "features = list(col) #  Use RFE selected variables\n",
    "lr_model1, X_train_lm1 = build_lr_model(features) # Call the function and get the model and the X_train_lm for prediction"
   ]
  },
  {
   "cell_type": "markdown",
   "metadata": {},
   "source": [
    "#### Model 2: Remove `may` as its p-value > 0.05"
   ]
  },
  {
   "cell_type": "code",
   "execution_count": 33,
   "metadata": {},
   "outputs": [
    {
     "name": "stdout",
     "output_type": "stream",
     "text": [
      "Co-efficients:\n",
      " const        0.188395\n",
      "yr           0.247255\n",
      "holiday     -0.086320\n",
      "temp         0.463554\n",
      "hum         -0.163960\n",
      "windspeed   -0.180385\n",
      "summer       0.145055\n",
      "fall         0.076725\n",
      "winter       0.169913\n",
      "mar          0.046095\n",
      "aug          0.041150\n",
      "sep          0.118298\n",
      "oct          0.068867\n",
      "mist        -0.053254\n",
      "snow        -0.205734\n",
      "dtype: float64\n",
      "                            OLS Regression Results                            \n",
      "==============================================================================\n",
      "Dep. Variable:                    cnt   R-squared:                       0.847\n",
      "Model:                            OLS   Adj. R-squared:                  0.843\n",
      "Method:                 Least Squares   F-statistic:                     196.5\n",
      "Date:                Mon, 27 Jul 2020   Prob (F-statistic):          9.36e-192\n",
      "Time:                        17:08:15   Log-Likelihood:                 492.83\n",
      "No. Observations:                 510   AIC:                            -955.7\n",
      "Df Residuals:                     495   BIC:                            -892.1\n",
      "Df Model:                          14                                         \n",
      "Covariance Type:            nonrobust                                         \n",
      "==============================================================================\n",
      "                 coef    std err          t      P>|t|      [0.025      0.975]\n",
      "------------------------------------------------------------------------------\n",
      "const          0.1884      0.024      7.785      0.000       0.141       0.236\n",
      "yr             0.2473      0.009     29.041      0.000       0.231       0.264\n",
      "holiday       -0.0863      0.023     -3.716      0.000      -0.132      -0.041\n",
      "temp           0.4636      0.033     14.029      0.000       0.399       0.528\n",
      "hum           -0.1640      0.033     -4.900      0.000      -0.230      -0.098\n",
      "windspeed     -0.1804      0.028     -6.440      0.000      -0.235      -0.125\n",
      "summer         0.1451      0.015      9.424      0.000       0.115       0.175\n",
      "fall           0.0767      0.023      3.350      0.001       0.032       0.122\n",
      "winter         0.1699      0.014     11.952      0.000       0.142       0.198\n",
      "mar            0.0461      0.016      2.920      0.004       0.015       0.077\n",
      "aug            0.0411      0.020      2.088      0.037       0.002       0.080\n",
      "sep            0.1183      0.017      6.795      0.000       0.084       0.153\n",
      "oct            0.0689      0.018      3.818      0.000       0.033       0.104\n",
      "mist          -0.0533      0.011     -4.748      0.000      -0.075      -0.031\n",
      "snow          -0.2057      0.028     -7.335      0.000      -0.261      -0.151\n",
      "==============================================================================\n",
      "Omnibus:                       74.936   Durbin-Watson:                   2.078\n",
      "Prob(Omnibus):                  0.000   Jarque-Bera (JB):              180.863\n",
      "Skew:                          -0.762   Prob(JB):                     5.32e-40\n",
      "Kurtosis:                       5.488   Cond. No.                         17.3\n",
      "==============================================================================\n",
      "\n",
      "Warnings:\n",
      "[1] Standard Errors assume that the covariance matrix of the errors is correctly specified.\n",
      "     Features    ViF\n",
      "2        temp  19.27\n",
      "3         hum  12.05\n",
      "6        fall   7.21\n",
      "4   windspeed   3.79\n",
      "5      summer   3.55\n",
      "7      winter   2.98\n",
      "12       mist   2.33\n",
      "0          yr   1.98\n",
      "9         aug   1.72\n",
      "11        oct   1.59\n",
      "10        sep   1.57\n",
      "13       snow   1.37\n",
      "8         mar   1.19\n",
      "1     holiday   1.05\n"
     ]
    }
   ],
   "source": [
    "features = list(col) #  Use RFE selected variables\n",
    "features.remove('may') # Remove 'may' from RFE features list\n",
    "lr_model2, X_train_lm2 = build_lr_model(features) # Call the function and get the model and the X_train_lm for prediction"
   ]
  },
  {
   "cell_type": "markdown",
   "metadata": {},
   "source": [
    "Now all the variables have p-value less than 0.05. We can check if there is `multi-collinearity` by looking at the `VIF` and remove features accordingly."
   ]
  },
  {
   "cell_type": "markdown",
   "metadata": {},
   "source": [
    "#### Model 3: Remove `temp` as its VIF is higher"
   ]
  },
  {
   "cell_type": "code",
   "execution_count": 34,
   "metadata": {},
   "outputs": [
    {
     "name": "stdout",
     "output_type": "stream",
     "text": [
      "Co-efficients:\n",
      " const        0.262693\n",
      "yr           0.259125\n",
      "holiday     -0.087648\n",
      "hum         -0.055455\n",
      "windspeed   -0.176582\n",
      "summer       0.282611\n",
      "fall         0.310288\n",
      "winter       0.220511\n",
      "mar          0.043729\n",
      "aug          0.044702\n",
      "sep          0.114534\n",
      "oct          0.126830\n",
      "mist        -0.084231\n",
      "snow        -0.279881\n",
      "dtype: float64\n",
      "                            OLS Regression Results                            \n",
      "==============================================================================\n",
      "Dep. Variable:                    cnt   R-squared:                       0.787\n",
      "Model:                            OLS   Adj. R-squared:                  0.781\n",
      "Method:                 Least Squares   F-statistic:                     140.9\n",
      "Date:                Mon, 27 Jul 2020   Prob (F-statistic):          4.77e-157\n",
      "Time:                        17:08:46   Log-Likelihood:                 407.46\n",
      "No. Observations:                 510   AIC:                            -786.9\n",
      "Df Residuals:                     496   BIC:                            -727.6\n",
      "Df Model:                          13                                         \n",
      "Covariance Type:            nonrobust                                         \n",
      "==============================================================================\n",
      "                 coef    std err          t      P>|t|      [0.025      0.975]\n",
      "------------------------------------------------------------------------------\n",
      "const          0.2627      0.028      9.419      0.000       0.208       0.317\n",
      "yr             0.2591      0.010     25.898      0.000       0.239       0.279\n",
      "holiday       -0.0876      0.027     -3.195      0.001      -0.142      -0.034\n",
      "hum           -0.0555      0.038     -1.442      0.150      -0.131       0.020\n",
      "windspeed     -0.1766      0.033     -5.338      0.000      -0.242      -0.112\n",
      "summer         0.2826      0.014     20.167      0.000       0.255       0.310\n",
      "fall           0.3103      0.019     16.702      0.000       0.274       0.347\n",
      "winter         0.2205      0.016     13.578      0.000       0.189       0.252\n",
      "mar            0.0437      0.019      2.346      0.019       0.007       0.080\n",
      "aug            0.0447      0.023      1.921      0.055      -0.001       0.090\n",
      "sep            0.1145      0.021      5.571      0.000       0.074       0.155\n",
      "oct            0.1268      0.021      6.116      0.000       0.086       0.168\n",
      "mist          -0.0842      0.013     -6.486      0.000      -0.110      -0.059\n",
      "snow          -0.2799      0.033     -8.604      0.000      -0.344      -0.216\n",
      "==============================================================================\n",
      "Omnibus:                       69.912   Durbin-Watson:                   2.177\n",
      "Prob(Omnibus):                  0.000   Jarque-Bera (JB):              195.076\n",
      "Skew:                          -0.666   Prob(JB):                     4.36e-43\n",
      "Kurtosis:                       5.722   Cond. No.                         15.7\n",
      "==============================================================================\n",
      "\n",
      "Warnings:\n",
      "[1] Standard Errors assume that the covariance matrix of the errors is correctly specified.\n",
      "     Features   ViF\n",
      "2         hum  8.51\n",
      "3   windspeed  3.62\n",
      "5        fall  3.16\n",
      "6      winter  2.71\n",
      "11       mist  2.16\n",
      "4      summer  2.02\n",
      "0          yr  1.92\n",
      "8         aug  1.72\n",
      "9         sep  1.57\n",
      "10        oct  1.52\n",
      "12       snow  1.27\n",
      "7         mar  1.19\n",
      "1     holiday  1.05\n"
     ]
    }
   ],
   "source": [
    "features = list(col) #  Use RFE selected variables\n",
    "features.remove('may') # Remove 'may' from RFE features list as per model 2\n",
    "features.remove('temp') # Remove 'temp' from RFE features list\n",
    "lr_model3, X_train_lm3 = build_lr_model(features) # Call the function and get the model and the X_train_lm for prediction"
   ]
  },
  {
   "cell_type": "markdown",
   "metadata": {},
   "source": [
    "We can see that adjusted R-squared has significantly reduced from `0.843`(model 2) to `0.781`. Hence `temp` is an important predictor as we have seen in the pair plots and correlation heat map also. \n",
    "\n",
    "#### Revert to `model2`"
   ]
  },
  {
   "cell_type": "code",
   "execution_count": 35,
   "metadata": {},
   "outputs": [
    {
     "name": "stdout",
     "output_type": "stream",
     "text": [
      "Co-efficients:\n",
      " const        0.188395\n",
      "yr           0.247255\n",
      "holiday     -0.086320\n",
      "temp         0.463554\n",
      "hum         -0.163960\n",
      "windspeed   -0.180385\n",
      "summer       0.145055\n",
      "fall         0.076725\n",
      "winter       0.169913\n",
      "mar          0.046095\n",
      "aug          0.041150\n",
      "sep          0.118298\n",
      "oct          0.068867\n",
      "mist        -0.053254\n",
      "snow        -0.205734\n",
      "dtype: float64\n",
      "                            OLS Regression Results                            \n",
      "==============================================================================\n",
      "Dep. Variable:                    cnt   R-squared:                       0.847\n",
      "Model:                            OLS   Adj. R-squared:                  0.843\n",
      "Method:                 Least Squares   F-statistic:                     196.5\n",
      "Date:                Mon, 27 Jul 2020   Prob (F-statistic):          9.36e-192\n",
      "Time:                        17:09:00   Log-Likelihood:                 492.83\n",
      "No. Observations:                 510   AIC:                            -955.7\n",
      "Df Residuals:                     495   BIC:                            -892.1\n",
      "Df Model:                          14                                         \n",
      "Covariance Type:            nonrobust                                         \n",
      "==============================================================================\n",
      "                 coef    std err          t      P>|t|      [0.025      0.975]\n",
      "------------------------------------------------------------------------------\n",
      "const          0.1884      0.024      7.785      0.000       0.141       0.236\n",
      "yr             0.2473      0.009     29.041      0.000       0.231       0.264\n",
      "holiday       -0.0863      0.023     -3.716      0.000      -0.132      -0.041\n",
      "temp           0.4636      0.033     14.029      0.000       0.399       0.528\n",
      "hum           -0.1640      0.033     -4.900      0.000      -0.230      -0.098\n",
      "windspeed     -0.1804      0.028     -6.440      0.000      -0.235      -0.125\n",
      "summer         0.1451      0.015      9.424      0.000       0.115       0.175\n",
      "fall           0.0767      0.023      3.350      0.001       0.032       0.122\n",
      "winter         0.1699      0.014     11.952      0.000       0.142       0.198\n",
      "mar            0.0461      0.016      2.920      0.004       0.015       0.077\n",
      "aug            0.0411      0.020      2.088      0.037       0.002       0.080\n",
      "sep            0.1183      0.017      6.795      0.000       0.084       0.153\n",
      "oct            0.0689      0.018      3.818      0.000       0.033       0.104\n",
      "mist          -0.0533      0.011     -4.748      0.000      -0.075      -0.031\n",
      "snow          -0.2057      0.028     -7.335      0.000      -0.261      -0.151\n",
      "==============================================================================\n",
      "Omnibus:                       74.936   Durbin-Watson:                   2.078\n",
      "Prob(Omnibus):                  0.000   Jarque-Bera (JB):              180.863\n",
      "Skew:                          -0.762   Prob(JB):                     5.32e-40\n",
      "Kurtosis:                       5.488   Cond. No.                         17.3\n",
      "==============================================================================\n",
      "\n",
      "Warnings:\n",
      "[1] Standard Errors assume that the covariance matrix of the errors is correctly specified.\n",
      "     Features    ViF\n",
      "2        temp  19.27\n",
      "3         hum  12.05\n",
      "6        fall   7.21\n",
      "4   windspeed   3.79\n",
      "5      summer   3.55\n",
      "7      winter   2.98\n",
      "12       mist   2.33\n",
      "0          yr   1.98\n",
      "9         aug   1.72\n",
      "11        oct   1.59\n",
      "10        sep   1.57\n",
      "13       snow   1.37\n",
      "8         mar   1.19\n",
      "1     holiday   1.05\n"
     ]
    }
   ],
   "source": [
    "features = list(col) #  Use RFE selected variables\n",
    "features.remove('may') # Remove 'may' from features list as per model 2\n",
    "lr_model2, X_train_lm2 = build_lr_model(features) # Call the function and get the model and the X_train_lm for prediction"
   ]
  },
  {
   "cell_type": "markdown",
   "metadata": {},
   "source": [
    "#### Model 4: Remove `hum` as its VIF is higher"
   ]
  },
  {
   "cell_type": "code",
   "execution_count": 36,
   "metadata": {},
   "outputs": [
    {
     "name": "stdout",
     "output_type": "stream",
     "text": [
      "Co-efficients:\n",
      " const        0.106492\n",
      "yr           0.255112\n",
      "holiday     -0.086748\n",
      "temp         0.426134\n",
      "windspeed   -0.136121\n",
      "summer       0.149738\n",
      "fall         0.092509\n",
      "winter       0.168419\n",
      "mar          0.050280\n",
      "aug          0.033568\n",
      "sep          0.104885\n",
      "oct          0.069480\n",
      "mist        -0.086325\n",
      "snow        -0.277112\n",
      "dtype: float64\n",
      "                            OLS Regression Results                            \n",
      "==============================================================================\n",
      "Dep. Variable:                    cnt   R-squared:                       0.840\n",
      "Model:                            OLS   Adj. R-squared:                  0.836\n",
      "Method:                 Least Squares   F-statistic:                     200.5\n",
      "Date:                Mon, 27 Jul 2020   Prob (F-statistic):          7.58e-188\n",
      "Time:                        17:09:11   Log-Likelihood:                 480.75\n",
      "No. Observations:                 510   AIC:                            -933.5\n",
      "Df Residuals:                     496   BIC:                            -874.2\n",
      "Df Model:                          13                                         \n",
      "Covariance Type:            nonrobust                                         \n",
      "==============================================================================\n",
      "                 coef    std err          t      P>|t|      [0.025      0.975]\n",
      "------------------------------------------------------------------------------\n",
      "const          0.1065      0.018      5.949      0.000       0.071       0.142\n",
      "yr             0.2551      0.009     29.825      0.000       0.238       0.272\n",
      "holiday       -0.0867      0.024     -3.651      0.000      -0.133      -0.040\n",
      "temp           0.4261      0.033     12.958      0.000       0.362       0.491\n",
      "windspeed     -0.1361      0.027     -5.019      0.000      -0.189      -0.083\n",
      "summer         0.1497      0.016      9.528      0.000       0.119       0.181\n",
      "fall           0.0925      0.023      3.988      0.000       0.047       0.138\n",
      "winter         0.1684      0.015     11.584      0.000       0.140       0.197\n",
      "mar            0.0503      0.016      3.118      0.002       0.019       0.082\n",
      "aug            0.0336      0.020      1.670      0.096      -0.006       0.073\n",
      "sep            0.1049      0.018      5.964      0.000       0.070       0.139\n",
      "oct            0.0695      0.018      3.766      0.000       0.033       0.106\n",
      "mist          -0.0863      0.009     -9.421      0.000      -0.104      -0.068\n",
      "snow          -0.2771      0.025    -11.303      0.000      -0.325      -0.229\n",
      "==============================================================================\n",
      "Omnibus:                       74.923   Durbin-Watson:                   2.109\n",
      "Prob(Omnibus):                  0.000   Jarque-Bera (JB):              195.599\n",
      "Skew:                          -0.735   Prob(JB):                     3.36e-43\n",
      "Kurtosis:                       5.654   Cond. No.                         13.9\n",
      "==============================================================================\n",
      "\n",
      "Warnings:\n",
      "[1] Standard Errors assume that the covariance matrix of the errors is correctly specified.\n",
      "     Features    ViF\n",
      "2        temp  13.61\n",
      "5        fall   6.98\n",
      "3   windspeed   3.58\n",
      "4      summer   3.54\n",
      "6      winter   2.86\n",
      "0          yr   1.98\n",
      "8         aug   1.72\n",
      "10        oct   1.57\n",
      "9         sep   1.56\n",
      "11       mist   1.53\n",
      "7         mar   1.18\n",
      "12       snow   1.11\n",
      "1     holiday   1.05\n"
     ]
    }
   ],
   "source": [
    "features = list(col) #  Use RFE selected variables\n",
    "features.remove('may') # Remove 'may' from features list as per model 2\n",
    "features.remove('hum')  # Remove 'hum' from features list\n",
    "lr_model4, X_train_lm4 = build_lr_model(features) # Call the function and get the model and the X_train_lm for prediction"
   ]
  },
  {
   "cell_type": "markdown",
   "metadata": {},
   "source": [
    "Rsquared is not affected much. So removing `hum` is a good decision for the model. Lets proceed and check the stats.\n",
    "\n",
    "Now p-value of `aug` is greater than 0.05 and hence we can drop this."
   ]
  },
  {
   "cell_type": "markdown",
   "metadata": {},
   "source": [
    "#### Model 5: Remove `aug` as its p-value > 0.05"
   ]
  },
  {
   "cell_type": "code",
   "execution_count": 37,
   "metadata": {},
   "outputs": [
    {
     "name": "stdout",
     "output_type": "stream",
     "text": [
      "Co-efficients:\n",
      " const        0.105428\n",
      "yr           0.255072\n",
      "holiday     -0.089026\n",
      "temp         0.427888\n",
      "windspeed   -0.134910\n",
      "summer       0.149138\n",
      "fall         0.105653\n",
      "winter       0.169682\n",
      "mar          0.050116\n",
      "sep          0.094074\n",
      "oct          0.067811\n",
      "mist        -0.085457\n",
      "snow        -0.277923\n",
      "dtype: float64\n",
      "                            OLS Regression Results                            \n",
      "==============================================================================\n",
      "Dep. Variable:                    cnt   R-squared:                       0.839\n",
      "Model:                            OLS   Adj. R-squared:                  0.835\n",
      "Method:                 Least Squares   F-statistic:                     216.2\n",
      "Date:                Mon, 27 Jul 2020   Prob (F-statistic):          2.01e-188\n",
      "Time:                        17:09:24   Log-Likelihood:                 479.32\n",
      "No. Observations:                 510   AIC:                            -932.6\n",
      "Df Residuals:                     497   BIC:                            -877.6\n",
      "Df Model:                          12                                         \n",
      "Covariance Type:            nonrobust                                         \n",
      "==============================================================================\n",
      "                 coef    std err          t      P>|t|      [0.025      0.975]\n",
      "------------------------------------------------------------------------------\n",
      "const          0.1054      0.018      5.882      0.000       0.070       0.141\n",
      "yr             0.2551      0.009     29.767      0.000       0.238       0.272\n",
      "holiday       -0.0890      0.024     -3.746      0.000      -0.136      -0.042\n",
      "temp           0.4279      0.033     12.995      0.000       0.363       0.493\n",
      "windspeed     -0.1349      0.027     -4.967      0.000      -0.188      -0.082\n",
      "summer         0.1491      0.016      9.475      0.000       0.118       0.180\n",
      "fall           0.1057      0.022      4.833      0.000       0.063       0.149\n",
      "winter         0.1697      0.015     11.665      0.000       0.141       0.198\n",
      "mar            0.0501      0.016      3.103      0.002       0.018       0.082\n",
      "sep            0.0941      0.016      5.743      0.000       0.062       0.126\n",
      "oct            0.0678      0.018      3.674      0.000       0.032       0.104\n",
      "mist          -0.0855      0.009     -9.324      0.000      -0.103      -0.067\n",
      "snow          -0.2779      0.025    -11.318      0.000      -0.326      -0.230\n",
      "==============================================================================\n",
      "Omnibus:                       76.321   Durbin-Watson:                   2.105\n",
      "Prob(Omnibus):                  0.000   Jarque-Bera (JB):              193.010\n",
      "Skew:                          -0.759   Prob(JB):                     1.23e-42\n",
      "Kurtosis:                       5.603   Cond. No.                         13.8\n",
      "==============================================================================\n",
      "\n",
      "Warnings:\n",
      "[1] Standard Errors assume that the covariance matrix of the errors is correctly specified.\n",
      "     Features    ViF\n",
      "2        temp  13.61\n",
      "5        fall   6.15\n",
      "3   windspeed   3.58\n",
      "4      summer   3.54\n",
      "6      winter   2.86\n",
      "0          yr   1.98\n",
      "9         oct   1.57\n",
      "10       mist   1.53\n",
      "8         sep   1.35\n",
      "7         mar   1.18\n",
      "11       snow   1.11\n",
      "1     holiday   1.04\n"
     ]
    }
   ],
   "source": [
    "features = list(col) #  Use RFE selected variables\n",
    "features.remove('may') # Remove 'may' from features list as per model 2\n",
    "features.remove('hum')  # Remove 'hum' from features list as per model 4\n",
    "features.remove('aug') # Remove 'aug' from features list\n",
    "lr_model5, X_train_lm5 = build_lr_model(features) # Call the function and get the model and the X_train_lm for prediction"
   ]
  },
  {
   "cell_type": "markdown",
   "metadata": {},
   "source": [
    "Now all the variables have p-value less than 0.05. So lets check the `VIF` to find if there is `multi-collinearity` and remove features accordingly. As we have seen already `temp` is an important predictor. So we will try to remove the next high `VIF` variable `fall` and see if `VIF` of `temp` is reduced by removing `fall` from the model."
   ]
  },
  {
   "cell_type": "markdown",
   "metadata": {},
   "source": [
    "#### Model 6: Remove `fall` as its VIF is higher"
   ]
  },
  {
   "cell_type": "code",
   "execution_count": 38,
   "metadata": {},
   "outputs": [
    {
     "name": "stdout",
     "output_type": "stream",
     "text": [
      "Co-efficients:\n",
      " const        0.094133\n",
      "yr           0.253161\n",
      "holiday     -0.091921\n",
      "temp         0.551736\n",
      "windspeed   -0.141460\n",
      "summer       0.093664\n",
      "winter       0.133270\n",
      "mar          0.040021\n",
      "sep          0.110282\n",
      "oct          0.053767\n",
      "mist        -0.085366\n",
      "snow        -0.271162\n",
      "dtype: float64\n",
      "                            OLS Regression Results                            \n",
      "==============================================================================\n",
      "Dep. Variable:                    cnt   R-squared:                       0.832\n",
      "Model:                            OLS   Adj. R-squared:                  0.828\n",
      "Method:                 Least Squares   F-statistic:                     223.6\n",
      "Date:                Mon, 27 Jul 2020   Prob (F-statistic):          1.14e-184\n",
      "Time:                        17:09:40   Log-Likelihood:                 467.61\n",
      "No. Observations:                 510   AIC:                            -911.2\n",
      "Df Residuals:                     498   BIC:                            -860.4\n",
      "Df Model:                          11                                         \n",
      "Covariance Type:            nonrobust                                         \n",
      "==============================================================================\n",
      "                 coef    std err          t      P>|t|      [0.025      0.975]\n",
      "------------------------------------------------------------------------------\n",
      "const          0.0941      0.018      5.182      0.000       0.058       0.130\n",
      "yr             0.2532      0.009     28.933      0.000       0.236       0.270\n",
      "holiday       -0.0919      0.024     -3.785      0.000      -0.140      -0.044\n",
      "temp           0.5517      0.021     26.103      0.000       0.510       0.593\n",
      "windspeed     -0.1415      0.028     -5.102      0.000      -0.196      -0.087\n",
      "summer         0.0937      0.011      8.508      0.000       0.072       0.115\n",
      "winter         0.1333      0.013     10.478      0.000       0.108       0.158\n",
      "mar            0.0400      0.016      2.444      0.015       0.008       0.072\n",
      "sep            0.1103      0.016      6.729      0.000       0.078       0.142\n",
      "oct            0.0538      0.019      2.886      0.004       0.017       0.090\n",
      "mist          -0.0854      0.009     -9.112      0.000      -0.104      -0.067\n",
      "snow          -0.2712      0.025    -10.821      0.000      -0.320      -0.222\n",
      "==============================================================================\n",
      "Omnibus:                       53.003   Durbin-Watson:                   2.090\n",
      "Prob(Omnibus):                  0.000   Jarque-Bera (JB):              107.140\n",
      "Skew:                          -0.605   Prob(JB):                     5.43e-24\n",
      "Kurtosis:                       4.892   Cond. No.                         10.6\n",
      "==============================================================================\n",
      "\n",
      "Warnings:\n",
      "[1] Standard Errors assume that the covariance matrix of the errors is correctly specified.\n",
      "     Features   ViF\n",
      "2        temp  3.85\n",
      "3   windspeed  3.47\n",
      "0          yr  1.97\n",
      "5      winter  1.91\n",
      "4      summer  1.64\n",
      "8         oct  1.54\n",
      "9        mist  1.53\n",
      "7         sep  1.29\n",
      "6         mar  1.16\n",
      "10       snow  1.11\n",
      "1     holiday  1.04\n"
     ]
    }
   ],
   "source": [
    "features = list(col) #  Use RFE selected variables\n",
    "features.remove('may') # Remove 'may' from features list as per model 2\n",
    "features.remove('hum') # Remove 'hum' from features list as per model 4 \n",
    "features.remove('aug') # Remove 'aug' from features list as per model 5\n",
    "features.remove('fall') # Remove 'aug' from features list\n",
    "lr_model6, X_train_lm6 = build_lr_model(features) # Call the function and get the model and the X_train_lm for prediction"
   ]
  },
  {
   "cell_type": "markdown",
   "metadata": {},
   "source": [
    "Now all the p-values are less than 0.05 indicating that all these features are signicant. \n",
    "\n",
    "VIF is also in acceptable range. \n",
    "\n",
    "Total number of features in this `model6` is 11, which is slightly above our targeted features.\n",
    "\n",
    "So lets check deleting `mar`(OLS coefficient: 0.04) or `oct`(0.05) which have very less OLS coefficient one by one and see how the model is affected.\n",
    "\n",
    "We are going for less OLS coefficient as these will have less impact by the best fit line equation. i.e. one unit of change in these features will only bring about 0.04 or 0.05 units of change in the target variable."
   ]
  },
  {
   "cell_type": "markdown",
   "metadata": {},
   "source": [
    "#### Model 7: Remove `mar` whose OLS coefficient is 0.04 "
   ]
  },
  {
   "cell_type": "code",
   "execution_count": 39,
   "metadata": {},
   "outputs": [
    {
     "name": "stdout",
     "output_type": "stream",
     "text": [
      "Co-efficients:\n",
      " const        0.102943\n",
      "yr           0.253272\n",
      "holiday     -0.095766\n",
      "temp         0.541389\n",
      "windspeed   -0.139141\n",
      "summer       0.094848\n",
      "winter       0.127687\n",
      "sep          0.108968\n",
      "oct          0.054869\n",
      "mist        -0.084398\n",
      "snow        -0.271401\n",
      "dtype: float64\n",
      "                            OLS Regression Results                            \n",
      "==============================================================================\n",
      "Dep. Variable:                    cnt   R-squared:                       0.830\n",
      "Model:                            OLS   Adj. R-squared:                  0.826\n",
      "Method:                 Least Squares   F-statistic:                     243.0\n",
      "Date:                Mon, 27 Jul 2020   Prob (F-statistic):          1.37e-184\n",
      "Time:                        17:10:06   Log-Likelihood:                 464.57\n",
      "No. Observations:                 510   AIC:                            -907.1\n",
      "Df Residuals:                     499   BIC:                            -860.6\n",
      "Df Model:                          10                                         \n",
      "Covariance Type:            nonrobust                                         \n",
      "==============================================================================\n",
      "                 coef    std err          t      P>|t|      [0.025      0.975]\n",
      "------------------------------------------------------------------------------\n",
      "const          0.1029      0.018      5.754      0.000       0.068       0.138\n",
      "yr             0.2533      0.009     28.803      0.000       0.236       0.271\n",
      "holiday       -0.0958      0.024     -3.933      0.000      -0.144      -0.048\n",
      "temp           0.5414      0.021     26.014      0.000       0.500       0.582\n",
      "windspeed     -0.1391      0.028     -4.996      0.000      -0.194      -0.084\n",
      "summer         0.0948      0.011      8.581      0.000       0.073       0.117\n",
      "winter         0.1277      0.013     10.155      0.000       0.103       0.152\n",
      "sep            0.1090      0.016      6.619      0.000       0.077       0.141\n",
      "oct            0.0549      0.019      2.931      0.004       0.018       0.092\n",
      "mist          -0.0844      0.009     -8.972      0.000      -0.103      -0.066\n",
      "snow          -0.2714      0.025    -10.777      0.000      -0.321      -0.222\n",
      "==============================================================================\n",
      "Omnibus:                       55.498   Durbin-Watson:                   2.084\n",
      "Prob(Omnibus):                  0.000   Jarque-Bera (JB):              120.705\n",
      "Skew:                          -0.606   Prob(JB):                     6.16e-27\n",
      "Kurtosis:                       5.052   Cond. No.                         10.5\n",
      "==============================================================================\n",
      "\n",
      "Warnings:\n",
      "[1] Standard Errors assume that the covariance matrix of the errors is correctly specified.\n",
      "    Features   ViF\n",
      "2       temp  3.82\n",
      "3  windspeed  3.31\n",
      "0         yr  1.96\n",
      "5     winter  1.88\n",
      "4     summer  1.63\n",
      "7        oct  1.54\n",
      "8       mist  1.51\n",
      "6        sep  1.28\n",
      "9       snow  1.11\n",
      "1    holiday  1.04\n"
     ]
    }
   ],
   "source": [
    "features = list(col) #  Use RFE selected variables\n",
    "features.remove('may') # Remove 'may' from features list as per model 2\n",
    "features.remove('hum') # Remove 'hum' from features list as per model 4 \n",
    "features.remove('aug') # Remove 'aug' from features list as per model 5\n",
    "features.remove('fall') # Remove 'aug' from features list as per model 6\n",
    "features.remove('mar') # Remove 'fall' from features list\n",
    "lr_model7, X_train_lm7 = build_lr_model(features) # Call the function and get the model and the X_train_lm for prediction"
   ]
  },
  {
   "cell_type": "markdown",
   "metadata": {},
   "source": [
    "The impact is not much on the model. Rsquared has reduced from 0.832 to 0.83 and adjusted Rsquared has reduced from 0.828 to 0.826. \n",
    "\n",
    "So it seems removing `mar` does not have much impact and hence lets drop this.\n",
    "\n",
    "We now have 10 features still lets proceed checking whether deleting `oct` has significant impact on the model. If not, deleting it would help to bring the number of features to 9."
   ]
  },
  {
   "cell_type": "markdown",
   "metadata": {},
   "source": [
    "#### Model 8: Remove `oct` whose OLS coefficient is 0.05"
   ]
  },
  {
   "cell_type": "code",
   "execution_count": 40,
   "metadata": {},
   "outputs": [
    {
     "name": "stdout",
     "output_type": "stream",
     "text": [
      "Co-efficients:\n",
      " const        0.097270\n",
      "yr           0.254397\n",
      "holiday     -0.097409\n",
      "temp         0.552135\n",
      "windspeed   -0.138606\n",
      "summer       0.093192\n",
      "winter       0.145689\n",
      "sep          0.101067\n",
      "mist        -0.083396\n",
      "snow        -0.265879\n",
      "dtype: float64\n",
      "                            OLS Regression Results                            \n",
      "==============================================================================\n",
      "Dep. Variable:                    cnt   R-squared:                       0.827\n",
      "Model:                            OLS   Adj. R-squared:                  0.824\n",
      "Method:                 Least Squares   F-statistic:                     265.0\n",
      "Date:                Mon, 27 Jul 2020   Prob (F-statistic):          5.72e-184\n",
      "Time:                        17:10:19   Log-Likelihood:                 460.21\n",
      "No. Observations:                 510   AIC:                            -900.4\n",
      "Df Residuals:                     500   BIC:                            -858.1\n",
      "Df Model:                           9                                         \n",
      "Covariance Type:            nonrobust                                         \n",
      "==============================================================================\n",
      "                 coef    std err          t      P>|t|      [0.025      0.975]\n",
      "------------------------------------------------------------------------------\n",
      "const          0.0973      0.018      5.428      0.000       0.062       0.132\n",
      "yr             0.2544      0.009     28.741      0.000       0.237       0.272\n",
      "holiday       -0.0974      0.025     -3.971      0.000      -0.146      -0.049\n",
      "temp           0.5521      0.021     26.749      0.000       0.512       0.593\n",
      "windspeed     -0.1386      0.028     -4.940      0.000      -0.194      -0.083\n",
      "summer         0.0932      0.011      8.379      0.000       0.071       0.115\n",
      "winter         0.1457      0.011     13.177      0.000       0.124       0.167\n",
      "sep            0.1011      0.016      6.176      0.000       0.069       0.133\n",
      "mist          -0.0834      0.009     -8.805      0.000      -0.102      -0.065\n",
      "snow          -0.2659      0.025    -10.507      0.000      -0.316      -0.216\n",
      "==============================================================================\n",
      "Omnibus:                       48.038   Durbin-Watson:                   2.087\n",
      "Prob(Omnibus):                  0.000   Jarque-Bera (JB):               92.264\n",
      "Skew:                          -0.570   Prob(JB):                     9.23e-21\n",
      "Kurtosis:                       4.744   Cond. No.                         10.4\n",
      "==============================================================================\n",
      "\n",
      "Warnings:\n",
      "[1] Standard Errors assume that the covariance matrix of the errors is correctly specified.\n",
      "    Features   ViF\n",
      "2       temp  3.74\n",
      "3  windspeed  3.29\n",
      "0         yr  1.96\n",
      "4     summer  1.63\n",
      "7       mist  1.51\n",
      "5     winter  1.44\n",
      "6        sep  1.25\n",
      "8       snow  1.11\n",
      "1    holiday  1.04\n"
     ]
    }
   ],
   "source": [
    "features = list(col) #  Use RFE selected variables\n",
    "features.remove('may') # Remove 'may' from features list as per model 2\n",
    "features.remove('hum') # Remove 'hum' from features list as per model 4 \n",
    "features.remove('aug') # Remove 'aug' from features list as per model 5\n",
    "features.remove('fall') # Remove 'aug' from features list as per model 6\n",
    "features.remove('mar') # Remove 'fall' from features list as per model 7\n",
    "features.remove('oct') # Remove 'fall' from features list\n",
    "lr_model8, X_train_lm8 = build_lr_model(features) # Call the function and get the model and the X_train_lm for prediction"
   ]
  },
  {
   "cell_type": "markdown",
   "metadata": {},
   "source": [
    "The impact is not much on the model. Rsquared has reduced from 0.83 to 0.827 and adjusted Rsquared has reduced from 0.826 to 0.824.\n",
    "\n",
    "So it seems removing `oct` does not have much impact and hence lets drop this.\n",
    "\n",
    "We now have 9 features and let try deleting `mist` whose OLS coefficient is -0.08 and see how the model stats are."
   ]
  },
  {
   "cell_type": "markdown",
   "metadata": {},
   "source": [
    "#### Model 9: Remove `mist` whose OLS coefficient is -0.08"
   ]
  },
  {
   "cell_type": "code",
   "execution_count": 41,
   "metadata": {},
   "outputs": [
    {
     "name": "stdout",
     "output_type": "stream",
     "text": [
      "Co-efficients:\n",
      " const        0.059010\n",
      "yr           0.255470\n",
      "holiday     -0.091818\n",
      "temp         0.573919\n",
      "windspeed   -0.131912\n",
      "summer       0.084171\n",
      "winter       0.137582\n",
      "sep          0.085300\n",
      "snow        -0.231995\n",
      "dtype: float64\n",
      "                            OLS Regression Results                            \n",
      "==============================================================================\n",
      "Dep. Variable:                    cnt   R-squared:                       0.800\n",
      "Model:                            OLS   Adj. R-squared:                  0.797\n",
      "Method:                 Least Squares   F-statistic:                     250.2\n",
      "Date:                Mon, 27 Jul 2020   Prob (F-statistic):          1.39e-169\n",
      "Time:                        17:10:32   Log-Likelihood:                 423.46\n",
      "No. Observations:                 510   AIC:                            -828.9\n",
      "Df Residuals:                     501   BIC:                            -790.8\n",
      "Df Model:                           8                                         \n",
      "Covariance Type:            nonrobust                                         \n",
      "==============================================================================\n",
      "                 coef    std err          t      P>|t|      [0.025      0.975]\n",
      "------------------------------------------------------------------------------\n",
      "const          0.0590      0.019      3.161      0.002       0.022       0.096\n",
      "yr             0.2555      0.010     26.885      0.000       0.237       0.274\n",
      "holiday       -0.0918      0.026     -3.487      0.001      -0.144      -0.040\n",
      "temp           0.5739      0.022     26.085      0.000       0.531       0.617\n",
      "windspeed     -0.1319      0.030     -4.380      0.000      -0.191      -0.073\n",
      "summer         0.0842      0.012      7.079      0.000       0.061       0.108\n",
      "winter         0.1376      0.012     11.631      0.000       0.114       0.161\n",
      "sep            0.0853      0.017      4.885      0.000       0.051       0.120\n",
      "snow          -0.2320      0.027     -8.640      0.000      -0.285      -0.179\n",
      "==============================================================================\n",
      "Omnibus:                       55.261   Durbin-Watson:                   1.988\n",
      "Prob(Omnibus):                  0.000   Jarque-Bera (JB):               91.438\n",
      "Skew:                          -0.699   Prob(JB):                     1.39e-20\n",
      "Kurtosis:                       4.532   Cond. No.                         9.99\n",
      "==============================================================================\n",
      "\n",
      "Warnings:\n",
      "[1] Standard Errors assume that the covariance matrix of the errors is correctly specified.\n",
      "    Features   ViF\n",
      "2       temp  3.73\n",
      "3  windspeed  3.17\n",
      "0         yr  1.96\n",
      "4     summer  1.60\n",
      "5     winter  1.39\n",
      "6        sep  1.24\n",
      "7       snow  1.08\n",
      "1    holiday  1.04\n"
     ]
    }
   ],
   "source": [
    "features = list(col) #  Use RFE selected variables\n",
    "features.remove('may') # Remove 'may' from features list as per model 2\n",
    "features.remove('hum') # Remove 'hum' from features list as per model 4 \n",
    "features.remove('aug') # Remove 'aug' from features list as per model 5\n",
    "features.remove('fall') # Remove 'aug' from features list as per model 6\n",
    "features.remove('mar') # Remove 'fall' from features list as per model 7\n",
    "features.remove('oct') # Remove 'fall' from features list as per model 8\n",
    "features.remove('mist') # Remove 'mist' from features list\n",
    "lr_model9, X_train_lm9 = build_lr_model(features) # Call the function and get the model and the X_train_lm for prediction"
   ]
  },
  {
   "cell_type": "markdown",
   "metadata": {},
   "source": [
    "Here the Rsquared has reduced significantly from 0.827 to 0.8 and this indicates `mist` and other features are significant to compute `cnt`. \n",
    "\n",
    "So lets revert to model 8 and proceed our residual analysis, linear regression assumptions and the predict using X_test and compare our prediction with the available Y_test"
   ]
  },
  {
   "cell_type": "markdown",
   "metadata": {},
   "source": [
    "### 3.4 FINAL MODEL"
   ]
  },
  {
   "cell_type": "code",
   "execution_count": 42,
   "metadata": {},
   "outputs": [
    {
     "name": "stdout",
     "output_type": "stream",
     "text": [
      "Co-efficients:\n",
      " const        0.097270\n",
      "yr           0.254397\n",
      "holiday     -0.097409\n",
      "temp         0.552135\n",
      "windspeed   -0.138606\n",
      "summer       0.093192\n",
      "winter       0.145689\n",
      "sep          0.101067\n",
      "mist        -0.083396\n",
      "snow        -0.265879\n",
      "dtype: float64\n",
      "                            OLS Regression Results                            \n",
      "==============================================================================\n",
      "Dep. Variable:                    cnt   R-squared:                       0.827\n",
      "Model:                            OLS   Adj. R-squared:                  0.824\n",
      "Method:                 Least Squares   F-statistic:                     265.0\n",
      "Date:                Mon, 27 Jul 2020   Prob (F-statistic):          5.72e-184\n",
      "Time:                        17:11:01   Log-Likelihood:                 460.21\n",
      "No. Observations:                 510   AIC:                            -900.4\n",
      "Df Residuals:                     500   BIC:                            -858.1\n",
      "Df Model:                           9                                         \n",
      "Covariance Type:            nonrobust                                         \n",
      "==============================================================================\n",
      "                 coef    std err          t      P>|t|      [0.025      0.975]\n",
      "------------------------------------------------------------------------------\n",
      "const          0.0973      0.018      5.428      0.000       0.062       0.132\n",
      "yr             0.2544      0.009     28.741      0.000       0.237       0.272\n",
      "holiday       -0.0974      0.025     -3.971      0.000      -0.146      -0.049\n",
      "temp           0.5521      0.021     26.749      0.000       0.512       0.593\n",
      "windspeed     -0.1386      0.028     -4.940      0.000      -0.194      -0.083\n",
      "summer         0.0932      0.011      8.379      0.000       0.071       0.115\n",
      "winter         0.1457      0.011     13.177      0.000       0.124       0.167\n",
      "sep            0.1011      0.016      6.176      0.000       0.069       0.133\n",
      "mist          -0.0834      0.009     -8.805      0.000      -0.102      -0.065\n",
      "snow          -0.2659      0.025    -10.507      0.000      -0.316      -0.216\n",
      "==============================================================================\n",
      "Omnibus:                       48.038   Durbin-Watson:                   2.087\n",
      "Prob(Omnibus):                  0.000   Jarque-Bera (JB):               92.264\n",
      "Skew:                          -0.570   Prob(JB):                     9.23e-21\n",
      "Kurtosis:                       4.744   Cond. No.                         10.4\n",
      "==============================================================================\n",
      "\n",
      "Warnings:\n",
      "[1] Standard Errors assume that the covariance matrix of the errors is correctly specified.\n",
      "    Features   ViF\n",
      "2       temp  3.74\n",
      "3  windspeed  3.29\n",
      "0         yr  1.96\n",
      "4     summer  1.63\n",
      "7       mist  1.51\n",
      "5     winter  1.44\n",
      "6        sep  1.25\n",
      "8       snow  1.11\n",
      "1    holiday  1.04\n"
     ]
    }
   ],
   "source": [
    "features = list(col) #  Use RFE selected variables\n",
    "features.remove('may') # Remove 'may' from features list as per model 2\n",
    "features.remove('hum') # Remove 'hum' from features list as per model 4 \n",
    "features.remove('aug') # Remove 'aug' from features list as per model 5\n",
    "features.remove('fall') # Remove 'fall' from features list as per model 6\n",
    "features.remove('mar') # Remove 'mar' from features list as per model 7\n",
    "features.remove('oct') # Remove 'oct' from features list as per model 8\n",
    "lr_model, X_train_lm = build_lr_model(features) # Call the function and get the model and the X_train_lm for prediction"
   ]
  },
  {
   "cell_type": "markdown",
   "metadata": {},
   "source": [
    "#### Selected features of the model and its coefficients"
   ]
  },
  {
   "cell_type": "code",
   "execution_count": 43,
   "metadata": {},
   "outputs": [
    {
     "data": {
      "text/plain": [
       "const        0.097270\n",
       "yr           0.254397\n",
       "holiday     -0.097409\n",
       "temp         0.552135\n",
       "windspeed   -0.138606\n",
       "summer       0.093192\n",
       "winter       0.145689\n",
       "sep          0.101067\n",
       "mist        -0.083396\n",
       "snow        -0.265879\n",
       "dtype: float64"
      ]
     },
     "execution_count": 43,
     "metadata": {},
     "output_type": "execute_result"
    }
   ],
   "source": [
    "lr_model.params"
   ]
  },
  {
   "cell_type": "markdown",
   "metadata": {},
   "source": [
    "#### Model evaluation"
   ]
  },
  {
   "cell_type": "code",
   "execution_count": 44,
   "metadata": {},
   "outputs": [
    {
     "data": {
      "text/html": [
       "<table class=\"simpletable\">\n",
       "<caption>OLS Regression Results</caption>\n",
       "<tr>\n",
       "  <th>Dep. Variable:</th>           <td>cnt</td>       <th>  R-squared:         </th> <td>   0.827</td> \n",
       "</tr>\n",
       "<tr>\n",
       "  <th>Model:</th>                   <td>OLS</td>       <th>  Adj. R-squared:    </th> <td>   0.824</td> \n",
       "</tr>\n",
       "<tr>\n",
       "  <th>Method:</th>             <td>Least Squares</td>  <th>  F-statistic:       </th> <td>   265.0</td> \n",
       "</tr>\n",
       "<tr>\n",
       "  <th>Date:</th>             <td>Mon, 27 Jul 2020</td> <th>  Prob (F-statistic):</th> <td>5.72e-184</td>\n",
       "</tr>\n",
       "<tr>\n",
       "  <th>Time:</th>                 <td>17:11:12</td>     <th>  Log-Likelihood:    </th> <td>  460.21</td> \n",
       "</tr>\n",
       "<tr>\n",
       "  <th>No. Observations:</th>      <td>   510</td>      <th>  AIC:               </th> <td>  -900.4</td> \n",
       "</tr>\n",
       "<tr>\n",
       "  <th>Df Residuals:</th>          <td>   500</td>      <th>  BIC:               </th> <td>  -858.1</td> \n",
       "</tr>\n",
       "<tr>\n",
       "  <th>Df Model:</th>              <td>     9</td>      <th>                     </th>     <td> </td>    \n",
       "</tr>\n",
       "<tr>\n",
       "  <th>Covariance Type:</th>      <td>nonrobust</td>    <th>                     </th>     <td> </td>    \n",
       "</tr>\n",
       "</table>\n",
       "<table class=\"simpletable\">\n",
       "<tr>\n",
       "      <td></td>         <th>coef</th>     <th>std err</th>      <th>t</th>      <th>P>|t|</th>  <th>[0.025</th>    <th>0.975]</th>  \n",
       "</tr>\n",
       "<tr>\n",
       "  <th>const</th>     <td>    0.0973</td> <td>    0.018</td> <td>    5.428</td> <td> 0.000</td> <td>    0.062</td> <td>    0.132</td>\n",
       "</tr>\n",
       "<tr>\n",
       "  <th>yr</th>        <td>    0.2544</td> <td>    0.009</td> <td>   28.741</td> <td> 0.000</td> <td>    0.237</td> <td>    0.272</td>\n",
       "</tr>\n",
       "<tr>\n",
       "  <th>holiday</th>   <td>   -0.0974</td> <td>    0.025</td> <td>   -3.971</td> <td> 0.000</td> <td>   -0.146</td> <td>   -0.049</td>\n",
       "</tr>\n",
       "<tr>\n",
       "  <th>temp</th>      <td>    0.5521</td> <td>    0.021</td> <td>   26.749</td> <td> 0.000</td> <td>    0.512</td> <td>    0.593</td>\n",
       "</tr>\n",
       "<tr>\n",
       "  <th>windspeed</th> <td>   -0.1386</td> <td>    0.028</td> <td>   -4.940</td> <td> 0.000</td> <td>   -0.194</td> <td>   -0.083</td>\n",
       "</tr>\n",
       "<tr>\n",
       "  <th>summer</th>    <td>    0.0932</td> <td>    0.011</td> <td>    8.379</td> <td> 0.000</td> <td>    0.071</td> <td>    0.115</td>\n",
       "</tr>\n",
       "<tr>\n",
       "  <th>winter</th>    <td>    0.1457</td> <td>    0.011</td> <td>   13.177</td> <td> 0.000</td> <td>    0.124</td> <td>    0.167</td>\n",
       "</tr>\n",
       "<tr>\n",
       "  <th>sep</th>       <td>    0.1011</td> <td>    0.016</td> <td>    6.176</td> <td> 0.000</td> <td>    0.069</td> <td>    0.133</td>\n",
       "</tr>\n",
       "<tr>\n",
       "  <th>mist</th>      <td>   -0.0834</td> <td>    0.009</td> <td>   -8.805</td> <td> 0.000</td> <td>   -0.102</td> <td>   -0.065</td>\n",
       "</tr>\n",
       "<tr>\n",
       "  <th>snow</th>      <td>   -0.2659</td> <td>    0.025</td> <td>  -10.507</td> <td> 0.000</td> <td>   -0.316</td> <td>   -0.216</td>\n",
       "</tr>\n",
       "</table>\n",
       "<table class=\"simpletable\">\n",
       "<tr>\n",
       "  <th>Omnibus:</th>       <td>48.038</td> <th>  Durbin-Watson:     </th> <td>   2.087</td>\n",
       "</tr>\n",
       "<tr>\n",
       "  <th>Prob(Omnibus):</th> <td> 0.000</td> <th>  Jarque-Bera (JB):  </th> <td>  92.264</td>\n",
       "</tr>\n",
       "<tr>\n",
       "  <th>Skew:</th>          <td>-0.570</td> <th>  Prob(JB):          </th> <td>9.23e-21</td>\n",
       "</tr>\n",
       "<tr>\n",
       "  <th>Kurtosis:</th>      <td> 4.744</td> <th>  Cond. No.          </th> <td>    10.4</td>\n",
       "</tr>\n",
       "</table><br/><br/>Warnings:<br/>[1] Standard Errors assume that the covariance matrix of the errors is correctly specified."
      ],
      "text/plain": [
       "<class 'statsmodels.iolib.summary.Summary'>\n",
       "\"\"\"\n",
       "                            OLS Regression Results                            \n",
       "==============================================================================\n",
       "Dep. Variable:                    cnt   R-squared:                       0.827\n",
       "Model:                            OLS   Adj. R-squared:                  0.824\n",
       "Method:                 Least Squares   F-statistic:                     265.0\n",
       "Date:                Mon, 27 Jul 2020   Prob (F-statistic):          5.72e-184\n",
       "Time:                        17:11:12   Log-Likelihood:                 460.21\n",
       "No. Observations:                 510   AIC:                            -900.4\n",
       "Df Residuals:                     500   BIC:                            -858.1\n",
       "Df Model:                           9                                         \n",
       "Covariance Type:            nonrobust                                         \n",
       "==============================================================================\n",
       "                 coef    std err          t      P>|t|      [0.025      0.975]\n",
       "------------------------------------------------------------------------------\n",
       "const          0.0973      0.018      5.428      0.000       0.062       0.132\n",
       "yr             0.2544      0.009     28.741      0.000       0.237       0.272\n",
       "holiday       -0.0974      0.025     -3.971      0.000      -0.146      -0.049\n",
       "temp           0.5521      0.021     26.749      0.000       0.512       0.593\n",
       "windspeed     -0.1386      0.028     -4.940      0.000      -0.194      -0.083\n",
       "summer         0.0932      0.011      8.379      0.000       0.071       0.115\n",
       "winter         0.1457      0.011     13.177      0.000       0.124       0.167\n",
       "sep            0.1011      0.016      6.176      0.000       0.069       0.133\n",
       "mist          -0.0834      0.009     -8.805      0.000      -0.102      -0.065\n",
       "snow          -0.2659      0.025    -10.507      0.000      -0.316      -0.216\n",
       "==============================================================================\n",
       "Omnibus:                       48.038   Durbin-Watson:                   2.087\n",
       "Prob(Omnibus):                  0.000   Jarque-Bera (JB):               92.264\n",
       "Skew:                          -0.570   Prob(JB):                     9.23e-21\n",
       "Kurtosis:                       4.744   Cond. No.                         10.4\n",
       "==============================================================================\n",
       "\n",
       "Warnings:\n",
       "[1] Standard Errors assume that the covariance matrix of the errors is correctly specified.\n",
       "\"\"\""
      ]
     },
     "execution_count": 44,
     "metadata": {},
     "output_type": "execute_result"
    }
   ],
   "source": [
    "lr_model.summary()"
   ]
  },
  {
   "cell_type": "markdown",
   "metadata": {},
   "source": [
    "## 3.5 Interpreting the regression results\n",
    "\n",
    "- R-squared of the model(82.7%) and adjusted R-sqaured(82.4%) indicate that the selected `9` features are significant for prediction.\n",
    "- P(F-statistic) of the model is close to 0 which indicates that this model is a good fit.\n",
    "- Coefficients of the features indicate how they are related with `cnt`.\n",
    "\n",
    "\n",
    "Top 3 significant features that contribute towards explaining towards the demand of the shared bikes:\n",
    "1. **temp** with coefficient 0.55 indicating as temperature increases, the demand for bikes increase.\n",
    "2. **snow** with coefficient -0.2659 indicating when there is snow, there is less demand for bikes.\n",
    "3. **yr** with coefficient 0.25 indicating that the bike demand has increased from last year and is expected to increase in future."
   ]
  },
  {
   "cell_type": "markdown",
   "metadata": {},
   "source": [
    "### 3.6 Best Fit Line:\n",
    "\n",
    "We can formulate the equation of our best fitted line as\n",
    "\n",
    "cnt = 0.0973 + 0.55  \\times  **temp** - 0.2659 \\times **weathersit being 3: Light Snow, Light Rain + Thunderstorm + Scattered clouds, Light Rain + Scattered clouds** + 0.25 \\times **yr being 2019** - 0.1386 \\times **windspeed** + 0.1457 \\times **season being 4:winter** + 0.1011 \\times **mnth being 9:sep** + 0.0932 \\times **season being 2:summer** - 0.0834 \\times **weathersit being 2: Mist + Cloudy, Mist + Broken clouds, Mist + Few clouds, Mist** - 0.0974 \\times **holiday according to http://dchr.dc.gov/page/holiday-schedule**\n",
    "\n",
    "where `weathersit being 3: Light Snow` is boolean value and if its true, the number of bike rentals go down by 0.2659 and so on for other categorical variables. "
   ]
  },
  {
   "cell_type": "markdown",
   "metadata": {},
   "source": [
    "## 4 Model Evaluation\n",
    "\n",
    "### 4.1 Assumptions of Linear Regression:\n",
    "\n",
    "Linear regression model is based on the following assumption and we will prove these assumptions with the model we built:\n",
    "\n",
    "1. **Linear relationship** between X and Y: This was proved in the pair plot\n",
    "2. Error terms are **normally distributed**\n",
    "3. Error terms are **independent of each other**\n",
    "4. Error terms have constant variance (**homoscedasticity**)"
   ]
  },
  {
   "cell_type": "markdown",
   "metadata": {},
   "source": [
    "### 4.2 Residual analysis on training dataset"
   ]
  },
  {
   "cell_type": "code",
   "execution_count": 45,
   "metadata": {},
   "outputs": [
    {
     "data": {
      "image/png": "[encoded data removed]",
      "text/plain": [
       "<Figure size 720x360 with 2 Axes>"
      ]
     },
     "metadata": {
      "needs_background": "light"
     },
     "output_type": "display_data"
    }
   ],
   "source": [
    "y_train_predicted = lr_model.predict(X_train_lm) # get predicted value on training dataset using statsmodels predict()\n",
    "residual_values = y_train - y_train_predicted # difference in actual Y and predicted value\n",
    "plt.figure(figsize=[10,5])\n",
    "plt.subplot(121)\n",
    "sns.distplot(residual_values, bins = 15) # Plot the histogram of the error terms\n",
    "plt.title('Residuals follow normal distribution', fontsize = 18)\n",
    "plt.subplot(122) \n",
    "plt.scatter(y_train_predicted, residual_values) # Residual vs Fitted Values\n",
    "plt.plot([0,0],'r') # draw line at 0,0 to show that residuals have constant variance\n",
    "plt.title('Residual vs Fitted Values: No Pattern Seen')\n",
    "plt.show()"
   ]
  },
  {
   "cell_type": "markdown",
   "metadata": {},
   "source": [
    "#### INFERENCES:\n",
    "\n",
    "1. From first plot, it can be proved that `Residuals follow normal distribution and centered around zero`\n",
    "2. From second plot, it can be proved that `Residuals do not follow any pattern indicating error terms are independent`\n",
    "3. Also from second plot, we can see that `Error terms have constant variance and do not exhibit Heteroskedasticity`\n",
    "4. Also from second plot, we can see that the `linear relationship is evident`"
   ]
  },
  {
   "cell_type": "markdown",
   "metadata": {},
   "source": [
    "### 4.3 Scaling the numerical features on the test data set\n",
    "\n",
    "Now that we have fitted the model and checked the normality of error terms and proved the assumptions of linear regression hold true for this model, it's time to go ahead and make predictions using the final model.\n",
    "\n",
    "Use __transform()__ on test data set using the scaler created with scaled parameters of training data set for prediction."
   ]
  },
  {
   "cell_type": "code",
   "execution_count": 46,
   "metadata": {},
   "outputs": [],
   "source": [
    "num_vars = ['temp','hum','windspeed','cnt']\n",
    "\n",
    "df_test[num_vars] = scaler.transform(df_test[num_vars]) # Use the scaler of training data set and transform test dataset\n",
    "y_test = df_test.pop('cnt') # actual target values \n",
    "X_test = df_test # remove target variable from the features"
   ]
  },
  {
   "cell_type": "markdown",
   "metadata": {},
   "source": [
    "### 4.4 Predict target variable using the fitted model"
   ]
  },
  {
   "cell_type": "code",
   "execution_count": 47,
   "metadata": {},
   "outputs": [
    {
     "name": "stdout",
     "output_type": "stream",
     "text": [
      "Model features are  ['yr', 'holiday', 'temp', 'windspeed', 'summer', 'winter', 'sep', 'mist', 'snow']\n",
      "Checking test data set features:  Index(['yr', 'holiday', 'temp', 'windspeed', 'summer', 'winter', 'sep', 'mist',\n",
      "       'snow'],\n",
      "      dtype='object')\n"
     ]
    }
   ],
   "source": [
    "# Creating X_test_model dataframe by selecting features of the model\n",
    "print(\"Model features are \", features)\n",
    "X_test_model = X_test[features] # features have the list of variables in the model\n",
    "print(\"Checking test data set features: \" , X_test_model.columns)\n",
    "\n",
    "X_test_model = sm.add_constant(X_test_model) # Adding constant variable as required by statsmodels\n",
    "\n",
    "# Making predictions using the final model\n",
    "y_predicted_model = lr_model.predict(X_test_model)"
   ]
  },
  {
   "cell_type": "markdown",
   "metadata": {},
   "source": [
    "### 4.5 Evaluate the prediction of the model using R2score and RMSE"
   ]
  },
  {
   "cell_type": "markdown",
   "metadata": {},
   "source": [
    "#### Root mean square error ( RMSE )\n"
   ]
  },
  {
   "cell_type": "code",
   "execution_count": 48,
   "metadata": {},
   "outputs": [
    {
     "name": "stdout",
     "output_type": "stream",
     "text": [
      "Root mean square error : 0.09807863678249877\n"
     ]
    }
   ],
   "source": [
    "rmse = sqrt(mean_squared_error(y_test,y_predicted_model))\n",
    "print('Root mean square error :',rmse)"
   ]
  },
  {
   "cell_type": "markdown",
   "metadata": {},
   "source": [
    "#### Mean absolute error (MAE)"
   ]
  },
  {
   "cell_type": "code",
   "execution_count": 49,
   "metadata": {},
   "outputs": [
    {
     "name": "stdout",
     "output_type": "stream",
     "text": [
      "Mean absolute error : 0.07360211552044463\n"
     ]
    }
   ],
   "source": [
    "mae=mean_absolute_error(y_test,y_predicted_model)\n",
    "print('Mean absolute error :',mae)"
   ]
  },
  {
   "cell_type": "markdown",
   "metadata": {},
   "source": [
    "Low RMSE and MAE values indicate that the model is good."
   ]
  },
  {
   "cell_type": "markdown",
   "metadata": {},
   "source": [
    "#### Train R2 score"
   ]
  },
  {
   "cell_type": "code",
   "execution_count": 50,
   "metadata": {},
   "outputs": [
    {
     "data": {
      "text/plain": [
       "0.827"
      ]
     },
     "execution_count": 50,
     "metadata": {},
     "output_type": "execute_result"
    }
   ],
   "source": [
    "train_r2 = round(r2_score(y_train, y_train_predicted),3)\n",
    "train_r2"
   ]
  },
  {
   "cell_type": "markdown",
   "metadata": {},
   "source": [
    "#### Train Adjusted R2 score:\n",
    "\n",
    "adj r2=1-(1-R2)*(n-1)/(n-p-1)\n",
    "\n",
    "where n is the sample size\n",
    "and p is the number of features"
   ]
  },
  {
   "cell_type": "code",
   "execution_count": 51,
   "metadata": {},
   "outputs": [
    {
     "name": "stdout",
     "output_type": "stream",
     "text": [
      "510 9\n"
     ]
    }
   ],
   "source": [
    "n = df_train.shape[0]\n",
    "p = len(features)\n",
    "print(n,p)"
   ]
  },
  {
   "cell_type": "markdown",
   "metadata": {},
   "source": [
    "n=510 for training data set and p=9"
   ]
  },
  {
   "cell_type": "code",
   "execution_count": 52,
   "metadata": {},
   "outputs": [
    {
     "data": {
      "text/plain": [
       "0.824"
      ]
     },
     "execution_count": 52,
     "metadata": {},
     "output_type": "execute_result"
    }
   ],
   "source": [
    "round(1-(1-train_r2)*(n-1)/(n-p-1),3) "
   ]
  },
  {
   "cell_type": "markdown",
   "metadata": {},
   "source": [
    "This score matches the statsmodels summary R2 and adjusted R2."
   ]
  },
  {
   "cell_type": "markdown",
   "metadata": {},
   "source": [
    "#### Test R2 score"
   ]
  },
  {
   "cell_type": "code",
   "execution_count": 53,
   "metadata": {},
   "outputs": [
    {
     "data": {
      "text/plain": [
       "0.8155"
      ]
     },
     "execution_count": 53,
     "metadata": {},
     "output_type": "execute_result"
    }
   ],
   "source": [
    "test_r2 = round(r2_score(y_test, y_predicted_model),4)\n",
    "test_r2"
   ]
  },
  {
   "cell_type": "markdown",
   "metadata": {},
   "source": [
    "#### Test Adjusted R2 score:\n",
    "\n",
    "adj r2=1-(1-R2)*(n-1)/(n-p-1)\n",
    "\n",
    "where n is the sample size\n",
    "and p is the number of features"
   ]
  },
  {
   "cell_type": "code",
   "execution_count": 54,
   "metadata": {},
   "outputs": [
    {
     "name": "stdout",
     "output_type": "stream",
     "text": [
      "219 9\n"
     ]
    }
   ],
   "source": [
    "n = df_test.shape[0]\n",
    "p = len(features)\n",
    "print(n,p)"
   ]
  },
  {
   "cell_type": "markdown",
   "metadata": {},
   "source": [
    "n=219 for test data set and p=9"
   ]
  },
  {
   "cell_type": "code",
   "execution_count": 55,
   "metadata": {},
   "outputs": [
    {
     "data": {
      "text/plain": [
       "0.8076"
      ]
     },
     "execution_count": 55,
     "metadata": {},
     "output_type": "execute_result"
    }
   ],
   "source": [
    "round(1-(1-test_r2)*(n-1)/(n-p-1),4)"
   ]
  },
  {
   "cell_type": "markdown",
   "metadata": {},
   "source": [
    "The difference between R2 score of train and test data set seem less than 5 percent hence this model is good for prediction"
   ]
  },
  {
   "cell_type": "markdown",
   "metadata": {},
   "source": [
    "## 5. CONCLUSION"
   ]
  },
  {
   "cell_type": "markdown",
   "metadata": {},
   "source": [
    "#### Answering the original questions of this task:\n",
    "\n",
    "1. Which variables are significant in predicting the demand for shared bikes?"
   ]
  },
  {
   "cell_type": "code",
   "execution_count": 56,
   "metadata": {},
   "outputs": [
    {
     "data": {
      "text/plain": [
       "['yr',\n",
       " 'holiday',\n",
       " 'temp',\n",
       " 'windspeed',\n",
       " 'summer',\n",
       " 'winter',\n",
       " 'sep',\n",
       " 'mist',\n",
       " 'snow']"
      ]
     },
     "execution_count": 56,
     "metadata": {},
     "output_type": "execute_result"
    }
   ],
   "source": [
    "features"
   ]
  },
  {
   "cell_type": "markdown",
   "metadata": {},
   "source": [
    "2. How well those variables describe the bike demands"
   ]
  },
  {
   "cell_type": "code",
   "execution_count": 57,
   "metadata": {},
   "outputs": [
    {
     "data": {
      "text/plain": [
       "const        0.097270\n",
       "yr           0.254397\n",
       "holiday     -0.097409\n",
       "temp         0.552135\n",
       "windspeed   -0.138606\n",
       "summer       0.093192\n",
       "winter       0.145689\n",
       "sep          0.101067\n",
       "mist        -0.083396\n",
       "snow        -0.265879\n",
       "dtype: float64"
      ]
     },
     "execution_count": 57,
     "metadata": {},
     "output_type": "execute_result"
    }
   ],
   "source": [
    "lr_model.params"
   ]
  },
  {
   "cell_type": "markdown",
   "metadata": {},
   "source": [
    "cnt = 0.0973 + 0.55  \\times  **temp** - 0.2659 \\times **weathersit being 3: Light Snow, Light Rain + Thunderstorm + Scattered clouds, Light Rain + Scattered clouds** + 0.25 \\times **yr being 2019** - 0.1386 \\times **windspeed** + 0.1457 \\times **season being 4:winter** + 0.1011 \\times **mnth being 9:sep** + 0.0932 \\times **season being 2:summer** - 0.0834 \\times **weathersit being 2: Mist + Cloudy, Mist + Broken clouds, Mist + Few clouds, Mist** - 0.0974 \\times **holiday according to http://dchr.dc.gov/page/holiday-schedule**"
   ]
  },
  {
   "cell_type": "markdown",
   "metadata": {},
   "source": [
    "#### Impact of categorical variables on the prediction:\n",
    "\n",
    "This equation has the following categorical variables:\n",
    "\n",
    "- `Weathersit` being 3: Light Snow, Light Rain + Thunderstorm + Scattered clouds, Light Rain + Scattered clouds or 2: Mist + Cloudy, Mist + Broken clouds, Mist + Few clouds, Mist\n",
    "- `Yr` being 2019\n",
    "- `season` being 4:winter or 2:summer\n",
    "- `mnth` being 9:sep\n",
    "- `holiday` being 1\n",
    "\n",
    "Weathersit has 3 values in dataset and they are denoted by columns mist and snow as\n",
    "- `Clear` is represented as 00\n",
    "- `Mist` is represented as 10\n",
    "- `Snow` is represented as 01\n",
    "\n",
    "So when the weathersit is **Clear**, then the above equation becomes \n",
    "\n",
    "cnt = 0.0973 + 0.55 \\times temp + 0.25 \\times yr being 2019 - 0.1386 \\times windspeed + 0.1457 \\times season being 4:winter + 0.1011 \\times mnth being 9:sep + 0.0932 \\times season being 2:summer - 0.0974 \\times holiday \n",
    "\n",
    "When the weathersit is **Mist**, then the equation becomes\n",
    "\n",
    "cnt = 0.0973 + 0.55 \\times temp + 0.25 \\times yr being 2019 - 0.1386 \\times windspeed + 0.1457 \\times season being 4:winter + 0.1011 \\times mnth being 9:sep + 0.0932 \\times season being 2:summer - 0.0834 - 0.0974 \\times holiday\n",
    "\n",
    "i.e. The cnt reduces by 0.08 when compared to weathersit being Clear.\n",
    "\n",
    "\n",
    "When the weathersit is **Snow**, then the equation becomes\n",
    "\n",
    "cnt = 0.0973 + 0.55 \\times temp - 0.2659 + 0.25 \\times yr being 2019 - 0.1386 \\times windspeed + 0.1457 \\times season being 4:winter + 0.1011 \\times mnth being 9:sep + 0.0932 \\times season being 2:summer - 0.0974 \\times holiday\n",
    "\n",
    "i.e. cnt reduces by 0.2659 when compared to weathersit being Clear."
   ]
  },
  {
   "cell_type": "markdown",
   "metadata": {},
   "source": [
    "Features such as \n",
    "- Temperature in Celsius\n",
    "- Weathersit being `Mist + Cloudy, Mist + Broken clouds, Mist + Few clouds, Mist` or `Light Snow, Light Rain + Thunderstorm + Scattered clouds, Light Rain + Scattered clouds` have negative impact\n",
    "- Year\n",
    "- Windspeed having negative impact\n",
    "- Season being `summer` or `winter` have positive impact\n",
    "- Month being `September` having positive impact\n",
    "- Day being `holiday` have negative impact\n",
    "\n",
    "on bike demand in the order detailed here.\n"
   ]
  },
  {
   "cell_type": "markdown",
   "metadata": {},
   "source": [
    "#### FINAL COMMENTS and SUGGESTIONS"
   ]
  },
  {
   "cell_type": "markdown",
   "metadata": {},
   "source": [
    "So `BoomBikes` can anticipate the demand for bikes \n",
    "- on workingdays \n",
    "- in the month of September\n",
    "- when the temperature is between 10 and 30\n",
    "- when the windspeed is less than 20\n",
    "- when the season is summer or winter\n",
    "- weather is clear\n",
    "\n",
    "and with year, the demand seem to be increasing and hence once the corona pandemic effect is gone, the demand for bikes will increase according to the above features."
   ]
  }
 ],
 "metadata": {
  "kernelspec": {
   "display_name": "Python 3",
   "language": "python",
   "name": "python3"
  },
  "language_info": {
   "codemirror_mode": {
    "name": "ipython",
    "version": 3
   },
   "file_extension": ".py",
   "mimetype": "text/x-python",
   "name": "python",
   "nbconvert_exporter": "python",
   "pygments_lexer": "ipython3",
   "version": "3.7.6"
  }
 },
 "nbformat": 4,
 "nbformat_minor": 4
}
